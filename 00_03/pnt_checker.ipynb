{
 "cells": [
  {
   "cell_type": "code",
   "execution_count": 6,
   "metadata": {},
   "outputs": [],
   "source": [
    "import cv2\n",
    "import os\n",
    "import numpy as np"
   ]
  },
  {
   "cell_type": "code",
   "execution_count": 3,
   "metadata": {},
   "outputs": [
    {
     "name": "stdout",
     "output_type": "stream",
     "text": [
      "idx[00]:.ipynb_checkpoints\n",
      "idx[01]:pnt_checker.ipynb\n",
      "idx[02]:out00.jpg\n"
     ]
    },
    {
     "name": "stdin",
     "output_type": "stream",
     "text": [
      "Enter idx (only number) for input file: 2\n"
     ]
    },
    {
     "name": "stdout",
     "output_type": "stream",
     "text": [
      "./out00.jpg\n"
     ]
    }
   ],
   "source": [
    "root_dir = '.'\n",
    "l_files = os.listdir(root_dir)\n",
    "for idx, f in enumerate(l_files):\n",
    "    print('idx[{:02d}]:{}'.format(idx,f))\n",
    "\n",
    "f_idx = int(input('Enter idx (only number) for input file:'))\n",
    "f_str = os.path.join(root_dir,l_files[f_idx])\n",
    "print(f_str)"
   ]
  },
  {
   "cell_type": "code",
   "execution_count": 22,
   "metadata": {},
   "outputs": [
    {
     "name": "stdout",
     "output_type": "stream",
     "text": [
      "dimension: (2337, 1653, 3)\n",
      "pnt(x,y)=[534,682]:val[[254 254 254]]\n"
     ]
    }
   ],
   "source": [
    "def ck_pnt(event,y,x,flags,param):\n",
    "    if event == cv2.EVENT_LBUTTONDBLCLK:\n",
    "        print('pnt(x,y)=[{},{}]:val[{}]'.format(x,y,img[x,y]))        \n",
    "    elif event == cv2.EVENT_RBUTTONDOWN:\n",
    "        print('pnt(x,y)=[{},{}]'.format(x,y))        \n",
    "        \n",
    "        \n",
    "img = cv2.imread(f_str)\n",
    "print('dimension:',img.shape)\n",
    "cv2.namedWindow('check',cv2.WINDOW_NORMAL | cv2.WINDOW_KEEPRATIO | cv2.WINDOW_GUI_NORMAL)\n",
    "cv2.imshow('check',img)\n",
    "cv2.setMouseCallback('check',ck_pnt)\n",
    "\n",
    "while(True):\n",
    "    \n",
    "    if cv2.waitKey(20) & 0xFF == 27: #enter ESC\n",
    "        break\n",
    "cv2.destroyAllWindows()        \n"
   ]
  },
  {
   "cell_type": "code",
   "execution_count": 24,
   "metadata": {},
   "outputs": [
    {
     "name": "stdout",
     "output_type": "stream",
     "text": [
      "0 , 674 , [[255 255 255]]\n",
      "1 , 714 , [[255 255 255]]\n",
      "2 , 749 , [[253 253 253]]\n",
      "3 , 788 , [[255 255 255]]\n",
      "4 , 823 , [[255 255 255]]\n",
      "5 , 857 , [[0 0 0]]\n",
      "0 , 674 , [[254 254 254]]\n",
      "1 , 714 , [[254 254 254]]\n",
      "2 , 749 , [[252 252 252]]\n",
      "3 , 788 , [[0 0 0]]\n",
      "4 , 823 , [[252 252 252]]\n",
      "5 , 857 , [[254 254 254]]\n",
      "0 , 674 , [[254 254 254]]\n",
      "1 , 714 , [[255 255 255]]\n",
      "2 , 749 , [[253 253 253]]\n",
      "3 , 788 , [[251 251 251]]\n",
      "4 , 823 , [[0 0 0]]\n",
      "5 , 857 , [[254 254 254]]\n",
      "0 , 674 , [[254 254 254]]\n",
      "1 , 714 , [[250 250 250]]\n",
      "2 , 749 , [[255 255 255]]\n",
      "3 , 788 , [[255 255 255]]\n",
      "4 , 823 , [[0 0 0]]\n",
      "5 , 857 , [[254 254 254]]\n",
      "0 , 674 , [[254 254 254]]\n",
      "1 , 714 , [[255 255 255]]\n",
      "2 , 749 , [[253 253 253]]\n",
      "3 , 788 , [[251 251 251]]\n",
      "4 , 823 , [[255 255 255]]\n",
      "5 , 857 , [[0 0 0]]\n",
      "face_pale , 5\n",
      "face_yellow , 3\n",
      "face_red_cheekbone , 4\n",
      "face_red , 4\n",
      "face_black_around_eye , 5\n"
     ]
    }
   ],
   "source": [
    "def check_value(key, x_idx, y_idxs,img):\n",
    "    ret = -1\n",
    "    cnt = 0\n",
    "    for i in range(6) :\n",
    "        value = np.mean(img[x_idx,y_idxs[i]])\n",
    "        #print(i,',',y_idx[i],',',img[x_idx,y_idxs[i]])\n",
    "        if value < 128:\n",
    "            ret = i\n",
    "            cnt += 1\n",
    "            #break;\n",
    "    if cnt >1 or cnt ==0:\n",
    "        print('Error: {} has invalid value (because it has {} black squares!'.format(key,cnt))\n",
    "    return key,ret\n",
    "\n",
    "data = {}\n",
    "\n",
    "#-----------------------------------\n",
    "# TODO : add the code\n",
    "key = 'face_pale'\n",
    "x_idx = [358]\n",
    "y_idxs = (674,714,749,788,823,857)\n",
    "_,value = check_value('key',x_idx,y_idxs,img)\n",
    "data[key]=value\n",
    "\n",
    "key = 'face_yellow'\n",
    "x_idx = [399]\n",
    "#y_idxs = (674,714,749,788,823,857)\n",
    "_,value = check_value('key',x_idx,y_idxs,img)\n",
    "data[key]=value\n",
    "\n",
    "key = 'face_red_cheekbone'\n",
    "x_idx = [443]\n",
    "y_idxs = (682,714,749,788,823,857)\n",
    "_,value = check_value('key',x_idx,y_idxs,img)\n",
    "data[key]=value\n",
    "\n",
    "key = 'face_red'\n",
    "x_idx = [488]\n",
    "#y_idxs = (682,714,749,788,823,857)\n",
    "_,value = check_value('key',x_idx,y_idxs,img)\n",
    "data[key]=value\n",
    "\n",
    "key = 'face_black_around_eye'\n",
    "x_idx = [534]\n",
    "#y_idxs = (682,714,749,788,823,857)\n",
    "_,value = check_value('key',x_idx,y_idxs,img)\n",
    "data[key]=value\n",
    "\n",
    "#-----------------------------------\n",
    "# print result!\n",
    "for key in data:    \n",
    "    print(key,',',data[key]) \n",
    "    \n"
   ]
  },
  {
   "cell_type": "code",
   "execution_count": 22,
   "metadata": {},
   "outputs": [
    {
     "data": {
      "text/plain": [
       "\u001b[0;31mDocstring:\u001b[0m\n",
       "namedWindow(winname[, flags]) -> None\n",
       ".   @brief Creates a window.\n",
       ".   \n",
       ".   The function namedWindow creates a window that can be used as a placeholder for images and\n",
       ".   trackbars. Created windows are referred to by their names.\n",
       ".   \n",
       ".   If a window with the same name already exists, the function does nothing.\n",
       ".   \n",
       ".   You can call cv::destroyWindow or cv::destroyAllWindows to close the window and de-allocate any associated\n",
       ".   memory usage. For a simple program, you do not really have to call these functions because all the\n",
       ".   resources and windows of the application are closed automatically by the operating system upon exit.\n",
       ".   \n",
       ".   @note\n",
       ".   \n",
       ".   Qt backend supports additional flags:\n",
       ".    -   **WINDOW_NORMAL or WINDOW_AUTOSIZE:** WINDOW_NORMAL enables you to resize the\n",
       ".        window, whereas WINDOW_AUTOSIZE adjusts automatically the window size to fit the\n",
       ".        displayed image (see imshow ), and you cannot change the window size manually.\n",
       ".    -   **WINDOW_FREERATIO or WINDOW_KEEPRATIO:** WINDOW_FREERATIO adjusts the image\n",
       ".        with no respect to its ratio, whereas WINDOW_KEEPRATIO keeps the image ratio.\n",
       ".    -   **WINDOW_GUI_NORMAL or WINDOW_GUI_EXPANDED:** WINDOW_GUI_NORMAL is the old way to draw the window\n",
       ".        without statusbar and toolbar, whereas WINDOW_GUI_EXPANDED is a new enhanced GUI.\n",
       ".   By default, flags == WINDOW_AUTOSIZE | WINDOW_KEEPRATIO | WINDOW_GUI_EXPANDED\n",
       ".   \n",
       ".   @param winname Name of the window in the window caption that may be used as a window identifier.\n",
       ".   @param flags Flags of the window. The supported flags are: (cv::WindowFlags)\n",
       "\u001b[0;31mType:\u001b[0m      builtin_function_or_method\n"
      ]
     },
     "metadata": {},
     "output_type": "display_data"
    }
   ],
   "source": [
    "cv2.namedWindow?"
   ]
  },
  {
   "cell_type": "code",
   "execution_count": null,
   "metadata": {},
   "outputs": [],
   "source": []
  }
 ],
 "metadata": {
  "kernelspec": {
   "display_name": "Python 3",
   "language": "python",
   "name": "python3"
  },
  "language_info": {
   "codemirror_mode": {
    "name": "ipython",
    "version": 3
   },
   "file_extension": ".py",
   "mimetype": "text/x-python",
   "name": "python",
   "nbconvert_exporter": "python",
   "pygments_lexer": "ipython3",
   "version": "3.7.4"
  }
 },
 "nbformat": 4,
 "nbformat_minor": 4
}

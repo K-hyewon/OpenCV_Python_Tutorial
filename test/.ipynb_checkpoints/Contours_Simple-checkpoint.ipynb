{
 "cells": [
  {
   "cell_type": "code",
   "execution_count": 105,
   "metadata": {},
   "outputs": [],
   "source": [
    "import cv2\n",
    "import numpy as np\n",
    "import matplotlib.pyplot as plt"
   ]
  },
  {
   "cell_type": "code",
   "execution_count": 106,
   "metadata": {},
   "outputs": [
    {
     "name": "stdout",
     "output_type": "stream",
     "text": [
      "(150, 423)\n"
     ]
    },
    {
     "data": {
      "text/plain": [
       "<matplotlib.image.AxesImage at 0x7f29a73e0e50>"
      ]
     },
     "execution_count": 106,
     "metadata": {},
     "output_type": "execute_result"
    },
    {
     "data": {
      "image/png": "[encoded data removed]",
      "text/plain": [
       "<Figure size 432x288 with 1 Axes>"
      ]
     },
     "metadata": {
      "needs_background": "light"
     },
     "output_type": "display_data"
    }
   ],
   "source": [
    "img = cv2.imread('../images/shapes.png')\n",
    "img_ori = img.copy()\n",
    "\n",
    "img_gray = cv2.cvtColor(img,cv2.COLOR_RGB2GRAY)\n",
    "print(img_gray.shape)\n",
    "plt.imshow(img_gray,cmap='gray')\n"
   ]
  },
  {
   "cell_type": "code",
   "execution_count": 107,
   "metadata": {},
   "outputs": [
    {
     "data": {
      "text/plain": [
       "<matplotlib.image.AxesImage at 0x7f29a7332f50>"
      ]
     },
     "execution_count": 107,
     "metadata": {},
     "output_type": "execute_result"
    },
    {
     "data": {
      "image/png": "[encoded data removed]",
      "text/plain": [
       "<Figure size 432x288 with 1 Axes>"
      ]
     },
     "metadata": {
      "needs_background": "light"
     },
     "output_type": "display_data"
    }
   ],
   "source": [
    "# convert to a binary image and invert image\n",
    "ret_threshold, binary_img = cv2.threshold(img_gray, 127, 255, cv2.THRESH_BINARY_INV) \n",
    "plt.imshow(binary_img, cmap='gray')"
   ]
  },
  {
   "cell_type": "markdown",
   "metadata": {},
   "source": [
    "# Find Contour\n",
    "\n",
    "## Case I\n",
    "* 가장 외곽의 contour에 대한 모든 point의 좌표를 찾음.\n",
    "* 해당 경우의 contour그리기."
   ]
  },
  {
   "cell_type": "code",
   "execution_count": 108,
   "metadata": {},
   "outputs": [
    {
     "name": "stdout",
     "output_type": "stream",
     "text": [
      "case I  도형의 갯수: 3\n",
      "(150, 423, 3)\n",
      "(150, 423, 3)\n"
     ]
    },
    {
     "data": {
      "text/plain": [
       "<matplotlib.image.AxesImage at 0x7f29a7262950>"
      ]
     },
     "execution_count": 108,
     "metadata": {},
     "output_type": "execute_result"
    },
    {
     "data": {
      "image/png": "[encoded data removed]",
      "text/plain": [
       "<Figure size 432x288 with 1 Axes>"
      ]
     },
     "metadata": {
      "needs_background": "light"
     },
     "output_type": "display_data"
    },
    {
     "data": {
      "image/png": "[encoded data removed]",
      "text/plain": [
       "<Figure size 432x288 with 1 Axes>"
      ]
     },
     "metadata": {
      "needs_background": "light"
     },
     "output_type": "display_data"
    }
   ],
   "source": [
    "im2, contour0, hierarchy = cv2.findContours(binary_img, \n",
    "                                           cv2.RETR_EXTERNAL,\n",
    "                                           cv2.CHAIN_APPROX_NONE)\n",
    "#plt.imshow(im2,cmap='gray')\n",
    "print('case I  도형의 갯수: {}'.format(len(contour)))\n",
    "\n",
    "img = img_ori.copy()\n",
    "# Draw Contour with Green\n",
    "cv2.drawContours(img, contour0, -1, (0,255,0), 4)\n",
    "print(img.shape)\n",
    "plt.figure()\n",
    "plt.imshow(cv2.cvtColor(img,cv2.COLOR_BGR2RGB))\n",
    "\n",
    "\n",
    "# Draw all point on the Contour with BlUE color.\n",
    "cnt = np.zeros([3])\n",
    "index = 0\n",
    "for i in contour0:\n",
    "    cnt[index] = len(i)\n",
    "    index +=1\n",
    "    for j in i:\n",
    "        cv2.circle(img, tuple(j[0]), 10, (255,0,0), -1)\n",
    "\n",
    "print(img.shape)\n",
    "plt.figure()\n",
    "plt.imshow(cv2.cvtColor(img,cv2.COLOR_BGR2RGB))\n"
   ]
  },
  {
   "cell_type": "markdown",
   "metadata": {},
   "source": [
    "## case II\n",
    "* 가장 외곽의 contour에 대한 꼭지점 point의 좌표만을 찾음."
   ]
  },
  {
   "cell_type": "code",
   "execution_count": 109,
   "metadata": {},
   "outputs": [
    {
     "name": "stdout",
     "output_type": "stream",
     "text": [
      "case II 도형의 갯수: 3\n",
      "(150, 423, 3)\n",
      "(150, 423, 3)\n",
      "[152.   4. 225.]\n"
     ]
    },
    {
     "data": {
      "image/png": "[encoded data removed]",
      "text/plain": [
       "<Figure size 432x288 with 1 Axes>"
      ]
     },
     "metadata": {
      "needs_background": "light"
     },
     "output_type": "display_data"
    },
    {
     "data": {
      "image/png": "[encoded data removed]",
      "text/plain": [
       "<Figure size 432x288 with 1 Axes>"
      ]
     },
     "metadata": {
      "needs_background": "light"
     },
     "output_type": "display_data"
    }
   ],
   "source": [
    "im2, contour1, hierarchy = cv2.findContours(binary_img, \n",
    "                                            cv2.RETR_EXTERNAL, \n",
    "                                            cv2.CHAIN_APPROX_SIMPLE)\n",
    "print('case II 도형의 갯수: {}'.format(len(contour2)))\n",
    "\n",
    "\n",
    "img = img_ori.copy()\n",
    "# Draw Contour with Green\n",
    "cv2.drawContours(img, contour1, -1, (0,255,0), 4)\n",
    "print(img.shape)\n",
    "plt.figure()\n",
    "plt.imshow(cv2.cvtColor(img,cv2.COLOR_BGR2RGB))\n",
    "\n",
    "# Draw all point on the Contour with BlUE color.\n",
    "cnt = np.zeros([3])\n",
    "index = 0\n",
    "for i in contour1:\n",
    "    cnt[index] = len(i)\n",
    "    index +=1\n",
    "    for j in i:\n",
    "        cv2.circle(img, tuple(j[0]), 10, (255,0,0), -1)\n",
    "\n",
    "print(img.shape)\n",
    "plt.figure()\n",
    "plt.imshow(cv2.cvtColor(img,cv2.COLOR_BGR2RGB))\n",
    "print(cnt)"
   ]
  },
  {
   "cell_type": "markdown",
   "metadata": {},
   "source": [
    "## Hierarchy of Contours\n",
    "\n",
    "인자로 넘겨준 mode에 따라 contour의 hierarchy가 다르게 반환됨.\n",
    "\n",
    "* **cv2.RETR_EXTERNAL** : 최외각의 coutour만 제공.\n",
    "* **cv2.RETR_TREE** : 모든 라인의 모든 계층 정보를 트리 구조로 제공.\n"
   ]
  },
  {
   "cell_type": "code",
   "execution_count": 138,
   "metadata": {},
   "outputs": [
    {
     "name": "stdout",
     "output_type": "stream",
     "text": [
      "(154, 421)\n"
     ]
    },
    {
     "data": {
      "text/plain": [
       "<matplotlib.image.AxesImage at 0x7f29a68fa790>"
      ]
     },
     "execution_count": 138,
     "metadata": {},
     "output_type": "execute_result"
    },
    {
     "data": {
      "image/png": "[encoded data removed]",
      "text/plain": [
       "<Figure size 432x288 with 1 Axes>"
      ]
     },
     "metadata": {
      "needs_background": "light"
     },
     "output_type": "display_data"
    }
   ],
   "source": [
    "img = cv2.imread('../images/shapes_donut.png')\n",
    "img_ori = img.copy()\n",
    "\n",
    "img_gray = cv2.cvtColor(img,cv2.COLOR_RGB2GRAY)\n",
    "print(img_gray.shape)\n",
    "plt.imshow(img_gray,cmap='gray')\n"
   ]
  },
  {
   "cell_type": "code",
   "execution_count": 139,
   "metadata": {},
   "outputs": [
    {
     "data": {
      "text/plain": [
       "<matplotlib.image.AxesImage at 0x7f29a6b12c90>"
      ]
     },
     "execution_count": 139,
     "metadata": {},
     "output_type": "execute_result"
    },
    {
     "data": {
      "image/png": "[encoded data removed]",
      "text/plain": [
       "<Figure size 432x288 with 1 Axes>"
      ]
     },
     "metadata": {
      "needs_background": "light"
     },
     "output_type": "display_data"
    }
   ],
   "source": [
    "# convert to a binary image and invert image\n",
    "ret_threshold, binary_img = cv2.threshold(img_gray, 127, 255, cv2.THRESH_BINARY_INV) \n",
    "plt.imshow(binary_img, cmap='gray')"
   ]
  },
  {
   "cell_type": "markdown",
   "metadata": {},
   "source": [
    "## 최외각의 contour 정보만을 제공.\n",
    "\n",
    "* cv2.RETR_EXTERNAL"
   ]
  },
  {
   "cell_type": "code",
   "execution_count": 141,
   "metadata": {},
   "outputs": [
    {
     "data": {
      "text/plain": [
       "<matplotlib.image.AxesImage at 0x7f29a683cb50>"
      ]
     },
     "execution_count": 141,
     "metadata": {},
     "output_type": "execute_result"
    },
    {
     "data": {
      "image/png": "[encoded data removed]",
      "text/plain": [
       "<Figure size 432x288 with 1 Axes>"
      ]
     },
     "metadata": {
      "needs_background": "light"
     },
     "output_type": "display_data"
    }
   ],
   "source": [
    "im2, contour0, hierarchy0 = cv2.findContours(binary_img, \n",
    "                                           cv2.RETR_EXTERNAL,\n",
    "                                           cv2.CHAIN_APPROX_NONE)\n",
    "img = img_ori.copy()\n",
    "cv2.drawContours(img, contour0, -1, (0,255,0), 3)\n",
    "plt.imshow(img)"
   ]
  },
  {
   "cell_type": "markdown",
   "metadata": {},
   "source": [
    "* hierachy 는 4개의 column으로 구성된 list로 반환됨."
   ]
  },
  {
   "cell_type": "code",
   "execution_count": 144,
   "metadata": {},
   "outputs": [
    {
     "name": "stdout",
     "output_type": "stream",
     "text": [
      "# of contours: 3\n",
      "['next', 'prev', 'first_child', 'parent']\n",
      "[[[ 1 -1 -1 -1]\n",
      "  [ 2  0 -1 -1]\n",
      "  [-1  1 -1 -1]]]\n"
     ]
    }
   ],
   "source": [
    "print('# of contours:',len(contour0))\n",
    "print(['next','prev','first_child','parent'])\n",
    "print(hierarchy0)"
   ]
  },
  {
   "cell_type": "markdown",
   "metadata": {},
   "source": [
    "##  모든 라인의 모든 계층 정보를 트리 구조로 제공.\n",
    "\n",
    "* cv2.RETR_TREE "
   ]
  },
  {
   "cell_type": "code",
   "execution_count": 146,
   "metadata": {},
   "outputs": [
    {
     "data": {
      "text/plain": [
       "<matplotlib.image.AxesImage at 0x7f29a6785dd0>"
      ]
     },
     "execution_count": 146,
     "metadata": {},
     "output_type": "execute_result"
    },
    {
     "data": {
      "image/png": "[encoded data removed]",
      "text/plain": [
       "<Figure size 432x288 with 1 Axes>"
      ]
     },
     "metadata": {
      "needs_background": "light"
     },
     "output_type": "display_data"
    }
   ],
   "source": [
    "im2, contour1, hierarchy1 = cv2.findContours(binary_img, \n",
    "                                            cv2.RETR_TREE,\n",
    "                                            cv2.CHAIN_APPROX_SIMPLE)\n",
    "img = img_ori.copy()\n",
    "cv2.drawContours(img, contour1, -1, (0,255,0), 3)\n",
    "plt.imshow(img)\n"
   ]
  },
  {
   "cell_type": "code",
   "execution_count": 147,
   "metadata": {},
   "outputs": [
    {
     "name": "stdout",
     "output_type": "stream",
     "text": [
      "# of contours: 6\n",
      "['next', 'prev', 'first_child', 'parent']\n",
      "[[[ 2 -1  1 -1]\n",
      "  [-1 -1 -1  0]\n",
      "  [ 4  0  3 -1]\n",
      "  [-1 -1 -1  2]\n",
      "  [-1  2  5 -1]\n",
      "  [-1 -1 -1  4]]]\n"
     ]
    },
    {
     "data": {
      "image/png": "[encoded data removed]",
      "text/plain": [
       "<Figure size 432x288 with 1 Axes>"
      ]
     },
     "metadata": {
      "needs_background": "light"
     },
     "output_type": "display_data"
    }
   ],
   "source": [
    "img = img_ori.copy()\n",
    "# 모든 컨투어 그리기 \n",
    "for idx, cont in enumerate(contour1): \n",
    "    # 랜덤한 컬러 추출 \n",
    "    color = [int(i) for i in np.random.randint(0,255, 3)]\n",
    "    # 컨투어 인덱스 마다 랜덤한 색상으로 그리기 \n",
    "    cv2.drawContours(img, contour1, idx, color, 3)\n",
    "    # 컨투어 첫 좌표에 인덱스 숫자 표시 \n",
    "    cv2.putText(img, \n",
    "                str(idx), \n",
    "                tuple(cont[0][0]), \n",
    "                cv2.FONT_HERSHEY_PLAIN,\n",
    "                1.5, \n",
    "                (255,0,0))\n",
    "plt.imshow(img)\n",
    "print('# of contours:',len(contour1))\n",
    "print(['next','prev','first_child','parent'])\n",
    "print(hierarchy1)"
   ]
  },
  {
   "cell_type": "markdown",
   "metadata": {},
   "source": [
    "## 다른 모드들"
   ]
  },
  {
   "cell_type": "code",
   "execution_count": 153,
   "metadata": {},
   "outputs": [
    {
     "name": "stdout",
     "output_type": "stream",
     "text": [
      "['next', 'prev', 'first_child', 'parent']\n",
      "[[[ 1 -1 -1 -1]\n",
      "  [ 2  0 -1 -1]\n",
      "  [ 3  1 -1 -1]\n",
      "  [ 4  2 -1 -1]\n",
      "  [ 5  3 -1 -1]\n",
      "  [-1  4 -1 -1]]]\n"
     ]
    }
   ],
   "source": [
    "im2, contour2, hierarchy2 = cv2.findContours(\n",
    "    binary_img, \n",
    "    #cv2.RETR_CCOMP, #2계층까지.\n",
    "    cv2.RETR_LIST, #계층정보없이 모든 contour\n",
    "    cv2.CHAIN_APPROX_SIMPLE)\n",
    "print(['next','prev','first_child','parent'])\n",
    "print(hierarchy2)"
   ]
  },
  {
   "cell_type": "markdown",
   "metadata": {},
   "source": [
    "## 숫자 인식을 위한 기본 처리 ??\n",
    "\n",
    "* CNN등의 Deep Neural Network를 이용하기 위한 전처리"
   ]
  },
  {
   "cell_type": "code",
   "execution_count": 156,
   "metadata": {},
   "outputs": [
    {
     "name": "stdout",
     "output_type": "stream",
     "text": [
      "(100, 242)\n"
     ]
    },
    {
     "data": {
      "text/plain": [
       "<matplotlib.image.AxesImage at 0x7f29a6b024d0>"
      ]
     },
     "execution_count": 156,
     "metadata": {},
     "output_type": "execute_result"
    },
    {
     "data": {
      "image/png": "[encoded data removed]",
      "text/plain": [
       "<Figure size 432x288 with 1 Axes>"
      ]
     },
     "metadata": {
      "needs_background": "light"
     },
     "output_type": "display_data"
    }
   ],
   "source": [
    "img = cv2.imread('../images/number_2019.png')\n",
    "img_ori = img.copy()\n",
    "\n",
    "img_gray = cv2.cvtColor(img,cv2.COLOR_RGB2GRAY)\n",
    "print(img_gray.shape)\n",
    "plt.imshow(img_gray,cmap='gray')"
   ]
  },
  {
   "cell_type": "code",
   "execution_count": 157,
   "metadata": {},
   "outputs": [
    {
     "name": "stdout",
     "output_type": "stream",
     "text": [
      "# of contour: 4\n"
     ]
    },
    {
     "data": {
      "text/plain": [
       "<matplotlib.image.AxesImage at 0x7f29a6e17850>"
      ]
     },
     "execution_count": 157,
     "metadata": {},
     "output_type": "execute_result"
    },
    {
     "data": {
      "image/png": "[encoded data removed]",
      "text/plain": [
       "<Figure size 432x288 with 1 Axes>"
      ]
     },
     "metadata": {
      "needs_background": "light"
     },
     "output_type": "display_data"
    }
   ],
   "source": [
    "threshold, binary_img = cv2.threshold(img_gray, 127,255, cv2.THRESH_BINARY_INV)\n",
    "im2, contours, hierarchy = cv2.findContours(binary_img, \n",
    "                                            cv2.RETR_EXTERNAL,\n",
    "                                            cv2.CHAIN_APPROX_SIMPLE\n",
    "                                           )\n",
    "img = img_ori.copy()\n",
    "print('# of contour:',len(contours))\n",
    "for contour in contours:\n",
    "    # print(contour)\n",
    "    x,y,w,h = cv2.boundingRect(contour)\n",
    "    cv2.rectangle(img,(x,y),(x+w,y+h),(255,0,0),3)\n",
    "\n",
    "plt.imshow(img)"
   ]
  },
  {
   "cell_type": "markdown",
   "metadata": {},
   "source": [
    "## Contour Approximation\n",
    "\n",
    "* Convex Hull을 이용한 방식 :숙제!!"
   ]
  },
  {
   "cell_type": "code",
   "execution_count": 166,
   "metadata": {},
   "outputs": [
    {
     "name": "stdout",
     "output_type": "stream",
     "text": [
      "epsilon= 117.78305141687393\n",
      "bf:1308.7005712985992 | af:848.0\n"
     ]
    },
    {
     "data": {
      "text/plain": [
       "<matplotlib.image.AxesImage at 0x7f29a66b7850>"
      ]
     },
     "execution_count": 166,
     "metadata": {},
     "output_type": "execute_result"
    },
    {
     "data": {
      "image/png": "[encoded data removed]",
      "text/plain": [
       "<Figure size 432x288 with 1 Axes>"
      ]
     },
     "metadata": {
      "needs_background": "light"
     },
     "output_type": "display_data"
    },
    {
     "data": {
      "image/png": "[encoded data removed]",
      "text/plain": [
       "<Figure size 432x288 with 1 Axes>"
      ]
     },
     "metadata": {
      "needs_background": "light"
     },
     "output_type": "display_data"
    }
   ],
   "source": [
    "img0 = cv2.imread('../images/bad_rect.png')\n",
    "img1 = img0.copy()\n",
    "\n",
    "# 그레이스케일과 바이너리 스케일 변환\n",
    "img_gray = cv2.cvtColor(img0, cv2.COLOR_BGR2GRAY) \n",
    "threshold, binary_img = cv2.threshold(img_gray, 127, 255, cv2.THRESH_BINARY)\n",
    "\n",
    "# 컨투어 찾기 \n",
    "temp, contours, hierachy = cv2.findContours(binary_img, \n",
    "                                            cv2.RETR_EXTERNAL,\n",
    "                                            cv2.CHAIN_APPROX_SIMPLE)\n",
    "contour = contours[0]\n",
    "\n",
    "\n",
    "# 전체 둘레의 0.1로 오차 범위 지정 \n",
    "app_rate = 0.09\n",
    "epsilon = app_rate * cv2.arcLength(contour, True) #전체 contour둘레\n",
    "print('epsilon=',epsilon)\n",
    "# 근사 컨투어 계산 \n",
    "# param 1 : target contour\n",
    "# param 2 : 오차범위\n",
    "# param 3 : contour가 close인가? True : closed\n",
    "approx = cv2.approxPolyDP(contour, epsilon, True)\n",
    "\n",
    "print('bf:{} | af:{}'.format(cv2.arcLength(contour, True), \n",
    "                             cv2.arcLength(approx, True)\n",
    "                            ))\n",
    "\n",
    "# 각각 컨투어 선 그리기 ---④\n",
    "cv2.drawContours(img0, [contour], -1, (0,255,0), 3)\n",
    "cv2.drawContours(img1, [approx], -1, (0,255,0), 3)\n",
    "\n",
    "plt.figure('origianl contour')\n",
    "plt.imshow(img0[:,:,::-1])\n",
    "\n",
    "plt.figure('approximated contour')\n",
    "plt.imshow(img1[:,:,::-1])"
   ]
  },
  {
   "cell_type": "code",
   "execution_count": null,
   "metadata": {},
   "outputs": [],
   "source": []
  }
 ],
 "metadata": {
  "kernelspec": {
   "display_name": "Python 3",
   "language": "python",
   "name": "python3"
  },
  "language_info": {
   "codemirror_mode": {
    "name": "ipython",
    "version": 3
   },
   "file_extension": ".py",
   "mimetype": "text/x-python",
   "name": "python",
   "nbconvert_exporter": "python",
   "pygments_lexer": "ipython3",
   "version": "3.7.4"
  }
 },
 "nbformat": 4,
 "nbformat_minor": 4
}

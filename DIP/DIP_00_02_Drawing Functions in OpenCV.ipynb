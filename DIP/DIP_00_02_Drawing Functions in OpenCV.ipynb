{
  "cells": [
    {
      "attachments": {},
      "cell_type": "markdown",
      "metadata": {
        "id": "3VwWyQ4mSHFP"
      },
      "source": [
        "# Drawing Functions in OpenCV\n",
        "\n",
        "## Goal\n",
        "\n",
        "OpenCV 를 이용하여 선,원, 사각형, 글자 등을 그리는 방법을 배운다.\n",
        "\n",
        "* 실질적으로 다음의 함수들을 사용하는 법을 배운다. : \n",
        "\n",
        "    * `cv2.line()`\n",
        "    * `cv2.circle()`\n",
        "    * `cv2.rectangle()`\n",
        "    * `cv2.ellipse()`\n",
        "    * `cv2.putText()`"
      ]
    },
    {
      "attachments": {},
      "cell_type": "markdown",
      "metadata": {
        "id": "uaPN_fyRSHFS"
      },
      "source": [
        "## Code\n",
        "\n",
        "우리가 다루게 될 function들에서 자주 등장하는 common argument는 다음과 같음.\n",
        "\n",
        "* `img` : 실제로 우리가 그리는 도형이나 글자가 그려질 image 객체\n",
        "* `color` : 도형이나 글자의 색. 칼러 이미지의 경우 BGR로 지정되고, gray-scale인 경우는 scalar값으로 처리 가능함.\n",
        "* `thickness` : 도형 등의 line(선)의 두께. 만일 `-1`이 넘겨질 경우 채워줘서 그려짐 (또는 `cv2.FILLED`로 지정). *default thickness = `1`*\n",
        "* `lineType` : 선의 형태, `cv2.LINE_4`(4-connected), `cv2.LINE_8`(8-connected), `cv2.LINE_AA` (anti-aliased line) 중 에 고름.  *default line type = `cv2.LINE_8`*.    "
      ]
    },
    {
      "attachments": {},
      "cell_type": "markdown",
      "metadata": {
        "id": "Sq5yurmlSHFT"
      },
      "source": [
        "## Drawing Line\n",
        "\n",
        "`cv2.line`을 이용하여 라인을 그린다. 시작점과 끝점, 선의 두께, 색 등을 argument로 넘겨줌.\n",
        "\n",
        "다음 예제를 보자.\n",
        "\n"
      ]
    },
    {
      "cell_type": "code",
      "execution_count": 72,
      "metadata": {
        "id": "RUA9HqInSHFT"
      },
      "outputs": [],
      "source": [
        "import numpy as np\n",
        "import cv2\n",
        "\n",
        "# Create a black image\n",
        "img = np.zeros((512,512,3), np.uint8)\n",
        "\n",
        "# Draw a diagonal blue line with thickness of 5 px\n",
        "img = cv2.line(img,\n",
        "               (0,0),       # pnt0\n",
        "               (511,511),   # pnt1\n",
        "               (255,0,0),   # color\n",
        "               5            # thickness\n",
        "               )\n"
      ]
    },
    {
      "cell_type": "code",
      "execution_count": 73,
      "metadata": {
        "colab": {
          "base_uri": "https://localhost:8080/",
          "height": 252
        },
        "id": "McPf1_JeSHFU",
        "outputId": "719de06d-cc01-478e-a08c-600723557ee7"
      },
      "outputs": [
        {
          "data": {
            "image/png": "[encoded data removed]",
            "text/plain": [
              "<Figure size 640x480 with 1 Axes>"
            ]
          },
          "metadata": {},
          "output_type": "display_data"
        }
      ],
      "source": [
        "from matplotlib import pyplot as plt\n",
        "\n",
        "# b,g,r = cv2.split(img)\n",
        "# img2 = cv2.merge([r,g,b])\n",
        "img2 = img[:,:,::-1] # faster version.\n",
        "plt.imshow(img2,cmap='gray', interpolation='bicubic')\n",
        "plt.xticks([]); plt.yticks([]) # to hide tick values on X and Y axis\n",
        "plt.show()"
      ]
    },
    {
      "attachments": {},
      "cell_type": "markdown",
      "metadata": {
        "id": "R1MSGVPfSHFW"
      },
      "source": [
        "# Drawing Rectangle\n",
        "\n",
        "사각형을 그리기 위해서, **top-left corner**와  **bottom-right corner of rectangle** 를 argument로 넘겨줌.\n",
        "\n",
        "다음 예제를 참고하라."
      ]
    },
    {
      "cell_type": "code",
      "execution_count": 74,
      "metadata": {
        "id": "O2x8bvdoSHFW"
      },
      "outputs": [],
      "source": [
        "img = cv2.rectangle(img,       # 그려지는 대상. \n",
        "                    (384,0),   # top-left\n",
        "                    (510,128), # bottom-right\n",
        "                    (0,255,0), # color, BGR\n",
        "                    3          # thickness\n",
        "                    )"
      ]
    },
    {
      "cell_type": "code",
      "execution_count": 75,
      "metadata": {
        "colab": {
          "base_uri": "https://localhost:8080/",
          "height": 252
        },
        "id": "0aQ2Vuo4SHFX",
        "outputId": "66dd812f-9b19-4794-f5c6-d3373282d6ad"
      },
      "outputs": [
        {
          "data": {
            "image/png": "[encoded data removed]",
            "text/plain": [
              "<Figure size 640x480 with 1 Axes>"
            ]
          },
          "metadata": {},
          "output_type": "display_data"
        }
      ],
      "source": [
        "from matplotlib import pyplot as plt\n",
        "\n",
        "# b,g,r = cv2.split(img)\n",
        "# img2 = cv2.merge([r,g,b])\n",
        "img2 = img[:,:,::-1] # faster version.\n",
        "plt.imshow(img2,cmap='gray', interpolation='bicubic')\n",
        "plt.xticks([]); plt.yticks([]) # to hide tick values on X and Y axis\n",
        "plt.show()"
      ]
    },
    {
      "attachments": {},
      "cell_type": "markdown",
      "metadata": {
        "id": "K6yO_BS2SHFX"
      },
      "source": [
        "# Drawing Circle\n",
        "\n",
        "* 원을 그리는 경우,  `center`의 좌표와 `radius`를 argument로 넘겨줌.\n",
        "\n",
        "다음 예제를 보자."
      ]
    },
    {
      "cell_type": "code",
      "execution_count": 76,
      "metadata": {
        "id": "a13odpjsSHFX"
      },
      "outputs": [],
      "source": [
        "img = cv2.circle(img,         # target image\n",
        "                 (447,63),    # center\n",
        "                 63,          # radius\n",
        "                 (0,0,255),   # color\n",
        "                 cv2.FILLED,  # thickness : -1 means cv2.FILLED\n",
        "                 )"
      ]
    },
    {
      "cell_type": "code",
      "execution_count": 77,
      "metadata": {},
      "outputs": [
        {
          "name": "stdout",
          "output_type": "stream",
          "text": [
            "-1\n"
          ]
        }
      ],
      "source": [
        "print(f'{cv2.FILLED:d}')"
      ]
    },
    {
      "cell_type": "code",
      "execution_count": 78,
      "metadata": {
        "colab": {
          "base_uri": "https://localhost:8080/",
          "height": 252
        },
        "id": "QMvBR2csSHFY",
        "outputId": "fa6f6c62-4df9-46e4-b928-6b554f636213"
      },
      "outputs": [
        {
          "data": {
            "image/png": "[encoded data removed]",
            "text/plain": [
              "<Figure size 640x480 with 1 Axes>"
            ]
          },
          "metadata": {},
          "output_type": "display_data"
        }
      ],
      "source": [
        "from matplotlib import pyplot as plt\n",
        "\n",
        "# b,g,r = cv2.split(img)\n",
        "# img2 = cv2.merge([r,g,b])\n",
        "img2 = img[:,:,::-1] # faster version.\n",
        "plt.imshow(img2,cmap='gray', interpolation='bicubic')\n",
        "plt.xticks([]); plt.yticks([]) # to hide tick values on X and Y axis\n",
        "plt.show()"
      ]
    },
    {
      "attachments": {},
      "cell_type": "markdown",
      "metadata": {
        "id": "Mlx7EreOSHFY"
      },
      "source": [
        "# Drawing Ellipse\n",
        "\n",
        "타원(ellipse)을 그리기 위한 arguments는 다음과 같음. \n",
        "\n",
        "* 타원의 중점 좌표 : `(x,y)`. \n",
        "* 타원의 장축과 단축의 길이 : `(major axis length, minor axis length)`.\n",
        "* 타원의 회전 각도 : `angle` (**anti-clockwise direction**). \n",
        "* 타원의 arc (호)를 그리기 위한 시작각과 끝각을 argument로 받음 : `startAngle` and `endAngle` (clockwise direction, degree).\n",
        "\n",
        "> For more details, check the documentation of `cv2.ellipse()`. \n",
        "\n",
        "![](./images/cv2_ellipse.png)\n",
        "\n",
        "다음 예제를 살펴보자."
      ]
    },
    {
      "cell_type": "code",
      "execution_count": 79,
      "metadata": {
        "id": "yVkqzn3QSHFZ"
      },
      "outputs": [],
      "source": [
        "# img = np.zeros((512,512,3), np.uint8)\n",
        "img = cv2.ellipse(img,\n",
        "                  (256,256), # center\n",
        "                  (100,50),  # major axis length, minor axis length\n",
        "                  0,         # rotaion angle (CCW)\n",
        "                  45,        # start angle (CW)\n",
        "                  180,       # end angle (CW)\n",
        "                  255,       # color (gray-scale or [255,0,0]과 같음.) \n",
        "                  -1         # filled \n",
        "                  )"
      ]
    },
    {
      "cell_type": "code",
      "execution_count": 88,
      "metadata": {
        "colab": {
          "base_uri": "https://localhost:8080/",
          "height": 252
        },
        "id": "Rpy16hTySHFZ",
        "outputId": "3171088c-8b4a-4a9a-d1f2-054f1ced7d91"
      },
      "outputs": [
        {
          "data": {
            "image/png": "[encoded data removed]",
            "text/plain": [
              "<Figure size 640x480 with 1 Axes>"
            ]
          },
          "metadata": {},
          "output_type": "display_data"
        }
      ],
      "source": [
        "from matplotlib import pyplot as plt\n",
        "\n",
        "# b,g,r = cv2.split(img)\n",
        "# img2 = cv2.merge([r,g,b])\n",
        "img2 = img[:,:,::-1] # faster version.\n",
        "plt.imshow(img2,\n",
        "        #    cmap='gray', \n",
        "        #    interpolation='bicubic'\n",
        "           )\n",
        "plt.xticks([]); plt.yticks([]) # to hide tick values on X and Y axis\n",
        "plt.show()"
      ]
    },
    {
      "attachments": {},
      "cell_type": "markdown",
      "metadata": {
        "id": "BXUOTUCUSHFa"
      },
      "source": [
        "# Drawing Polygon\n",
        "\n",
        "다각형을 그리는 방법은 다음과 같음.\n",
        "\n",
        "* 우선 각 vertex의 좌표들의 ndarray를 생성. (`rows x 2`)\n",
        "* 해당 ndarray를 `rows x 1 x 2` 로 reshape를 시킨다. `rows`는 vertex들의 숫자에 해당.  \n",
        "* 해당 ndarray는 `int32` 를 dtype로 가짐.\n",
        "\n",
        "> 사실, 위의 내용은 tutorial의 내용이나, 실제로 reshape를 하지 않고도 동작함.\n",
        "\n",
        "다음의 예제를 참고."
      ]
    },
    {
      "cell_type": "code",
      "execution_count": 89,
      "metadata": {
        "colab": {
          "base_uri": "https://localhost:8080/"
        },
        "id": "WTua95vrSHFa",
        "outputId": "5912f40f-37cf-472a-8fad-dcabbdc92913"
      },
      "outputs": [
        {
          "name": "stdout",
          "output_type": "stream",
          "text": [
            "(4, 2)\n",
            "(4, 2)\n"
          ]
        }
      ],
      "source": [
        "pts = np.array([[10,5],[20,30],[70,20],[50,10]], \n",
        "               np.int32)\n",
        "print(pts.shape)\n",
        "\n",
        "# pts = pts.reshape((-1,1,2))\n",
        "print(pts.shape)\n",
        "\n",
        "img = cv2.polylines(img,        # target image\n",
        "                    [pts],      # vertices\n",
        "                    True,       # isClosed (닫혔는지여부)\n",
        "                    (0,255,255),# color\n",
        "                    1,          # thickness\n",
        "                    )"
      ]
    },
    {
      "cell_type": "code",
      "execution_count": 90,
      "metadata": {
        "colab": {
          "base_uri": "https://localhost:8080/",
          "height": 252
        },
        "id": "ozsK0O9oSHFa",
        "outputId": "1c3f6d30-bc71-4b14-8a71-1aa1d3f6c489"
      },
      "outputs": [
        {
          "data": {
            "image/png": "[encoded data removed]",
            "text/plain": [
              "<Figure size 640x480 with 1 Axes>"
            ]
          },
          "metadata": {},
          "output_type": "display_data"
        }
      ],
      "source": [
        "from matplotlib import pyplot as plt\n",
        "\n",
        "# b,g,r = cv2.split(img)\n",
        "# img2 = cv2.merge([r,g,b])\n",
        "img2 = img[:,:,::-1] # faster version.\n",
        "plt.imshow(img2,cmap='gray', interpolation='bicubic')\n",
        "plt.xticks([]); plt.yticks([]) # to hide tick values on X and Y axis\n",
        "plt.show()"
      ]
    },
    {
      "attachments": {},
      "cell_type": "markdown",
      "metadata": {
        "id": "pf5YxBZLSHFb"
      },
      "source": [
        "> **Note**  \n",
        ">\n",
        "> If third argument is `False`, you will get a polylines joining all the points, **not a closed shape**.  \n"
      ]
    },
    {
      "cell_type": "code",
      "execution_count": 91,
      "metadata": {
        "id": "sVzH2DZKSHFc"
      },
      "outputs": [],
      "source": [
        "test_img = np.zeros((50,80,3), np.uint8)\n",
        "test_img = cv2.polylines(test_img,[pts],False,(0,255,255))"
      ]
    },
    {
      "cell_type": "code",
      "execution_count": 92,
      "metadata": {
        "colab": {
          "base_uri": "https://localhost:8080/",
          "height": 252
        },
        "id": "Kb-JoOehSHFc",
        "outputId": "c4dc7f8d-7889-42ac-a1f6-96a9a252d75e"
      },
      "outputs": [
        {
          "data": {
            "image/png": "[encoded data removed]",
            "text/plain": [
              "<Figure size 640x480 with 1 Axes>"
            ]
          },
          "metadata": {},
          "output_type": "display_data"
        }
      ],
      "source": [
        "from matplotlib import pyplot as plt\n",
        "\n",
        "# b,g,r = cv2.split(img)\n",
        "# img2 = cv2.merge([r,g,b])\n",
        "img2 = test_img[:,:,::-1] # faster version.\n",
        "plt.imshow(img2,\n",
        "        #    cmap='gray', \n",
        "        #    interpolation='bicubic'\n",
        "           )\n",
        "plt.xticks([]); plt.yticks([]) # to hide tick values on X and Y axis\n",
        "plt.show()"
      ]
    },
    {
      "attachments": {},
      "cell_type": "markdown",
      "metadata": {
        "id": "Mfo5ZDBNSHFc"
      },
      "source": [
        "> # Note\n",
        ">\n",
        "> `cv2.polylines()` can be used to draw multiple lines.  \n",
        ">\n",
        "> Just create a list of all the lines you want to draw and pass it to the function. All lines will be drawn individually.  \n",
        "> It is more better and faster way to draw a group of lines than calling `cv2.line()` for each line.\n",
        "\n",
        "여러 라인을 그리는 용도로 사용하는 경우도 많다."
      ]
    },
    {
      "cell_type": "code",
      "execution_count": 93,
      "metadata": {},
      "outputs": [
        {
          "name": "stdout",
          "output_type": "stream",
          "text": [
            "(3, 2, 1, 2)\n"
          ]
        }
      ],
      "source": [
        "pts0 = np.array(\n",
        "    [[3,3],[3,13]]\n",
        "    ,np.int32).reshape(-1,1,2)\n",
        "pts1 = np.array(\n",
        "    [[10,3],[10,13]]\n",
        "    , np.int32).reshape(-1,1,2)\n",
        "pts2 = np.array(\n",
        "    [[17,3],[17,13]]\n",
        "    , np.int32).reshape(-1,1,2)\n",
        "print(np.array([pts0,pts1,pts2]).shape)\n",
        "test_img = np.zeros((50,80,3), np.uint8)\n",
        "test_img = cv2.polylines(test_img,[pts0,pts1,pts2],False,(0,255,255))\n"
      ]
    },
    {
      "cell_type": "code",
      "execution_count": 94,
      "metadata": {},
      "outputs": [
        {
          "data": {
            "image/png": "[encoded data removed]",
            "text/plain": [
              "<Figure size 640x480 with 1 Axes>"
            ]
          },
          "metadata": {},
          "output_type": "display_data"
        }
      ],
      "source": [
        "img2 = test_img[:,:,::-1] # faster version.\n",
        "plt.imshow(img2,\n",
        "           #cmap='gray',\n",
        "           #interpolation='bicubic'\n",
        "           )\n",
        "plt.xticks([]); plt.yticks([]) # to hide tick values on X and Y axis\n",
        "plt.show()"
      ]
    },
    {
      "attachments": {},
      "cell_type": "markdown",
      "metadata": {
        "id": "KcljNz_3SHFd"
      },
      "source": [
        "## Adding Text to Images:\n",
        "\n",
        "image에 글자를 추가하려면 다음과 같이 처리한다.\n",
        "\n",
        "* 우선 글자에 해당하는 문자열 데이터 생성.\n",
        "* `bottom-left corner`로 해당 text 가 놓일 위치를 지정.\n",
        "* `Font type` 을 지정. (Check `cv2.putText()` docs for supported fonts)\n",
        "* `Font Scale` 을 지정. (specifies the size of font)\n",
        "* `color`, `thickness`, `lineType` 등을 지정.\n",
        "\n",
        "> For better look, `lineType = cv2.LINE_AA` is recommended.\n",
        "\n",
        "다음 예제를 참고하라."
      ]
    },
    {
      "cell_type": "code",
      "execution_count": 95,
      "metadata": {
        "id": "QFYWdOlYSHFd"
      },
      "outputs": [],
      "source": [
        "font = cv2.FONT_HERSHEY_SIMPLEX\n",
        "img = cv2.putText(img,\n",
        "                  'OpenCV',       # text\n",
        "                  (10,500),       # location\n",
        "                  font,           # font Type\n",
        "                  4,              # font size\n",
        "                  (255,255,255),  # color\n",
        "                  2,              # thickness\n",
        "                  cv2.LINE_AA     # lineType\n",
        "                  )"
      ]
    },
    {
      "cell_type": "code",
      "execution_count": 96,
      "metadata": {
        "colab": {
          "base_uri": "https://localhost:8080/",
          "height": 252
        },
        "id": "AUBYxFPYSHFe",
        "outputId": "5b1239a0-eda4-4e66-de36-aecdeb2f447a"
      },
      "outputs": [
        {
          "data": {
            "image/png": "[encoded data removed]",
            "text/plain": [
              "<Figure size 640x480 with 1 Axes>"
            ]
          },
          "metadata": {},
          "output_type": "display_data"
        }
      ],
      "source": [
        "from matplotlib import pyplot as plt\n",
        "\n",
        "# b,g,r = cv2.split(img)\n",
        "# img2 = cv2.merge([r,g,b])\n",
        "img2 = img[:,:,::-1] # faster version.\n",
        "plt.imshow(img2,cmap='gray', interpolation='bicubic')\n",
        "plt.xticks([]); plt.yticks([]) # to hide tick values on X and Y axis\n",
        "plt.show()"
      ]
    },
    {
      "attachments": {},
      "cell_type": "markdown",
      "metadata": {
        "id": "CNmyZvi1SHFe"
      },
      "source": [
        "## Result\n",
        "\n",
        "결과 이미지."
      ]
    },
    {
      "cell_type": "code",
      "execution_count": 98,
      "metadata": {
        "colab": {
          "base_uri": "https://localhost:8080/",
          "height": 252
        },
        "id": "1qXNS2IJSHFe",
        "outputId": "e6d271f7-4a99-4292-88c3-dbf5837215be"
      },
      "outputs": [
        {
          "data": {
            "image/png": "[encoded data removed]",
            "text/plain": [
              "<Figure size 640x480 with 1 Axes>"
            ]
          },
          "metadata": {},
          "output_type": "display_data"
        }
      ],
      "source": [
        "from matplotlib import pyplot as plt\n",
        "\n",
        "# b,g,r = cv2.split(img)\n",
        "# img2 = cv2.merge([r,g,b])\n",
        "img2 = img[:,:,::-1] # faster version.\n",
        "plt.imshow(img2,\n",
        "        #    cmap='gray', \n",
        "        #    interpolation='bicubic'\n",
        "           )\n",
        "plt.xticks([]); plt.yticks([]) # to hide tick values on X and Y axis\n",
        "\n",
        "plt.show()"
      ]
    },
    {
      "cell_type": "markdown",
      "metadata": {
        "id": "J2fXnQqXSHFf"
      },
      "source": [
        "## Additional Resources\n",
        "\n",
        "The angles used in ellipse function is not our circular angles.\n",
        "\n",
        "* Starting angle and ending angle are measured in arc-angles from an ellipse, not from a circle. \n",
        "* The phenomen is visualized in paragraph (59) of http://mathworld.wolfram.com/Ellipse.html . \n",
        "\n",
        "visit this discussion : (https://answers.opencv.org/question/14541/angles-in-ellipse-function/)"
      ]
    },
    {
      "cell_type": "code",
      "execution_count": null,
      "metadata": {
        "id": "VU1Ki233TqIc"
      },
      "outputs": [],
      "source": []
    }
  ],
  "metadata": {
    "colab": {
      "provenance": []
    },
    "kernelspec": {
      "display_name": "opencv",
      "language": "python",
      "name": "python3"
    },
    "language_info": {
      "codemirror_mode": {
        "name": "ipython",
        "version": 3
      },
      "file_extension": ".py",
      "mimetype": "text/x-python",
      "name": "python",
      "nbconvert_exporter": "python",
      "pygments_lexer": "ipython3",
      "version": "3.11.0"
    },
    "vscode": {
      "interpreter": {
        "hash": "690cd8fa14783f16a951a63a19459f1deb07a6f6d52b5740207b291f230ab995"
      }
    }
  },
  "nbformat": 4,
  "nbformat_minor": 0
}

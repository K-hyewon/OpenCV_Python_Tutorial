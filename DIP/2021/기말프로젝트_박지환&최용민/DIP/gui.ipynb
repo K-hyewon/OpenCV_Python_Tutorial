{
 "cells": [
  {
   "cell_type": "markdown",
   "metadata": {},
   "source": [
    "히스토그램 & 밝기 조절"
   ]
  },
  {
   "cell_type": "code",
   "execution_count": 3,
   "metadata": {},
   "outputs": [],
   "source": [
    "import numpy as np\n",
    "import cv2\n",
    "import matplotlib.pyplot as plt\n",
    "import os\n",
    "from tkinter import *"
   ]
  },
  {
   "cell_type": "code",
   "execution_count": 4,
   "metadata": {},
   "outputs": [],
   "source": [
    "path = 'C:/Users/CYM/Desktop/DIP_image'\n",
    "src_path = path+'/src/'\n",
    "label_path = path+'/label/'\n",
    "\n",
    "sample_image1 = 'C:/Users/CYM/Desktop/DIP_image/src/18-40-02-02 (SLA).jpg'\n",
    "sample_image2 = 'C:/Users/CYM/Desktop/DIP_image/src/clahe.png'\n"
   ]
  },
  {
   "cell_type": "code",
   "execution_count": 11,
   "metadata": {},
   "outputs": [],
   "source": [
    "'''\n",
    "폴더에서 n번째 이미지를 가져올 수 있는 옵션을 사용자에게 줄까요?\n",
    "다만 이거까지 주게되면 총 3개의 입력값을 받아야 해서 지져분해 보일것 같긴 해요.\n",
    "\n",
    "'''\n",
    "class A:    \n",
    "    def __init__(self):\n",
    "        self.window = Tk()\n",
    "        self.window.geometry('500x500')\n",
    "        aa=Label(self.window,text='주의! 미리보기 종료시, 반드시 아무키나 눌러주세요!').pack()\n",
    "        aa=Label(self.window,text='ㅇㅇㅇㅇㅇㅇㅇㅇㅇ').pack()\n",
    "        self.c = Entry(self.window)\n",
    "        self.b = Entry(self.window)\n",
    "        self.c.insert(0,\"0\")\n",
    "        self.b.insert(0,\"0\")\n",
    "        self.c.pack()\n",
    "        self.b.pack()\n",
    "        \n",
    "        cl_bm_but = Button(self.window, text=\"미리보기\",command=self.getText)\n",
    "        cl_bm_but.pack()    # CLAHE_BM 실행 버튼\n",
    "\n",
    "        finish_but = Button(self.window, text=\"실행/Tk종료\", command=self.fin)\n",
    "        finish_but.pack()\n",
    "\n",
    "        self.window.mainloop()\n",
    "    \n",
    "    # 버튼으로 tkinter 종료\n",
    "    def fin(self):\n",
    "        self.window.destroy()\n",
    "        \n",
    "    # Entry값 가져오기\n",
    "    def getText(self):\n",
    "        k = float(self.c.get())\n",
    "        w = int(self.b.get())\n",
    "        self.CLAHE_BN(k,w)\n",
    "\n",
    "\n",
    "\n",
    "    def CLAHE_BN(self, clip, br):\n",
    "        img_list = os.listdir(src_path)  \n",
    "        #src폴더 내에 n번째 이미지 불러오기\n",
    "        set_img_n = cv2.imread(src_path + img_list[0])                  \n",
    "\n",
    "        sample_image = cv2.cvtColor(set_img_n, cv2.COLOR_BGR2YUV)\n",
    "        clahe = cv2.createCLAHE(clipLimit=clip, tileGridSize=(8,8))\n",
    "\n",
    "        # CLAHE setting\n",
    "        if clip != 0:\n",
    "            sample_image[:,:,0] = clahe.apply(sample_image[:,:,0])\n",
    "\n",
    "        # brightness setting\n",
    "        sample_image[:,:,0] = cv2.add(sample_image[:,:,0], br)\n",
    "\n",
    "\n",
    "        sample_image = cv2.cvtColor(sample_image, cv2.COLOR_YUV2BGR)\n",
    "\n",
    "        \n",
    "        cv2.namedWindow('imgView', cv2.WINDOW_NORMAL)\n",
    "        cv2.imshow('imgView',sample_image)\n",
    "        \n",
    "\n",
    "        cv2.waitKey(0)\n",
    "        cv2.destroyAllWindows()\n",
    "        '''\n",
    "         if cv2.getWindowProperty('imgView',cv2.WND_PROP_VISIBLE) <= 0:\n",
    "            cv2.destroyAllWindows()\n",
    "            exit(1)\n",
    "\n",
    "\n",
    "\n",
    "        if not(cv2.cvGetWindowHandle('imgView')):\n",
    "                    cv2.destroyAllWindows()\n",
    "                    exit(1)\n",
    "\n",
    "\n",
    "\n",
    "        '''\n",
    "\n"
   ]
  },
  {
   "cell_type": "code",
   "execution_count": 12,
   "metadata": {},
   "outputs": [],
   "source": [
    "A()"
   ]
  },
  {
   "cell_type": "markdown",
   "metadata": {},
   "source": [
    "무한 루프"
   ]
  }
 ],
 "metadata": {
  "interpreter": {
   "hash": "24fd640ee5288e3456d42b445c51e2b62d02713794516888ebe6033875bc10ff"
  },
  "kernelspec": {
   "display_name": "Python 3.7.7 64-bit",
   "language": "python",
   "name": "python3"
  },
  "language_info": {
   "codemirror_mode": {
    "name": "ipython",
    "version": 3
   },
   "file_extension": ".py",
   "mimetype": "text/x-python",
   "name": "python",
   "nbconvert_exporter": "python",
   "pygments_lexer": "ipython3",
   "version": "3.7.11"
  },
  "orig_nbformat": 4
 },
 "nbformat": 4,
 "nbformat_minor": 2
}

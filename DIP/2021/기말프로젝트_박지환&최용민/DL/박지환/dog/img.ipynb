{
 "cells": [
  {
   "cell_type": "code",
   "execution_count": null,
   "metadata": {},
   "outputs": [],
   "source": [
    "from PIL import Image\n",
    "import os\n",
    "\n",
    "data_path = \"dog_breed\"\n",
    "train_path = os.path.join(data_path, 'train')\n",
    "validation_path = os.path.join(data_path, 'validation')\n",
    "test_path = os.path.join(data_path, 'test')\n",
    "\n",
    "for i in os.listdir(train_path):\n",
    "    for j in os.listdir( os.path.join( train_path, i) ):\n",
    "        img = Image.open( os.path.join( train_path, i, j))\n",
    "        if not img:\n",
    "            print( os.path.join(train_path, i, j))\n",
    "for i in os.listdir(validation_path):\n",
    "    for j in os.listdir( os.path.join( validation_path, i) ):\n",
    "        img = Image.open( os.path.join( validation_path, i, j))\n",
    "        if not img:\n",
    "            print( os.path.join(validation_path, i, j))\n",
    "for i in os.listdir(test_path):\n",
    "    for j in os.listdir( os.path.join( test_path, i) ):\n",
    "        img = Image.open( os.path.join( test_path, i, j))\n",
    "        if not img:\n",
    "            print( os.path.join(test_path, i, j))"
   ]
  },
  {
   "cell_type": "code",
   "execution_count": null,
   "metadata": {},
   "outputs": [],
   "source": [
    "import cv2\n",
    "\n",
    "path = 'dog_breed\\\\validation\\\\Beagle\\\\beagle_11.jpg'\n",
    "img = cv2.imread(path)\n",
    "cv2.imwrite(path, img)"
   ]
  }
 ],
 "metadata": {
  "language_info": {
   "name": "python"
  },
  "orig_nbformat": 4
 },
 "nbformat": 4,
 "nbformat_minor": 2
}

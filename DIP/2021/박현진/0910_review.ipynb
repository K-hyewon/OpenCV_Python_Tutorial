{
  "nbformat": 4,
  "nbformat_minor": 0,
  "metadata": {
    "colab": {
      "name": "0910_review.ipynb",
      "provenance": [],
      "collapsed_sections": [
        "YfeZbkpEsM5Y",
        "CZSPIpV54rM5",
        "4UZmoun47sZl"
      ]
    },
    "kernelspec": {
      "name": "python3",
      "display_name": "Python 3"
    },
    "language_info": {
      "name": "python"
    }
  },
  "cells": [
    {
      "cell_type": "code",
      "metadata": {
        "colab": {
          "base_uri": "https://localhost:8080/"
        },
        "id": "nNVGSaX8ySQX",
        "outputId": "ca6bf47c-dead-47b8-d922-8848df472c2f"
      },
      "source": [
        "!pip install numpy --upgrade"
      ],
      "execution_count": null,
      "outputs": [
        {
          "output_type": "stream",
          "name": "stdout",
          "text": [
            "Requirement already satisfied: numpy in /usr/local/lib/python3.7/dist-packages (1.21.2)\n"
          ]
        }
      ]
    },
    {
      "cell_type": "code",
      "metadata": {
        "colab": {
          "base_uri": "https://localhost:8080/"
        },
        "id": "XFTCCkUrmnu3",
        "outputId": "be25849e-b8c7-4820-cccd-337a0f7baeda"
      },
      "source": [
        "import cv2\n",
        "\n",
        "img = cv2.imread('/content/drive/MyDrive/GACHON/lena.png')\n",
        "type(img)"
      ],
      "execution_count": null,
      "outputs": [
        {
          "output_type": "execute_result",
          "data": {
            "text/plain": [
              "numpy.ndarray"
            ]
          },
          "metadata": {},
          "execution_count": 40
        }
      ]
    },
    {
      "cell_type": "markdown",
      "metadata": {
        "id": "jrZFDdUsnFfs"
      },
      "source": [
        "ndarray: n-dimensional array\n",
        "\n",
        "gray scale(mono channel): 2차원\n",
        "\n",
        "RGB(color space): 3차원 (x축, y축, channel)"
      ]
    },
    {
      "cell_type": "markdown",
      "metadata": {
        "id": "HNHtJasmnyw8"
      },
      "source": [
        "\n",
        "\n",
        "*   ndim: # of dimentions\n",
        "\n",
        "\n"
      ]
    },
    {
      "cell_type": "code",
      "metadata": {
        "colab": {
          "base_uri": "https://localhost:8080/"
        },
        "id": "C3mDZYNZmry2",
        "outputId": "94da3ada-b020-4275-9503-bd5e17b74a88"
      },
      "source": [
        "img.ndim"
      ],
      "execution_count": null,
      "outputs": [
        {
          "output_type": "execute_result",
          "data": {
            "text/plain": [
              "3"
            ]
          },
          "metadata": {},
          "execution_count": 5
        }
      ]
    },
    {
      "cell_type": "markdown",
      "metadata": {
        "id": "P_dZX6NBqd1P"
      },
      "source": [
        "*   shape: tuple로 각 차원의 크기를 보여줌\n",
        "\n",
        "    (axis0, axis1, axis2.....)\n",
        "\n",
        "\n"
      ]
    },
    {
      "cell_type": "code",
      "metadata": {
        "colab": {
          "base_uri": "https://localhost:8080/"
        },
        "id": "5LYJT1wrm-yF",
        "outputId": "d9f6a048-054f-44a5-ab8c-bdd02eada9f1"
      },
      "source": [
        "img.shape"
      ],
      "execution_count": null,
      "outputs": [
        {
          "output_type": "execute_result",
          "data": {
            "text/plain": [
              "(512, 512, 3)"
            ]
          },
          "metadata": {},
          "execution_count": 6
        }
      ]
    },
    {
      "cell_type": "markdown",
      "metadata": {
        "id": "d9i26M_qqa2L"
      },
      "source": [
        "*   size: # of elements\n",
        "\n",
        "    786432개의 feature vector"
      ]
    },
    {
      "cell_type": "code",
      "metadata": {
        "colab": {
          "base_uri": "https://localhost:8080/"
        },
        "id": "P2jLgUGFnCgc",
        "outputId": "901ecf38-113f-426c-957b-38e65e465dfb"
      },
      "source": [
        "img.size"
      ],
      "execution_count": null,
      "outputs": [
        {
          "output_type": "execute_result",
          "data": {
            "text/plain": [
              "786432"
            ]
          },
          "metadata": {},
          "execution_count": 7
        }
      ]
    },
    {
      "cell_type": "markdown",
      "metadata": {
        "id": "xCZWGDt_qlIs"
      },
      "source": [
        "*   dtype: data type of element\n",
        "    \n",
        "    uint8: unsinged integer 8bit (1byte)"
      ]
    },
    {
      "cell_type": "code",
      "metadata": {
        "colab": {
          "base_uri": "https://localhost:8080/"
        },
        "id": "Ill_VGrbqswr",
        "outputId": "3323d5e3-ba2e-42c2-ba9d-9267f9abb093"
      },
      "source": [
        "s = 1\n",
        "for c in img.shape:\n",
        "  s*=c\n",
        "\n",
        "print(s)"
      ],
      "execution_count": null,
      "outputs": [
        {
          "output_type": "stream",
          "name": "stdout",
          "text": [
            "786432\n"
          ]
        }
      ]
    },
    {
      "cell_type": "code",
      "metadata": {
        "colab": {
          "base_uri": "https://localhost:8080/"
        },
        "id": "JsrTptDPqPtj",
        "outputId": "20b99a35-dc33-41b1-aa1b-b8207eb67e02"
      },
      "source": [
        "img.dtype"
      ],
      "execution_count": null,
      "outputs": [
        {
          "output_type": "execute_result",
          "data": {
            "text/plain": [
              "dtype('uint8')"
            ]
          },
          "metadata": {},
          "execution_count": 11
        }
      ]
    },
    {
      "cell_type": "code",
      "metadata": {
        "colab": {
          "base_uri": "https://localhost:8080/"
        },
        "id": "uPd0G-g5s1Yz",
        "outputId": "393ad155-5da1-4048-a7ab-6323488c746b"
      },
      "source": [
        "print(f'img.itemsize : {img.itemsize}bytes') #문자열 포맷팅"
      ],
      "execution_count": null,
      "outputs": [
        {
          "output_type": "stream",
          "name": "stdout",
          "text": [
            "img.itemsize : 1bytes\n"
          ]
        }
      ]
    },
    {
      "cell_type": "markdown",
      "metadata": {
        "id": "FWnl7kQEqnaM"
      },
      "source": [
        "*   itemsize: byte size of element"
      ]
    },
    {
      "cell_type": "code",
      "metadata": {
        "colab": {
          "base_uri": "https://localhost:8080/"
        },
        "id": "JXLaEBcMqWgj",
        "outputId": "0e7cfbab-363b-431a-894d-f0ded4c70074"
      },
      "source": [
        "img.itemsize"
      ],
      "execution_count": null,
      "outputs": [
        {
          "output_type": "execute_result",
          "data": {
            "text/plain": [
              "1"
            ]
          },
          "metadata": {},
          "execution_count": 13
        }
      ]
    },
    {
      "cell_type": "markdown",
      "metadata": {
        "id": "YfeZbkpEsM5Y"
      },
      "source": [
        "## **Numpy array 생성하기**"
      ]
    },
    {
      "cell_type": "markdown",
      "metadata": {
        "id": "uzUCQj40sS3l"
      },
      "source": [
        "초기값을 list로 가지고 있는 경우\n",
        "\n",
        "numpy.array( list [,dtype]) : list로부터 numpy.ndarray 생성\n",
        "*   list: 배열의 값을 갖고있는 list\n",
        "*   dtype: data type of element\n",
        "    *   int8, int16, int32  : signed integer\n",
        "    *   uint8, uint16, uint32 : unsigned integer\n",
        "    *   float16, float32, float64, float128 : floating point for real number\n",
        "    *   complex64, complex128, complex256 : floating point for complex number\n",
        "    *   bool"
      ]
    },
    {
      "cell_type": "code",
      "metadata": {
        "colab": {
          "base_uri": "https://localhost:8080/"
        },
        "id": "yuv27yQhsQ2n",
        "outputId": "4df239db-03ba-4d37-de76-ddc4507d3809"
      },
      "source": [
        "import numpy as np #np라는 alias를 쓰는 것이 일반적이다.\n",
        "\n",
        "a = np.array([1,2,3,4])\n",
        "print(type(a))\n",
        "a"
      ],
      "execution_count": null,
      "outputs": [
        {
          "output_type": "stream",
          "name": "stdout",
          "text": [
            "<class 'numpy.ndarray'>\n"
          ]
        },
        {
          "output_type": "execute_result",
          "data": {
            "text/plain": [
              "array([1, 2, 3, 4])"
            ]
          },
          "metadata": {},
          "execution_count": 2
        }
      ]
    },
    {
      "cell_type": "markdown",
      "metadata": {
        "id": "ts1ezPVOuqCD"
      },
      "source": [
        "python에서 모든 데이터 타입은 class임."
      ]
    },
    {
      "cell_type": "code",
      "metadata": {
        "colab": {
          "base_uri": "https://localhost:8080/"
        },
        "id": "Bjlsmj-kuuVc",
        "outputId": "2dad3373-e2c8-4a7b-fa09-88a79bccc514"
      },
      "source": [
        "a.dtype"
      ],
      "execution_count": null,
      "outputs": [
        {
          "output_type": "execute_result",
          "data": {
            "text/plain": [
              "dtype('int64')"
            ]
          },
          "metadata": {},
          "execution_count": 15
        }
      ]
    },
    {
      "cell_type": "code",
      "metadata": {
        "colab": {
          "base_uri": "https://localhost:8080/"
        },
        "id": "6P2pLWYoww2t",
        "outputId": "1ba96d18-d79d-4a52-af17-5f2db214d64f"
      },
      "source": [
        "a = np.array([1.,2.,3.,4.])\n",
        "print(a.dtype)\n",
        "a"
      ],
      "execution_count": null,
      "outputs": [
        {
          "output_type": "stream",
          "name": "stdout",
          "text": [
            "float64\n"
          ]
        },
        {
          "output_type": "execute_result",
          "data": {
            "text/plain": [
              "array([1., 2., 3., 4.])"
            ]
          },
          "metadata": {},
          "execution_count": 16
        }
      ]
    },
    {
      "cell_type": "markdown",
      "metadata": {
        "id": "yOBXyvz3wGa9"
      },
      "source": [
        "위에서 보이듯이, 'numpy.array'에서 integer를 위해서는 기본적으로 numpy."
      ]
    },
    {
      "cell_type": "code",
      "metadata": {
        "colab": {
          "base_uri": "https://localhost:8080/",
          "height": 36
        },
        "id": "cEapJ64nx-4F",
        "outputId": "ecb63aa7-b67d-43a6-a34e-769272b3bc57"
      },
      "source": [
        "import numpy as np\n",
        "\n",
        "np.__version__"
      ],
      "execution_count": null,
      "outputs": [
        {
          "output_type": "execute_result",
          "data": {
            "application/vnd.google.colaboratory.intrinsic+json": {
              "type": "string"
            },
            "text/plain": [
              "'1.21.2'"
            ]
          },
          "metadata": {},
          "execution_count": 17
        }
      ]
    },
    {
      "cell_type": "code",
      "metadata": {
        "colab": {
          "base_uri": "https://localhost:8080/"
        },
        "id": "T95edDWbuuNQ",
        "outputId": "eacf8fca-2e13-4e45-a94d-558fa9d58b6c"
      },
      "source": [
        "a = np.array([1,2,3,4], dtype=np.float16)\n",
        "print(type(a))\n",
        "print(a.dtype)\n",
        "a"
      ],
      "execution_count": null,
      "outputs": [
        {
          "output_type": "stream",
          "name": "stdout",
          "text": [
            "<class 'numpy.ndarray'>\n",
            "float16\n"
          ]
        },
        {
          "output_type": "execute_result",
          "data": {
            "text/plain": [
              "array([1., 2., 3., 4.], dtype=float16)"
            ]
          },
          "metadata": {},
          "execution_count": 20
        }
      ]
    },
    {
      "cell_type": "markdown",
      "metadata": {
        "id": "IENrsRR_v0Sm"
      },
      "source": [
        "dtype을 지정할 때, np.~~형태로 기재할 것 "
      ]
    },
    {
      "cell_type": "code",
      "metadata": {
        "colab": {
          "base_uri": "https://localhost:8080/"
        },
        "id": "HXxBsy9Cv9_j",
        "outputId": "62b7301c-1ef7-4c70-c8a7-23190102c6a5"
      },
      "source": [
        "a.shape"
      ],
      "execution_count": null,
      "outputs": [
        {
          "output_type": "execute_result",
          "data": {
            "text/plain": [
              "(4,)"
            ]
          },
          "metadata": {},
          "execution_count": 19
        }
      ]
    },
    {
      "cell_type": "markdown",
      "metadata": {
        "id": "1xqB9tNJ0arQ"
      },
      "source": [
        "axis = 0 : 2개의 list\n",
        "\n",
        "axis = 1 : 4개의 숫자로 구성"
      ]
    },
    {
      "cell_type": "code",
      "metadata": {
        "colab": {
          "base_uri": "https://localhost:8080/"
        },
        "id": "klsWpnqOv94g",
        "outputId": "623c777f-ee70-44bb-b55c-62afcc3a1085"
      },
      "source": [
        "b  = np.array([[1,2,3,4],[5,6,7,8]])\n",
        "b"
      ],
      "execution_count": null,
      "outputs": [
        {
          "output_type": "execute_result",
          "data": {
            "text/plain": [
              "array([[1, 2, 3, 4],\n",
              "       [5, 6, 7, 8]])"
            ]
          },
          "metadata": {},
          "execution_count": 21
        }
      ]
    },
    {
      "cell_type": "code",
      "metadata": {
        "colab": {
          "base_uri": "https://localhost:8080/"
        },
        "id": "Cq3LgP-a0GzW",
        "outputId": "55b7a9b8-6a9d-4240-9a3f-ec74890e686f"
      },
      "source": [
        "b.shape"
      ],
      "execution_count": null,
      "outputs": [
        {
          "output_type": "execute_result",
          "data": {
            "text/plain": [
              "(2, 4)"
            ]
          },
          "metadata": {},
          "execution_count": 22
        }
      ]
    },
    {
      "cell_type": "code",
      "metadata": {
        "colab": {
          "base_uri": "https://localhost:8080/"
        },
        "id": "UyAYlKv-0I_N",
        "outputId": "0633ae89-41fb-470e-9de1-a38dcfccb079"
      },
      "source": [
        "b.dtype"
      ],
      "execution_count": null,
      "outputs": [
        {
          "output_type": "execute_result",
          "data": {
            "text/plain": [
              "dtype('int64')"
            ]
          },
          "metadata": {},
          "execution_count": 23
        }
      ]
    },
    {
      "cell_type": "code",
      "metadata": {
        "colab": {
          "base_uri": "https://localhost:8080/"
        },
        "id": "J4aKuOrl0qAV",
        "outputId": "d8e6bf53-6b50-408f-fb08-0c3c63dac427"
      },
      "source": [
        "c = np.array([[1,2,3.94,4],[5,6,7,8]])\n",
        "c"
      ],
      "execution_count": null,
      "outputs": [
        {
          "output_type": "execute_result",
          "data": {
            "text/plain": [
              "array([[1.  , 2.  , 3.94, 4.  ],\n",
              "       [5.  , 6.  , 7.  , 8.  ]])"
            ]
          },
          "metadata": {},
          "execution_count": 24
        }
      ]
    },
    {
      "cell_type": "markdown",
      "metadata": {
        "id": "YfUoRPYD2kQA"
      },
      "source": [
        "뒤에 . 이 있어서 real number\n",
        "\n",
        "real number라서 float로 찍힘\n",
        "\n",
        "element들 중에 1개라도 float가 있으면 float로 처리"
      ]
    },
    {
      "cell_type": "code",
      "metadata": {
        "colab": {
          "base_uri": "https://localhost:8080/"
        },
        "id": "-0oyHksO1p_e",
        "outputId": "1f7093f1-c40d-404f-d3df-d7233a3e92d8"
      },
      "source": [
        "c.dtype"
      ],
      "execution_count": null,
      "outputs": [
        {
          "output_type": "execute_result",
          "data": {
            "text/plain": [
              "dtype('float64')"
            ]
          },
          "metadata": {},
          "execution_count": 25
        }
      ]
    },
    {
      "cell_type": "code",
      "metadata": {
        "colab": {
          "base_uri": "https://localhost:8080/"
        },
        "id": "ZvurrHz5172M",
        "outputId": "51c739d8-d168-4d77-cdf1-5b6e470706f7"
      },
      "source": [
        "d = np.uint8(c)\n",
        "d"
      ],
      "execution_count": null,
      "outputs": [
        {
          "output_type": "execute_result",
          "data": {
            "text/plain": [
              "array([[1, 2, 3, 4],\n",
              "       [5, 6, 7, 8]], dtype=uint8)"
            ]
          },
          "metadata": {},
          "execution_count": 26
        }
      ]
    },
    {
      "cell_type": "code",
      "metadata": {
        "colab": {
          "base_uri": "https://localhost:8080/"
        },
        "id": "woHv-auy2KDd",
        "outputId": "8724dea2-b06c-4554-bff9-f3cf820e1c39"
      },
      "source": [
        "a = np.array([300,0,10])\n",
        "print(a)\n",
        "b = np.uint8(a)\n",
        "print(b)"
      ],
      "execution_count": null,
      "outputs": [
        {
          "output_type": "stream",
          "name": "stdout",
          "text": [
            "[300   0  10]\n",
            "[44  0 10]\n"
          ]
        }
      ]
    },
    {
      "cell_type": "markdown",
      "metadata": {
        "id": "cgIo3eu735pa"
      },
      "source": [
        "uint8은 (8bit) 0~255의 값을 나타낼 수 있기 때문에 300이 44로 표현됨"
      ]
    },
    {
      "cell_type": "markdown",
      "metadata": {
        "id": "CZSPIpV54rM5"
      },
      "source": [
        "## **단일값으로 초기화하여 생성**\n",
        "\n",
        "numpy.empty(shape [,dtype]) : 초기값을 지정하지 않고 특정 크기의 ndarray생성.\n",
        "*   shape: tuple로서 생성될 ndarray의 shape을 지정\n",
        "*   각 element들이 가지는 값은 random한 grabage value임\n",
        "\n",
        "numpy.zeros(shape [,dtype]): 0으로 초기화한 ndarray\n",
        "\n",
        "numpy.ones(shape [,dtype]) : 1로 초기화한 ndarray\n",
        "\n",
        "numpy.full(shape fill_value [,dtype]) : fill_value로 초기화한 ndarray\n",
        "\n"
      ]
    },
    {
      "cell_type": "code",
      "metadata": {
        "colab": {
          "base_uri": "https://localhost:8080/"
        },
        "id": "aMgsedwL3xIs",
        "outputId": "ac1a1277-7e7a-4790-d27c-2805cf72d80b"
      },
      "source": [
        "a = np.empty([3,4])\n",
        "a"
      ],
      "execution_count": null,
      "outputs": [
        {
          "output_type": "execute_result",
          "data": {
            "text/plain": [
              "array([[4.68168830e-310, 2.47032823e-322, 0.00000000e+000,\n",
              "        0.00000000e+000],\n",
              "       [0.00000000e+000, 2.92966904e-033, 5.64044803e-091,\n",
              "        6.40179194e+170],\n",
              "       [3.61392605e+174, 1.42719369e-071, 3.99910963e+252,\n",
              "        1.46030983e-319]])"
            ]
          },
          "metadata": {},
          "execution_count": 30
        }
      ]
    },
    {
      "cell_type": "code",
      "metadata": {
        "colab": {
          "base_uri": "https://localhost:8080/"
        },
        "id": "UOKQFdLU6H97",
        "outputId": "aede1b5c-1391-4732-d669-6d8d044c8cde"
      },
      "source": [
        "a.dtype"
      ],
      "execution_count": null,
      "outputs": [
        {
          "output_type": "execute_result",
          "data": {
            "text/plain": [
              "dtype('float64')"
            ]
          },
          "metadata": {},
          "execution_count": 31
        }
      ]
    },
    {
      "cell_type": "code",
      "metadata": {
        "colab": {
          "base_uri": "https://localhost:8080/"
        },
        "id": "Mx-eAQ086Laz",
        "outputId": "a48f206a-fa50-4eaa-928b-35d168971e7b"
      },
      "source": [
        "a.fill(3)\n",
        "a"
      ],
      "execution_count": null,
      "outputs": [
        {
          "output_type": "execute_result",
          "data": {
            "text/plain": [
              "array([[3., 3., 3., 3.],\n",
              "       [3., 3., 3., 3.],\n",
              "       [3., 3., 3., 3.]])"
            ]
          },
          "metadata": {},
          "execution_count": 33
        }
      ]
    },
    {
      "cell_type": "code",
      "metadata": {
        "colab": {
          "base_uri": "https://localhost:8080/"
        },
        "id": "U1kleR8R6Rha",
        "outputId": "8c8bc742-6175-4a54-e8c9-e0d5e740b736"
      },
      "source": [
        "a.dtype"
      ],
      "execution_count": null,
      "outputs": [
        {
          "output_type": "execute_result",
          "data": {
            "text/plain": [
              "dtype('float64')"
            ]
          },
          "metadata": {},
          "execution_count": 34
        }
      ]
    },
    {
      "cell_type": "code",
      "metadata": {
        "colab": {
          "base_uri": "https://localhost:8080/"
        },
        "id": "3WszytdH6UnK",
        "outputId": "85c24f72-5fb7-4837-ffb2-a37363720c49"
      },
      "source": [
        "b = np.zeros([3,4])\n",
        "b"
      ],
      "execution_count": null,
      "outputs": [
        {
          "output_type": "execute_result",
          "data": {
            "text/plain": [
              "array([[0., 0., 0., 0.],\n",
              "       [0., 0., 0., 0.],\n",
              "       [0., 0., 0., 0.]])"
            ]
          },
          "metadata": {},
          "execution_count": 35
        }
      ]
    },
    {
      "cell_type": "code",
      "metadata": {
        "colab": {
          "base_uri": "https://localhost:8080/"
        },
        "id": "kjePUCPO6fjC",
        "outputId": "57332a0d-9567-43bb-a6e1-9eaa7a3ebdfc"
      },
      "source": [
        "b.dtype"
      ],
      "execution_count": null,
      "outputs": [
        {
          "output_type": "execute_result",
          "data": {
            "text/plain": [
              "dtype('float64')"
            ]
          },
          "metadata": {},
          "execution_count": 36
        }
      ]
    },
    {
      "cell_type": "code",
      "metadata": {
        "colab": {
          "base_uri": "https://localhost:8080/"
        },
        "id": "aW_UFiQO6hDi",
        "outputId": "d13fad0d-03d1-42f8-b99b-b8d396ffb8cb"
      },
      "source": [
        "c = np.ones([3,4])\n",
        "c"
      ],
      "execution_count": null,
      "outputs": [
        {
          "output_type": "execute_result",
          "data": {
            "text/plain": [
              "array([[1., 1., 1., 1.],\n",
              "       [1., 1., 1., 1.],\n",
              "       [1., 1., 1., 1.]])"
            ]
          },
          "metadata": {},
          "execution_count": 37
        }
      ]
    },
    {
      "cell_type": "code",
      "metadata": {
        "colab": {
          "base_uri": "https://localhost:8080/"
        },
        "id": "BX_x54ZW6uBn",
        "outputId": "8a9878be-a445-4877-bbe8-0c2838c36aff"
      },
      "source": [
        "h = np.ones([2,2],dtype = np.uint8)\n",
        "h"
      ],
      "execution_count": null,
      "outputs": [
        {
          "output_type": "execute_result",
          "data": {
            "text/plain": [
              "array([[1, 1],\n",
              "       [1, 1]], dtype=uint8)"
            ]
          },
          "metadata": {},
          "execution_count": 41
        }
      ]
    },
    {
      "cell_type": "code",
      "metadata": {
        "colab": {
          "base_uri": "https://localhost:8080/"
        },
        "id": "_HyLAohr6kl7",
        "outputId": "9b099eb0-84d9-4034-9b78-6d55a59a639d"
      },
      "source": [
        "d = np.full([3,4],8,dtype = np.float32)\n",
        "d"
      ],
      "execution_count": null,
      "outputs": [
        {
          "output_type": "execute_result",
          "data": {
            "text/plain": [
              "array([[8., 8., 8., 8.],\n",
              "       [8., 8., 8., 8.],\n",
              "       [8., 8., 8., 8.]], dtype=float32)"
            ]
          },
          "metadata": {},
          "execution_count": 44
        }
      ]
    },
    {
      "cell_type": "code",
      "metadata": {
        "colab": {
          "base_uri": "https://localhost:8080/"
        },
        "id": "sTKSY3Ua7cta",
        "outputId": "5110bad6-4dad-4899-bd64-541eb4dffc76"
      },
      "source": [
        "d.dtype"
      ],
      "execution_count": null,
      "outputs": [
        {
          "output_type": "execute_result",
          "data": {
            "text/plain": [
              "dtype('float32')"
            ]
          },
          "metadata": {},
          "execution_count": 45
        }
      ]
    },
    {
      "cell_type": "code",
      "metadata": {
        "colab": {
          "base_uri": "https://localhost:8080/"
        },
        "id": "pDN8bt177_XM",
        "outputId": "256e3eac-8b47-44b3-9bac-309e2268230d"
      },
      "source": [
        "a = np.ones(img.shape)\n",
        "a.dtype"
      ],
      "execution_count": null,
      "outputs": [
        {
          "output_type": "execute_result",
          "data": {
            "text/plain": [
              "dtype('float64')"
            ]
          },
          "metadata": {},
          "execution_count": 48
        }
      ]
    },
    {
      "cell_type": "code",
      "metadata": {
        "colab": {
          "base_uri": "https://localhost:8080/"
        },
        "id": "9_Xo6o6f8GL4",
        "outputId": "6cfa4c8c-c865-426f-c72d-71c95a58cf02"
      },
      "source": [
        "a.shape"
      ],
      "execution_count": null,
      "outputs": [
        {
          "output_type": "execute_result",
          "data": {
            "text/plain": [
              "(512, 512, 3)"
            ]
          },
          "metadata": {},
          "execution_count": 49
        }
      ]
    },
    {
      "cell_type": "markdown",
      "metadata": {
        "id": "4UZmoun47sZl"
      },
      "source": [
        "## 단일값이면서 기존의 ndarray와 같은 shape의 ndarray생성 (값만 바꾸어줌)\n",
        "\n",
        "empty_like(array [,dtype])\n",
        "\n",
        "zeros_like(array [,dtype])\n",
        "\n",
        "ones_like(array [,dtype])\n",
        "\n",
        "full_like(array,fill_value [,dtype])"
      ]
    },
    {
      "cell_type": "code",
      "metadata": {
        "colab": {
          "base_uri": "https://localhost:8080/"
        },
        "id": "iFqEsL1f7fAh",
        "outputId": "b3663f7e-8a87-4206-88bd-613490dfd6af"
      },
      "source": [
        "img.shape"
      ],
      "execution_count": null,
      "outputs": [
        {
          "output_type": "execute_result",
          "data": {
            "text/plain": [
              "(512, 512, 3)"
            ]
          },
          "metadata": {},
          "execution_count": 50
        }
      ]
    },
    {
      "cell_type": "code",
      "metadata": {
        "colab": {
          "base_uri": "https://localhost:8080/"
        },
        "id": "8nsOin5p9hjR",
        "outputId": "74ee7ea2-23ee-4e7a-9452-e2e689485c07"
      },
      "source": [
        "a = np.empty_like(img)\n",
        "a.shape"
      ],
      "execution_count": null,
      "outputs": [
        {
          "output_type": "execute_result",
          "data": {
            "text/plain": [
              "(512, 512, 3)"
            ]
          },
          "metadata": {},
          "execution_count": 52
        }
      ]
    },
    {
      "cell_type": "code",
      "metadata": {
        "colab": {
          "base_uri": "https://localhost:8080/"
        },
        "id": "rx1QrtN69poR",
        "outputId": "3dca44ef-ffd0-4402-bc7a-23b89a21c286"
      },
      "source": [
        "b = np.zeros_like(img)\n",
        "b.shape"
      ],
      "execution_count": null,
      "outputs": [
        {
          "output_type": "execute_result",
          "data": {
            "text/plain": [
              "(512, 512, 3)"
            ]
          },
          "metadata": {},
          "execution_count": 53
        }
      ]
    },
    {
      "cell_type": "code",
      "metadata": {
        "colab": {
          "base_uri": "https://localhost:8080/"
        },
        "id": "a4wY3-W_90VJ",
        "outputId": "7877900e-5a69-4aef-a55d-8c21e9bb749b"
      },
      "source": [
        "c = np.ones_like(img)\n",
        "c.shape"
      ],
      "execution_count": null,
      "outputs": [
        {
          "output_type": "execute_result",
          "data": {
            "text/plain": [
              "(512, 512, 3)"
            ]
          },
          "metadata": {},
          "execution_count": 55
        }
      ]
    },
    {
      "cell_type": "code",
      "metadata": {
        "colab": {
          "base_uri": "https://localhost:8080/"
        },
        "id": "U3NqMUBr96zh",
        "outputId": "c90b64f1-1ffa-4937-a28a-a15b04562720"
      },
      "source": [
        "d = np.full_like(img,8)\n",
        "d.shape"
      ],
      "execution_count": null,
      "outputs": [
        {
          "output_type": "execute_result",
          "data": {
            "text/plain": [
              "(512, 512, 3)"
            ]
          },
          "metadata": {},
          "execution_count": 59
        }
      ]
    },
    {
      "cell_type": "markdown",
      "metadata": {
        "id": "0l2RXL-b-obj"
      },
      "source": [
        "Sequence 생성"
      ]
    },
    {
      "cell_type": "markdown",
      "metadata": {
        "id": "VdT2yVdoQ1cr"
      },
      "source": [
        "python의 range와 같이 numpy.arange가 있음\n",
        "차이점은 변환값이 ndarray라는 점임\n",
        "\n",
        "numpy.array([start=0,] stop [, step=1, dtype=float16])"
      ]
    },
    {
      "cell_type": "code",
      "metadata": {
        "id": "VnwbWddp-EUB",
        "colab": {
          "base_uri": "https://localhost:8080/"
        },
        "outputId": "75e49544-5f64-4262-aaf0-18ad059a3641"
      },
      "source": [
        "a = np.arange(10)\n",
        "b = range(10) # 메모리를 아끼는 면에서는 이게 편함\n",
        "\n",
        "print(type(a))\n",
        "print(type(b)) # ram에 안올림"
      ],
      "execution_count": null,
      "outputs": [
        {
          "output_type": "stream",
          "name": "stdout",
          "text": [
            "<class 'numpy.ndarray'>\n",
            "<class 'range'>\n"
          ]
        }
      ]
    },
    {
      "cell_type": "code",
      "metadata": {
        "colab": {
          "base_uri": "https://localhost:8080/"
        },
        "id": "52T48FBjSr3g",
        "outputId": "f0914d34-3259-41dd-af85-b165a733ede2"
      },
      "source": [
        "a = np.array(range(3,10,2)) #둘이 같음\n",
        "b = np.arange(3,10,2) # 굳이 위의 코드처럼 치지말고 한번에\n",
        "\n",
        "print(a)\n",
        "print(b)"
      ],
      "execution_count": null,
      "outputs": [
        {
          "output_type": "stream",
          "name": "stdout",
          "text": [
            "[3 5 7 9]\n",
            "[3 5 7 9]\n"
          ]
        }
      ]
    },
    {
      "cell_type": "markdown",
      "metadata": {
        "id": "E9pfAio6SRC8"
      },
      "source": [
        "## **난수로 ndarray생성**\n",
        "\n",
        "numpy.random.rand([d0 [.d1 [...,dn]]]) : 0~1사이의 난수를 요소값들로 가지는 배열 혹은 수 반환.\n",
        "*   난수 배열의 shape의 각 크기를 인자로 넣어줌.\n",
        "*   아무것도 넣어주지 않으면 수 하나 나옴.\n",
        "\n",
        "numpy.random.randn([d0 [.d1[...,dn]]]) : mean=0, std =1 인 normal distribution을 따르는 난수를 요소로 가지는 배열 혹은 수 반환\n",
        "*    난수 배열의 shape의 각 크기를 인자로 넣어줌.\n",
        "*    아무것도 넣어주지 않으면 수 하나 나옴."
      ]
    },
    {
      "cell_type": "code",
      "metadata": {
        "colab": {
          "base_uri": "https://localhost:8080/"
        },
        "id": "y2moWn_ESQzA",
        "outputId": "1bc54cde-c0e6-430f-a8f0-d80141fb150e"
      },
      "source": [
        "a = np.random.rand()\n",
        "print(type(a))\n",
        "a"
      ],
      "execution_count": null,
      "outputs": [
        {
          "output_type": "stream",
          "name": "stdout",
          "text": [
            "<class 'float'>\n"
          ]
        },
        {
          "output_type": "execute_result",
          "data": {
            "text/plain": [
              "0.08695127207714581"
            ]
          },
          "metadata": {},
          "execution_count": 13
        }
      ]
    },
    {
      "cell_type": "code",
      "metadata": {
        "colab": {
          "base_uri": "https://localhost:8080/"
        },
        "id": "9FP2EF5SUxp_",
        "outputId": "d0792755-4a6b-4b0d-bae2-ef96b1016d77"
      },
      "source": [
        "# QUIZ\n",
        "def get_rv(r,c): #r: row, c: column /// 2 by 3의 matrix 나옴\n",
        "  a = np.random.rand(r,c)\n",
        "  b = 2 * a - 1\n",
        "  return b\n",
        "\n",
        "get_rv(2,3)"
      ],
      "execution_count": null,
      "outputs": [
        {
          "output_type": "execute_result",
          "data": {
            "text/plain": [
              "array([[ 0.86123796, -0.61851067, -0.09864294],\n",
              "       [ 0.1809227 ,  0.01341904,  0.1051054 ]])"
            ]
          },
          "metadata": {},
          "execution_count": 16
        }
      ]
    },
    {
      "cell_type": "code",
      "metadata": {
        "colab": {
          "base_uri": "https://localhost:8080/"
        },
        "id": "NAAyjoLVR8O0",
        "outputId": "f14a0d00-b43f-4d1b-c08d-006d7767018b"
      },
      "source": [
        "a = np.random.rand(30,40)\n",
        "print(a.shape)\n",
        "a"
      ],
      "execution_count": null,
      "outputs": [
        {
          "output_type": "stream",
          "name": "stdout",
          "text": [
            "(30, 40)\n"
          ]
        },
        {
          "output_type": "execute_result",
          "data": {
            "text/plain": [
              "array([[0.22493474, 0.99595808, 0.69753415, ..., 0.82084801, 0.83433486,\n",
              "        0.50307084],\n",
              "       [0.18191742, 0.94676726, 0.58214756, ..., 0.03883533, 0.26272871,\n",
              "        0.15717095],\n",
              "       [0.17743462, 0.06764395, 0.27610231, ..., 0.95085683, 0.08990617,\n",
              "        0.49071099],\n",
              "       ...,\n",
              "       [0.11354695, 0.87625588, 0.63975977, ..., 0.59340215, 0.55663504,\n",
              "        0.1905396 ],\n",
              "       [0.20710009, 0.70776315, 0.92153052, ..., 0.19530725, 0.42054434,\n",
              "        0.73606853],\n",
              "       [0.79215177, 0.00883014, 0.57818788, ..., 0.14161757, 0.53771773,\n",
              "        0.9839884 ]])"
            ]
          },
          "metadata": {},
          "execution_count": 9
        }
      ]
    },
    {
      "cell_type": "code",
      "metadata": {
        "colab": {
          "base_uri": "https://localhost:8080/"
        },
        "id": "JYX-h6BuRhi9",
        "outputId": "06653653-60a5-475d-c750-bcab4390e0d6"
      },
      "source": [
        "np.mean(a) # a.mean()"
      ],
      "execution_count": null,
      "outputs": [
        {
          "output_type": "execute_result",
          "data": {
            "text/plain": [
              "0.5036585823280533"
            ]
          },
          "metadata": {},
          "execution_count": 10
        }
      ]
    },
    {
      "cell_type": "code",
      "metadata": {
        "colab": {
          "base_uri": "https://localhost:8080/"
        },
        "id": "90nmFBbgUWq9",
        "outputId": "dd49b136-715b-4568-a423-225fe0eefbc2"
      },
      "source": [
        "np.std(a) # a.std()"
      ],
      "execution_count": null,
      "outputs": [
        {
          "output_type": "execute_result",
          "data": {
            "text/plain": [
              "0.0"
            ]
          },
          "metadata": {},
          "execution_count": 17
        }
      ]
    },
    {
      "cell_type": "code",
      "metadata": {
        "colab": {
          "base_uri": "https://localhost:8080/"
        },
        "id": "RUZ520SUWG4M",
        "outputId": "03340a62-737d-41ad-d8f5-6994eeabb7b3"
      },
      "source": [
        "b = np.random.randn(30,40)\n",
        "print(b.shape)\n",
        "b"
      ],
      "execution_count": null,
      "outputs": [
        {
          "output_type": "stream",
          "name": "stdout",
          "text": [
            "(30, 40)\n"
          ]
        },
        {
          "output_type": "execute_result",
          "data": {
            "text/plain": [
              "array([[-0.80267861, -0.91785432, -2.37978155, ...,  1.80671898,\n",
              "        -0.28422244, -0.0630728 ],\n",
              "       [-0.59401431,  1.05255709,  0.40277724, ..., -1.40821556,\n",
              "         0.75497406, -1.04631773],\n",
              "       [ 0.66364448,  0.15166559,  1.56435983, ..., -1.770493  ,\n",
              "         0.62930591,  0.20205202],\n",
              "       ...,\n",
              "       [ 1.72914602, -0.70999999, -0.95877759, ...,  1.38981415,\n",
              "        -1.18866359, -2.35760755],\n",
              "       [-2.35132666,  0.8615228 ,  0.86073858, ...,  0.55732625,\n",
              "         0.03366137, -0.95214327],\n",
              "       [-1.13092409, -1.25598376, -1.58232271, ..., -0.71070499,\n",
              "         0.32102803,  0.80141848]])"
            ]
          },
          "metadata": {},
          "execution_count": 18
        }
      ]
    },
    {
      "cell_type": "code",
      "metadata": {
        "colab": {
          "base_uri": "https://localhost:8080/"
        },
        "id": "TAGIZSovXoXk",
        "outputId": "a95d0ee7-9827-4dea-ebf6-f2210f78a9c8"
      },
      "source": [
        "b.mean() # np.mean(b)"
      ],
      "execution_count": null,
      "outputs": [
        {
          "output_type": "execute_result",
          "data": {
            "text/plain": [
              "-0.016486581217633273"
            ]
          },
          "metadata": {},
          "execution_count": 19
        }
      ]
    },
    {
      "cell_type": "code",
      "metadata": {
        "colab": {
          "base_uri": "https://localhost:8080/"
        },
        "id": "WcPaNalHXrBD",
        "outputId": "4de22b68-bf5b-4b88-f9b7-7598a264c506"
      },
      "source": [
        "b.std() #np.std(b)"
      ],
      "execution_count": null,
      "outputs": [
        {
          "output_type": "execute_result",
          "data": {
            "text/plain": [
              "1.01156182179778"
            ]
          },
          "metadata": {},
          "execution_count": 21
        }
      ]
    },
    {
      "cell_type": "code",
      "metadata": {
        "id": "HAzxxcJVXsGz"
      },
      "source": [
        "# QUIZ\n",
        "\n",
        "def get_rv(*d):\n",
        "  a = np.random.randn(*d)\n",
        "  "
      ],
      "execution_count": null,
      "outputs": []
    },
    {
      "cell_type": "code",
      "metadata": {
        "colab": {
          "base_uri": "https://localhost:8080/"
        },
        "id": "pEzP95B6vbdn",
        "outputId": "5827fe7f-55db-40d7-e825-d5af70aba389"
      },
      "source": [
        "import numpy as np\n",
        "\n",
        "a = np.random.randn(20000,2000)\n",
        "a = a*3\n",
        "a = a+5\n",
        "print(np.mean(a))\n",
        "print(np.std(a))"
      ],
      "execution_count": null,
      "outputs": [
        {
          "output_type": "stream",
          "name": "stdout",
          "text": [
            "4.999772515926331\n",
            "3.0000040187242645\n"
          ]
        }
      ]
    },
    {
      "cell_type": "markdown",
      "metadata": {
        "id": "bTFM_mwkxMkE"
      },
      "source": [
        "## **casting**\n",
        "\n",
        "ndarrya.astype(dtype)\n",
        "\n",
        "numpy.unitxx(array)\n",
        "\n",
        "numpy.intxx(array)\n",
        "\n",
        "numpy.floatxx(array)"
      ]
    },
    {
      "cell_type": "code",
      "metadata": {
        "colab": {
          "base_uri": "https://localhost:8080/"
        },
        "id": "14VkYma8vx6v",
        "outputId": "e375146e-bdf0-46db-e206-405583d5856e"
      },
      "source": [
        "a = np.arange(3,13)\n",
        "print(a.shape)\n",
        "print(a.dtype)\n",
        "a"
      ],
      "execution_count": null,
      "outputs": [
        {
          "output_type": "stream",
          "name": "stdout",
          "text": [
            "(10,)\n",
            "int64\n"
          ]
        },
        {
          "output_type": "execute_result",
          "data": {
            "text/plain": [
              "array([ 3,  4,  5,  6,  7,  8,  9, 10, 11, 12])"
            ]
          },
          "metadata": {},
          "execution_count": 4
        }
      ]
    },
    {
      "cell_type": "code",
      "metadata": {
        "colab": {
          "base_uri": "https://localhost:8080/"
        },
        "id": "HaeGm51Wx6ZA",
        "outputId": "a4781abf-6ed9-4057-cd76-dcf3388e9ce3"
      },
      "source": [
        "a.astype(np.uint8)"
      ],
      "execution_count": null,
      "outputs": [
        {
          "output_type": "execute_result",
          "data": {
            "text/plain": [
              "array([ 3,  4,  5,  6,  7,  8,  9, 10, 11, 12], dtype=uint8)"
            ]
          },
          "metadata": {},
          "execution_count": 5
        }
      ]
    },
    {
      "cell_type": "code",
      "metadata": {
        "colab": {
          "base_uri": "https://localhost:8080/"
        },
        "id": "m8GXtaa4yC4Y",
        "outputId": "f88462db-45af-42ff-df02-a4c95e086a52"
      },
      "source": [
        "a.dtype # 응,  안바뀜, 메모리 주소도 다름"
      ],
      "execution_count": null,
      "outputs": [
        {
          "output_type": "execute_result",
          "data": {
            "text/plain": [
              "dtype('int64')"
            ]
          },
          "metadata": {},
          "execution_count": 6
        }
      ]
    },
    {
      "cell_type": "code",
      "metadata": {
        "colab": {
          "base_uri": "https://localhost:8080/"
        },
        "id": "dppJZfO7yFiA",
        "outputId": "9b5d53c3-8062-4769-86c1-d1fb8d65d146"
      },
      "source": [
        "a = np.ones((3,4),dtype=np.uint8)\n",
        "b = a.astype(np.uint16)\n",
        "print(a is b)\n",
        "print(a == b)"
      ],
      "execution_count": null,
      "outputs": [
        {
          "output_type": "stream",
          "name": "stdout",
          "text": [
            "False\n",
            "[[ True  True  True  True]\n",
            " [ True  True  True  True]\n",
            " [ True  True  True  True]]\n"
          ]
        }
      ]
    },
    {
      "cell_type": "markdown",
      "metadata": {
        "id": "V-eXCHMh1S9M"
      },
      "source": [
        "## **shape 바꾸기**\n",
        "ndarray.reshape(new_shape): ndarry 값을 기준으로 shape가 new_shape인 ndarray 반환\n",
        "\n",
        "numpy.reshape(ndarray, new_shape): ndarray값을 기준으로 shape이 new_shape인 ndaray반환\n",
        "\n",
        "numpy.ravel(ndarray): 1차원으로 변경\n",
        "\n",
        "ndarray.T: transpose"
      ]
    },
    {
      "cell_type": "code",
      "metadata": {
        "colab": {
          "base_uri": "https://localhost:8080/"
        },
        "id": "-CEtJFQWy8f4",
        "outputId": "cd6b4105-a3db-4845-cc3a-957049420e3b"
      },
      "source": [
        "a = np.array([[1,2,3],[4,5,6]])\n",
        "print(f'original:{a.shape}')\n",
        "\n",
        "b = a.reshape((2,3))\n",
        "print(f'shape of a: {a.shape}')\n",
        "print(f'shaep of b:{b.shape}')\n",
        "b\n",
        "\n",
        "print(id(a))\n",
        "print(id(b)) #reshape해서 저장하면 다른 메모리에 저장됨"
      ],
      "execution_count": null,
      "outputs": [
        {
          "output_type": "stream",
          "name": "stdout",
          "text": [
            "original:(2, 3)\n",
            "shape of a: (2, 3)\n",
            "shaep of b:(2, 3)\n",
            "140576720349984\n",
            "140576720410704\n"
          ]
        }
      ]
    },
    {
      "cell_type": "code",
      "metadata": {
        "colab": {
          "base_uri": "https://localhost:8080/"
        },
        "id": "aDu_oIuF50LG",
        "outputId": "be75e2a6-9c98-4127-eafc-fa34caab8670"
      },
      "source": [
        "a"
      ],
      "execution_count": null,
      "outputs": [
        {
          "output_type": "execute_result",
          "data": {
            "text/plain": [
              "array([[1, 2, 3],\n",
              "       [4, 5, 6]])"
            ]
          },
          "metadata": {},
          "execution_count": 30
        }
      ]
    },
    {
      "cell_type": "code",
      "metadata": {
        "colab": {
          "base_uri": "https://localhost:8080/"
        },
        "id": "Zh5BRL4M3Vhu",
        "outputId": "acf856f1-be33-4a4f-97e2-91271f4bcdac"
      },
      "source": [
        "b"
      ],
      "execution_count": null,
      "outputs": [
        {
          "output_type": "execute_result",
          "data": {
            "text/plain": [
              "array([[1, 2, 3],\n",
              "       [4, 5, 6]])"
            ]
          },
          "metadata": {},
          "execution_count": 15
        }
      ]
    },
    {
      "cell_type": "code",
      "metadata": {
        "colab": {
          "base_uri": "https://localhost:8080/"
        },
        "id": "5bJ9d0jQ36hy",
        "outputId": "477cc94c-ba29-450a-9960-036214ad251c"
      },
      "source": [
        "c = np.reshape(a,(6,1))\n",
        "c"
      ],
      "execution_count": null,
      "outputs": [
        {
          "output_type": "execute_result",
          "data": {
            "text/plain": [
              "array([[1],\n",
              "       [2],\n",
              "       [3],\n",
              "       [4],\n",
              "       [5],\n",
              "       [6]])"
            ]
          },
          "metadata": {},
          "execution_count": 16
        }
      ]
    },
    {
      "cell_type": "code",
      "metadata": {
        "colab": {
          "base_uri": "https://localhost:8080/"
        },
        "id": "jEUXiQI16Ael",
        "outputId": "ca217150-9091-44e8-a526-89d038169a79"
      },
      "source": [
        "c.ndim"
      ],
      "execution_count": null,
      "outputs": [
        {
          "output_type": "execute_result",
          "data": {
            "text/plain": [
              "2"
            ]
          },
          "metadata": {},
          "execution_count": 33
        }
      ]
    },
    {
      "cell_type": "code",
      "metadata": {
        "colab": {
          "base_uri": "https://localhost:8080/"
        },
        "id": "uDFHZZGW4AVR",
        "outputId": "8b0cc4a8-ad90-4f64-feaa-1588fefbe566"
      },
      "source": [
        "d = np.squeeze(c) #1로 되어있는 필요없는 값들은 제거해줌\n",
        "d.shape"
      ],
      "execution_count": null,
      "outputs": [
        {
          "output_type": "execute_result",
          "data": {
            "text/plain": [
              "(6,)"
            ]
          },
          "metadata": {},
          "execution_count": 31
        }
      ]
    },
    {
      "cell_type": "code",
      "metadata": {
        "colab": {
          "base_uri": "https://localhost:8080/"
        },
        "id": "O01X9K2u56yT",
        "outputId": "4c9893a7-709a-45eb-f4c1-adc878baf0ec"
      },
      "source": [
        "d"
      ],
      "execution_count": null,
      "outputs": [
        {
          "output_type": "execute_result",
          "data": {
            "text/plain": [
              "array([1, 2, 3, 4, 5, 6])"
            ]
          },
          "metadata": {},
          "execution_count": 32
        }
      ]
    },
    {
      "cell_type": "code",
      "metadata": {
        "colab": {
          "base_uri": "https://localhost:8080/"
        },
        "id": "2M01z7S_6Cbv",
        "outputId": "df9669a0-245e-4ad1-8497-58f390175e24"
      },
      "source": [
        "d.ndim"
      ],
      "execution_count": null,
      "outputs": [
        {
          "output_type": "execute_result",
          "data": {
            "text/plain": [
              "1"
            ]
          },
          "metadata": {},
          "execution_count": 34
        }
      ]
    },
    {
      "cell_type": "code",
      "metadata": {
        "colab": {
          "base_uri": "https://localhost:8080/"
        },
        "id": "7j464zbQ4Jyg",
        "outputId": "f3e62df2-67c1-43c7-b77a-fb4490687e3a"
      },
      "source": [
        "print(a.shape)\n",
        "d = np.ravel(a)\n",
        "print(d.shape)\n",
        "d"
      ],
      "execution_count": null,
      "outputs": [
        {
          "output_type": "stream",
          "name": "stdout",
          "text": [
            "(2, 3)\n",
            "(6,)\n"
          ]
        },
        {
          "output_type": "execute_result",
          "data": {
            "text/plain": [
              "array([1, 2, 3, 4, 5, 6])"
            ]
          },
          "metadata": {},
          "execution_count": 20
        }
      ]
    },
    {
      "cell_type": "code",
      "metadata": {
        "colab": {
          "base_uri": "https://localhost:8080/"
        },
        "id": "El8Kv-Bk4-CI",
        "outputId": "bae81f5a-8e2c-4666-8a49-997f2445e98d"
      },
      "source": [
        "e = a.reshape((-1)) #알아서 숫자 넣으세요\n",
        "e.shape"
      ],
      "execution_count": null,
      "outputs": [
        {
          "output_type": "execute_result",
          "data": {
            "text/plain": [
              "(6,)"
            ]
          },
          "metadata": {},
          "execution_count": 24
        }
      ]
    },
    {
      "cell_type": "code",
      "metadata": {
        "colab": {
          "base_uri": "https://localhost:8080/"
        },
        "id": "NvRtmu1G5HdH",
        "outputId": "dcebf3d4-c33c-40f5-e220-a1b93baf8807"
      },
      "source": [
        "e.ndim"
      ],
      "execution_count": null,
      "outputs": [
        {
          "output_type": "execute_result",
          "data": {
            "text/plain": [
              "1"
            ]
          },
          "metadata": {},
          "execution_count": 26
        }
      ]
    },
    {
      "cell_type": "code",
      "metadata": {
        "colab": {
          "base_uri": "https://localhost:8080/"
        },
        "id": "jRb0vqFS5Sty",
        "outputId": "2461e0f2-eea7-4a85-ed69-3e17a523a402"
      },
      "source": [
        "e = a.T\n",
        "print(e.shape)\n",
        "e"
      ],
      "execution_count": null,
      "outputs": [
        {
          "output_type": "stream",
          "name": "stdout",
          "text": [
            "(3, 2)\n"
          ]
        },
        {
          "output_type": "execute_result",
          "data": {
            "text/plain": [
              "array([[1, 4],\n",
              "       [2, 5],\n",
              "       [3, 6]])"
            ]
          },
          "metadata": {},
          "execution_count": 27
        }
      ]
    },
    {
      "cell_type": "code",
      "metadata": {
        "colab": {
          "base_uri": "https://localhost:8080/"
        },
        "id": "gH0rgzqD5eyx",
        "outputId": "0d02de0b-16df-43e2-e34a-a8b9a6d6ddcd"
      },
      "source": [
        "f = np.arange(100).reshape(2,-1,2)\n",
        "f.shape"
      ],
      "execution_count": null,
      "outputs": [
        {
          "output_type": "execute_result",
          "data": {
            "text/plain": [
              "(2, 25, 2)"
            ]
          },
          "metadata": {},
          "execution_count": 35
        }
      ]
    },
    {
      "cell_type": "code",
      "metadata": {
        "colab": {
          "base_uri": "https://localhost:8080/"
        },
        "id": "nJtqIFH46WX3",
        "outputId": "71964886-d0e9-432e-e47e-693b19036714"
      },
      "source": [
        "f"
      ],
      "execution_count": null,
      "outputs": [
        {
          "output_type": "execute_result",
          "data": {
            "text/plain": [
              "array([[[ 0,  1],\n",
              "        [ 2,  3],\n",
              "        [ 4,  5],\n",
              "        [ 6,  7],\n",
              "        [ 8,  9],\n",
              "        [10, 11],\n",
              "        [12, 13],\n",
              "        [14, 15],\n",
              "        [16, 17],\n",
              "        [18, 19],\n",
              "        [20, 21],\n",
              "        [22, 23],\n",
              "        [24, 25],\n",
              "        [26, 27],\n",
              "        [28, 29],\n",
              "        [30, 31],\n",
              "        [32, 33],\n",
              "        [34, 35],\n",
              "        [36, 37],\n",
              "        [38, 39],\n",
              "        [40, 41],\n",
              "        [42, 43],\n",
              "        [44, 45],\n",
              "        [46, 47],\n",
              "        [48, 49]],\n",
              "\n",
              "       [[50, 51],\n",
              "        [52, 53],\n",
              "        [54, 55],\n",
              "        [56, 57],\n",
              "        [58, 59],\n",
              "        [60, 61],\n",
              "        [62, 63],\n",
              "        [64, 65],\n",
              "        [66, 67],\n",
              "        [68, 69],\n",
              "        [70, 71],\n",
              "        [72, 73],\n",
              "        [74, 75],\n",
              "        [76, 77],\n",
              "        [78, 79],\n",
              "        [80, 81],\n",
              "        [82, 83],\n",
              "        [84, 85],\n",
              "        [86, 87],\n",
              "        [88, 89],\n",
              "        [90, 91],\n",
              "        [92, 93],\n",
              "        [94, 95],\n",
              "        [96, 97],\n",
              "        [98, 99]]])"
            ]
          },
          "metadata": {},
          "execution_count": 36
        }
      ]
    },
    {
      "cell_type": "code",
      "metadata": {
        "colab": {
          "base_uri": "https://localhost:8080/"
        },
        "id": "hJYJsZMG6ZO3",
        "outputId": "d5c3c55e-45bd-4e35-e8d1-de69f926a93b"
      },
      "source": [
        "f.reshape(-1) #일자로 펴줘"
      ],
      "execution_count": null,
      "outputs": [
        {
          "output_type": "execute_result",
          "data": {
            "text/plain": [
              "array([ 0,  1,  2,  3,  4,  5,  6,  7,  8,  9, 10, 11, 12, 13, 14, 15, 16,\n",
              "       17, 18, 19, 20, 21, 22, 23, 24, 25, 26, 27, 28, 29, 30, 31, 32, 33,\n",
              "       34, 35, 36, 37, 38, 39, 40, 41, 42, 43, 44, 45, 46, 47, 48, 49, 50,\n",
              "       51, 52, 53, 54, 55, 56, 57, 58, 59, 60, 61, 62, 63, 64, 65, 66, 67,\n",
              "       68, 69, 70, 71, 72, 73, 74, 75, 76, 77, 78, 79, 80, 81, 82, 83, 84,\n",
              "       85, 86, 87, 88, 89, 90, 91, 92, 93, 94, 95, 96, 97, 98, 99])"
            ]
          },
          "metadata": {},
          "execution_count": 38
        }
      ]
    },
    {
      "cell_type": "code",
      "metadata": {
        "colab": {
          "base_uri": "https://localhost:8080/"
        },
        "id": "pR4xzJGD6yiY",
        "outputId": "bd4e14b5-900e-42f7-c14a-fd0ca951d0ad"
      },
      "source": [
        "img.shape"
      ],
      "execution_count": null,
      "outputs": [
        {
          "output_type": "execute_result",
          "data": {
            "text/plain": [
              "(512, 512, 3)"
            ]
          },
          "metadata": {},
          "execution_count": 41
        }
      ]
    },
    {
      "cell_type": "code",
      "metadata": {
        "colab": {
          "base_uri": "https://localhost:8080/"
        },
        "id": "FISdXbWd7w3W",
        "outputId": "10e20116-0358-404c-ec92-84ff09f34d7f"
      },
      "source": [
        "img"
      ],
      "execution_count": null,
      "outputs": [
        {
          "output_type": "execute_result",
          "data": {
            "text/plain": [
              "array([[[ 74, 111, 193],\n",
              "        [ 79, 116, 198],\n",
              "        [ 76, 113, 195],\n",
              "        ...,\n",
              "        [ 55,  78, 146],\n",
              "        [ 55,  78, 146],\n",
              "        [ 55,  78, 146]],\n",
              "\n",
              "       [[ 77, 114, 196],\n",
              "        [ 78, 115, 197],\n",
              "        [ 75, 112, 194],\n",
              "        ...,\n",
              "        [ 57,  80, 148],\n",
              "        [ 57,  80, 148],\n",
              "        [ 57,  80, 148]],\n",
              "\n",
              "       [[ 78, 115, 199],\n",
              "        [ 76, 107, 192],\n",
              "        [ 77, 117, 200],\n",
              "        ...,\n",
              "        [ 54,  80, 150],\n",
              "        [ 54,  80, 147],\n",
              "        [ 55,  79, 145]],\n",
              "\n",
              "       ...,\n",
              "\n",
              "       [[ 61,  88, 168],\n",
              "        [ 63,  90, 170],\n",
              "        [ 65,  95, 174],\n",
              "        ...,\n",
              "        [ 37,  39,  69],\n",
              "        [ 36,  38,  69],\n",
              "        [ 38,  40,  71]],\n",
              "\n",
              "       [[ 61,  86, 166],\n",
              "        [ 62,  89, 169],\n",
              "        [ 64,  91, 171],\n",
              "        ...,\n",
              "        [ 36,  38,  68],\n",
              "        [ 36,  38,  68],\n",
              "        [ 39,  41,  71]],\n",
              "\n",
              "       [[ 55,  81, 158],\n",
              "        [ 62,  88, 165],\n",
              "        [ 62,  90, 167],\n",
              "        ...,\n",
              "        [ 36,  39,  67],\n",
              "        [ 39,  41,  71],\n",
              "        [ 44,  46,  76]]], dtype=uint8)"
            ]
          },
          "metadata": {},
          "execution_count": 47
        }
      ]
    },
    {
      "cell_type": "code",
      "metadata": {
        "colab": {
          "base_uri": "https://localhost:8080/"
        },
        "id": "QZPjZcb-68Xb",
        "outputId": "b09b11ff-e055-425e-d887-4dda99b1b68d"
      },
      "source": [
        "print(img.size)\n",
        "d = np.ravel(img) #1차원으로 변경\n",
        "d.shape"
      ],
      "execution_count": null,
      "outputs": [
        {
          "output_type": "stream",
          "name": "stdout",
          "text": [
            "786432\n"
          ]
        },
        {
          "output_type": "execute_result",
          "data": {
            "text/plain": [
              "(786432,)"
            ]
          },
          "metadata": {},
          "execution_count": 45
        }
      ]
    },
    {
      "cell_type": "markdown",
      "metadata": {
        "id": "m3UxiO_b6FNi"
      },
      "source": [
        "## **broad Casting**"
      ]
    },
    {
      "cell_type": "code",
      "metadata": {
        "colab": {
          "base_uri": "https://localhost:8080/"
        },
        "id": "dJloz2q25nzI",
        "outputId": "bd270d18-319c-4298-e0b8-12746a9c045b"
      },
      "source": [
        "a = np.arange(12)\n",
        "a"
      ],
      "execution_count": null,
      "outputs": [
        {
          "output_type": "execute_result",
          "data": {
            "text/plain": [
              "array([ 0,  1,  2,  3,  4,  5,  6,  7,  8,  9, 10, 11])"
            ]
          },
          "metadata": {},
          "execution_count": 48
        }
      ]
    },
    {
      "cell_type": "code",
      "metadata": {
        "colab": {
          "base_uri": "https://localhost:8080/"
        },
        "id": "NN2hFRJ68FfY",
        "outputId": "01d56bb8-fba7-4d91-df06-5b7b4f42f426"
      },
      "source": [
        "b = a.reshape((3,4))\n",
        "b"
      ],
      "execution_count": null,
      "outputs": [
        {
          "output_type": "execute_result",
          "data": {
            "text/plain": [
              "array([[ 0,  1,  2,  3],\n",
              "       [ 4,  5,  6,  7],\n",
              "       [ 8,  9, 10, 11]])"
            ]
          },
          "metadata": {},
          "execution_count": 50
        }
      ]
    },
    {
      "cell_type": "code",
      "metadata": {
        "colab": {
          "base_uri": "https://localhost:8080/"
        },
        "id": "0v95en4r8IWB",
        "outputId": "d582d0fd-801c-4061-861d-4484a4dec509"
      },
      "source": [
        "c = np.zeros_like(b.ravel())\n",
        "for idx, i in enumerate(b.ravel()): #일자로 펴주고\n",
        "  c[idx] = i+1 #각 item에 1을 더해주고\n",
        "c = c.reshape(b.shape) # b.shape로 reshape해줌\n",
        "c"
      ],
      "execution_count": null,
      "outputs": [
        {
          "output_type": "execute_result",
          "data": {
            "text/plain": [
              "array([[ 1,  2,  3,  4],\n",
              "       [ 5,  6,  7,  8],\n",
              "       [ 9, 10, 11, 12]])"
            ]
          },
          "metadata": {},
          "execution_count": 51
        }
      ]
    },
    {
      "cell_type": "code",
      "metadata": {
        "colab": {
          "base_uri": "https://localhost:8080/"
        },
        "id": "tU1NJEv-8X3I",
        "outputId": "c94b5868-da30-4df4-d50b-902cb57d17cc"
      },
      "source": [
        "c = 1 + b #3 by 4배열 형태인데 브로드캐스팅으로 각 item에 1을 더함\n",
        "c"
      ],
      "execution_count": null,
      "outputs": [
        {
          "output_type": "execute_result",
          "data": {
            "text/plain": [
              "array([[ 1,  2,  3,  4],\n",
              "       [ 5,  6,  7,  8],\n",
              "       [ 9, 10, 11, 12]])"
            ]
          },
          "metadata": {},
          "execution_count": 52
        }
      ]
    },
    {
      "cell_type": "code",
      "metadata": {
        "colab": {
          "base_uri": "https://localhost:8080/"
        },
        "id": "b7DK0a3Y8wOp",
        "outputId": "91f05287-aeb5-4ba9-94f8-97b7579b1cf2"
      },
      "source": [
        "d = b - 2\n",
        "d"
      ],
      "execution_count": null,
      "outputs": [
        {
          "output_type": "execute_result",
          "data": {
            "text/plain": [
              "array([[-2, -1,  0,  1],\n",
              "       [ 2,  3,  4,  5],\n",
              "       [ 6,  7,  8,  9]])"
            ]
          },
          "metadata": {},
          "execution_count": 53
        }
      ]
    },
    {
      "cell_type": "code",
      "metadata": {
        "colab": {
          "base_uri": "https://localhost:8080/"
        },
        "id": "c_PMNKux9I9A",
        "outputId": "4114dbbe-7468-4fcd-9c9b-524b71a440fc"
      },
      "source": [
        " e = d*2\n",
        " e"
      ],
      "execution_count": null,
      "outputs": [
        {
          "output_type": "execute_result",
          "data": {
            "text/plain": [
              "array([[-4, -2,  0,  2],\n",
              "       [ 4,  6,  8, 10],\n",
              "       [12, 14, 16, 18]])"
            ]
          },
          "metadata": {},
          "execution_count": 54
        }
      ]
    },
    {
      "cell_type": "code",
      "metadata": {
        "colab": {
          "base_uri": "https://localhost:8080/"
        },
        "id": "AuvNpTHl_DzQ",
        "outputId": "f1a4ef72-f085-4b13-e981-0185b1d8c578"
      },
      "source": [
        "f = b/10\n",
        "f"
      ],
      "execution_count": null,
      "outputs": [
        {
          "output_type": "execute_result",
          "data": {
            "text/plain": [
              "array([[0. , 0.1, 0.2, 0.3],\n",
              "       [0.4, 0.5, 0.6, 0.7],\n",
              "       [0.8, 0.9, 1. , 1.1]])"
            ]
          },
          "metadata": {},
          "execution_count": 55
        }
      ]
    },
    {
      "cell_type": "code",
      "metadata": {
        "colab": {
          "base_uri": "https://localhost:8080/"
        },
        "id": "LPqTHuIc_K7Y",
        "outputId": "e8b263bf-6ab0-4ead-ae6a-a49a52a52a72"
      },
      "source": [
        "g = b**2\n",
        "g"
      ],
      "execution_count": null,
      "outputs": [
        {
          "output_type": "execute_result",
          "data": {
            "text/plain": [
              "array([[  0,   1,   4,   9],\n",
              "       [ 16,  25,  36,  49],\n",
              "       [ 64,  81, 100, 121]])"
            ]
          },
          "metadata": {},
          "execution_count": 56
        }
      ]
    },
    {
      "cell_type": "code",
      "metadata": {
        "colab": {
          "base_uri": "https://localhost:8080/"
        },
        "id": "gpSCmdPM_hdm",
        "outputId": "8b2b621f-46dd-4644-dca0-14edf01dde6e"
      },
      "source": [
        "a = np.ones((2,4,3))\n",
        "a"
      ],
      "execution_count": null,
      "outputs": [
        {
          "output_type": "execute_result",
          "data": {
            "text/plain": [
              "array([[[1., 1., 1.],\n",
              "        [1., 1., 1.],\n",
              "        [1., 1., 1.],\n",
              "        [1., 1., 1.]],\n",
              "\n",
              "       [[1., 1., 1.],\n",
              "        [1., 1., 1.],\n",
              "        [1., 1., 1.],\n",
              "        [1., 1., 1.]]])"
            ]
          },
          "metadata": {},
          "execution_count": 63
        }
      ]
    },
    {
      "cell_type": "code",
      "metadata": {
        "colab": {
          "base_uri": "https://localhost:8080/"
        },
        "id": "dIyffoRT_P2I",
        "outputId": "5fe22462-6dfc-4cf9-c31a-2c2899bded46"
      },
      "source": [
        "b = np.arange(4).reshape(1,4,1) #행과 열에 따라서 다르게 더해주고 싶다. #가운데 인덱스(4)는 맞춰준다. 1; 알아서 펴줘\n",
        "b"
      ],
      "execution_count": null,
      "outputs": [
        {
          "output_type": "execute_result",
          "data": {
            "text/plain": [
              "array([[[0],\n",
              "        [1],\n",
              "        [2],\n",
              "        [3]]])"
            ]
          },
          "metadata": {},
          "execution_count": 64
        }
      ]
    },
    {
      "cell_type": "code",
      "metadata": {
        "colab": {
          "base_uri": "https://localhost:8080/"
        },
        "id": "o6mxksyf_0aK",
        "outputId": "f0b1c34d-6129-481e-cce9-0deb443e9fa4"
      },
      "source": [
        "c = a + b #최소한 한 axis와 길이가 맞아야하고, 나머지는 자동을 뻥튀기\n",
        "c"
      ],
      "execution_count": null,
      "outputs": [
        {
          "output_type": "execute_result",
          "data": {
            "text/plain": [
              "array([[[1., 1., 1.],\n",
              "        [2., 2., 2.],\n",
              "        [3., 3., 3.],\n",
              "        [4., 4., 4.]],\n",
              "\n",
              "       [[1., 1., 1.],\n",
              "        [2., 2., 2.],\n",
              "        [3., 3., 3.],\n",
              "        [4., 4., 4.]]])"
            ]
          },
          "metadata": {},
          "execution_count": 65
        }
      ]
    },
    {
      "cell_type": "code",
      "metadata": {
        "colab": {
          "base_uri": "https://localhost:8080/"
        },
        "id": "CVZ03BBnAvxY",
        "outputId": "f592128c-b1e0-4e15-e21b-95819875ba26"
      },
      "source": [
        "a = np.ones((10,7,6)) \n",
        "b = np.arange(2,8) #2부터 8까지의 array가 만들어지고\n",
        "# b = np.arange(10).reshape(10,1,1) # 첫번째 축에 맞출려면 이렇게\n",
        "print(a.shape) \n",
        "print(b.shape)\n",
        "c = a + b # 10 by 7 by 6으로 뻥튀기가되어서 브로트캐스팅이 이루어진다. \n",
        "c"
      ],
      "execution_count": null,
      "outputs": [
        {
          "output_type": "stream",
          "name": "stdout",
          "text": [
            "(10, 7, 6)\n",
            "(6,)\n"
          ]
        },
        {
          "output_type": "execute_result",
          "data": {
            "text/plain": [
              "array([[[3., 4., 5., 6., 7., 8.],\n",
              "        [3., 4., 5., 6., 7., 8.],\n",
              "        [3., 4., 5., 6., 7., 8.],\n",
              "        [3., 4., 5., 6., 7., 8.],\n",
              "        [3., 4., 5., 6., 7., 8.],\n",
              "        [3., 4., 5., 6., 7., 8.],\n",
              "        [3., 4., 5., 6., 7., 8.]],\n",
              "\n",
              "       [[3., 4., 5., 6., 7., 8.],\n",
              "        [3., 4., 5., 6., 7., 8.],\n",
              "        [3., 4., 5., 6., 7., 8.],\n",
              "        [3., 4., 5., 6., 7., 8.],\n",
              "        [3., 4., 5., 6., 7., 8.],\n",
              "        [3., 4., 5., 6., 7., 8.],\n",
              "        [3., 4., 5., 6., 7., 8.]],\n",
              "\n",
              "       [[3., 4., 5., 6., 7., 8.],\n",
              "        [3., 4., 5., 6., 7., 8.],\n",
              "        [3., 4., 5., 6., 7., 8.],\n",
              "        [3., 4., 5., 6., 7., 8.],\n",
              "        [3., 4., 5., 6., 7., 8.],\n",
              "        [3., 4., 5., 6., 7., 8.],\n",
              "        [3., 4., 5., 6., 7., 8.]],\n",
              "\n",
              "       [[3., 4., 5., 6., 7., 8.],\n",
              "        [3., 4., 5., 6., 7., 8.],\n",
              "        [3., 4., 5., 6., 7., 8.],\n",
              "        [3., 4., 5., 6., 7., 8.],\n",
              "        [3., 4., 5., 6., 7., 8.],\n",
              "        [3., 4., 5., 6., 7., 8.],\n",
              "        [3., 4., 5., 6., 7., 8.]],\n",
              "\n",
              "       [[3., 4., 5., 6., 7., 8.],\n",
              "        [3., 4., 5., 6., 7., 8.],\n",
              "        [3., 4., 5., 6., 7., 8.],\n",
              "        [3., 4., 5., 6., 7., 8.],\n",
              "        [3., 4., 5., 6., 7., 8.],\n",
              "        [3., 4., 5., 6., 7., 8.],\n",
              "        [3., 4., 5., 6., 7., 8.]],\n",
              "\n",
              "       [[3., 4., 5., 6., 7., 8.],\n",
              "        [3., 4., 5., 6., 7., 8.],\n",
              "        [3., 4., 5., 6., 7., 8.],\n",
              "        [3., 4., 5., 6., 7., 8.],\n",
              "        [3., 4., 5., 6., 7., 8.],\n",
              "        [3., 4., 5., 6., 7., 8.],\n",
              "        [3., 4., 5., 6., 7., 8.]],\n",
              "\n",
              "       [[3., 4., 5., 6., 7., 8.],\n",
              "        [3., 4., 5., 6., 7., 8.],\n",
              "        [3., 4., 5., 6., 7., 8.],\n",
              "        [3., 4., 5., 6., 7., 8.],\n",
              "        [3., 4., 5., 6., 7., 8.],\n",
              "        [3., 4., 5., 6., 7., 8.],\n",
              "        [3., 4., 5., 6., 7., 8.]],\n",
              "\n",
              "       [[3., 4., 5., 6., 7., 8.],\n",
              "        [3., 4., 5., 6., 7., 8.],\n",
              "        [3., 4., 5., 6., 7., 8.],\n",
              "        [3., 4., 5., 6., 7., 8.],\n",
              "        [3., 4., 5., 6., 7., 8.],\n",
              "        [3., 4., 5., 6., 7., 8.],\n",
              "        [3., 4., 5., 6., 7., 8.]],\n",
              "\n",
              "       [[3., 4., 5., 6., 7., 8.],\n",
              "        [3., 4., 5., 6., 7., 8.],\n",
              "        [3., 4., 5., 6., 7., 8.],\n",
              "        [3., 4., 5., 6., 7., 8.],\n",
              "        [3., 4., 5., 6., 7., 8.],\n",
              "        [3., 4., 5., 6., 7., 8.],\n",
              "        [3., 4., 5., 6., 7., 8.]],\n",
              "\n",
              "       [[3., 4., 5., 6., 7., 8.],\n",
              "        [3., 4., 5., 6., 7., 8.],\n",
              "        [3., 4., 5., 6., 7., 8.],\n",
              "        [3., 4., 5., 6., 7., 8.],\n",
              "        [3., 4., 5., 6., 7., 8.],\n",
              "        [3., 4., 5., 6., 7., 8.],\n",
              "        [3., 4., 5., 6., 7., 8.]]])"
            ]
          },
          "metadata": {},
          "execution_count": 66
        }
      ]
    },
    {
      "cell_type": "code",
      "metadata": {
        "colab": {
          "base_uri": "https://localhost:8080/"
        },
        "id": "Z2UxIBIeCUrI",
        "outputId": "06f8c834-6834-4121-b9cd-2ebd066276ad"
      },
      "source": [
        "#QUIZ 3x4 (2ch) image가 있다(모든 픽셀은 (0,0)이다.). ch0는 +3, ch1에는 -1\n",
        "\n",
        "a = np.zeros((3,4,2),dtype=np.int64)\n",
        "b = np.array([3,-1])\n",
        "a = a + b\n",
        "a"
      ],
      "execution_count": null,
      "outputs": [
        {
          "output_type": "execute_result",
          "data": {
            "text/plain": [
              "array([[[ 3, -1],\n",
              "        [ 3, -1],\n",
              "        [ 3, -1],\n",
              "        [ 3, -1]],\n",
              "\n",
              "       [[ 3, -1],\n",
              "        [ 3, -1],\n",
              "        [ 3, -1],\n",
              "        [ 3, -1]],\n",
              "\n",
              "       [[ 3, -1],\n",
              "        [ 3, -1],\n",
              "        [ 3, -1],\n",
              "        [ 3, -1]]])"
            ]
          },
          "metadata": {},
          "execution_count": 68
        }
      ]
    },
    {
      "cell_type": "code",
      "metadata": {
        "colab": {
          "base_uri": "https://localhost:8080/"
        },
        "id": "ImKComQ7EdOa",
        "outputId": "8610f9b6-dee0-4bd3-ac1b-2a39065825ac"
      },
      "source": [
        "a = np.arange(24).reshape(3,4,2)\n",
        "a #[0,1] 채널로 묶여있고 이거 한 픽셀의 값임, 4가 너비이고, 3이 높이에 해당한다. "
      ],
      "execution_count": null,
      "outputs": [
        {
          "output_type": "execute_result",
          "data": {
            "text/plain": [
              "array([[[ 0,  1],\n",
              "        [ 2,  3],\n",
              "        [ 4,  5],\n",
              "        [ 6,  7]],\n",
              "\n",
              "       [[ 8,  9],\n",
              "        [10, 11],\n",
              "        [12, 13],\n",
              "        [14, 15]],\n",
              "\n",
              "       [[16, 17],\n",
              "        [18, 19],\n",
              "        [20, 21],\n",
              "        [22, 23]]])"
            ]
          },
          "metadata": {},
          "execution_count": 71
        }
      ]
    },
    {
      "cell_type": "markdown",
      "metadata": {
        "id": "u8BXGW4GE8EG"
      },
      "source": [
        "큰덩어리 3개: 3개의 행\n",
        "\n",
        "그안에 4개의 칼럼이 있고, 2개의 채널로 이루어져있다."
      ]
    },
    {
      "cell_type": "code",
      "metadata": {
        "colab": {
          "base_uri": "https://localhost:8080/"
        },
        "id": "P4BN1jJvETKc",
        "outputId": "0c1fedbb-61c9-4cee-d6fd-e32e9dec9626"
      },
      "source": [
        "img.shape"
      ],
      "execution_count": null,
      "outputs": [
        {
          "output_type": "execute_result",
          "data": {
            "text/plain": [
              "(512, 512, 3)"
            ]
          },
          "metadata": {},
          "execution_count": 70
        }
      ]
    },
    {
      "cell_type": "markdown",
      "metadata": {
        "id": "ieZfeSlBBPDF"
      },
      "source": [
        "## **indexing & slicing**"
      ]
    },
    {
      "cell_type": "code",
      "metadata": {
        "colab": {
          "base_uri": "https://localhost:8080/"
        },
        "id": "fQNwBy-CBNOw",
        "outputId": "938ae88a-9c7e-452f-d4f4-07fcf18efbd6"
      },
      "source": [
        "a = np.arange(10)\n",
        "a"
      ],
      "execution_count": null,
      "outputs": [
        {
          "output_type": "execute_result",
          "data": {
            "text/plain": [
              "array([0, 1, 2, 3, 4, 5, 6, 7, 8, 9])"
            ]
          },
          "metadata": {},
          "execution_count": 73
        }
      ]
    },
    {
      "cell_type": "code",
      "metadata": {
        "colab": {
          "base_uri": "https://localhost:8080/"
        },
        "id": "TtAUYcOqFodf",
        "outputId": "01da1f75-1f12-49c9-9304-3aa1f6d4e0ac"
      },
      "source": [
        "a[0]"
      ],
      "execution_count": null,
      "outputs": [
        {
          "output_type": "execute_result",
          "data": {
            "text/plain": [
              "0"
            ]
          },
          "metadata": {},
          "execution_count": 76
        }
      ]
    },
    {
      "cell_type": "code",
      "metadata": {
        "colab": {
          "base_uri": "https://localhost:8080/"
        },
        "id": "PNZ0dHX5FhAp",
        "outputId": "a7ce33b9-aa71-49d5-b49b-d00c55e99696"
      },
      "source": [
        "a[5]"
      ],
      "execution_count": null,
      "outputs": [
        {
          "output_type": "execute_result",
          "data": {
            "text/plain": [
              "5"
            ]
          },
          "metadata": {},
          "execution_count": 74
        }
      ]
    },
    {
      "cell_type": "code",
      "metadata": {
        "colab": {
          "base_uri": "https://localhost:8080/"
        },
        "id": "W5Tog7I3FjAJ",
        "outputId": "627f5d20-92c3-4773-df0d-c3caa7c883b1"
      },
      "source": [
        "a[3:5]"
      ],
      "execution_count": null,
      "outputs": [
        {
          "output_type": "execute_result",
          "data": {
            "text/plain": [
              "array([3, 4])"
            ]
          },
          "metadata": {},
          "execution_count": 75
        }
      ]
    },
    {
      "cell_type": "code",
      "metadata": {
        "colab": {
          "base_uri": "https://localhost:8080/"
        },
        "id": "EdGjRStxFmoY",
        "outputId": "497133a3-049c-4048-ca16-2e3880c849bc"
      },
      "source": [
        "b = np.arange(12).reshape(3,-1)\n",
        "b"
      ],
      "execution_count": null,
      "outputs": [
        {
          "output_type": "execute_result",
          "data": {
            "text/plain": [
              "array([[ 0,  1,  2,  3],\n",
              "       [ 4,  5,  6,  7],\n",
              "       [ 8,  9, 10, 11]])"
            ]
          },
          "metadata": {},
          "execution_count": 77
        }
      ]
    },
    {
      "cell_type": "code",
      "metadata": {
        "colab": {
          "base_uri": "https://localhost:8080/"
        },
        "id": "ZoDEogEoFu84",
        "outputId": "76aa92de-ec18-4a20-e56b-96bc9ca2bd4c"
      },
      "source": [
        "b[2] #인덱스 2에 해당하는 행이 반환됨> 첫번째 엑시스의 길이"
      ],
      "execution_count": null,
      "outputs": [
        {
          "output_type": "execute_result",
          "data": {
            "text/plain": [
              "array([ 8,  9, 10, 11])"
            ]
          },
          "metadata": {},
          "execution_count": 78
        }
      ]
    },
    {
      "cell_type": "code",
      "metadata": {
        "colab": {
          "base_uri": "https://localhost:8080/"
        },
        "id": "ka0psakvFwxw",
        "outputId": "dd717a3c-4226-4a82-e0a5-f979a0c56f3d"
      },
      "source": [
        "b[2,0] #인덱스 2에 해당하는 행에서 첫번째 숫자 가지고와"
      ],
      "execution_count": null,
      "outputs": [
        {
          "output_type": "execute_result",
          "data": {
            "text/plain": [
              "8"
            ]
          },
          "metadata": {},
          "execution_count": 79
        }
      ]
    },
    {
      "cell_type": "code",
      "metadata": {
        "colab": {
          "base_uri": "https://localhost:8080/"
        },
        "id": "HzUlPfaMFygA",
        "outputId": "b011afa6-4b0d-498d-e50d-739296b1e2de"
      },
      "source": [
        "b[2][0] #위와 같음"
      ],
      "execution_count": null,
      "outputs": [
        {
          "output_type": "execute_result",
          "data": {
            "text/plain": [
              "8"
            ]
          },
          "metadata": {},
          "execution_count": 80
        }
      ]
    },
    {
      "cell_type": "code",
      "metadata": {
        "colab": {
          "base_uri": "https://localhost:8080/"
        },
        "id": "enYHQq4EGhZ4",
        "outputId": "6b32dda9-6fa7-4d5c-ab9f-4dd5b78b60e6"
      },
      "source": [
        "b"
      ],
      "execution_count": null,
      "outputs": [
        {
          "output_type": "execute_result",
          "data": {
            "text/plain": [
              "array([[ 0,  1,  2,  3],\n",
              "       [ 4,  5,  6,  7],\n",
              "       [ 8,  9, 10, 11]])"
            ]
          },
          "metadata": {},
          "execution_count": 82
        }
      ]
    },
    {
      "cell_type": "code",
      "metadata": {
        "colab": {
          "base_uri": "https://localhost:8080/"
        },
        "id": "CBNhFbBlGHNh",
        "outputId": "2d935d5b-8c22-4c18-fdfe-c78dd1fdae82"
      },
      "source": [
        "print(b)\n",
        "b[2][1:3]"
      ],
      "execution_count": null,
      "outputs": [
        {
          "output_type": "stream",
          "name": "stdout",
          "text": [
            "[[ 0  1  2  3]\n",
            " [ 4  5  6  7]\n",
            " [ 8  9 10 11]]\n"
          ]
        },
        {
          "output_type": "execute_result",
          "data": {
            "text/plain": [
              "array([ 9, 10])"
            ]
          },
          "metadata": {},
          "execution_count": 81
        }
      ]
    },
    {
      "cell_type": "code",
      "metadata": {
        "colab": {
          "base_uri": "https://localhost:8080/"
        },
        "id": "lYGI2MD9GcLZ",
        "outputId": "fd12b637-bd89-48c5-af7b-61a8f5c6c532"
      },
      "source": [
        "print(b)\n",
        "b[:,0] #모든 행에서 0번째 원소만 뽑아옴"
      ],
      "execution_count": null,
      "outputs": [
        {
          "output_type": "stream",
          "name": "stdout",
          "text": [
            "[[ 0  1  2  3]\n",
            " [ 4  5  6  7]\n",
            " [ 8  9 10 11]]\n"
          ]
        },
        {
          "output_type": "execute_result",
          "data": {
            "text/plain": [
              "array([0, 4, 8])"
            ]
          },
          "metadata": {},
          "execution_count": 83
        }
      ]
    },
    {
      "cell_type": "markdown",
      "metadata": {
        "id": "0JSSO5MfG5Sj"
      },
      "source": [
        "python과의 slicing차이점"
      ]
    },
    {
      "cell_type": "code",
      "metadata": {
        "colab": {
          "base_uri": "https://localhost:8080/"
        },
        "id": "g_JrNKbsGsjY",
        "outputId": "814fae80-5c3b-41b3-9257-50300580bb6e"
      },
      "source": [
        "a = list(range(10))\n",
        "b = a[3:5]\n",
        "b[0] = 10\n",
        "print(a) #python: 알아서 sub space에서 카피본을 만들어줌\n",
        "print(b)"
      ],
      "execution_count": null,
      "outputs": [
        {
          "output_type": "stream",
          "name": "stdout",
          "text": [
            "[0, 1, 2, 3, 4, 5, 6, 7, 8, 9]\n",
            "[10, 4]\n"
          ]
        }
      ]
    },
    {
      "cell_type": "code",
      "metadata": {
        "colab": {
          "base_uri": "https://localhost:8080/"
        },
        "id": "9B3nEIVrHGjp",
        "outputId": "e20a9783-f7e0-4e06-c47f-353321529785"
      },
      "source": [
        "a = np.arange(10)\n",
        "b = a[3:5] #a가 바뀌는 걸 막고싶다면, b = a[3:5].copy()\n",
        "b[0]=10\n",
        "print(a) #카피본 안만들어줘서 a가 바뀜\n",
        "print(b)"
      ],
      "execution_count": null,
      "outputs": [
        {
          "output_type": "stream",
          "name": "stdout",
          "text": [
            "[ 0  1  2 10  4  5  6  7  8  9]\n",
            "[10  4]\n"
          ]
        }
      ]
    },
    {
      "cell_type": "markdown",
      "metadata": {
        "id": "lTRD-7K-IEtW"
      },
      "source": [
        "## **fancy indexing**\n",
        "ndarray에 square brachket을 통한 indexing대신, 같은 shape의 boolean값을 가진 ndarray를 넣어주면 True인 요소들만 선택됨."
      ]
    },
    {
      "cell_type": "code",
      "metadata": {
        "colab": {
          "base_uri": "https://localhost:8080/"
        },
        "id": "wctkD7aWHeK6",
        "outputId": "73886641-052e-4276-93ee-f2444900b2f6"
      },
      "source": [
        "a = np.array([\n",
        "              [[0,0,255],[0,0,255],[0,0,255],[0,0,255]],\n",
        "              [[0,255,0],[0,255,0],[0,255,0],[0,255,0]],\n",
        "              #[[0,0,255],[0,0,255],[0,0,255],[0,0,255]]\n",
        "              ],dtype=np.uint8)\n",
        "a.shape"
      ],
      "execution_count": null,
      "outputs": [
        {
          "output_type": "execute_result",
          "data": {
            "text/plain": [
              "(2, 4, 3)"
            ]
          },
          "metadata": {},
          "execution_count": 102
        }
      ]
    },
    {
      "cell_type": "code",
      "metadata": {
        "colab": {
          "base_uri": "https://localhost:8080/"
        },
        "id": "IMugd0RII8Vx",
        "outputId": "25917e15-07a1-4d5b-ac39-53b4476663cc"
      },
      "source": [
        "c = (a==255)\n",
        "print(c.dtype)\n",
        "print(a.dtype)\n",
        "c"
      ],
      "execution_count": null,
      "outputs": [
        {
          "output_type": "stream",
          "name": "stdout",
          "text": [
            "bool\n",
            "uint8\n"
          ]
        },
        {
          "output_type": "execute_result",
          "data": {
            "text/plain": [
              "array([[[False, False,  True],\n",
              "        [False, False,  True],\n",
              "        [False, False,  True],\n",
              "        [False, False,  True]],\n",
              "\n",
              "       [[False,  True, False],\n",
              "        [False,  True, False],\n",
              "        [False,  True, False],\n",
              "        [False,  True, False]]])"
            ]
          },
          "metadata": {},
          "execution_count": 103
        }
      ]
    },
    {
      "cell_type": "code",
      "metadata": {
        "colab": {
          "base_uri": "https://localhost:8080/"
        },
        "id": "BiyRW6JUJTeQ",
        "outputId": "5eaba53c-14bb-4118-a6d1-a93cfe0fc032"
      },
      "source": [
        "d = np.zeros_like(a,dtype=np.float16)\n",
        "d[c]=1 #true만 1로 싹싹 바뀜\n",
        "d"
      ],
      "execution_count": null,
      "outputs": [
        {
          "output_type": "execute_result",
          "data": {
            "text/plain": [
              "array([[[0., 0., 1.],\n",
              "        [0., 0., 1.],\n",
              "        [0., 0., 1.],\n",
              "        [0., 0., 1.]],\n",
              "\n",
              "       [[0., 1., 0.],\n",
              "        [0., 1., 0.],\n",
              "        [0., 1., 0.],\n",
              "        [0., 1., 0.]]], dtype=float16)"
            ]
          },
          "metadata": {},
          "execution_count": 104
        }
      ]
    },
    {
      "cell_type": "code",
      "metadata": {
        "colab": {
          "base_uri": "https://localhost:8080/"
        },
        "id": "CCn3HMZlKhHH",
        "outputId": "a3ec2521-48a2-407e-f107-ec8841927e43"
      },
      "source": [
        "d = np.zeros_like(a,dtype=np.float16)\n",
        "a[a==1]=255\n",
        "a #255였던것이 1로 교체!"
      ],
      "execution_count": null,
      "outputs": [
        {
          "output_type": "execute_result",
          "data": {
            "text/plain": [
              "array([[[  0,   0, 255],\n",
              "        [  0,   0, 255],\n",
              "        [  0,   0, 255],\n",
              "        [  0,   0, 255]],\n",
              "\n",
              "       [[  0, 255,   0],\n",
              "        [  0, 255,   0],\n",
              "        [  0, 255,   0],\n",
              "        [  0, 255,   0]]], dtype=uint8)"
            ]
          },
          "metadata": {},
          "execution_count": 95
        }
      ]
    },
    {
      "cell_type": "code",
      "metadata": {
        "colab": {
          "base_uri": "https://localhost:8080/"
        },
        "id": "DhFnmhtSK77w",
        "outputId": "e12b9fcb-d2e8-4a3d-fb82-6346e18801c7"
      },
      "source": [
        "d = np.zeros_like(a,dtype=np.float16)\n",
        "a[a!=255] = 128\n",
        "a"
      ],
      "execution_count": null,
      "outputs": [
        {
          "output_type": "execute_result",
          "data": {
            "text/plain": [
              "array([[[128, 128, 255],\n",
              "        [128, 128, 255],\n",
              "        [128, 128, 255],\n",
              "        [128, 128, 255]],\n",
              "\n",
              "       [[128, 255, 128],\n",
              "        [128, 255, 128],\n",
              "        [128, 255, 128],\n",
              "        [128, 255, 128]]], dtype=uint8)"
            ]
          },
          "metadata": {},
          "execution_count": 96
        }
      ]
    },
    {
      "cell_type": "code",
      "metadata": {
        "colab": {
          "base_uri": "https://localhost:8080/"
        },
        "id": "_D0_P_LoJjH5",
        "outputId": "1050bb2b-6329-4536-ad42-8b0ab65c9797"
      },
      "source": [
        "np.max(a-255*d)"
      ],
      "execution_count": null,
      "outputs": [
        {
          "output_type": "execute_result",
          "data": {
            "text/plain": [
              "0.0"
            ]
          },
          "metadata": {},
          "execution_count": 105
        }
      ]
    },
    {
      "cell_type": "code",
      "metadata": {
        "colab": {
          "base_uri": "https://localhost:8080/"
        },
        "id": "BlUhycwpMNKT",
        "outputId": "423593b7-26a9-4895-89b2-f09fe0c56d8a"
      },
      "source": [
        "a = np.eye(3,4) #주대각행렬을 만들어준다\n",
        "a"
      ],
      "execution_count": null,
      "outputs": [
        {
          "output_type": "execute_result",
          "data": {
            "text/plain": [
              "array([[1., 0., 0., 0.],\n",
              "       [0., 1., 0., 0.],\n",
              "       [0., 0., 1., 0.]])"
            ]
          },
          "metadata": {},
          "execution_count": 106
        }
      ]
    },
    {
      "cell_type": "code",
      "metadata": {
        "colab": {
          "base_uri": "https://localhost:8080/"
        },
        "id": "QHeB1uThMSSo",
        "outputId": "bef3f4aa-da48-4f9f-a273-50b51d50dd87"
      },
      "source": [
        "b = np.array([True,True, False]) #첫번째 행은 참, 두번째 행은 참, 세번째 행은 0\n",
        "print(b.shape)\n",
        "a[b]"
      ],
      "execution_count": null,
      "outputs": [
        {
          "output_type": "stream",
          "name": "stdout",
          "text": [
            "(3,)\n"
          ]
        },
        {
          "output_type": "execute_result",
          "data": {
            "text/plain": [
              "array([[1., 0., 0., 0.],\n",
              "       [0., 1., 0., 0.]])"
            ]
          },
          "metadata": {},
          "execution_count": 108
        }
      ]
    },
    {
      "cell_type": "code",
      "metadata": {
        "colab": {
          "base_uri": "https://localhost:8080/"
        },
        "id": "D6R1i7NwNE1h",
        "outputId": "ef36c59d-ae59-4d89-a4cc-9614f7a8b47d"
      },
      "source": [
        "b = np.array([False, True, False]) #[]:행, [[]]:열\n",
        "print(b.shape)\n",
        "a[b] = [100,100,100,100] #참인 행을 100으로 채워준다.\n",
        "a"
      ],
      "execution_count": null,
      "outputs": [
        {
          "output_type": "stream",
          "name": "stdout",
          "text": [
            "(3,)\n"
          ]
        },
        {
          "output_type": "execute_result",
          "data": {
            "text/plain": [
              "array([[  1.,   0.,   0.,   0.],\n",
              "       [100., 100., 100., 100.],\n",
              "       [  0.,   0.,   1.,   0.]])"
            ]
          },
          "metadata": {},
          "execution_count": 110
        }
      ]
    },
    {
      "cell_type": "code",
      "metadata": {
        "colab": {
          "base_uri": "https://localhost:8080/"
        },
        "id": "UyyRWYKCNh9F",
        "outputId": "ff5010ce-6a22-4fbb-f171-47532b327ae8"
      },
      "source": [
        "a[b]"
      ],
      "execution_count": null,
      "outputs": [
        {
          "output_type": "execute_result",
          "data": {
            "text/plain": [
              "array([[100., 100., 100., 100.]])"
            ]
          },
          "metadata": {},
          "execution_count": 112
        }
      ]
    },
    {
      "cell_type": "code",
      "metadata": {
        "colab": {
          "base_uri": "https://localhost:8080/"
        },
        "id": "C6javHJ0MdwQ",
        "outputId": "1da61e99-645c-490e-e818-b2f7e562358a"
      },
      "source": [
        "a[0]"
      ],
      "execution_count": null,
      "outputs": [
        {
          "output_type": "execute_result",
          "data": {
            "text/plain": [
              "array([1., 0., 0., 0.])"
            ]
          },
          "metadata": {},
          "execution_count": 109
        }
      ]
    },
    {
      "cell_type": "code",
      "metadata": {
        "colab": {
          "base_uri": "https://localhost:8080/"
        },
        "id": "5zz8dCY4M9WY",
        "outputId": "5063cf1e-16f0-4c2e-c1da-4d0b20c39268"
      },
      "source": [
        "a = np.arange(12).reshape(-1,4) # 행이 3이라는거 -1로 자동 계산\n",
        "a[(a>2) & (a<10)] = 100 # []안에있는 조건을 만족하면 싹다 100으로 바뀜\n",
        "a"
      ],
      "execution_count": null,
      "outputs": [
        {
          "output_type": "execute_result",
          "data": {
            "text/plain": [
              "array([[  0,   1,   2, 100],\n",
              "       [100, 100, 100, 100],\n",
              "       [100, 100,  10,  11]])"
            ]
          },
          "metadata": {},
          "execution_count": 113
        }
      ]
    },
    {
      "cell_type": "code",
      "metadata": {
        "colab": {
          "base_uri": "https://localhost:8080/"
        },
        "id": "9NQLM5szN9Jp",
        "outputId": "df027060-aacf-4c22-ab2f-1e15f9d3540a"
      },
      "source": [
        "a = np.arange(12).reshape(-1,4)\n",
        "a[(a<2) | (a>10)] = 100\n",
        "a"
      ],
      "execution_count": null,
      "outputs": [
        {
          "output_type": "execute_result",
          "data": {
            "text/plain": [
              "array([[100, 100,   2,   3],\n",
              "       [  4,   5,   6,   7],\n",
              "       [  8,   9,  10, 100]])"
            ]
          },
          "metadata": {},
          "execution_count": 116
        }
      ]
    },
    {
      "cell_type": "code",
      "metadata": {
        "id": "ZwWaZIIhOgpp"
      },
      "source": [
        ""
      ],
      "execution_count": null,
      "outputs": []
    }
  ]
}
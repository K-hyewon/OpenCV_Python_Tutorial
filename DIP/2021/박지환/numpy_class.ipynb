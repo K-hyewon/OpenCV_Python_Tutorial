{
 "cells": [
  {
   "cell_type": "code",
   "execution_count": 1,
   "source": [
    "import cv2"
   ],
   "outputs": [],
   "metadata": {}
  },
  {
   "cell_type": "code",
   "execution_count": 2,
   "source": [
    "img = cv2.imread('images/lena.png')\n",
    "type(img)"
   ],
   "outputs": [
    {
     "output_type": "execute_result",
     "data": {
      "text/plain": [
       "numpy.ndarray"
      ]
     },
     "metadata": {},
     "execution_count": 2
    }
   ],
   "metadata": {}
  },
  {
   "cell_type": "markdown",
   "source": [
    "- ndim : # of dimension\n",
    "- shappe : tuple로 각 차원의 크기를 보여줌\n",
    "- size : # of elements\n",
    "- dtype : data type of element\n",
    "- itemsize : byte size of element"
   ],
   "metadata": {}
  },
  {
   "cell_type": "code",
   "execution_count": 3,
   "source": [
    "img.ndim"
   ],
   "outputs": [
    {
     "output_type": "execute_result",
     "data": {
      "text/plain": [
       "3"
      ]
     },
     "metadata": {},
     "execution_count": 3
    }
   ],
   "metadata": {}
  },
  {
   "cell_type": "code",
   "execution_count": 4,
   "source": [
    "img.shape"
   ],
   "outputs": [
    {
     "output_type": "execute_result",
     "data": {
      "text/plain": [
       "(512, 512, 3)"
      ]
     },
     "metadata": {},
     "execution_count": 4
    }
   ],
   "metadata": {}
  },
  {
   "cell_type": "code",
   "execution_count": 5,
   "source": [
    "img.size"
   ],
   "outputs": [
    {
     "output_type": "execute_result",
     "data": {
      "text/plain": [
       "786432"
      ]
     },
     "metadata": {},
     "execution_count": 5
    }
   ],
   "metadata": {}
  },
  {
   "cell_type": "code",
   "execution_count": 6,
   "source": [
    "s = 1\n",
    "for c in img.shape:\n",
    "  s *= c\n",
    "\n",
    "print(s)"
   ],
   "outputs": [
    {
     "output_type": "stream",
     "name": "stdout",
     "text": [
      "786432\n"
     ]
    }
   ],
   "metadata": {}
  },
  {
   "cell_type": "code",
   "execution_count": 7,
   "source": [
    "img.dtype"
   ],
   "outputs": [
    {
     "output_type": "execute_result",
     "data": {
      "text/plain": [
       "dtype('uint8')"
      ]
     },
     "metadata": {},
     "execution_count": 7
    }
   ],
   "metadata": {}
  },
  {
   "cell_type": "code",
   "execution_count": 8,
   "source": [
    "img.itemsize"
   ],
   "outputs": [
    {
     "output_type": "execute_result",
     "data": {
      "text/plain": [
       "1"
      ]
     },
     "metadata": {},
     "execution_count": 8
    }
   ],
   "metadata": {}
  },
  {
   "cell_type": "code",
   "execution_count": 9,
   "source": [
    "print(f'img.itemsize:{img.itemsize}bytes')"
   ],
   "outputs": [
    {
     "output_type": "stream",
     "name": "stdout",
     "text": [
      "img.itemsize:1bytes\n"
     ]
    }
   ],
   "metadata": {}
  },
  {
   "cell_type": "code",
   "execution_count": 10,
   "source": [
    "import numpy as np\n",
    "np.__version__"
   ],
   "outputs": [
    {
     "output_type": "execute_result",
     "data": {
      "text/plain": [
       "'1.21.2'"
      ]
     },
     "metadata": {},
     "execution_count": 10
    }
   ],
   "metadata": {}
  },
  {
   "cell_type": "code",
   "execution_count": 11,
   "source": [
    "a = np.array([1,2,3,4])\n",
    "print(type(a))\n",
    "a"
   ],
   "outputs": [
    {
     "output_type": "stream",
     "name": "stdout",
     "text": [
      "<class 'numpy.ndarray'>\n"
     ]
    },
    {
     "output_type": "execute_result",
     "data": {
      "text/plain": [
       "array([1, 2, 3, 4])"
      ]
     },
     "metadata": {},
     "execution_count": 11
    }
   ],
   "metadata": {}
  },
  {
   "cell_type": "code",
   "execution_count": 12,
   "source": [
    "a.dtype"
   ],
   "outputs": [
    {
     "output_type": "execute_result",
     "data": {
      "text/plain": [
       "dtype('int64')"
      ]
     },
     "metadata": {},
     "execution_count": 12
    }
   ],
   "metadata": {}
  },
  {
   "cell_type": "markdown",
   "source": [
    "기본적으로 `integer`를 위해선 dtype을 `int64`를 사용(버전에 따라 `int32`도 있음)"
   ],
   "metadata": {}
  },
  {
   "cell_type": "code",
   "execution_count": 13,
   "source": [
    "a = np.array([1.0,2.0,3.0,4.0])\n",
    "print(type(a))\n",
    "a"
   ],
   "outputs": [
    {
     "output_type": "stream",
     "name": "stdout",
     "text": [
      "<class 'numpy.ndarray'>\n"
     ]
    },
    {
     "output_type": "execute_result",
     "data": {
      "text/plain": [
       "array([1., 2., 3., 4.])"
      ]
     },
     "metadata": {},
     "execution_count": 13
    }
   ],
   "metadata": {}
  },
  {
   "cell_type": "code",
   "execution_count": 14,
   "source": [
    "a.dtype"
   ],
   "outputs": [
    {
     "output_type": "execute_result",
     "data": {
      "text/plain": [
       "dtype('float64')"
      ]
     },
     "metadata": {},
     "execution_count": 14
    }
   ],
   "metadata": {}
  },
  {
   "cell_type": "code",
   "execution_count": 15,
   "source": [
    "a = np.array([1,2,3,4], dtype=np.float16)\n",
    "print(type(a))\n",
    "a"
   ],
   "outputs": [
    {
     "output_type": "stream",
     "name": "stdout",
     "text": [
      "<class 'numpy.ndarray'>\n"
     ]
    },
    {
     "output_type": "execute_result",
     "data": {
      "text/plain": [
       "array([1., 2., 3., 4.], dtype=float16)"
      ]
     },
     "metadata": {},
     "execution_count": 15
    }
   ],
   "metadata": {}
  },
  {
   "cell_type": "markdown",
   "source": [
    "`dtype`를 지정할 때, `np.~~` 형태로 기재할 것"
   ],
   "metadata": {}
  },
  {
   "cell_type": "code",
   "execution_count": 16,
   "source": [
    "a.dtype"
   ],
   "outputs": [
    {
     "output_type": "execute_result",
     "data": {
      "text/plain": [
       "dtype('float16')"
      ]
     },
     "metadata": {},
     "execution_count": 16
    }
   ],
   "metadata": {}
  },
  {
   "cell_type": "code",
   "execution_count": 17,
   "source": [
    "a.shape"
   ],
   "outputs": [
    {
     "output_type": "execute_result",
     "data": {
      "text/plain": [
       "(4,)"
      ]
     },
     "metadata": {},
     "execution_count": 17
    }
   ],
   "metadata": {}
  },
  {
   "cell_type": "markdown",
   "source": [
    "axis = 0 : 2개의 list  \n",
    "axis = 1 : 4개의 숫자로"
   ],
   "metadata": {}
  },
  {
   "cell_type": "code",
   "execution_count": 18,
   "source": [
    "b = np.array([ [1,2,3,4],[5,6,7,8] ])\n",
    "b"
   ],
   "outputs": [
    {
     "output_type": "execute_result",
     "data": {
      "text/plain": [
       "array([[1, 2, 3, 4],\n",
       "       [5, 6, 7, 8]])"
      ]
     },
     "metadata": {},
     "execution_count": 18
    }
   ],
   "metadata": {}
  },
  {
   "cell_type": "code",
   "execution_count": 19,
   "source": [
    "b.shape"
   ],
   "outputs": [
    {
     "output_type": "execute_result",
     "data": {
      "text/plain": [
       "(2, 4)"
      ]
     },
     "metadata": {},
     "execution_count": 19
    }
   ],
   "metadata": {}
  },
  {
   "cell_type": "code",
   "execution_count": 20,
   "source": [
    "b.dtype"
   ],
   "outputs": [
    {
     "output_type": "execute_result",
     "data": {
      "text/plain": [
       "dtype('int64')"
      ]
     },
     "metadata": {},
     "execution_count": 20
    }
   ],
   "metadata": {}
  },
  {
   "cell_type": "code",
   "execution_count": 21,
   "source": [
    "c = np.array([ [1, 2, 3.85, 4],[5,6,7,8] ])\n",
    "c"
   ],
   "outputs": [
    {
     "output_type": "execute_result",
     "data": {
      "text/plain": [
       "array([[1.  , 2.  , 3.85, 4.  ],\n",
       "       [5.  , 6.  , 7.  , 8.  ]])"
      ]
     },
     "metadata": {},
     "execution_count": 21
    }
   ],
   "metadata": {}
  },
  {
   "cell_type": "code",
   "execution_count": 22,
   "source": [
    "c.dtype"
   ],
   "outputs": [
    {
     "output_type": "execute_result",
     "data": {
      "text/plain": [
       "dtype('float64')"
      ]
     },
     "metadata": {},
     "execution_count": 22
    }
   ],
   "metadata": {}
  },
  {
   "cell_type": "code",
   "execution_count": 23,
   "source": [
    "d = np.uint8(c)\n",
    "d"
   ],
   "outputs": [
    {
     "output_type": "execute_result",
     "data": {
      "text/plain": [
       "array([[1, 2, 3, 4],\n",
       "       [5, 6, 7, 8]], dtype=uint8)"
      ]
     },
     "metadata": {},
     "execution_count": 23
    }
   ],
   "metadata": {}
  },
  {
   "cell_type": "markdown",
   "source": [
    "`3.85` 도 np.uint8로 변경시 `3`이 됨 (반올림이 아니라 버림이다)"
   ],
   "metadata": {}
  },
  {
   "cell_type": "code",
   "execution_count": 24,
   "source": [
    "d.dtype"
   ],
   "outputs": [
    {
     "output_type": "execute_result",
     "data": {
      "text/plain": [
       "dtype('uint8')"
      ]
     },
     "metadata": {},
     "execution_count": 24
    }
   ],
   "metadata": {}
  },
  {
   "cell_type": "code",
   "execution_count": 25,
   "source": [
    "a = np.array([300,0,10])\n",
    "print(a)\n",
    "b = np.uint8(a)\n",
    "print(b)"
   ],
   "outputs": [
    {
     "output_type": "stream",
     "name": "stdout",
     "text": [
      "[300   0  10]\n",
      "[44  0 10]\n"
     ]
    }
   ],
   "metadata": {}
  },
  {
   "cell_type": "markdown",
   "source": [
    "### 단일값으로 초기화하여 생성.\n",
    "`numpy.empty(shape [,dtype])` : 초기값을 지정하지 않고 특정 크기의 ndarray 생성.  \n",
    "- shape : tuple로서 생성될 ndarray의 shape를 지정.\n",
    "- 각 element들이 가지는 값은 random한 garbage value 임  \n",
    "\n",
    "`numpy.zeros(shape [,dtype])` : 0으로 초기화한 ndarray  \n",
    "`numpy.ones(shape [,dtype])` : 1으로 초기화한 ndarry  \n",
    "`numpy.full(shape, fill_value [,dtype])` : `fill_value`로 초기화한 ndarray"
   ],
   "metadata": {}
  },
  {
   "cell_type": "code",
   "execution_count": 26,
   "source": [
    "a = np.empty([3,4])\n",
    "a"
   ],
   "outputs": [
    {
     "output_type": "execute_result",
     "data": {
      "text/plain": [
       "array([[6.95331892e-310, 0.00000000e+000, 1.01855798e-312,\n",
       "        9.54898106e-313],\n",
       "       [1.12465777e-312, 1.03977794e-312, 1.23075756e-312,\n",
       "        1.08221785e-312],\n",
       "       [1.01855798e-312, 9.76118064e-313, 1.06099790e-312,\n",
       "        1.90979621e-312]])"
      ]
     },
     "metadata": {},
     "execution_count": 26
    }
   ],
   "metadata": {}
  },
  {
   "cell_type": "code",
   "execution_count": 27,
   "source": [
    "a.dtype"
   ],
   "outputs": [
    {
     "output_type": "execute_result",
     "data": {
      "text/plain": [
       "dtype('float64')"
      ]
     },
     "metadata": {},
     "execution_count": 27
    }
   ],
   "metadata": {}
  },
  {
   "cell_type": "code",
   "execution_count": 28,
   "source": [
    "a.fill(3)\n",
    "a"
   ],
   "outputs": [
    {
     "output_type": "execute_result",
     "data": {
      "text/plain": [
       "array([[3., 3., 3., 3.],\n",
       "       [3., 3., 3., 3.],\n",
       "       [3., 3., 3., 3.]])"
      ]
     },
     "metadata": {},
     "execution_count": 28
    }
   ],
   "metadata": {}
  },
  {
   "cell_type": "code",
   "execution_count": 29,
   "source": [
    "a.dtype"
   ],
   "outputs": [
    {
     "output_type": "execute_result",
     "data": {
      "text/plain": [
       "dtype('float64')"
      ]
     },
     "metadata": {},
     "execution_count": 29
    }
   ],
   "metadata": {}
  },
  {
   "cell_type": "code",
   "execution_count": 30,
   "source": [
    "b = np.zeros([3,4])\n",
    "b"
   ],
   "outputs": [
    {
     "output_type": "execute_result",
     "data": {
      "text/plain": [
       "array([[0., 0., 0., 0.],\n",
       "       [0., 0., 0., 0.],\n",
       "       [0., 0., 0., 0.]])"
      ]
     },
     "metadata": {},
     "execution_count": 30
    }
   ],
   "metadata": {}
  },
  {
   "cell_type": "code",
   "execution_count": 31,
   "source": [
    "b.dtype"
   ],
   "outputs": [
    {
     "output_type": "execute_result",
     "data": {
      "text/plain": [
       "dtype('float64')"
      ]
     },
     "metadata": {},
     "execution_count": 31
    }
   ],
   "metadata": {}
  },
  {
   "cell_type": "code",
   "execution_count": 32,
   "source": [
    "c = np.ones([3,4])\n",
    "c"
   ],
   "outputs": [
    {
     "output_type": "execute_result",
     "data": {
      "text/plain": [
       "array([[1., 1., 1., 1.],\n",
       "       [1., 1., 1., 1.],\n",
       "       [1., 1., 1., 1.]])"
      ]
     },
     "metadata": {},
     "execution_count": 32
    }
   ],
   "metadata": {}
  },
  {
   "cell_type": "code",
   "execution_count": 33,
   "source": [
    "c.dtype"
   ],
   "outputs": [
    {
     "output_type": "execute_result",
     "data": {
      "text/plain": [
       "dtype('float64')"
      ]
     },
     "metadata": {},
     "execution_count": 33
    }
   ],
   "metadata": {}
  },
  {
   "cell_type": "markdown",
   "source": [
    "2by2 1로 채우고 uint8"
   ],
   "metadata": {}
  },
  {
   "cell_type": "code",
   "execution_count": 34,
   "source": [
    "a = np.ones([2,2], dtype=np.uint8)\n",
    "a"
   ],
   "outputs": [
    {
     "output_type": "execute_result",
     "data": {
      "text/plain": [
       "array([[1, 1],\n",
       "       [1, 1]], dtype=uint8)"
      ]
     },
     "metadata": {},
     "execution_count": 34
    }
   ],
   "metadata": {}
  },
  {
   "cell_type": "code",
   "execution_count": 35,
   "source": [
    "a.dtype"
   ],
   "outputs": [
    {
     "output_type": "execute_result",
     "data": {
      "text/plain": [
       "dtype('uint8')"
      ]
     },
     "metadata": {},
     "execution_count": 35
    }
   ],
   "metadata": {
    "scrolled": true
   }
  },
  {
   "cell_type": "code",
   "execution_count": 36,
   "source": [
    "d = np.full([3,4], 8)\n",
    "d"
   ],
   "outputs": [
    {
     "output_type": "execute_result",
     "data": {
      "text/plain": [
       "array([[8, 8, 8, 8],\n",
       "       [8, 8, 8, 8],\n",
       "       [8, 8, 8, 8]])"
      ]
     },
     "metadata": {},
     "execution_count": 36
    }
   ],
   "metadata": {}
  },
  {
   "cell_type": "code",
   "execution_count": 37,
   "source": [
    "d.dtype"
   ],
   "outputs": [
    {
     "output_type": "execute_result",
     "data": {
      "text/plain": [
       "dtype('int64')"
      ]
     },
     "metadata": {},
     "execution_count": 37
    }
   ],
   "metadata": {}
  },
  {
   "cell_type": "code",
   "execution_count": 38,
   "source": [
    "img.shape"
   ],
   "outputs": [
    {
     "output_type": "execute_result",
     "data": {
      "text/plain": [
       "(512, 512, 3)"
      ]
     },
     "metadata": {},
     "execution_count": 38
    }
   ],
   "metadata": {}
  },
  {
   "cell_type": "code",
   "execution_count": 39,
   "source": [
    "a = np.ones(img.shape)\n",
    "a.shape"
   ],
   "outputs": [
    {
     "output_type": "execute_result",
     "data": {
      "text/plain": [
       "(512, 512, 3)"
      ]
     },
     "metadata": {},
     "execution_count": 39
    }
   ],
   "metadata": {}
  },
  {
   "cell_type": "markdown",
   "source": [
    "### 단일값이면서 기존의 ndarray와 같은 shape의 ndarray 생성 (dtype지정해주지 않으면 기존의 array와 동일)\n",
    "`empty_like(array, [dtype])`  \n",
    "`ones_like(array, [dtype])`  \n",
    "`zeros_like(array, [dtype])`  \n",
    "`full_like(array, fill_value, [dtype])`"
   ],
   "metadata": {}
  },
  {
   "cell_type": "code",
   "execution_count": 40,
   "source": [
    "a = np.empty_like(img)\n",
    "a.shape"
   ],
   "outputs": [
    {
     "output_type": "execute_result",
     "data": {
      "text/plain": [
       "(512, 512, 3)"
      ]
     },
     "metadata": {},
     "execution_count": 40
    }
   ],
   "metadata": {}
  },
  {
   "cell_type": "code",
   "execution_count": 41,
   "source": [
    "a = np.ones_like(img)\n",
    "a.shape"
   ],
   "outputs": [
    {
     "output_type": "execute_result",
     "data": {
      "text/plain": [
       "(512, 512, 3)"
      ]
     },
     "metadata": {},
     "execution_count": 41
    }
   ],
   "metadata": {}
  },
  {
   "cell_type": "markdown",
   "source": [
    "### Sequence 생성\n",
    "python의 `range`와 같이 `numpy.arange`가 있음  \n",
    "차이점은 반환값이 ndarray라는 점  \n",
    "`numpy.arange([start=0,] stop [, step=1, dtype=float64])`"
   ],
   "metadata": {}
  },
  {
   "cell_type": "code",
   "execution_count": 42,
   "source": [
    "a = np.arange(10)\n",
    "b = range(10)\n",
    "print(type(a))\n",
    "print(type(b)) # generator"
   ],
   "outputs": [
    {
     "output_type": "stream",
     "name": "stdout",
     "text": [
      "<class 'numpy.ndarray'>\n",
      "<class 'range'>\n"
     ]
    }
   ],
   "metadata": {}
  },
  {
   "cell_type": "code",
   "execution_count": 43,
   "source": [
    "a = np.array(range(3,10,2))\n",
    "b = np.arange(3,10,2)\n",
    "\n",
    "print(a)\n",
    "print(b)\n",
    "print(type(a))\n",
    "print(type(b))"
   ],
   "outputs": [
    {
     "output_type": "stream",
     "name": "stdout",
     "text": [
      "[3 5 7 9]\n",
      "[3 5 7 9]\n",
      "<class 'numpy.ndarray'>\n",
      "<class 'numpy.ndarray'>\n"
     ]
    }
   ],
   "metadata": {}
  },
  {
   "cell_type": "markdown",
   "source": [
    "### 난수로 ndarray생성\n",
    "`numpy.random.rand([d0 [,d1 [..., dn]]])`: 0~1사이의 난수를 요소값들로 가지는 배열 혹은 수 반환  \n",
    "- 난수 배열의 shape의 각 크기를 인자로 넣어줌.\n",
    "- 아무것도 넣어주지 않으면 수 하나 나옴  \n",
    "\n",
    "`numpy.random.randn([d0 [,d1 [..., dn]]])`: mean=0, std=1인 normal distribution을 따르는 난수를 요소로 가지는 배열 혹은 수 반환  \n",
    "- 난수 배열의 shape의 각 크기를 인자로 넣어줌.\n",
    "- 아무것도 넣어주지 않으면 수 하나 나옴."
   ],
   "metadata": {}
  },
  {
   "cell_type": "code",
   "execution_count": 44,
   "source": [
    "a = np.random.rand()\n",
    "print()"
   ],
   "outputs": [
    {
     "output_type": "stream",
     "name": "stdout",
     "text": [
      "\n"
     ]
    }
   ],
   "metadata": {}
  },
  {
   "cell_type": "markdown",
   "source": [
    "-1 ~ 1 의 random 값"
   ],
   "metadata": {}
  },
  {
   "cell_type": "code",
   "execution_count": 45,
   "source": [
    "def get_rv(*d):\n",
    "    return (np.random.rand(*d))*2 - 1"
   ],
   "outputs": [],
   "metadata": {}
  },
  {
   "cell_type": "code",
   "execution_count": 46,
   "source": [
    "get_rv(3,4)"
   ],
   "outputs": [
    {
     "output_type": "execute_result",
     "data": {
      "text/plain": [
       "array([[-0.37005588, -0.22820564,  0.41189563,  0.74247295],\n",
       "       [-0.00728737, -0.67526842,  0.16131512, -0.631405  ],\n",
       "       [ 0.4384319 ,  0.59282924, -0.5166448 ,  0.11570992]])"
      ]
     },
     "metadata": {},
     "execution_count": 46
    }
   ],
   "metadata": {}
  },
  {
   "cell_type": "code",
   "execution_count": 47,
   "source": [
    "a = np.random.randn(3000,4000)\n",
    "np.mean(a)"
   ],
   "outputs": [
    {
     "output_type": "execute_result",
     "data": {
      "text/plain": [
       "0.00035506963084453504"
      ]
     },
     "metadata": {},
     "execution_count": 47
    }
   ],
   "metadata": {}
  },
  {
   "cell_type": "code",
   "execution_count": 48,
   "source": [
    "np.std(a)"
   ],
   "outputs": [
    {
     "output_type": "execute_result",
     "data": {
      "text/plain": [
       "0.9999144334648689"
      ]
     },
     "metadata": {},
     "execution_count": 48
    }
   ],
   "metadata": {}
  },
  {
   "cell_type": "markdown",
   "source": [
    "평균이 5이고, 분산이 3인 gaussian 분포를 따르는 노이즈를 3by3"
   ],
   "metadata": {}
  },
  {
   "cell_type": "code",
   "execution_count": 49,
   "source": [
    "3*np.random.randn(3,3) + 5"
   ],
   "outputs": [
    {
     "output_type": "execute_result",
     "data": {
      "text/plain": [
       "array([[ 5.90782081,  7.57805546,  7.89208535],\n",
       "       [ 3.95943661, 12.96258166, -2.29610957],\n",
       "       [ 3.2018393 ,  2.85025134,  0.26640696]])"
      ]
     },
     "metadata": {},
     "execution_count": 49
    }
   ],
   "metadata": {}
  },
  {
   "cell_type": "code",
   "execution_count": 50,
   "source": [
    "a = 3*np.random.randn(3000,3000) + 5"
   ],
   "outputs": [],
   "metadata": {}
  },
  {
   "cell_type": "code",
   "execution_count": 51,
   "source": [
    "np.mean(a)"
   ],
   "outputs": [
    {
     "output_type": "execute_result",
     "data": {
      "text/plain": [
       "5.0002647678764705"
      ]
     },
     "metadata": {},
     "execution_count": 51
    }
   ],
   "metadata": {}
  },
  {
   "cell_type": "code",
   "execution_count": 52,
   "source": [
    "np.std(a)"
   ],
   "outputs": [
    {
     "output_type": "execute_result",
     "data": {
      "text/plain": [
       "2.9997851251284744"
      ]
     },
     "metadata": {},
     "execution_count": 52
    }
   ],
   "metadata": {}
  },
  {
   "cell_type": "markdown",
   "source": [
    "### Casting (or Type Conversion)\n",
    "`ndarray.astype(dtype)`  \n",
    "- `dtype`으로 `ndarray`의 dtype을 변경한 새로운 ndarray 반환.  \n",
    "\n",
    "`numpy.uintXX(array)` : unsigned int로 변경  \n",
    "- `XX`는 8, 16, 32, 64  \n",
    "\n",
    "등등.."
   ],
   "metadata": {}
  },
  {
   "cell_type": "code",
   "execution_count": 53,
   "source": [
    "a = np.arange(3,13)\n",
    "print(a.shape)\n",
    "print(a.dtype)\n",
    "a"
   ],
   "outputs": [
    {
     "output_type": "stream",
     "name": "stdout",
     "text": [
      "(10,)\n",
      "int64\n"
     ]
    },
    {
     "output_type": "execute_result",
     "data": {
      "text/plain": [
       "array([ 3,  4,  5,  6,  7,  8,  9, 10, 11, 12])"
      ]
     },
     "metadata": {},
     "execution_count": 53
    }
   ],
   "metadata": {}
  },
  {
   "cell_type": "code",
   "execution_count": 54,
   "source": [
    "a.astype(np.uint8)"
   ],
   "outputs": [
    {
     "output_type": "execute_result",
     "data": {
      "text/plain": [
       "array([ 3,  4,  5,  6,  7,  8,  9, 10, 11, 12], dtype=uint8)"
      ]
     },
     "metadata": {},
     "execution_count": 54
    }
   ],
   "metadata": {}
  },
  {
   "cell_type": "code",
   "execution_count": 55,
   "source": [
    "a.dtype"
   ],
   "outputs": [
    {
     "output_type": "execute_result",
     "data": {
      "text/plain": [
       "dtype('int64')"
      ]
     },
     "metadata": {},
     "execution_count": 55
    }
   ],
   "metadata": {}
  },
  {
   "cell_type": "code",
   "execution_count": 56,
   "source": [
    "a = np.ones((3,4),dtype=np.uint8)\n",
    "b = a.astype(np.uint16)\n",
    "print(a is b)\n",
    "print(a == b)"
   ],
   "outputs": [
    {
     "output_type": "stream",
     "name": "stdout",
     "text": [
      "False\n",
      "[[ True  True  True  True]\n",
      " [ True  True  True  True]\n",
      " [ True  True  True  True]]\n"
     ]
    }
   ],
   "metadata": {}
  },
  {
   "cell_type": "code",
   "execution_count": 57,
   "source": [
    "np.uint16(a)"
   ],
   "outputs": [
    {
     "output_type": "execute_result",
     "data": {
      "text/plain": [
       "array([[1, 1, 1, 1],\n",
       "       [1, 1, 1, 1],\n",
       "       [1, 1, 1, 1]], dtype=uint16)"
      ]
     },
     "metadata": {},
     "execution_count": 57
    }
   ],
   "metadata": {}
  },
  {
   "cell_type": "code",
   "execution_count": 58,
   "source": [
    "a.dtype"
   ],
   "outputs": [
    {
     "output_type": "execute_result",
     "data": {
      "text/plain": [
       "dtype('uint8')"
      ]
     },
     "metadata": {},
     "execution_count": 58
    }
   ],
   "metadata": {}
  },
  {
   "cell_type": "markdown",
   "source": [
    "### Shape 바꾸기\n",
    "`ndarray.reshape(new_shape)` : `ndarray` 값을 기준으로 shape가 `new_shape`인 ndarray 반환  \n",
    "\n",
    "`numpy.reshape(ndarray, new_shape)` : `ndarray` 값을 기준으로 shape가 `new_shape`인 ndarray 반환  \n",
    "\n",
    "`numpy.ravel(ndarray)` : 1차원으로 변경  \n",
    "\n",
    "`ndarray.T` : Transpose"
   ],
   "metadata": {}
  },
  {
   "cell_type": "code",
   "execution_count": 59,
   "source": [
    "a = np.array([[1,2,3],[4,5,6]])\n",
    "print(f'original:{a.shape}')\n",
    "b = a.reshape((3,2))\n",
    "print(f'shape of a:{a.shape}')\n",
    "print(f'shape of b:{b.shape}')\n",
    "b\n",
    "print(id(a))\n",
    "print(id(b))"
   ],
   "outputs": [
    {
     "output_type": "stream",
     "name": "stdout",
     "text": [
      "original:(2, 3)\n",
      "shape of a:(2, 3)\n",
      "shape of b:(3, 2)\n",
      "140177915363760\n",
      "140177915288624\n"
     ]
    }
   ],
   "metadata": {}
  },
  {
   "cell_type": "code",
   "execution_count": 60,
   "source": [
    "c = np.reshape(a, (6,1))\n",
    "c"
   ],
   "outputs": [
    {
     "output_type": "execute_result",
     "data": {
      "text/plain": [
       "array([[1],\n",
       "       [2],\n",
       "       [3],\n",
       "       [4],\n",
       "       [5],\n",
       "       [6]])"
      ]
     },
     "metadata": {},
     "execution_count": 60
    }
   ],
   "metadata": {}
  },
  {
   "cell_type": "code",
   "execution_count": 61,
   "source": [
    "d = np.squeeze(c)\n",
    "print(d.shape)\n",
    "d"
   ],
   "outputs": [
    {
     "output_type": "stream",
     "name": "stdout",
     "text": [
      "(6,)\n"
     ]
    },
    {
     "output_type": "execute_result",
     "data": {
      "text/plain": [
       "array([1, 2, 3, 4, 5, 6])"
      ]
     },
     "metadata": {},
     "execution_count": 61
    }
   ],
   "metadata": {}
  },
  {
   "cell_type": "code",
   "execution_count": 62,
   "source": [
    "print(a.shape)\n",
    "e = np.ravel(a)\n",
    "print(e.shape)\n",
    "e"
   ],
   "outputs": [
    {
     "output_type": "stream",
     "name": "stdout",
     "text": [
      "(2, 3)\n",
      "(6,)\n"
     ]
    },
    {
     "output_type": "execute_result",
     "data": {
      "text/plain": [
       "array([1, 2, 3, 4, 5, 6])"
      ]
     },
     "metadata": {},
     "execution_count": 62
    }
   ],
   "metadata": {}
  },
  {
   "cell_type": "code",
   "execution_count": 63,
   "source": [
    "e.ndim"
   ],
   "outputs": [
    {
     "output_type": "execute_result",
     "data": {
      "text/plain": [
       "1"
      ]
     },
     "metadata": {},
     "execution_count": 63
    }
   ],
   "metadata": {}
  },
  {
   "cell_type": "code",
   "execution_count": 64,
   "source": [
    "a.ndim"
   ],
   "outputs": [
    {
     "output_type": "execute_result",
     "data": {
      "text/plain": [
       "2"
      ]
     },
     "metadata": {},
     "execution_count": 64
    }
   ],
   "metadata": {}
  },
  {
   "cell_type": "code",
   "execution_count": 65,
   "source": [
    "f = a.T\n",
    "print(f.shape)\n",
    "f"
   ],
   "outputs": [
    {
     "output_type": "stream",
     "name": "stdout",
     "text": [
      "(3, 2)\n"
     ]
    },
    {
     "output_type": "execute_result",
     "data": {
      "text/plain": [
       "array([[1, 4],\n",
       "       [2, 5],\n",
       "       [3, 6]])"
      ]
     },
     "metadata": {},
     "execution_count": 65
    }
   ],
   "metadata": {}
  },
  {
   "cell_type": "code",
   "execution_count": 66,
   "source": [
    "g = np.arange(100).reshape(2, -1, 2)\n",
    "g.shape"
   ],
   "outputs": [
    {
     "output_type": "execute_result",
     "data": {
      "text/plain": [
       "(2, 25, 2)"
      ]
     },
     "metadata": {},
     "execution_count": 66
    }
   ],
   "metadata": {}
  },
  {
   "cell_type": "code",
   "execution_count": 67,
   "source": [
    "img.shape"
   ],
   "outputs": [
    {
     "output_type": "execute_result",
     "data": {
      "text/plain": [
       "(512, 512, 3)"
      ]
     },
     "metadata": {},
     "execution_count": 67
    }
   ],
   "metadata": {}
  },
  {
   "cell_type": "code",
   "execution_count": 68,
   "source": [
    "print(img.shape)\n",
    "print(img.size)\n",
    "d = np.ravel(img)\n",
    "d.shape"
   ],
   "outputs": [
    {
     "output_type": "stream",
     "name": "stdout",
     "text": [
      "(512, 512, 3)\n",
      "786432\n"
     ]
    },
    {
     "output_type": "execute_result",
     "data": {
      "text/plain": [
       "(786432,)"
      ]
     },
     "metadata": {},
     "execution_count": 68
    }
   ],
   "metadata": {}
  },
  {
   "cell_type": "markdown",
   "source": [
    "### Broad Casting\n",
    "numpy를 쓰는 핵심 기능!"
   ],
   "metadata": {}
  },
  {
   "cell_type": "code",
   "execution_count": 69,
   "source": [
    "a = np.arange(12)\n",
    "a"
   ],
   "outputs": [
    {
     "output_type": "execute_result",
     "data": {
      "text/plain": [
       "array([ 0,  1,  2,  3,  4,  5,  6,  7,  8,  9, 10, 11])"
      ]
     },
     "metadata": {},
     "execution_count": 69
    }
   ],
   "metadata": {}
  },
  {
   "cell_type": "code",
   "execution_count": 70,
   "source": [
    "b = a.reshape(3,4)\n",
    "b"
   ],
   "outputs": [
    {
     "output_type": "execute_result",
     "data": {
      "text/plain": [
       "array([[ 0,  1,  2,  3],\n",
       "       [ 4,  5,  6,  7],\n",
       "       [ 8,  9, 10, 11]])"
      ]
     },
     "metadata": {},
     "execution_count": 70
    }
   ],
   "metadata": {}
  },
  {
   "cell_type": "code",
   "execution_count": 71,
   "source": [
    "c = np.zeros_like(b.ravel())\n",
    "for idx,i in enumerate(b.ravel()):\n",
    "    c[idx] = i+1\n",
    "c = c.reshape(b.shape)\n",
    "c"
   ],
   "outputs": [
    {
     "output_type": "execute_result",
     "data": {
      "text/plain": [
       "array([[ 1,  2,  3,  4],\n",
       "       [ 5,  6,  7,  8],\n",
       "       [ 9, 10, 11, 12]])"
      ]
     },
     "metadata": {},
     "execution_count": 71
    }
   ],
   "metadata": {}
  },
  {
   "cell_type": "code",
   "execution_count": 72,
   "source": [
    "c = 1 + b\n",
    "c"
   ],
   "outputs": [
    {
     "output_type": "execute_result",
     "data": {
      "text/plain": [
       "array([[ 1,  2,  3,  4],\n",
       "       [ 5,  6,  7,  8],\n",
       "       [ 9, 10, 11, 12]])"
      ]
     },
     "metadata": {},
     "execution_count": 72
    }
   ],
   "metadata": {}
  },
  {
   "cell_type": "code",
   "execution_count": 73,
   "source": [
    "a = np.ones((2,4,3))\n",
    "a"
   ],
   "outputs": [
    {
     "output_type": "execute_result",
     "data": {
      "text/plain": [
       "array([[[1., 1., 1.],\n",
       "        [1., 1., 1.],\n",
       "        [1., 1., 1.],\n",
       "        [1., 1., 1.]],\n",
       "\n",
       "       [[1., 1., 1.],\n",
       "        [1., 1., 1.],\n",
       "        [1., 1., 1.],\n",
       "        [1., 1., 1.]]])"
      ]
     },
     "metadata": {},
     "execution_count": 73
    }
   ],
   "metadata": {}
  },
  {
   "cell_type": "code",
   "execution_count": 74,
   "source": [
    "b = np.arange(4).reshape(1,4,1)\n",
    "b"
   ],
   "outputs": [
    {
     "output_type": "execute_result",
     "data": {
      "text/plain": [
       "array([[[0],\n",
       "        [1],\n",
       "        [2],\n",
       "        [3]]])"
      ]
     },
     "metadata": {},
     "execution_count": 74
    }
   ],
   "metadata": {}
  },
  {
   "cell_type": "code",
   "execution_count": 75,
   "source": [
    "c = a + b\n",
    "c"
   ],
   "outputs": [
    {
     "output_type": "execute_result",
     "data": {
      "text/plain": [
       "array([[[1., 1., 1.],\n",
       "        [2., 2., 2.],\n",
       "        [3., 3., 3.],\n",
       "        [4., 4., 4.]],\n",
       "\n",
       "       [[1., 1., 1.],\n",
       "        [2., 2., 2.],\n",
       "        [3., 3., 3.],\n",
       "        [4., 4., 4.]]])"
      ]
     },
     "metadata": {},
     "execution_count": 75
    }
   ],
   "metadata": {}
  },
  {
   "cell_type": "code",
   "execution_count": 76,
   "source": [
    "a = np.ones((10, 7, 6))\n",
    "#b = np.arange(2,8) # 6 마지막 axis 와 shape이 맞으면 broad casting 된다. 자동 처리\n",
    "b = np.arange(10).reshape(10,1,1) # 10 나머지 axis 하려면 shape을 맞춰서 넣어줘야함\n",
    "print(a.shape)\n",
    "print(b.shape)\n",
    "c = a + b\n",
    "c "
   ],
   "outputs": [
    {
     "output_type": "stream",
     "name": "stdout",
     "text": [
      "(10, 7, 6)\n",
      "(10, 1, 1)\n"
     ]
    },
    {
     "output_type": "execute_result",
     "data": {
      "text/plain": [
       "array([[[ 1.,  1.,  1.,  1.,  1.,  1.],\n",
       "        [ 1.,  1.,  1.,  1.,  1.,  1.],\n",
       "        [ 1.,  1.,  1.,  1.,  1.,  1.],\n",
       "        [ 1.,  1.,  1.,  1.,  1.,  1.],\n",
       "        [ 1.,  1.,  1.,  1.,  1.,  1.],\n",
       "        [ 1.,  1.,  1.,  1.,  1.,  1.],\n",
       "        [ 1.,  1.,  1.,  1.,  1.,  1.]],\n",
       "\n",
       "       [[ 2.,  2.,  2.,  2.,  2.,  2.],\n",
       "        [ 2.,  2.,  2.,  2.,  2.,  2.],\n",
       "        [ 2.,  2.,  2.,  2.,  2.,  2.],\n",
       "        [ 2.,  2.,  2.,  2.,  2.,  2.],\n",
       "        [ 2.,  2.,  2.,  2.,  2.,  2.],\n",
       "        [ 2.,  2.,  2.,  2.,  2.,  2.],\n",
       "        [ 2.,  2.,  2.,  2.,  2.,  2.]],\n",
       "\n",
       "       [[ 3.,  3.,  3.,  3.,  3.,  3.],\n",
       "        [ 3.,  3.,  3.,  3.,  3.,  3.],\n",
       "        [ 3.,  3.,  3.,  3.,  3.,  3.],\n",
       "        [ 3.,  3.,  3.,  3.,  3.,  3.],\n",
       "        [ 3.,  3.,  3.,  3.,  3.,  3.],\n",
       "        [ 3.,  3.,  3.,  3.,  3.,  3.],\n",
       "        [ 3.,  3.,  3.,  3.,  3.,  3.]],\n",
       "\n",
       "       [[ 4.,  4.,  4.,  4.,  4.,  4.],\n",
       "        [ 4.,  4.,  4.,  4.,  4.,  4.],\n",
       "        [ 4.,  4.,  4.,  4.,  4.,  4.],\n",
       "        [ 4.,  4.,  4.,  4.,  4.,  4.],\n",
       "        [ 4.,  4.,  4.,  4.,  4.,  4.],\n",
       "        [ 4.,  4.,  4.,  4.,  4.,  4.],\n",
       "        [ 4.,  4.,  4.,  4.,  4.,  4.]],\n",
       "\n",
       "       [[ 5.,  5.,  5.,  5.,  5.,  5.],\n",
       "        [ 5.,  5.,  5.,  5.,  5.,  5.],\n",
       "        [ 5.,  5.,  5.,  5.,  5.,  5.],\n",
       "        [ 5.,  5.,  5.,  5.,  5.,  5.],\n",
       "        [ 5.,  5.,  5.,  5.,  5.,  5.],\n",
       "        [ 5.,  5.,  5.,  5.,  5.,  5.],\n",
       "        [ 5.,  5.,  5.,  5.,  5.,  5.]],\n",
       "\n",
       "       [[ 6.,  6.,  6.,  6.,  6.,  6.],\n",
       "        [ 6.,  6.,  6.,  6.,  6.,  6.],\n",
       "        [ 6.,  6.,  6.,  6.,  6.,  6.],\n",
       "        [ 6.,  6.,  6.,  6.,  6.,  6.],\n",
       "        [ 6.,  6.,  6.,  6.,  6.,  6.],\n",
       "        [ 6.,  6.,  6.,  6.,  6.,  6.],\n",
       "        [ 6.,  6.,  6.,  6.,  6.,  6.]],\n",
       "\n",
       "       [[ 7.,  7.,  7.,  7.,  7.,  7.],\n",
       "        [ 7.,  7.,  7.,  7.,  7.,  7.],\n",
       "        [ 7.,  7.,  7.,  7.,  7.,  7.],\n",
       "        [ 7.,  7.,  7.,  7.,  7.,  7.],\n",
       "        [ 7.,  7.,  7.,  7.,  7.,  7.],\n",
       "        [ 7.,  7.,  7.,  7.,  7.,  7.],\n",
       "        [ 7.,  7.,  7.,  7.,  7.,  7.]],\n",
       "\n",
       "       [[ 8.,  8.,  8.,  8.,  8.,  8.],\n",
       "        [ 8.,  8.,  8.,  8.,  8.,  8.],\n",
       "        [ 8.,  8.,  8.,  8.,  8.,  8.],\n",
       "        [ 8.,  8.,  8.,  8.,  8.,  8.],\n",
       "        [ 8.,  8.,  8.,  8.,  8.,  8.],\n",
       "        [ 8.,  8.,  8.,  8.,  8.,  8.],\n",
       "        [ 8.,  8.,  8.,  8.,  8.,  8.]],\n",
       "\n",
       "       [[ 9.,  9.,  9.,  9.,  9.,  9.],\n",
       "        [ 9.,  9.,  9.,  9.,  9.,  9.],\n",
       "        [ 9.,  9.,  9.,  9.,  9.,  9.],\n",
       "        [ 9.,  9.,  9.,  9.,  9.,  9.],\n",
       "        [ 9.,  9.,  9.,  9.,  9.,  9.],\n",
       "        [ 9.,  9.,  9.,  9.,  9.,  9.],\n",
       "        [ 9.,  9.,  9.,  9.,  9.,  9.]],\n",
       "\n",
       "       [[10., 10., 10., 10., 10., 10.],\n",
       "        [10., 10., 10., 10., 10., 10.],\n",
       "        [10., 10., 10., 10., 10., 10.],\n",
       "        [10., 10., 10., 10., 10., 10.],\n",
       "        [10., 10., 10., 10., 10., 10.],\n",
       "        [10., 10., 10., 10., 10., 10.],\n",
       "        [10., 10., 10., 10., 10., 10.]]])"
      ]
     },
     "metadata": {},
     "execution_count": 76
    }
   ],
   "metadata": {}
  },
  {
   "cell_type": "code",
   "execution_count": 77,
   "source": [
    "a = np.ones((10, 7, 6))\n",
    "b = np.arange(2,8) # 6 마지막 axis 와 shape이 맞으면 broad casting 된다. 자동 처리\n",
    "#b = np.arange(10).reshape(10,1,1) # 10 나머지 axis 하려면 shape을 맞춰서 넣어줘야함\n",
    "print(a.shape)\n",
    "print(b.shape)\n",
    "c = a + b\n",
    "c "
   ],
   "outputs": [
    {
     "output_type": "stream",
     "name": "stdout",
     "text": [
      "(10, 7, 6)\n",
      "(6,)\n"
     ]
    },
    {
     "output_type": "execute_result",
     "data": {
      "text/plain": [
       "array([[[3., 4., 5., 6., 7., 8.],\n",
       "        [3., 4., 5., 6., 7., 8.],\n",
       "        [3., 4., 5., 6., 7., 8.],\n",
       "        [3., 4., 5., 6., 7., 8.],\n",
       "        [3., 4., 5., 6., 7., 8.],\n",
       "        [3., 4., 5., 6., 7., 8.],\n",
       "        [3., 4., 5., 6., 7., 8.]],\n",
       "\n",
       "       [[3., 4., 5., 6., 7., 8.],\n",
       "        [3., 4., 5., 6., 7., 8.],\n",
       "        [3., 4., 5., 6., 7., 8.],\n",
       "        [3., 4., 5., 6., 7., 8.],\n",
       "        [3., 4., 5., 6., 7., 8.],\n",
       "        [3., 4., 5., 6., 7., 8.],\n",
       "        [3., 4., 5., 6., 7., 8.]],\n",
       "\n",
       "       [[3., 4., 5., 6., 7., 8.],\n",
       "        [3., 4., 5., 6., 7., 8.],\n",
       "        [3., 4., 5., 6., 7., 8.],\n",
       "        [3., 4., 5., 6., 7., 8.],\n",
       "        [3., 4., 5., 6., 7., 8.],\n",
       "        [3., 4., 5., 6., 7., 8.],\n",
       "        [3., 4., 5., 6., 7., 8.]],\n",
       "\n",
       "       [[3., 4., 5., 6., 7., 8.],\n",
       "        [3., 4., 5., 6., 7., 8.],\n",
       "        [3., 4., 5., 6., 7., 8.],\n",
       "        [3., 4., 5., 6., 7., 8.],\n",
       "        [3., 4., 5., 6., 7., 8.],\n",
       "        [3., 4., 5., 6., 7., 8.],\n",
       "        [3., 4., 5., 6., 7., 8.]],\n",
       "\n",
       "       [[3., 4., 5., 6., 7., 8.],\n",
       "        [3., 4., 5., 6., 7., 8.],\n",
       "        [3., 4., 5., 6., 7., 8.],\n",
       "        [3., 4., 5., 6., 7., 8.],\n",
       "        [3., 4., 5., 6., 7., 8.],\n",
       "        [3., 4., 5., 6., 7., 8.],\n",
       "        [3., 4., 5., 6., 7., 8.]],\n",
       "\n",
       "       [[3., 4., 5., 6., 7., 8.],\n",
       "        [3., 4., 5., 6., 7., 8.],\n",
       "        [3., 4., 5., 6., 7., 8.],\n",
       "        [3., 4., 5., 6., 7., 8.],\n",
       "        [3., 4., 5., 6., 7., 8.],\n",
       "        [3., 4., 5., 6., 7., 8.],\n",
       "        [3., 4., 5., 6., 7., 8.]],\n",
       "\n",
       "       [[3., 4., 5., 6., 7., 8.],\n",
       "        [3., 4., 5., 6., 7., 8.],\n",
       "        [3., 4., 5., 6., 7., 8.],\n",
       "        [3., 4., 5., 6., 7., 8.],\n",
       "        [3., 4., 5., 6., 7., 8.],\n",
       "        [3., 4., 5., 6., 7., 8.],\n",
       "        [3., 4., 5., 6., 7., 8.]],\n",
       "\n",
       "       [[3., 4., 5., 6., 7., 8.],\n",
       "        [3., 4., 5., 6., 7., 8.],\n",
       "        [3., 4., 5., 6., 7., 8.],\n",
       "        [3., 4., 5., 6., 7., 8.],\n",
       "        [3., 4., 5., 6., 7., 8.],\n",
       "        [3., 4., 5., 6., 7., 8.],\n",
       "        [3., 4., 5., 6., 7., 8.]],\n",
       "\n",
       "       [[3., 4., 5., 6., 7., 8.],\n",
       "        [3., 4., 5., 6., 7., 8.],\n",
       "        [3., 4., 5., 6., 7., 8.],\n",
       "        [3., 4., 5., 6., 7., 8.],\n",
       "        [3., 4., 5., 6., 7., 8.],\n",
       "        [3., 4., 5., 6., 7., 8.],\n",
       "        [3., 4., 5., 6., 7., 8.]],\n",
       "\n",
       "       [[3., 4., 5., 6., 7., 8.],\n",
       "        [3., 4., 5., 6., 7., 8.],\n",
       "        [3., 4., 5., 6., 7., 8.],\n",
       "        [3., 4., 5., 6., 7., 8.],\n",
       "        [3., 4., 5., 6., 7., 8.],\n",
       "        [3., 4., 5., 6., 7., 8.],\n",
       "        [3., 4., 5., 6., 7., 8.]]])"
      ]
     },
     "metadata": {},
     "execution_count": 77
    }
   ],
   "metadata": {}
  },
  {
   "cell_type": "code",
   "execution_count": null,
   "source": [],
   "outputs": [],
   "metadata": {}
  },
  {
   "cell_type": "markdown",
   "source": [
    "3x4 (2ch) image가 있다(모든 pixel (0,0)이다). ch0 에는 +3, ch1에는 -1이 되도록 broadcast 처리를 하라."
   ],
   "metadata": {}
  },
  {
   "cell_type": "code",
   "execution_count": 78,
   "source": [
    "a = np.zeros((3,4,2))\n",
    "a"
   ],
   "outputs": [
    {
     "output_type": "execute_result",
     "data": {
      "text/plain": [
       "array([[[0., 0.],\n",
       "        [0., 0.],\n",
       "        [0., 0.],\n",
       "        [0., 0.]],\n",
       "\n",
       "       [[0., 0.],\n",
       "        [0., 0.],\n",
       "        [0., 0.],\n",
       "        [0., 0.]],\n",
       "\n",
       "       [[0., 0.],\n",
       "        [0., 0.],\n",
       "        [0., 0.],\n",
       "        [0., 0.]]])"
      ]
     },
     "metadata": {},
     "execution_count": 78
    }
   ],
   "metadata": {}
  },
  {
   "cell_type": "code",
   "execution_count": 79,
   "source": [
    "b = np.array([3, -1])"
   ],
   "outputs": [],
   "metadata": {}
  },
  {
   "cell_type": "code",
   "execution_count": 80,
   "source": [
    "a + b"
   ],
   "outputs": [
    {
     "output_type": "execute_result",
     "data": {
      "text/plain": [
       "array([[[ 3., -1.],\n",
       "        [ 3., -1.],\n",
       "        [ 3., -1.],\n",
       "        [ 3., -1.]],\n",
       "\n",
       "       [[ 3., -1.],\n",
       "        [ 3., -1.],\n",
       "        [ 3., -1.],\n",
       "        [ 3., -1.]],\n",
       "\n",
       "       [[ 3., -1.],\n",
       "        [ 3., -1.],\n",
       "        [ 3., -1.],\n",
       "        [ 3., -1.]]])"
      ]
     },
     "metadata": {},
     "execution_count": 80
    }
   ],
   "metadata": {}
  },
  {
   "cell_type": "markdown",
   "source": [
    "### indexing , slicing"
   ],
   "metadata": {}
  },
  {
   "cell_type": "code",
   "execution_count": 81,
   "source": [
    "b = np.arange(12).reshape(3,-1)\n",
    "b"
   ],
   "outputs": [
    {
     "output_type": "execute_result",
     "data": {
      "text/plain": [
       "array([[ 0,  1,  2,  3],\n",
       "       [ 4,  5,  6,  7],\n",
       "       [ 8,  9, 10, 11]])"
      ]
     },
     "metadata": {},
     "execution_count": 81
    }
   ],
   "metadata": {}
  },
  {
   "cell_type": "code",
   "execution_count": 82,
   "source": [
    "b[2,0]"
   ],
   "outputs": [
    {
     "output_type": "execute_result",
     "data": {
      "text/plain": [
       "8"
      ]
     },
     "metadata": {},
     "execution_count": 82
    }
   ],
   "metadata": {}
  },
  {
   "cell_type": "code",
   "execution_count": 83,
   "source": [
    "print(b)\n",
    "b[2][1:3]"
   ],
   "outputs": [
    {
     "output_type": "stream",
     "name": "stdout",
     "text": [
      "[[ 0  1  2  3]\n",
      " [ 4  5  6  7]\n",
      " [ 8  9 10 11]]\n"
     ]
    },
    {
     "output_type": "execute_result",
     "data": {
      "text/plain": [
       "array([ 9, 10])"
      ]
     },
     "metadata": {},
     "execution_count": 83
    }
   ],
   "metadata": {}
  },
  {
   "cell_type": "code",
   "execution_count": 84,
   "source": [
    "print(b)\n",
    "b[:,0]"
   ],
   "outputs": [
    {
     "output_type": "stream",
     "name": "stdout",
     "text": [
      "[[ 0  1  2  3]\n",
      " [ 4  5  6  7]\n",
      " [ 8  9 10 11]]\n"
     ]
    },
    {
     "output_type": "execute_result",
     "data": {
      "text/plain": [
       "array([0, 4, 8])"
      ]
     },
     "metadata": {},
     "execution_count": 84
    }
   ],
   "metadata": {}
  },
  {
   "cell_type": "markdown",
   "source": [
    "indexing, slicing은 원본을 건들이기 때문에 조심해야함."
   ],
   "metadata": {}
  },
  {
   "cell_type": "code",
   "execution_count": 85,
   "source": [
    "a = list(range(10))\n",
    "b = a[3:5]\n",
    "b[0] = 10\n",
    "print(a)\n",
    "print(b)"
   ],
   "outputs": [
    {
     "output_type": "stream",
     "name": "stdout",
     "text": [
      "[0, 1, 2, 3, 4, 5, 6, 7, 8, 9]\n",
      "[10, 4]\n"
     ]
    }
   ],
   "metadata": {}
  },
  {
   "cell_type": "code",
   "execution_count": 86,
   "source": [
    "a = np.arange(10)\n",
    "b = a[3:5]\n",
    "b[0] = 10\n",
    "print(a)\n",
    "print(b)"
   ],
   "outputs": [
    {
     "output_type": "stream",
     "name": "stdout",
     "text": [
      "[ 0  1  2 10  4  5  6  7  8  9]\n",
      "[10  4]\n"
     ]
    }
   ],
   "metadata": {}
  },
  {
   "cell_type": "code",
   "execution_count": 87,
   "source": [
    "#그래서 copy를 해줘야 원본이 바뀌지 않는다.\n",
    "a = np.arange(10)\n",
    "b = a[3:5].copy()\n",
    "b[0] = 10\n",
    "print(a)\n",
    "print(b)"
   ],
   "outputs": [
    {
     "output_type": "stream",
     "name": "stdout",
     "text": [
      "[0 1 2 3 4 5 6 7 8 9]\n",
      "[10  4]\n"
     ]
    }
   ],
   "metadata": {}
  },
  {
   "cell_type": "markdown",
   "source": [
    "### Fancy indexing\n",
    "ndarray에 square bracket 을 통한 indexing 대신, 같은 shape의 boolean값을 가진 ndarray를 넣어주면 True인 요소들만 선택됨"
   ],
   "metadata": {}
  },
  {
   "cell_type": "code",
   "execution_count": 88,
   "source": [
    "a = np.array([\n",
    "    [[0,0,255],[0,0,255],[0,0,255],[0,0,255]],\n",
    "    [[0,255,0],[0,255,0],[0,255,0],[0,255,0]]\n",
    "])"
   ],
   "outputs": [],
   "metadata": {}
  },
  {
   "cell_type": "code",
   "execution_count": 89,
   "source": [
    "a.shape"
   ],
   "outputs": [
    {
     "output_type": "execute_result",
     "data": {
      "text/plain": [
       "(2, 4, 3)"
      ]
     },
     "metadata": {},
     "execution_count": 89
    }
   ],
   "metadata": {}
  },
  {
   "cell_type": "code",
   "execution_count": 90,
   "source": [
    "b = (a == 255)\n",
    "b"
   ],
   "outputs": [
    {
     "output_type": "execute_result",
     "data": {
      "text/plain": [
       "array([[[False, False,  True],\n",
       "        [False, False,  True],\n",
       "        [False, False,  True],\n",
       "        [False, False,  True]],\n",
       "\n",
       "       [[False,  True, False],\n",
       "        [False,  True, False],\n",
       "        [False,  True, False],\n",
       "        [False,  True, False]]])"
      ]
     },
     "metadata": {},
     "execution_count": 90
    }
   ],
   "metadata": {}
  },
  {
   "cell_type": "code",
   "execution_count": 91,
   "source": [
    "d = np.zeros_like(a, dtype=np.float16)\n",
    "d[b] = 1\n",
    "d"
   ],
   "outputs": [
    {
     "output_type": "execute_result",
     "data": {
      "text/plain": [
       "array([[[0., 0., 1.],\n",
       "        [0., 0., 1.],\n",
       "        [0., 0., 1.],\n",
       "        [0., 0., 1.]],\n",
       "\n",
       "       [[0., 1., 0.],\n",
       "        [0., 1., 0.],\n",
       "        [0., 1., 0.],\n",
       "        [0., 1., 0.]]], dtype=float16)"
      ]
     },
     "metadata": {},
     "execution_count": 91
    }
   ],
   "metadata": {}
  },
  {
   "cell_type": "code",
   "execution_count": 92,
   "source": [
    "e = np.zeros_like(a, dtype=np.float16)\n",
    "e[a==255] = 1.\n",
    "e"
   ],
   "outputs": [
    {
     "output_type": "execute_result",
     "data": {
      "text/plain": [
       "array([[[0., 0., 1.],\n",
       "        [0., 0., 1.],\n",
       "        [0., 0., 1.],\n",
       "        [0., 0., 1.]],\n",
       "\n",
       "       [[0., 1., 0.],\n",
       "        [0., 1., 0.],\n",
       "        [0., 1., 0.],\n",
       "        [0., 1., 0.]]], dtype=float16)"
      ]
     },
     "metadata": {},
     "execution_count": 92
    }
   ],
   "metadata": {}
  },
  {
   "cell_type": "code",
   "execution_count": 93,
   "source": [
    "a[a!=255] = 128\n",
    "a"
   ],
   "outputs": [
    {
     "output_type": "execute_result",
     "data": {
      "text/plain": [
       "array([[[128, 128, 255],\n",
       "        [128, 128, 255],\n",
       "        [128, 128, 255],\n",
       "        [128, 128, 255]],\n",
       "\n",
       "       [[128, 255, 128],\n",
       "        [128, 255, 128],\n",
       "        [128, 255, 128],\n",
       "        [128, 255, 128]]])"
      ]
     },
     "metadata": {},
     "execution_count": 93
    }
   ],
   "metadata": {}
  },
  {
   "cell_type": "code",
   "execution_count": 94,
   "source": [
    "a[a!=255] = 0\n",
    "a"
   ],
   "outputs": [
    {
     "output_type": "execute_result",
     "data": {
      "text/plain": [
       "array([[[  0,   0, 255],\n",
       "        [  0,   0, 255],\n",
       "        [  0,   0, 255],\n",
       "        [  0,   0, 255]],\n",
       "\n",
       "       [[  0, 255,   0],\n",
       "        [  0, 255,   0],\n",
       "        [  0, 255,   0],\n",
       "        [  0, 255,   0]]])"
      ]
     },
     "metadata": {},
     "execution_count": 94
    }
   ],
   "metadata": {}
  },
  {
   "cell_type": "code",
   "execution_count": 95,
   "source": [
    "np.max(a - 255*d)"
   ],
   "outputs": [
    {
     "output_type": "execute_result",
     "data": {
      "text/plain": [
       "0.0"
      ]
     },
     "metadata": {},
     "execution_count": 95
    }
   ],
   "metadata": {}
  },
  {
   "cell_type": "code",
   "execution_count": 96,
   "source": [
    "a = np.eye(3,4)\n",
    "a"
   ],
   "outputs": [
    {
     "output_type": "execute_result",
     "data": {
      "text/plain": [
       "array([[1., 0., 0., 0.],\n",
       "       [0., 1., 0., 0.],\n",
       "       [0., 0., 1., 0.]])"
      ]
     },
     "metadata": {},
     "execution_count": 96
    }
   ],
   "metadata": {}
  },
  {
   "cell_type": "code",
   "execution_count": 97,
   "source": [
    "b = np.array([True, True, False])\n",
    "print(b.shape)\n",
    "a[b]"
   ],
   "outputs": [
    {
     "output_type": "stream",
     "name": "stdout",
     "text": [
      "(3,)\n"
     ]
    },
    {
     "output_type": "execute_result",
     "data": {
      "text/plain": [
       "array([[1., 0., 0., 0.],\n",
       "       [0., 1., 0., 0.]])"
      ]
     },
     "metadata": {},
     "execution_count": 97
    }
   ],
   "metadata": {}
  },
  {
   "cell_type": "code",
   "execution_count": 98,
   "source": [
    "a = np.eye(3,4)\n",
    "b = np.array([False, True, False])\n",
    "print(b.shape)\n",
    "a[b] = 100\n",
    "a"
   ],
   "outputs": [
    {
     "output_type": "stream",
     "name": "stdout",
     "text": [
      "(3,)\n"
     ]
    },
    {
     "output_type": "execute_result",
     "data": {
      "text/plain": [
       "array([[  1.,   0.,   0.,   0.],\n",
       "       [100., 100., 100., 100.],\n",
       "       [  0.,   0.,   1.,   0.]])"
      ]
     },
     "metadata": {},
     "execution_count": 98
    }
   ],
   "metadata": {}
  },
  {
   "cell_type": "code",
   "execution_count": 99,
   "source": [
    "a = np.arange(12).reshape(-1,4)\n",
    "a[(a>2) & (a < 10)] = 100\n",
    "a"
   ],
   "outputs": [
    {
     "output_type": "execute_result",
     "data": {
      "text/plain": [
       "array([[  0,   1,   2, 100],\n",
       "       [100, 100, 100, 100],\n",
       "       [100, 100,  10,  11]])"
      ]
     },
     "metadata": {},
     "execution_count": 99
    }
   ],
   "metadata": {}
  },
  {
   "cell_type": "code",
   "execution_count": 100,
   "source": [
    "a = np.arange(12).reshape(-1,4)\n",
    "a[(a<2) | (a > 10)] = 100\n",
    "a"
   ],
   "outputs": [
    {
     "output_type": "execute_result",
     "data": {
      "text/plain": [
       "array([[100, 100,   2,   3],\n",
       "       [  4,   5,   6,   7],\n",
       "       [  8,   9,  10, 100]])"
      ]
     },
     "metadata": {},
     "execution_count": 100
    }
   ],
   "metadata": {}
  },
  {
   "cell_type": "code",
   "execution_count": null,
   "source": [],
   "outputs": [],
   "metadata": {}
  }
 ],
 "metadata": {
  "kernelspec": {
   "display_name": "dip",
   "language": "python",
   "name": "dip"
  },
  "language_info": {
   "name": "python",
   "version": "3.8.11",
   "mimetype": "text/x-python",
   "codemirror_mode": {
    "name": "ipython",
    "version": 3
   },
   "pygments_lexer": "ipython3",
   "nbconvert_exporter": "python",
   "file_extension": ".py"
  }
 },
 "nbformat": 4,
 "nbformat_minor": 5
}
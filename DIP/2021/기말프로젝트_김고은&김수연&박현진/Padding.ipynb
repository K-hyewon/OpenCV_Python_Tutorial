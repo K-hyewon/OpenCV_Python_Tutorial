{
 "cells": [
  {
   "cell_type": "code",
   "execution_count": null,
   "metadata": {},
   "outputs": [],
   "source": [
    "original= cv2.imread('data/aug/ver_1/af_pad.jpg',cv2.IMREAD_COLOR)\n",
    "labelled_img= cv2.imread('labelled_data/18-40-02-02 (SLA)_re_image.png',cv2.IMREAD_COLOR)"
   ]
  },
  {
   "cell_type": "code",
   "execution_count": null,
   "metadata": {},
   "outputs": [],
   "source": [
    "x=img.shape[1] #사진의 width = column\n",
    "y=img.shape[0] #사진의 height = row\n",
    "\n",
    "mii=min(x,y) \n",
    "maa=max(x,y) \n",
    "\n",
    "maa=128*(max(x,y)//128+5) \n",
    "\n",
    "if min == x:\n",
    "    mii=128*(mii//128+1)\n",
    "    a = maa\n",
    "    b = mii\n",
    "    print('width')\n",
    "else:\n",
    "    mii=128*(mii//128+1)\n",
    "    a = mii\n",
    "    b = maa\n",
    "    print('height')\n",
    "\n",
    "a = randrange(mii, maa,128) #mii, maa 사이에서 step=128 (128의 배수)인 random한 정수\n",
    "b = randrange(mii, maa,128) \n",
    "\n",
    "aug=iaa.PadToFixedSize(width=b, height=a, position='center') #random 위치에서 padding을 수행하여 이미지 사이즈로 만들어줌 \n",
    "pad=aug(image=img)#labelled_img)\n",
    "pad_label=aug(image=labelled_img)\n",
    "\n",
    "plt.subplot(121)   \n",
    "plt.imshow(pad[...,::-1])\n",
    "plt.subplot(122)   \n",
    "plt.imshow(pad_label[...,::-1])\n",
    "\n",
    "os.mkdir('data/aug/ver_1')\n",
    "os.mkdir('labelled_data/aug')\n",
    "os.mkdir('labelled_data/aug/ver_1')\n",
    "\n",
    "cv2.imwrite('data/aug/ver_1/af_pad.jpg',pad)\n",
    "cv2.imwrite('labelled_data/aug/ver_1/af_pad.jpg',pad_label)"
   ]
  },
  {
   "cell_type": "code",
   "execution_count": null,
   "metadata": {},
   "outputs": [],
   "source": [
    "import json\n",
    "from collections import OrderedDict\n",
    "\n",
    "json_path = 'C:/Users/tndus/workspace'\n",
    "list = ['1','2','3','4','5']\n",
    "\n",
    "file_data = OrderedDict()\n",
    "file_data['Translation(padding)'] = {'paddingBox_height':a,'paddingBox_width':b}\n",
    "file_data['Rotation_counterClockwise'] = {'vertical':list[2], 'horizontal':list[3]}\n",
    "file_data['Flip'] = list[4]\n",
    "\n",
    "print(json.dumps(file_data,ensure_ascii=False,indent='\\t'))\n",
    "\n",
    "with open(json_path + '/descriptor.json','w',encoding='utf-8') as make_file:\n",
    "     json.dump(file_data,make_file,ensure_ascii=False,indent='\\t')"
   ]
  }
 ],
 "metadata": {
  "kernelspec": {
   "display_name": "Python 3",
   "language": "python",
   "name": "python3"
  },
  "language_info": {
   "codemirror_mode": {
    "name": "ipython",
    "version": 3
   },
   "file_extension": ".py",
   "mimetype": "text/x-python",
   "name": "python",
   "nbconvert_exporter": "python",
   "pygments_lexer": "ipython3",
   "version": "3.8.5"
  }
 },
 "nbformat": 4,
 "nbformat_minor": 4
}

{
 "cells": [
  {
   "cell_type": "markdown",
   "metadata": {},
   "source": [
    "Patch 만들고 저장하기 "
   ]
  },
  {
   "cell_type": "code",
   "execution_count": null,
   "metadata": {},
   "outputs": [],
   "source": [
    "import cv2\n",
    "import numpy as np\n",
    "import matplotlib.pyplot as plt\n",
    "from patchify import patchify"
   ]
  },
  {
   "cell_type": "code",
   "execution_count": null,
   "metadata": {},
   "outputs": [],
   "source": [
    "ori_path = 'C:\\\\Users\\\\tndus\\\\workspace\\\\DIP\\\\project\\\\18-40-02-02 (SLA).jpg'\n",
    "save_path = 'C:\\\\Users\\\\tndus\\\\workspace\\\\DIP\\\\project\\\\patches\\\\'\n",
    "img = cv2.imread(ori_path)\n",
    "patches = patchify(img, (80,80,3), step=80)\n",
    "for i in range(patches.shape[0]):\n",
    "    for j in range(patches.shape[1]):\n",
    "        single_patch = patches[i,j,0,:,:,:]\n",
    "        cv2.imwrite(save_path+'%s_%s_patch.jpg'%(str(i),str(j)),single_patch)"
   ]
  }
 ],
 "metadata": {
  "kernelspec": {
   "display_name": "Python 3",
   "language": "python",
   "name": "python3"
  },
  "language_info": {
   "codemirror_mode": {
    "name": "ipython",
    "version": 3
   },
   "file_extension": ".py",
   "mimetype": "text/x-python",
   "name": "python",
   "nbconvert_exporter": "python",
   "pygments_lexer": "ipython3",
   "version": "3.8.5"
  }
 },
 "nbformat": 4,
 "nbformat_minor": 4
}

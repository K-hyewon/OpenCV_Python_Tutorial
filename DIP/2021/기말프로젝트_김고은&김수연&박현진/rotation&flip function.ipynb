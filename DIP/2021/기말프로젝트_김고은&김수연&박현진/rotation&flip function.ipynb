{
 "cells": [
  {
   "cell_type": "code",
   "execution_count": 8,
   "id": "7b791757",
   "metadata": {},
   "outputs": [],
   "source": [
    "# basic module\n",
    "import random \n",
    "# from random import *\n",
    "import numpy as np\n",
    "import os, cv2, glob\n",
    "import matplotlib.pyplot as plt\n",
    "\n",
    "# image preprocess\n",
    "from patchify import patchify\n",
    "\n",
    "# json \n",
    "import json\n",
    "from collections import OrderedDict\n",
    "\n",
    "# model \n",
    "import timeit"
   ]
  },
  {
   "cell_type": "code",
   "execution_count": 24,
   "id": "f2922cb5",
   "metadata": {},
   "outputs": [],
   "source": [
    "def aug_image(path,aug1_path):\n",
    "    global flip_dic\n",
    "    image = cv2.imread(path,cv2.IMREAD_COLOR)\n",
    "    rows,cols,c = image.shape\n",
    "    \n",
    "    print(\"This time, We are going to 'Rotate' and 'Flip' your image.\\n\")\n",
    "    print('*------------------------------------------------------------*\\n')\n",
    "    print(\"First, Input the degree! It wil be the maximum value on your 'countclockwise' rotation range.\")\n",
    "    x = int(input('minimum of degree:'))\n",
    "    y = int(input('maximum of degree:'))\n",
    "    print(\"\\n\")\n",
    "    print(\"Let's move on to 'FLIP'\\n\")\n",
    "    print(\"We'll give you THREE options. Please choose one of them.\\n\")\n",
    "    print(\"OPTION 1: Flip the image vertically, horizontally.\")\n",
    "    print(\"OPTION 2: Flip the image ONLY vertically.\")\n",
    "    print(\"OPTION 3: Flip the image ONLY horizontally.\\n\")\n",
    "    ans_flip = int(input(\"What option would you like to choose?(Just enter the option number):\"))\n",
    "    \n",
    "    # Rotation\n",
    "    deg = random.randint(x,y)\n",
    "    M = cv2.getRotationMatrix2D((cols/2,rows/2), deg, 1)\n",
    "    aug = cv2.warpAffine(image, M, (cols, rows))\n",
    "    \n",
    "    # Flip\n",
    "    if ans_flip == 1: \n",
    "        aug = cv2.flip(aug,1) # horizontal\n",
    "        aug = cv2.flip(aug,0) # vertical \n",
    "        cv2.imwrite(aug1_path + \"/rot-%s-flipVH\"%str(deg)+Extension, aug)\n",
    "        v, h ='yes','yes'\n",
    "    elif ans_flip == 2:\n",
    "        aug = cv2.flip(aug,0) \n",
    "        cv2.imwrite(aug1_path + \"/rot-%s-flipV\"%str(deg)+Extension, aug)\n",
    "        v, h = 'yes','no'\n",
    "    elif ans_flip == 3:\n",
    "        aug = cv2.flip(aug,1)\n",
    "        cv2.imwrite(aug1_path + \"/rot-%s-flipH\"%str(deg)+Extension, aug)\n",
    "        v, h = 'no','yes'\n",
    "    else:\n",
    "        print('[WARNING : TRY AGAIN]')\n",
    "    \n",
    "    flip_dic = {'rotation range (degree)':[x,y],'rotation degree':deg,'vertical flip':v,'horizental flip': h}\n",
    "    return flip_dic"
   ]
  },
  {
   "cell_type": "code",
   "execution_count": 25,
   "id": "c7afabe5",
   "metadata": {},
   "outputs": [],
   "source": [
    "path = 'C:\\\\18-40-02-02 (SLA).jpg'\n",
    "aug1_path = 'C:\\\\'\n",
    "Extension = '.jpg'"
   ]
  },
  {
   "cell_type": "code",
   "execution_count": 26,
   "id": "182ca639",
   "metadata": {},
   "outputs": [
    {
     "name": "stdout",
     "output_type": "stream",
     "text": [
      "This time, We are going to 'Rotate' and 'Flip' your image.\n",
      "\n",
      "*------------------------------------------------------------*\n",
      "\n",
      "First, Input the degree! It wil be the maximum value on your 'countclockwise' rotation range.\n",
      "minimum of degree:30\n",
      "maximum of degree:60\n",
      "\n",
      "\n",
      "Let's move on to 'FLIP'\n",
      "\n",
      "We'll give you THREE options. Please choose one of them.\n",
      "\n",
      "OPTION 1: Flip the image vertically, horizontally.\n",
      "OPTION 2: Flip the image ONLY vertically.\n",
      "OPTION 3: Flip the image ONLY horizontally.\n",
      "\n",
      "What option would you like to choose?(Just enter the option number):2\n"
     ]
    },
    {
     "data": {
      "text/plain": [
       "{'rotation range (degree)': [30, 60],\n",
       " 'rotation degree': 41,\n",
       " 'vertical flip': 'yes',\n",
       " 'horizental flip': 'no'}"
      ]
     },
     "execution_count": 26,
     "metadata": {},
     "output_type": "execute_result"
    }
   ],
   "source": [
    "aug_image(path,aug1_path)"
   ]
  },
  {
   "cell_type": "code",
   "execution_count": null,
   "id": "028a238a",
   "metadata": {},
   "outputs": [],
   "source": []
  }
 ],
 "metadata": {
  "kernelspec": {
   "display_name": "Python 3 (ipykernel)",
   "language": "python",
   "name": "python3"
  },
  "language_info": {
   "codemirror_mode": {
    "name": "ipython",
    "version": 3
   },
   "file_extension": ".py",
   "mimetype": "text/x-python",
   "name": "python",
   "nbconvert_exporter": "python",
   "pygments_lexer": "ipython3",
   "version": "3.9.7"
  }
 },
 "nbformat": 4,
 "nbformat_minor": 5
}

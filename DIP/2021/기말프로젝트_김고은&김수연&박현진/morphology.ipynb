{
  "nbformat": 4,
  "nbformat_minor": 0,
  "metadata": {
    "colab": {
      "name": "morphology.ipynb",
      "provenance": []
    },
    "kernelspec": {
      "display_name": "Python 3 (ipykernel)",
      "language": "python",
      "name": "python3"
    },
    "language_info": {
      "codemirror_mode": {
        "name": "ipython",
        "version": 3
      },
      "file_extension": ".py",
      "mimetype": "text/x-python",
      "name": "python",
      "nbconvert_exporter": "python",
      "pygments_lexer": "ipython3",
      "version": "3.9.7"
    }
  },
  "cells": [
    {
      "cell_type": "code",
      "metadata": {
        "id": "ZyGwNDC6MCNc"
      },
      "source": [
        "import cv2\n",
        "import numpy as np\n",
        "import matplotlib.pyplot as plt"
      ],
      "execution_count": null,
      "outputs": []
    },
    {
      "cell_type": "code",
      "metadata": {
        "id": "er_ogekcMFRj"
      },
      "source": [
        "original = cv2.imread('C:/18-40-02-02 (SLA).jpg', cv2.IMREAD_COLOR)"
      ],
      "execution_count": null,
      "outputs": []
    },
    {
      "cell_type": "code",
      "metadata": {
        "id": "pX7vxRB7L_Zo"
      },
      "source": [
        "ori_opened = cv2.morphologyEx(original[1100:1200,1300:1600,:], cv2.MORPH_OPEN, kernel)\n",
        "original[1100:1200,1300:1600,:] = ori_opened\n",
        "plt.imshow(original)\n",
        "plt.show()\n",
        "\n",
        "# plt.savefig('image.jpg')\n",
        "cv2.imwrite('/content/drive/MyDrive/IP_Project/data/sample_modif/18-40-02-02 (SLA).jpg', original[...,::-1])"
      ],
      "execution_count": null,
      "outputs": []
    }
  ]
}
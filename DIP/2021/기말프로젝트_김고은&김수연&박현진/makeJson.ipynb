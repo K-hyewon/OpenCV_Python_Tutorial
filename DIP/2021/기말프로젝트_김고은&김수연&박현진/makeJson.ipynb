{
 "cells": [
  {
   "cell_type": "code",
   "execution_count": null,
   "id": "3ddf3cfb",
   "metadata": {},
   "outputs": [],
   "source": [
    "import json\n",
    "from collections import OrderedDict\n",
    "\n",
    "\n",
    "def makeJson(*args):\n",
    "    file_data = OrderedDict()\n",
    "\n",
    "    file_data['Translation(padding)'] = {'paddingBox_height':args,'paddingBox_width':args}\n",
    "    file_data['Rotation_counterClockwise'] = {'vertical':args, 'horizontal':args}\n",
    "    file_data['Flip'] = args\n",
    "\n",
    "    print(json.dumps(file_data,ensure_ascii=False,indent='\\t'))\n",
    "\n",
    "    with open('descriptor_.json','w',encoding='utf-8') as make_file:\n",
    "         json.dump(file_data,make_file,ensure_ascii=False,indent='\\t')"
   ]
  }
 ],
 "metadata": {
  "kernelspec": {
   "display_name": "Python 3 (ipykernel)",
   "language": "python",
   "name": "python3"
  },
  "language_info": {
   "codemirror_mode": {
    "name": "ipython",
    "version": 3
   },
   "file_extension": ".py",
   "mimetype": "text/x-python",
   "name": "python",
   "nbconvert_exporter": "python",
   "pygments_lexer": "ipython3",
   "version": "3.9.7"
  }
 },
 "nbformat": 4,
 "nbformat_minor": 5
}

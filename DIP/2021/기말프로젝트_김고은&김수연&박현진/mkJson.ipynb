{
 "cells": [
  {
   "cell_type": "code",
   "execution_count": null,
   "id": "aa22712d",
   "metadata": {},
   "outputs": [],
   "source": [
    "import json\n",
    "from collections import OrderedDict\n",
    "\n",
    "\n",
    "def mkJson(JSON):\n",
    "    file_data = OrderedDict()\n",
    "\n",
    "    file_data['Translation(padding)'] = {'paddingBox_height':JSON[0],'paddingBox_width':JSON[1]}\n",
    "    file_data['Rotation_counterClockwise'] = {'vertical':JSON[2], 'horizontal':JSON[3]}\n",
    "    file_data['Flip'] = JSON[4]\n",
    "    file_data['number of patches'] = JSON[5]\n",
    "\n",
    "    print(json.dumps(file_data,ensure_ascii=False,indent='\\t'))\n",
    "\n",
    "    with open(json_path + '/descriptor.json','w',encoding='utf-8') as make_file:\n",
    "         json.dump(file_data,make_file,ensure_ascii=False,indent='\\t')\n",
    "            \n",
    "# JSON = [a,b,c,d,e,f]\n",
    "# mkJson(JSON)"
   ]
  }
 ],
 "metadata": {
  "kernelspec": {
   "display_name": "Python 3 (ipykernel)",
   "language": "python",
   "name": "python3"
  },
  "language_info": {
   "codemirror_mode": {
    "name": "ipython",
    "version": 3
   },
   "file_extension": ".py",
   "mimetype": "text/x-python",
   "name": "python",
   "nbconvert_exporter": "python",
   "pygments_lexer": "ipython3",
   "version": "3.9.7"
  }
 },
 "nbformat": 4,
 "nbformat_minor": 5
}

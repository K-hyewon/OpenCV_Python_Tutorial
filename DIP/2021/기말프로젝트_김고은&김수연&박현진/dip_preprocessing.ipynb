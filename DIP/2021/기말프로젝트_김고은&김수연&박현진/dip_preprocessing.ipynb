{
 "cells": [
  {
   "cell_type": "markdown",
   "metadata": {},
   "source": [
    "## Module 불러오기 "
   ]
  },
  {
   "cell_type": "code",
   "execution_count": 1,
   "metadata": {},
   "outputs": [],
   "source": [
    "import os\n",
    "import cv2\n",
    "import glob\n",
    "import json\n",
    "import timeit\n",
    "import numpy as np\n",
    "from random import *\n",
    "#import tensorflow as tf\n",
    "from patchify import patchify\n",
    "import matplotlib.pyplot as plt\n",
    "import imgaug.augmenters as iaa\n",
    "from collections import OrderedDict"
   ]
  },
  {
   "cell_type": "markdown",
   "metadata": {},
   "source": [
    "## 폴더 만들기 "
   ]
  },
  {
   "cell_type": "code",
   "execution_count": 22,
   "metadata": {},
   "outputs": [],
   "source": [
    "#여기까지는 한 번 확인하기 \n",
    "base_path = 'C:\\\\Users\\\\tndus\\\\workspace\\\\DIP\\\\project'\n",
    "ori_path='DIP/data/18-40-02-02 (SLA).jpg' #원본 이미지\n",
    "lbl_img_path='DIP/labelled_data/18-40-02-02 (SLA)_re_image.png' #원본 labelled 이미지\n",
    "\n",
    "fnr_path='DIP/data/aug/remove_lt.jpg' #글씨 제거 이미지 \n",
    "\n",
    "#Data Path\n",
    "DIP_path=os.path.join(base_path,'DIP')\n",
    "data_path = os.path.join(DIP_path, 'data')\n",
    "lbl_path = os.path.join(DIP_path, 'labelled_data')\n",
    "\n",
    "# 원본이미지 어그멘테이션 폴더 \n",
    "data_aug_path = os.path.join(data_path,'aug')\n",
    "aug_ver1_path = os.path.join(data_aug_path,'ver_1')\n",
    "aug_ver2_path = os.path.join(data_aug_path,'ver_2')\n",
    "aug_patch_path = os.path.join(aug_ver1_path,'patches')\n",
    "aug2_patch_path = os.path.join(aug_ver2_path,'patches')\n",
    "\n",
    "# 라벨이미지 어그멘테이션 폴더 \n",
    "lbl_aug_path = os.path.join(lbl_path,'aug')\n",
    "lbl_aug_ver1_path = os.path.join(lbl_aug_path,'ver_1')\n",
    "lbl_aug_ver2_path = os.path.join(lbl_aug_path,'ver_2')\n",
    "lbl_aug_patch_path = os.path.join(lbl_aug_ver1_path,'patches')\n",
    "lbl_aug2_patch_path = os.path.join(lbl_aug_ver2_path,'patches')\n",
    "\n",
    "# json 폴더 \n",
    "json_path_ver1 = os.path.join(aug_ver1_path,'json')\n",
    "json_path_ver2= os.path.join(aug_ver2_path,'json')\n"
   ]
  },
  {
   "cell_type": "code",
   "execution_count": 5,
   "metadata": {},
   "outputs": [
    {
     "data": {
      "text/plain": [
       "'\\ndata_path, train_path는 string 타입의 path\\nmkfolder안에 입력할 값 = list 타입\\n'"
      ]
     },
     "execution_count": 5,
     "metadata": {},
     "output_type": "execute_result"
    }
   ],
   "source": [
    "def mkfolder(folder):\n",
    "\n",
    "    for j in range(len(folder)):\n",
    "        if not os.path.exists(folder[j]):\n",
    "            os.makedirs(folder[j])\n",
    "  \n",
    "'''\n",
    "data_path, train_path는 string 타입의 path\n",
    "mkfolder안에 입력할 값 = list 타입\n",
    "'''"
   ]
  },
  {
   "cell_type": "code",
   "execution_count": 6,
   "metadata": {},
   "outputs": [],
   "source": [
    "fold_list = [DIP_path,data_path,lbl_path,\n",
    "             data_aug_path,aug_ver1_path,aug_ver2_path,aug_patch_path,aug2_patch_path,\n",
    "            lbl_aug_path,lbl_aug_ver1_path,lbl_aug_ver2_path,lbl_aug_patch_path,lbl_aug2_patch_path ,\n",
    "             json_path_ver1, json_path_ver2]\n",
    "\n",
    "mkfolder(fold_list)"
   ]
  },
  {
   "cell_type": "markdown",
   "metadata": {},
   "source": [
    "## 밑에 글씨 제거하기"
   ]
  },
  {
   "cell_type": "code",
   "execution_count": 7,
   "metadata": {},
   "outputs": [],
   "source": [
    "def remove_wr(ori_path,save_path):\n",
    "    original = cv2.imread(ori_path, cv2.IMREAD_COLOR)\n",
    "    kernel=np.ones((11,11),np.uint8)\n",
    "    ori_opened = cv2.morphologyEx(original[1100:1200,1300:1600,:], cv2.MORPH_OPEN, kernel) #글씨 영역 선택 \n",
    "    original[1100:1200,1300:1600,:] = ori_opened #morphological 연산 중 opening 이용 \n",
    "    cv2.imwrite(save_path+'/remove_lt.jpg', original) #새로운 폴더에 글씨 제거한 이미지 저장 "
   ]
  },
  {
   "cell_type": "code",
   "execution_count": 8,
   "metadata": {},
   "outputs": [],
   "source": [
    "remove_wr(ori_path, data_aug_path)"
   ]
  },
  {
   "cell_type": "markdown",
   "metadata": {},
   "source": [
    "## Labelled Image Red to Black "
   ]
  },
  {
   "cell_type": "code",
   "execution_count": 9,
   "metadata": {},
   "outputs": [],
   "source": [
    "def RedtoBlack(lbl_img_path, lbl_path):    \n",
    "    img=cv2.imread(lbl_img_path)\n",
    "    height, width, _ = img.shape \n",
    "    \n",
    "    for i in range(height):\n",
    "        for j in range(width):\n",
    "            # img[i,j] is the RGB pixel at position (i, j)\n",
    "            # check if it's [0, 0, 0] and replace with [255, 255, 255] if so\n",
    "            if (img[i,j])[2] >= 250:\n",
    "                img[i, j] = [0, 0, 0]\n",
    "    cv2.imwrite(lbl_path+'/black_lbl_img.jpg',img)"
   ]
  },
  {
   "cell_type": "code",
   "execution_count": 10,
   "metadata": {},
   "outputs": [],
   "source": [
    "RedtoBlack(lbl_img_path,lbl_path)"
   ]
  },
  {
   "cell_type": "markdown",
   "metadata": {},
   "source": [
    "## Augmentation Ver.1 \n",
    "### Rotation & Flip & Translation & Padding"
   ]
  },
  {
   "cell_type": "code",
   "execution_count": null,
   "metadata": {},
   "outputs": [],
   "source": [
    "# 1. rotation\n",
    "# 2. flip\n",
    "#aug1_path = os.path.join(aug_path,'aug_ver1') # aug한 이미지 저장할 폴더 \n",
    "\n",
    "'''\n",
    "aug_image function:\n",
    "[arguments]\n",
    "- path = augmentation적용할 이미지를 불러올 폴더\n",
    "- deg = float 또는 int type의 rotation시킬 각도(random변수로 앞에서 지정)\n",
    "\n",
    "[function]\n",
    "M = cv2.getRotationMatrix2D((x,y),angle,scale)\n",
    "(x,y) = 회전 중심점\n",
    "angle = 회전 중심점을 기준으로 회전할 각도\n",
    "scale = 이미지의 확대 및 축소 비율 (default:1 = 인풋 크기 그대로)\n",
    "cv2.warpAffine(image, M, (dsize)) = 아핀 변환 함수(cv2.warpAffine)로 회전 변환을 계산\n",
    "-> M = 계산할 matrix\n",
    "-> dsize = tuple 타입의 출력 이미지의 너비와 높이.\n",
    "'''\n"
   ]
  },
  {
   "cell_type": "code",
   "execution_count": 11,
   "metadata": {},
   "outputs": [],
   "source": [
    "Extension= '.jpg'\n",
    "\n",
    "#aug1_path = image \n",
    "#aug2_path = lbl_image \n",
    "\n",
    "def aug_image(fnr_path, lbl_fnr_path, aug1_path, aug2_path):\n",
    "    global flip_dic #json 파일 생성을 위해 global 함수로 선언해줌\n",
    "    image = cv2.imread(fnr_path,cv2.IMREAD_COLOR) #글씨 제거한 사진 input으로 넣어줌\n",
    "    lbl_image= cv2.imread(lbl_fnr_path,cv2.IMREAD_COLOR) #labelled_data는 원본으로 넣어줌 \n",
    "    rows,cols,c = image.shape\n",
    "\n",
    "    \n",
    "    print(\"This time, We are going to 'Rotate' and 'Flip' your image.\\n\")\n",
    "    print('*------------------------------------------------------------*\\n')\n",
    "    print(\"First, Input the degree! It wil be the maximum value on your 'countclockwise' rotation range.\")\n",
    "    x = int(input('minimum of degree:'))\n",
    "    y = int(input('maximum of degree:'))\n",
    "    print(\"\\n\")\n",
    "    print(\"Let's move on to 'FLIP'\\n\")\n",
    "    print(\"We'll give you THREE options. Please choose one of them.\\n\")\n",
    "    print(\"OPTION 1: Flip the image vertically, horizontally.\")\n",
    "    print(\"OPTION 2: Flip the image ONLY vertically.\")\n",
    "    print(\"OPTION 3: Flip the image ONLY horizontally.\\n\")\n",
    "    ans_flip = int(input(\"What option would you like to choose?(Just enter the option number):\"))\n",
    "    \n",
    "    # Rotation\n",
    "    deg = randint(x,y) #회전할 각도를 x, y 사이의 random한 정수로 받음 \n",
    "    M = cv2.getRotationMatrix2D((cols/2,rows/2), deg, 1) #회전중심, 회전 중심점 기준 회전할 각도, 이미지 확대/축소 비율\n",
    "    aug = cv2.warpAffine(image, M, (cols, rows))\n",
    "    aug2 = cv2.warpAffine(lbl_image, M, (cols, rows))\n",
    "    \n",
    "    # Flip\n",
    "    if ans_flip == 1: \n",
    "        aug = cv2.flip(aug,1) # horizontal\n",
    "        aug = cv2.flip(aug,0) # vertical \n",
    "        aug2 = cv2.flip(aug2,1) # horizontal\n",
    "        aug2 = cv2.flip(aug2,0) # vertical \n",
    "        cv2.imwrite(aug1_path + \"/rot-%s-flipVH\"%str(deg)+Extension, aug)\n",
    "        cv2.imwrite(aug2_path + \"/rot-%s-flipVH\"%str(deg)+Extension, aug2)\n",
    "        v, h ='yes','yes'\n",
    "    elif ans_flip == 2: #vertical flip only\n",
    "        aug = cv2.flip(aug,0)\n",
    "        aug2 = cv2.flip(aug2,0) \n",
    "        cv2.imwrite(aug1_path + \"/rot-%s-flipV\"%str(deg)+Extension, aug)\n",
    "        cv2.imwrite(aug2_path + \"/rot-%s-flipV\"%str(deg)+Extension, aug2)\n",
    "        v, h = 'yes','no'\n",
    "    elif ans_flip == 3: #horizontal flip only\n",
    "        aug = cv2.flip(aug,1)\n",
    "        aug2 = cv2.flip(aug2,1)\n",
    "        cv2.imwrite(aug1_path + \"/rot-%s-flipH\"%str(deg)+Extension, aug)\n",
    "        cv2.imwrite(aug2_path + \"/rot-%s-flipH\"%str(deg)+Extension, aug2)\n",
    "        v, h = 'no','yes'\n",
    "\n",
    "    else:\n",
    "        print('[WARNING : TRY AGAIN]')\n",
    "    \n",
    "    flip_dic = {'rotation range (degree)':[x,y],'rotation degree':deg,'vertical flip':v,'horizental flip': h}\n",
    "    return flip_dic"
   ]
  },
  {
   "cell_type": "code",
   "execution_count": 12,
   "metadata": {},
   "outputs": [
    {
     "name": "stdout",
     "output_type": "stream",
     "text": [
      "This time, We are going to 'Rotate' and 'Flip' your image.\n",
      "\n",
      "*------------------------------------------------------------*\n",
      "\n",
      "First, Input the degree! It wil be the maximum value on your 'countclockwise' rotation range.\n",
      "minimum of degree:-20\n",
      "maximum of degree:10\n",
      "\n",
      "\n",
      "Let's move on to 'FLIP'\n",
      "\n",
      "We'll give you THREE options. Please choose one of them.\n",
      "\n",
      "OPTION 1: Flip the image vertically, horizontally.\n",
      "OPTION 2: Flip the image ONLY vertically.\n",
      "OPTION 3: Flip the image ONLY horizontally.\n",
      "\n",
      "What option would you like to choose?(Just enter the option number):1\n"
     ]
    },
    {
     "data": {
      "text/plain": [
       "{'rotation range (degree)': [-20, 10],\n",
       " 'rotation degree': -7,\n",
       " 'vertical flip': 'yes',\n",
       " 'horizental flip': 'yes'}"
      ]
     },
     "execution_count": 12,
     "metadata": {},
     "output_type": "execute_result"
    }
   ],
   "source": [
    "lbl_img_path=lbl_path+'/black_lbl_img.jpg'\n",
    "aug_image(fnr_path, lbl_img_path, aug_ver1_path, lbl_aug_ver1_path)"
   ]
  },
  {
   "cell_type": "markdown",
   "metadata": {},
   "source": [
    "### PadToFixedSize (Padding + Translation)"
   ]
  },
  {
   "cell_type": "code",
   "execution_count": 13,
   "metadata": {},
   "outputs": [],
   "source": [
    "#이후에 128 x 128 사이즈로 patch를 잘라주기 때문에 잘라주면서 남는 공간이 생기지 않도록 128의 배수를 가진 사이즈로 padding 시켜줌 \n",
    "\n",
    "def padding(img,lbl_img, aug1_path, aug2_path, patch_size):\n",
    "    global a, b\n",
    "    x=img.shape[1] #사진의 width = column\n",
    "    y=img.shape[0] #사진의 height = row\n",
    "\n",
    "    maa=patch_size*(max(x,y)//patch_size+2) #128의 배수로 만들기 위해 처리해줌 \n",
    "    mii=patch_size*(max(x,y)//patch_size+1)\n",
    "\n",
    "    if min == x:\n",
    "        a = maa\n",
    "        b = mii\n",
    "        print('width')\n",
    "    else:\n",
    "        a = mii\n",
    "        b = maa\n",
    "        print('height')\n",
    "\n",
    "    a = randrange(mii, maa, patch_size) #mii, maa 사이에서 step=128 (128의 배수)인 random한 정수\n",
    "    b = randrange(mii, maa, patch_size) \n",
    "\n",
    "    aug=iaa.PadToFixedSize(width=b, height=a, position='left-top') #padding을 수행하여 이미지 사이즈로 만들어줌 + translation\n",
    "    pad=aug(image=img)\n",
    "    pad_label=aug(image=lbl_img)\n",
    "\n",
    "    cv2.imwrite(aug1_path + '/af_pad.jpg',pad)\n",
    "    cv2.imwrite(aug2_path +'/af_pad.jpg',pad_label)"
   ]
  },
  {
   "cell_type": "code",
   "execution_count": 14,
   "metadata": {},
   "outputs": [
    {
     "name": "stdout",
     "output_type": "stream",
     "text": [
      "height\n"
     ]
    }
   ],
   "source": [
    "patch_size=128   \n",
    "\n",
    "img_path=glob.glob(aug_ver1_path+'/rot*.jpg') #glob 함수를 이용하여 폴더 내 rot로 시작하는 이름을 가진 flip&rotate마친 후 파일 불러들임 \n",
    "img=cv2.imread(img_path[0])\n",
    "\n",
    "lbl_rot_path = glob.glob(lbl_aug_ver1_path+'/rot*.jpg')\n",
    "lbl_img= cv2.imread(lbl_rot_path[0]) \n",
    "\n",
    "padding(img,lbl_img, aug_ver1_path, lbl_aug_ver1_path, patch_size)"
   ]
  },
  {
   "cell_type": "markdown",
   "metadata": {},
   "source": [
    "## Patch 자르고 저장하기 "
   ]
  },
  {
   "cell_type": "code",
   "execution_count": 15,
   "metadata": {},
   "outputs": [],
   "source": [
    "#patch_size=128\n",
    "\n",
    "def save_patches(pad_path,save_path,patch_size):\n",
    "    global p_num\n",
    "    img = cv2.imread(pad_path) #padding 후의 이미지 input으로 넣어주기\n",
    "    # one image -> patches\n",
    "    patches = patchify(img,(patch_size,patch_size,3), step=patch_size)\n",
    " \n",
    "    #patach 저장시키는 코드\n",
    "    for i in range(patches.shape[0]):\n",
    "        for j in range(patches.shape[1]):\n",
    "            single_patch = patches[i,j,0,:,:,:]\n",
    "            cv2.imwrite(save_path+'/img_%s_%s.jpg'%(str(i),str(j)),single_patch)\n",
    "            p_num = (i+1)*(j+1) #patch의 개수 반환해줌 \n",
    "    return p_num"
   ]
  },
  {
   "cell_type": "code",
   "execution_count": 16,
   "metadata": {},
   "outputs": [
    {
     "data": {
      "text/plain": [
       "169"
      ]
     },
     "execution_count": 16,
     "metadata": {},
     "output_type": "execute_result"
    }
   ],
   "source": [
    "pad_path = aug_ver1_path+'/af_pad.jpg'\n",
    "lbl_pad_path=lbl_aug_ver1_path+'/af_pad.jpg'\n",
    "\n",
    "save_patches(pad_path,aug_patch_path,patch_size)\n",
    "save_patches(lbl_pad_path,lbl_aug_patch_path,patch_size)"
   ]
  },
  {
   "cell_type": "code",
   "execution_count": 17,
   "metadata": {},
   "outputs": [],
   "source": [
    "def mkJson(JSON):\n",
    "    file_data = OrderedDict()\n",
    "\n",
    "    file_data['Translation(padding)'] = {'paddingBox_height':JSON[0],'paddingBox_width':JSON[1]}\n",
    "    file_data['Rotation_counterClockwise'] = {'range(dgree)':JSON[2],'degree':JSON[3]}\n",
    "    file_data['Flip'] = {'vertical':JSON[4], 'horizontal':JSON[5]}\n",
    "    file_data['number of patches'] = JSON[6]\n",
    "    file_data['size of patches'] = JSON[7]\n",
    "    \n",
    "    file_data['contrast alpha'] = JSON[8]\n",
    "    file_data['shear'] = JSON[9]\n",
    "    \n",
    "    print(json.dumps(file_data,ensure_ascii=False,indent='\\t'))\n",
    "    if JSON[8] == None:\n",
    "        with open(json_path_ver1 + '/descriptor.json','w',encoding='utf-8') as make_file:\n",
    "            json.dump(file_data,make_file,ensure_ascii=False,indent='\\t')\n",
    "    else:\n",
    "        with open(json_path_ver2 + '/descriptor.json','w',encoding='utf-8') as make_file:\n",
    "            json.dump(file_data,make_file,ensure_ascii=False,indent='\\t')\n",
    "            \n",
    "# JSON = [a,b,flip_dict['rotation range (degree)'],flip_dict['rotation degree'],flip_dict['vertical flip'],flip_dict['horizental flip'],p_num]\n",
    "# mkJson(JSON"
   ]
  },
  {
   "cell_type": "code",
   "execution_count": 18,
   "metadata": {},
   "outputs": [
    {
     "name": "stdout",
     "output_type": "stream",
     "text": [
      "{\n",
      "\t\"Translation(padding)\": {\n",
      "\t\t\"paddingBox_height\": 1664,\n",
      "\t\t\"paddingBox_width\": 1664\n",
      "\t},\n",
      "\t\"Rotation_counterClockwise\": {\n",
      "\t\t\"range(dgree)\": [\n",
      "\t\t\t-20,\n",
      "\t\t\t10\n",
      "\t\t],\n",
      "\t\t\"degree\": -7\n",
      "\t},\n",
      "\t\"Flip\": {\n",
      "\t\t\"vertical\": \"yes\",\n",
      "\t\t\"horizontal\": \"yes\"\n",
      "\t},\n",
      "\t\"number of patches\": 169,\n",
      "\t\"size of patches\": 128,\n",
      "\t\"contrast alpha\": null,\n",
      "\t\"shear\": null\n",
      "}\n"
     ]
    }
   ],
   "source": [
    "JSON = [a,b,\n",
    "        flip_dic['rotation range (degree)'],\n",
    "        flip_dic['rotation degree'],\n",
    "        flip_dic['vertical flip'],flip_dic['horizental flip'],\n",
    "        p_num,patch_size,None,None]\n",
    "\n",
    "mkJson(JSON)"
   ]
  },
  {
   "cell_type": "markdown",
   "metadata": {},
   "source": [
    "## Augmentation Ver.2 \n",
    "### Shear + GrayScale + Contrast + Flip + Rotation + Translation + Padding"
   ]
  },
  {
   "cell_type": "code",
   "execution_count": 24,
   "metadata": {},
   "outputs": [],
   "source": [
    "def shear(fnr_path, lbl_img_path):\n",
    "    global shear\n",
    "    src = cv2.imread(fnr_path) \n",
    "    lbl_src=cv2.imread(lbl_path+'/black_lbl_img.jpg')\n",
    "\n",
    "    shear=uniform(0,2)\n",
    "    aff = np.array([[1, 0.5, 0], [0, 1, 0]], dtype=np.float32)\n",
    "\n",
    "    h, w = src.shape[:2] \n",
    "    dst=cv2.warpAffine(src, aff, (w + int(h * shear), h)) #x축을  y축 대비 shear의 이븅로 기울인 효과 \n",
    "    lbl_dst=cv2.warpAffine(lbl_src, aff, (w + int(h * shear), h))\n",
    "    cv2.imwrite(aug_ver2_path+'/shear.jpg',dst)\n",
    "    cv2.imwrite(lbl_aug_ver2_path+'/shear.jpg',lbl_dst)\n",
    "    return shear\n",
    "\n",
    "#dst의 크기는 affine 변환 행렬에서 x축 방향으로 늘어난 만큼 더 더해주어야 합니다.\n",
    "# affine 변환 행렬에서 x축의 사이즈가 늘어난 크기는 y축 사이즈의 shear배 만큼 늘어나게 되므로 (h*shear)를 w에 더해줍니다."
   ]
  },
  {
   "cell_type": "code",
   "execution_count": 25,
   "metadata": {},
   "outputs": [
    {
     "data": {
      "text/plain": [
       "0.4515845132460201"
      ]
     },
     "execution_count": 25,
     "metadata": {},
     "output_type": "execute_result"
    }
   ],
   "source": [
    "lbl_img_path=lbl_path+'/black_lbl_img.jpg'\n",
    "shear(fnr_path,lbl_img_path)"
   ]
  },
  {
   "cell_type": "code",
   "execution_count": 36,
   "metadata": {},
   "outputs": [],
   "source": [
    "Extension='.jpg'\n",
    "def contrast(min_val, max_val):\n",
    "    global alpha\n",
    "    #gray = cv2.cvtColor(img, cv2.COLOR_GRAY2RGB)\n",
    "    image=cv2.imread(aug_ver2_path+'/shear.jpg',cv2.IMREAD_COLOR)\n",
    "    lbl_image=cv2.imread(lbl_aug_ver2_path+'/shear.jpg',cv2.IMREAD_COLOR)\n",
    "    gray = cv2.cvtColor(image, cv2.COLOR_BGR2GRAY) #이미지 gray scale로 변환시켜줌 \n",
    "    #gray_lbl = cv2.cvtColor(lbl_image, cv2.COLOR_BGR2GRAY)\n",
    "    alpha = int(uniform(min_val, max_val))*0.4 #Contrast control,사용자가 입력하는 범위 내에서 랜덤으로 alpha값 적용\n",
    "    adjusted = cv2.convertScaleAbs(gray, alpha=alpha) \n",
    "    lbl_adjusted = cv2.convertScaleAbs(lbl_image, alpha=alpha)\n",
    "    #lbl_adjusted = cv2.convertScaleAbs(gray_lbl, alpha=alpha)\n",
    "    cv2.imwrite(aug_ver2_path + \"/contrast-%s\"%str(alpha)+Extension, adjusted)\n",
    "    cv2.imwrite(lbl_aug_ver2_path + \"/contrast-%s\"%str(alpha)+Extension, lbl_adjusted)\n",
    "    #return alpha"
   ]
  },
  {
   "cell_type": "code",
   "execution_count": 37,
   "metadata": {},
   "outputs": [],
   "source": [
    "contrast(1, 5)"
   ]
  },
  {
   "cell_type": "code",
   "execution_count": 28,
   "metadata": {},
   "outputs": [
    {
     "name": "stdout",
     "output_type": "stream",
     "text": [
      "This time, We are going to 'Rotate' and 'Flip' your image.\n",
      "\n",
      "*------------------------------------------------------------*\n",
      "\n",
      "First, Input the degree! It wil be the maximum value on your 'countclockwise' rotation range.\n",
      "minimum of degree:-20\n",
      "maximum of degree:30\n",
      "\n",
      "\n",
      "Let's move on to 'FLIP'\n",
      "\n",
      "We'll give you THREE options. Please choose one of them.\n",
      "\n",
      "OPTION 1: Flip the image vertically, horizontally.\n",
      "OPTION 2: Flip the image ONLY vertically.\n",
      "OPTION 3: Flip the image ONLY horizontally.\n",
      "\n",
      "What option would you like to choose?(Just enter the option number):3\n"
     ]
    },
    {
     "data": {
      "text/plain": [
       "{'rotation range (degree)': [-20, 30],\n",
       " 'rotation degree': 7,\n",
       " 'vertical flip': 'no',\n",
       " 'horizental flip': 'yes'}"
      ]
     },
     "execution_count": 28,
     "metadata": {},
     "output_type": "execute_result"
    }
   ],
   "source": [
    "fnr_path=glob.glob(aug_ver2_path+'/contrast*.jpg') #contrast 진행 후 이미지를 glob함수로 불러들여서 flip & rotate 진행 \n",
    "fnr_path=fnr_path[0]\n",
    "\n",
    "lbl_fnr_path=glob.glob(lbl_aug_ver2_path+'/contrast*.jpg')\n",
    "lbl_fnr_path=lbl_fnr_path[0]\n",
    "\n",
    "\n",
    "aug_image(fnr_path, lbl_fnr_path, aug_ver2_path, lbl_aug_ver2_path)"
   ]
  },
  {
   "cell_type": "code",
   "execution_count": 29,
   "metadata": {},
   "outputs": [
    {
     "name": "stdout",
     "output_type": "stream",
     "text": [
      "height\n"
     ]
    }
   ],
   "source": [
    "img_path=glob.glob(aug_ver2_path+'/rot*.jpg')\n",
    "img=cv2.imread(img_path[0])\n",
    "\n",
    "lbl_path = glob.glob(lbl_aug_ver2_path+'/rot*.jpg')\n",
    "lbl_img= cv2.imread(lbl_path[0])\n",
    "\n",
    "padding(img,lbl_img, aug_ver2_path, lbl_aug_ver2_path, patch_size)"
   ]
  },
  {
   "cell_type": "code",
   "execution_count": 33,
   "metadata": {},
   "outputs": [],
   "source": [
    "#patch_size=128\n",
    "\n",
    "def save_patches_ver2(pad_path,save_path,patch_size):\n",
    "    global p_num\n",
    "    img = cv2.imread(pad_path) #padding 후의 이미지 input으로 넣어주기\n",
    "    # one image -> patches\n",
    "    patches = patchify(img,(patch_size,patch_size,3), step=patch_size)\n",
    " \n",
    "    #patach 저장시키는 코드\n",
    "    for i in range(patches.shape[0]):\n",
    "        for j in range(patches.shape[1]):\n",
    "            single_patch = patches[i,j,0,:,:,:]\n",
    "            cv2.imwrite(save_path+'/v2_img_%s_%s.jpg'%(str(i),str(j)),single_patch)\n",
    "            p_num = (i+1)*(j+1) #patch의 개수 반환해줌 \n",
    "    return p_num"
   ]
  },
  {
   "cell_type": "code",
   "execution_count": 35,
   "metadata": {},
   "outputs": [
    {
     "data": {
      "text/plain": [
       "289"
      ]
     },
     "execution_count": 35,
     "metadata": {},
     "output_type": "execute_result"
    }
   ],
   "source": [
    "pad_path = aug_ver2_path+'/af_pad.jpg'\n",
    "lbl_pad_path=lbl_aug_ver2_path+'/af_pad.jpg'\n",
    "\n",
    "save_patches_ver2(pad_path,aug2_patch_path,patch_size)\n",
    "save_patches_ver2(lbl_pad_path,lbl_aug2_patch_path,patch_size)"
   ]
  },
  {
   "cell_type": "markdown",
   "metadata": {},
   "source": [
    "## JSON"
   ]
  },
  {
   "cell_type": "code",
   "execution_count": 31,
   "metadata": {},
   "outputs": [
    {
     "name": "stdout",
     "output_type": "stream",
     "text": [
      "{\n",
      "\t\"Translation(padding)\": {\n",
      "\t\t\"paddingBox_height\": 2176,\n",
      "\t\t\"paddingBox_width\": 2176\n",
      "\t},\n",
      "\t\"Rotation_counterClockwise\": {\n",
      "\t\t\"range(dgree)\": [\n",
      "\t\t\t-20,\n",
      "\t\t\t30\n",
      "\t\t],\n",
      "\t\t\"degree\": 7\n",
      "\t},\n",
      "\t\"Flip\": {\n",
      "\t\t\"vertical\": \"no\",\n",
      "\t\t\"horizontal\": \"yes\"\n",
      "\t},\n",
      "\t\"number of patches\": 289,\n",
      "\t\"size of patches\": 128,\n",
      "\t\"contrast alpha\": 0.8,\n",
      "\t\"shear\": 0.4515845132460201\n",
      "}\n"
     ]
    }
   ],
   "source": [
    "JSON = [a,b,\n",
    "        flip_dic['rotation range (degree)'],\n",
    "        flip_dic['rotation degree'],\n",
    "        flip_dic['vertical flip'],flip_dic['horizental flip'],\n",
    "        p_num, patch_size, alpha, shear]\n",
    "\n",
    "mkJson(JSON)"
   ]
  }
 ],
 "metadata": {
  "kernelspec": {
   "display_name": "Python 3",
   "language": "python",
   "name": "python3"
  },
  "language_info": {
   "codemirror_mode": {
    "name": "ipython",
    "version": 3
   },
   "file_extension": ".py",
   "mimetype": "text/x-python",
   "name": "python",
   "nbconvert_exporter": "python",
   "pygments_lexer": "ipython3",
   "version": "3.8.5"
  }
 },
 "nbformat": 4,
 "nbformat_minor": 4
}

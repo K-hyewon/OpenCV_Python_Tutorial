{
  "nbformat": 4,
  "nbformat_minor": 0,
  "metadata": {
    "colab": {
      "name": "crop_and_save.ipynb",
      "provenance": [],
      "collapsed_sections": []
    },
    "kernelspec": {
      "name": "python3",
      "display_name": "Python 3"
    },
    "language_info": {
      "name": "python"
    }
  },
  "cells": [
    {
      "cell_type": "code",
      "metadata": {
        "id": "NDEv0dFknGFk"
      },
      "source": [
        "train_save_path = '.\\\\result\\\\train\\\\'\n",
        "label_save_path = '.\\\\result\\\\label\\\\'"
      ],
      "execution_count": null,
      "outputs": []
    },
    {
      "cell_type": "code",
      "metadata": {
        "id": "cX1-WQRrm9eO"
      },
      "source": [
        "def crop_image(img, name, save_path, i, j, k, init_x, init_y):\n",
        "    \n",
        "    img_result = img[j*128 : (j+1)*128, k*128 : (k+1)*128]\n",
        "    #print(img_result.shape)\n",
        "\n",
        "    if img_result.shape[1]!=128 or img_result.shape[0]!=128:\n",
        "        print('image save has passed')\n",
        "        pass\n",
        "    \n",
        "    else:\n",
        "        new_save_path = save_path + str(name) + '_' + str(i) + '_' + str(j) + '_' + str(k) + '_' + str(init_x) + '_' + str(init_y) + '_augmented_' + '.png'\n",
        "        print(new_save_path)\n",
        "        plt.imsave(new_save_path, img_result)"
      ],
      "execution_count": null,
      "outputs": []
    },
    {
      "cell_type": "code",
      "metadata": {
        "id": "vgT0nkajgFNe"
      },
      "source": [
        "train_x = []\n",
        "train_y = []\n",
        "\n",
        "\n",
        "for i in range(12):\n",
        "    for random_num in range(4):\n",
        "\n",
        "        crop_value_1 = img.shape[1]//128\n",
        "        crop_value_2 = img.shape[0]//128\n",
        "\n",
        "        for j in range(crop_value_1):\n",
        "            for k in range(crop_value_2):\n",
        "                crop_image(img, train_data[i][17:-4], train_save_path, i, j, k, width_shift, height_shift)\n",
        "                crop_image(label, train_label[i][17:-4], label_save_path, i, j, k, width_shift, height_shift)"
      ],
      "execution_count": null,
      "outputs": []
    }
  ]
}
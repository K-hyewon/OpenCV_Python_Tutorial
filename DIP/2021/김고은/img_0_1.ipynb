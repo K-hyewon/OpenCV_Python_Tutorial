{
  "nbformat": 4,
  "nbformat_minor": 0,
  "metadata": {
    "colab": {
      "name": "img_0_1.ipynb",
      "provenance": [],
      "collapsed_sections": [],
      "authorship_tag": "ABX9TyNBZd1/hU04AqtOyy2jCGzb",
      "include_colab_link": true
    },
    "kernelspec": {
      "name": "python3",
      "display_name": "Python 3"
    },
    "language_info": {
      "name": "python"
    }
  },
  "cells": [
    {
      "cell_type": "markdown",
      "metadata": {
        "id": "view-in-github",
        "colab_type": "text"
      },
      "source": [
        "<a href=\"https://colab.research.google.com/github/dsaint31x/OpenCV_Python_Tutorial/blob/master/DIP/2021/%EA%B9%80%EA%B3%A0%EC%9D%80/img_0_1.ipynb\" target=\"_parent\"><img src=\"https://colab.research.google.com/assets/colab-badge.svg\" alt=\"Open In Colab\"/></a>"
      ]
    },
    {
      "cell_type": "code",
      "metadata": {
        "colab": {
          "base_uri": "https://localhost:8080/"
        },
        "id": "6Pgno-TeEJqu",
        "outputId": "a97cc7cc-9aa5-48da-f2ee-106a10f5275e"
      },
      "source": [
        "from google.colab import drive\n",
        "drive.mount('/content/drive')"
      ],
      "execution_count": null,
      "outputs": [
        {
          "output_type": "stream",
          "name": "stdout",
          "text": [
            "Mounted at /content/drive\n"
          ]
        }
      ]
    },
    {
      "cell_type": "code",
      "metadata": {
        "id": "cJluUBxVENuN"
      },
      "source": [
        "import cv2\n",
        "import numpy as np"
      ],
      "execution_count": null,
      "outputs": []
    },
    {
      "cell_type": "code",
      "metadata": {
        "colab": {
          "base_uri": "https://localhost:8080/"
        },
        "id": "GgIQdkZrEVlk",
        "outputId": "ae81f054-073d-4e76-a098-5759822f7b18"
      },
      "source": [
        "img = cv2.imread('/content/drive/MyDrive/Classroom/3-2/ImageProcessing/SLA_image.png')\n",
        "print(img.shape) # 2,3,3 -> 틀림 -> 복습 필요\n",
        "img"
      ],
      "execution_count": null,
      "outputs": [
        {
          "output_type": "stream",
          "name": "stdout",
          "text": [
            "(720, 960, 3)\n"
          ]
        },
        {
          "output_type": "execute_result",
          "data": {
            "text/plain": [
              "array([[[  0, 255,   0],\n",
              "        [  0, 255,   0],\n",
              "        [  0, 255,   0],\n",
              "        ...,\n",
              "        [  0, 255,   0],\n",
              "        [  0, 255,   0],\n",
              "        [  0, 255,   0]],\n",
              "\n",
              "       [[  0, 255,   0],\n",
              "        [  0, 255,   0],\n",
              "        [  0, 255,   0],\n",
              "        ...,\n",
              "        [  0, 255,   0],\n",
              "        [  0, 255,   0],\n",
              "        [  0, 255,   0]],\n",
              "\n",
              "       [[  0, 255,   0],\n",
              "        [  0, 255,   0],\n",
              "        [  0, 255,   0],\n",
              "        ...,\n",
              "        [  0, 255,   0],\n",
              "        [  0, 255,   0],\n",
              "        [  0, 255,   0]],\n",
              "\n",
              "       ...,\n",
              "\n",
              "       [[  0,   0, 255],\n",
              "        [  0,   0, 255],\n",
              "        [  0,   0, 255],\n",
              "        ...,\n",
              "        [  0,   0, 255],\n",
              "        [  0,   0, 255],\n",
              "        [  0,   0, 255]],\n",
              "\n",
              "       [[  0,   0, 255],\n",
              "        [  0,   0, 255],\n",
              "        [  0,   0, 255],\n",
              "        ...,\n",
              "        [  0,   0, 255],\n",
              "        [  0,   0, 255],\n",
              "        [  0,   0, 255]],\n",
              "\n",
              "       [[  0,   0, 255],\n",
              "        [  0,   0, 255],\n",
              "        [  0,   0, 255],\n",
              "        ...,\n",
              "        [  0,   0, 255],\n",
              "        [  0,   0, 255],\n",
              "        [  0,   0, 255]]], dtype=uint8)"
            ]
          },
          "metadata": {},
          "execution_count": 4
        }
      ]
    },
    {
      "cell_type": "code",
      "metadata": {
        "colab": {
          "base_uri": "https://localhost:8080/"
        },
        "id": "LbGyl0sHEnJV",
        "outputId": "9045f0b2-c1e3-46bb-8052-e6f42d03b609"
      },
      "source": [
        "type(img)"
      ],
      "execution_count": null,
      "outputs": [
        {
          "output_type": "execute_result",
          "data": {
            "text/plain": [
              "numpy.ndarray"
            ]
          },
          "metadata": {},
          "execution_count": 5
        }
      ]
    },
    {
      "cell_type": "markdown",
      "metadata": {
        "id": "hq2gNJ1LyCY7"
      },
      "source": [
        "np.where??\n",
        "\n",
        "이해 안됨."
      ]
    },
    {
      "cell_type": "code",
      "metadata": {
        "colab": {
          "base_uri": "https://localhost:8080/"
        },
        "id": "LIKvl_wJEoe1",
        "outputId": "b0ff14e9-79e6-42f4-f517-5547498f77bf"
      },
      "source": [
        "# 조건, 조건true면 할당하는 값=1, 조건 false면 할당하는 값=img\n",
        "# 아래 둘다 같은 결과\n",
        "\n",
        "# one_hot = np.where(img>0, 1, 0) \n",
        "one_hot = np.where(img>0, 1, img) \n",
        "\n",
        "print(one_hot)"
      ],
      "execution_count": null,
      "outputs": [
        {
          "output_type": "stream",
          "name": "stdout",
          "text": [
            "[[[0 1 0]\n",
            "  [0 1 0]\n",
            "  [0 1 0]\n",
            "  ...\n",
            "  [0 1 0]\n",
            "  [0 1 0]\n",
            "  [0 1 0]]\n",
            "\n",
            " [[0 1 0]\n",
            "  [0 1 0]\n",
            "  [0 1 0]\n",
            "  ...\n",
            "  [0 1 0]\n",
            "  [0 1 0]\n",
            "  [0 1 0]]\n",
            "\n",
            " [[0 1 0]\n",
            "  [0 1 0]\n",
            "  [0 1 0]\n",
            "  ...\n",
            "  [0 1 0]\n",
            "  [0 1 0]\n",
            "  [0 1 0]]\n",
            "\n",
            " ...\n",
            "\n",
            " [[0 0 1]\n",
            "  [0 0 1]\n",
            "  [0 0 1]\n",
            "  ...\n",
            "  [0 0 1]\n",
            "  [0 0 1]\n",
            "  [0 0 1]]\n",
            "\n",
            " [[0 0 1]\n",
            "  [0 0 1]\n",
            "  [0 0 1]\n",
            "  ...\n",
            "  [0 0 1]\n",
            "  [0 0 1]\n",
            "  [0 0 1]]\n",
            "\n",
            " [[0 0 1]\n",
            "  [0 0 1]\n",
            "  [0 0 1]\n",
            "  ...\n",
            "  [0 0 1]\n",
            "  [0 0 1]\n",
            "  [0 0 1]]]\n"
          ]
        }
      ]
    },
    {
      "cell_type": "code",
      "metadata": {
        "id": "EbrpXP71Epm1",
        "colab": {
          "base_uri": "https://localhost:8080/"
        },
        "outputId": "c54186e5-9f40-4c58-b750-412e3095cef4"
      },
      "source": [
        "a = np.arange(10,20)\n",
        "a"
      ],
      "execution_count": null,
      "outputs": [
        {
          "output_type": "execute_result",
          "data": {
            "text/plain": [
              "array([10, 11, 12, 13, 14, 15, 16, 17, 18, 19])"
            ]
          },
          "metadata": {},
          "execution_count": 8
        }
      ]
    },
    {
      "cell_type": "code",
      "metadata": {
        "colab": {
          "base_uri": "https://localhost:8080/"
        },
        "id": "k_58pjVQzgPx",
        "outputId": "df1b7614-966c-491d-9b2a-b33103986f90"
      },
      "source": [
        "b = np.array([[12, 9, 83, 40],\n",
        "              [73, 59, 24, 2],\n",
        "              [44, 3, 18, 65]])\n",
        "b"
      ],
      "execution_count": null,
      "outputs": [
        {
          "output_type": "execute_result",
          "data": {
            "text/plain": [
              "array([[12,  9, 83, 40],\n",
              "       [73, 59, 24,  2],\n",
              "       [44,  3, 18, 65]])"
            ]
          },
          "metadata": {},
          "execution_count": 10
        }
      ]
    },
    {
      "cell_type": "code",
      "metadata": {
        "colab": {
          "base_uri": "https://localhost:8080/"
        },
        "id": "OI-DSIZ5zjzE",
        "outputId": "6c7507e1-2398-4738-fc7e-f5916cda7015"
      },
      "source": [
        "np.where(a>15) # 인덱스, 즉 위치를 반환"
      ],
      "execution_count": null,
      "outputs": [
        {
          "output_type": "execute_result",
          "data": {
            "text/plain": [
              "(array([6, 7, 8, 9]),)"
            ]
          },
          "metadata": {},
          "execution_count": 12
        }
      ]
    },
    {
      "cell_type": "code",
      "metadata": {
        "colab": {
          "base_uri": "https://localhost:8080/"
        },
        "id": "jwpfOjLIzn0t",
        "outputId": "f51de1d0-43d6-4e71-db8a-b501264339b5"
      },
      "source": [
        "np.where(a==10)"
      ],
      "execution_count": null,
      "outputs": [
        {
          "output_type": "execute_result",
          "data": {
            "text/plain": [
              "(array([0]),)"
            ]
          },
          "metadata": {},
          "execution_count": 14
        }
      ]
    },
    {
      "cell_type": "code",
      "metadata": {
        "colab": {
          "base_uri": "https://localhost:8080/"
        },
        "id": "J0Wk7N0qzsex",
        "outputId": "d9a10fd3-eeeb-4bb4-c9f0-913d34bba52a"
      },
      "source": [
        "np.where(a > 15, True, False)"
      ],
      "execution_count": null,
      "outputs": [
        {
          "output_type": "execute_result",
          "data": {
            "text/plain": [
              "array([False, False, False, False, False, False,  True,  True,  True,\n",
              "        True])"
            ]
          },
          "metadata": {},
          "execution_count": 15
        }
      ]
    },
    {
      "cell_type": "markdown",
      "metadata": {
        "id": "jXJs80wv067X"
      },
      "source": [
        "값을 반환하고 싶으면?"
      ]
    },
    {
      "cell_type": "code",
      "metadata": {
        "colab": {
          "base_uri": "https://localhost:8080/"
        },
        "id": "wH44TFH3z5tB",
        "outputId": "3b460c50-3c40-417a-9e06-1ae50c50d48f"
      },
      "source": [
        "b[np.where(b>20)]"
      ],
      "execution_count": null,
      "outputs": [
        {
          "output_type": "execute_result",
          "data": {
            "text/plain": [
              "array([83, 40, 73, 59, 24, 44, 65])"
            ]
          },
          "metadata": {},
          "execution_count": 24
        }
      ]
    },
    {
      "cell_type": "markdown",
      "metadata": {
        "id": "yZnpfLZj04b-"
      },
      "source": [
        "조건에 맞는 값 찾기-np.max, np.min, np.sort"
      ]
    },
    {
      "cell_type": "code",
      "metadata": {
        "colab": {
          "base_uri": "https://localhost:8080/"
        },
        "id": "yhFRoDtS0ZZA",
        "outputId": "b93c3a31-390b-4375-9bbc-eb6cadf93e1e"
      },
      "source": [
        "# np.max(a)\n",
        "max(a)\n",
        "np.min(a)\n",
        "min(a)\n",
        "np.sort(a)"
      ],
      "execution_count": null,
      "outputs": [
        {
          "output_type": "execute_result",
          "data": {
            "text/plain": [
              "array([10, 11, 12, 13, 14, 15, 16, 17, 18, 19])"
            ]
          },
          "metadata": {},
          "execution_count": 22
        }
      ]
    },
    {
      "cell_type": "markdown",
      "metadata": {
        "id": "4j8k12hB0kff"
      },
      "source": [
        "조건에 맞는 인덱스 찾기- np.argmax, np.argmin, np.argsort"
      ]
    },
    {
      "cell_type": "code",
      "metadata": {
        "colab": {
          "base_uri": "https://localhost:8080/"
        },
        "id": "gsAZwOLF03eZ",
        "outputId": "f2261efa-6596-44af-98c5-ab497271504e"
      },
      "source": [
        "np.argmax(a)\n",
        "np.argmin(a)\n",
        "np.argsort(a) # 값이 작은 순서대로 그 위치를 반환"
      ],
      "execution_count": null,
      "outputs": [
        {
          "output_type": "execute_result",
          "data": {
            "text/plain": [
              "array([0, 1, 2, 3, 4, 5, 6, 7, 8, 9])"
            ]
          },
          "metadata": {},
          "execution_count": 27
        }
      ]
    },
    {
      "cell_type": "code",
      "metadata": {
        "id": "0MIkGMOJ1AV0"
      },
      "source": [
        ""
      ],
      "execution_count": null,
      "outputs": []
    }
  ]
}
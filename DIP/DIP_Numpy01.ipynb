{
  "nbformat": 4,
  "nbformat_minor": 0,
  "metadata": {
    "colab": {
      "name": "DIP_Numpy01.ipynb",
      "provenance": [],
      "collapsed_sections": [
        "i5LVKihH-Any",
        "VW2kRHBk-qbO",
        "nE3FMUMF_CcD"
      ],
      "authorship_tag": "ABX9TyPEe9tLM8eV0HjCfmsXx+a6"
    },
    "kernelspec": {
      "name": "python3",
      "display_name": "Python 3"
    }
  },
  "cells": [
    {
      "cell_type": "code",
      "metadata": {
        "id": "JQvWdgTqWn_Y",
        "colab_type": "code",
        "colab": {
          "base_uri": "https://localhost:8080/",
          "height": 35
        },
        "outputId": "c5938f25-9b6e-4a4c-8439-12004c408f33"
      },
      "source": [
        "import tensorflow as tf\n",
        "import numpy as np\n",
        "np.__version__"
      ],
      "execution_count": 1,
      "outputs": [
        {
          "output_type": "execute_result",
          "data": {
            "application/vnd.google.colaboratory.intrinsic+json": {
              "type": "string"
            },
            "text/plain": [
              "'1.18.5'"
            ]
          },
          "metadata": {
            "tags": []
          },
          "execution_count": 1
        }
      ]
    },
    {
      "cell_type": "code",
      "metadata": {
        "id": "66gKJBS4n6Yo",
        "colab_type": "code",
        "colab": {
          "base_uri": "https://localhost:8080/",
          "height": 35
        },
        "outputId": "28e1cad3-e3c2-40d2-b808-cd41d3fead5e"
      },
      "source": [
        "tf.__version__"
      ],
      "execution_count": 2,
      "outputs": [
        {
          "output_type": "execute_result",
          "data": {
            "application/vnd.google.colaboratory.intrinsic+json": {
              "type": "string"
            },
            "text/plain": [
              "'2.3.0'"
            ]
          },
          "metadata": {
            "tags": []
          },
          "execution_count": 2
        }
      ]
    },
    {
      "cell_type": "markdown",
      "metadata": {
        "id": "9qKKSyet4KwN",
        "colab_type": "text"
      },
      "source": [
        "`np.array ( list [,dtype])`\n",
        "\n",
        "* list등으로 `ndarray` 생성.\n",
        "* `dtype` : data type of element.\n",
        "   * `float64` : default type in the numpy.\n",
        "   * `uint8` : unsigned int (8bit), the most commonly used for image processing\n",
        "   * `int8` : signed int (8bit)\n",
        "   * `floast32` : float (32bit)"
      ]
    },
    {
      "cell_type": "code",
      "metadata": {
        "id": "iHJMa0O24JgA",
        "colab_type": "code",
        "colab": {
          "base_uri": "https://localhost:8080/",
          "height": 51
        },
        "outputId": "4fea8b47-3a12-43e5-f9ec-7e2fb4dc01b4"
      },
      "source": [
        "t = (1,2,3,4,5,6)\n",
        "a = np.array(t)\n",
        "print(type(t))\n",
        "print(type(a))"
      ],
      "execution_count": 4,
      "outputs": [
        {
          "output_type": "stream",
          "text": [
            "<class 'tuple'>\n",
            "<class 'numpy.ndarray'>\n"
          ],
          "name": "stdout"
        }
      ]
    },
    {
      "cell_type": "code",
      "metadata": {
        "id": "qMsjg-b0ZLcJ",
        "colab_type": "code",
        "colab": {
          "base_uri": "https://localhost:8080/",
          "height": 103
        },
        "outputId": "c715ff3e-81dc-41e3-e04e-2d09adabab68"
      },
      "source": [
        "print(a.ndim)\n",
        "print(a.shape)\n",
        "print(a.itemsize) #bytes\n",
        "print(a.size)\n",
        "print(a.dtype)"
      ],
      "execution_count": 5,
      "outputs": [
        {
          "output_type": "stream",
          "text": [
            "1\n",
            "(6,)\n",
            "8\n",
            "6\n",
            "int64\n"
          ],
          "name": "stdout"
        }
      ]
    },
    {
      "cell_type": "code",
      "metadata": {
        "id": "vkb26J3zZgJT",
        "colab_type": "code",
        "colab": {
          "base_uri": "https://localhost:8080/",
          "height": 103
        },
        "outputId": "5f0a1268-a1de-4f02-84d2-2c8c6ca8d083"
      },
      "source": [
        "tensor = tf.constant(a)\n",
        "print(tf.rank(tensor))\n",
        "print(tensor.ndim)\n",
        "print(tensor.shape)\n",
        "print(tensor.dtype)\n",
        "tensor"
      ],
      "execution_count": 6,
      "outputs": [
        {
          "output_type": "stream",
          "text": [
            "tf.Tensor(1, shape=(), dtype=int32)\n",
            "1\n",
            "(6,)\n",
            "<dtype: 'int64'>\n"
          ],
          "name": "stdout"
        },
        {
          "output_type": "execute_result",
          "data": {
            "text/plain": [
              "<tf.Tensor: shape=(6,), dtype=int64, numpy=array([1, 2, 3, 4, 5, 6])>"
            ]
          },
          "metadata": {
            "tags": []
          },
          "execution_count": 6
        }
      ]
    },
    {
      "cell_type": "markdown",
      "metadata": {
        "id": "T90fDRMl5jB3",
        "colab_type": "text"
      },
      "source": [
        "# 특정 값으로 초기화한 `ndarray` 생성\n",
        "\n",
        "`zeros`,`ones`, and `full`"
      ]
    },
    {
      "cell_type": "code",
      "metadata": {
        "id": "Ziw_tUUW5ue_",
        "colab_type": "code",
        "colab": {
          "base_uri": "https://localhost:8080/",
          "height": 86
        },
        "outputId": "5df4e1c5-bf14-4669-c615-230839282199"
      },
      "source": [
        "a = np.zeros((3,2))\n",
        "a = np.zeros(shape=(4,4),dtype=np.uint8)\n",
        "a"
      ],
      "execution_count": 7,
      "outputs": [
        {
          "output_type": "execute_result",
          "data": {
            "text/plain": [
              "array([[0, 0, 0, 0],\n",
              "       [0, 0, 0, 0],\n",
              "       [0, 0, 0, 0],\n",
              "       [0, 0, 0, 0]], dtype=uint8)"
            ]
          },
          "metadata": {
            "tags": []
          },
          "execution_count": 7
        }
      ]
    },
    {
      "cell_type": "code",
      "metadata": {
        "id": "AbrU16r0rqK3",
        "colab_type": "code",
        "colab": {
          "base_uri": "https://localhost:8080/",
          "height": 34
        },
        "outputId": "724e5553-df4e-4c34-ab67-da1e0ee36846"
      },
      "source": [
        "len(a.shape)"
      ],
      "execution_count": 9,
      "outputs": [
        {
          "output_type": "execute_result",
          "data": {
            "text/plain": [
              "2"
            ]
          },
          "metadata": {
            "tags": []
          },
          "execution_count": 9
        }
      ]
    },
    {
      "cell_type": "code",
      "metadata": {
        "id": "Ap3hCnBtaMWd",
        "colab_type": "code",
        "colab": {
          "base_uri": "https://localhost:8080/",
          "height": 89
        },
        "outputId": "31add84e-1f9b-475c-e732-4a9b60c80a68"
      },
      "source": [
        "# a_tf = tf.constant(a)\n",
        "a_tf = tf.zeros(shape=(3,2))\n",
        "a_tf\n",
        "# a_tf.numpy()"
      ],
      "execution_count": null,
      "outputs": [
        {
          "output_type": "execute_result",
          "data": {
            "text/plain": [
              "<tf.Tensor: shape=(3, 2), dtype=float32, numpy=\n",
              "array([[0., 0.],\n",
              "       [0., 0.],\n",
              "       [0., 0.]], dtype=float32)>"
            ]
          },
          "metadata": {
            "tags": []
          },
          "execution_count": 22
        }
      ]
    },
    {
      "cell_type": "code",
      "metadata": {
        "id": "WkHyv-r651mK",
        "colab_type": "code",
        "colab": {
          "base_uri": "https://localhost:8080/",
          "height": 206
        },
        "outputId": "de0a7879-13eb-4d4d-ddda-a5338c70ef44"
      },
      "source": [
        "a = np.ones((4,2,3))\n",
        "a"
      ],
      "execution_count": 11,
      "outputs": [
        {
          "output_type": "execute_result",
          "data": {
            "text/plain": [
              "array([[[1., 1., 1.],\n",
              "        [1., 1., 1.]],\n",
              "\n",
              "       [[1., 1., 1.],\n",
              "        [1., 1., 1.]],\n",
              "\n",
              "       [[1., 1., 1.],\n",
              "        [1., 1., 1.]],\n",
              "\n",
              "       [[1., 1., 1.],\n",
              "        [1., 1., 1.]]])"
            ]
          },
          "metadata": {
            "tags": []
          },
          "execution_count": 11
        }
      ]
    },
    {
      "cell_type": "code",
      "metadata": {
        "id": "37CAi5vUamY9",
        "colab_type": "code",
        "colab": {
          "base_uri": "https://localhost:8080/",
          "height": 107
        },
        "outputId": "2952dfad-6a8f-4b5d-d21c-de5adc5b4038"
      },
      "source": [
        "a_tf = tf.ones((4,2), dtype=tf.int64)\n",
        "a_tf"
      ],
      "execution_count": null,
      "outputs": [
        {
          "output_type": "execute_result",
          "data": {
            "text/plain": [
              "<tf.Tensor: shape=(4, 2), dtype=int64, numpy=\n",
              "array([[1, 1],\n",
              "       [1, 1],\n",
              "       [1, 1],\n",
              "       [1, 1]])>"
            ]
          },
          "metadata": {
            "tags": []
          },
          "execution_count": 26
        }
      ]
    },
    {
      "cell_type": "code",
      "metadata": {
        "id": "prC3HMm355l9",
        "colab_type": "code",
        "colab": {
          "base_uri": "https://localhost:8080/",
          "height": 34
        },
        "outputId": "728b49ba-e0f5-4a02-fe3d-2119c264955e"
      },
      "source": [
        "a = np.full((1,3),255)\n",
        "a"
      ],
      "execution_count": 12,
      "outputs": [
        {
          "output_type": "execute_result",
          "data": {
            "text/plain": [
              "array([[255, 255, 255]])"
            ]
          },
          "metadata": {
            "tags": []
          },
          "execution_count": 12
        }
      ]
    },
    {
      "cell_type": "code",
      "metadata": {
        "id": "nJhwZ89uayMB",
        "colab_type": "code",
        "colab": {
          "base_uri": "https://localhost:8080/",
          "height": 35
        },
        "outputId": "fdce5d8c-daef-4540-81b2-c9c8f7e5623d"
      },
      "source": [
        "a_tf = tf.constant(a)\n",
        "a_tf"
      ],
      "execution_count": null,
      "outputs": [
        {
          "output_type": "execute_result",
          "data": {
            "text/plain": [
              "<tf.Tensor: shape=(1, 3), dtype=int64, numpy=array([[7, 7, 7]])>"
            ]
          },
          "metadata": {
            "tags": []
          },
          "execution_count": 29
        }
      ]
    },
    {
      "cell_type": "markdown",
      "metadata": {
        "id": "rg1LU7jH5IGB",
        "colab_type": "text"
      },
      "source": [
        "# 기존의 `ndarray` 와 같은 shape를 가지는 `ndarray`생성\n",
        "\n",
        "`zeros_like`, `ones_like`, and `full_like` "
      ]
    },
    {
      "cell_type": "code",
      "metadata": {
        "id": "L4ag0LTM5_sJ",
        "colab_type": "code",
        "colab": {
          "base_uri": "https://localhost:8080/",
          "height": 86
        },
        "outputId": "d8e83743-a334-4352-bbc7-6cea849a9eb9"
      },
      "source": [
        "s = np.array([[1,2,3],[4,5,6]])\n",
        "print(s.shape)\n",
        "\n",
        "a = np.zeros_like(s)\n",
        "print(a.shape)\n",
        "a"
      ],
      "execution_count": 13,
      "outputs": [
        {
          "output_type": "stream",
          "text": [
            "(2, 3)\n",
            "(2, 3)\n"
          ],
          "name": "stdout"
        },
        {
          "output_type": "execute_result",
          "data": {
            "text/plain": [
              "array([[0, 0, 0],\n",
              "       [0, 0, 0]])"
            ]
          },
          "metadata": {
            "tags": []
          },
          "execution_count": 13
        }
      ]
    },
    {
      "cell_type": "code",
      "metadata": {
        "id": "Evk1B89u6QgA",
        "colab_type": "code",
        "colab": {
          "base_uri": "https://localhost:8080/",
          "height": 68
        },
        "outputId": "e21e6d38-96b0-413b-dba7-fdf9b6b89c43"
      },
      "source": [
        "a = np.ones_like(s)\n",
        "print(a.shape)\n",
        "a"
      ],
      "execution_count": 14,
      "outputs": [
        {
          "output_type": "stream",
          "text": [
            "(2, 3)\n"
          ],
          "name": "stdout"
        },
        {
          "output_type": "execute_result",
          "data": {
            "text/plain": [
              "array([[1, 1, 1],\n",
              "       [1, 1, 1]])"
            ]
          },
          "metadata": {
            "tags": []
          },
          "execution_count": 14
        }
      ]
    },
    {
      "cell_type": "code",
      "metadata": {
        "id": "3KbDRVns6WwS",
        "colab_type": "code",
        "colab": {
          "base_uri": "https://localhost:8080/",
          "height": 51
        },
        "outputId": "e2ee9132-1deb-4209-ac1b-64face03c9c7"
      },
      "source": [
        "a = np.full_like(s,3.0)\n",
        "a"
      ],
      "execution_count": 15,
      "outputs": [
        {
          "output_type": "execute_result",
          "data": {
            "text/plain": [
              "array([[3, 3, 3],\n",
              "       [3, 3, 3]])"
            ]
          },
          "metadata": {
            "tags": []
          },
          "execution_count": 15
        }
      ]
    },
    {
      "cell_type": "markdown",
      "metadata": {
        "id": "G74cZ8N0GZRs",
        "colab_type": "text"
      },
      "source": [
        "# indexing & slicing\n",
        "\n",
        "`ndarray`의 element에 접근하는 것은 indexing을 통해 하나하나에 접근하고, slicing을 통해 특정 영역의 element에 접근 가능함.\n",
        "\n",
        "* list등의 python의 fundamental type들과의 차이는 slicing의 경우에 numpy는 원본을 가리키고 있어서 slicing으로 실제로 원본이 수정되게 됨. (주의 필요.)"
      ]
    },
    {
      "cell_type": "code",
      "metadata": {
        "id": "7L33cIoPHFzZ",
        "colab_type": "code",
        "colab": {
          "base_uri": "https://localhost:8080/",
          "height": 68
        },
        "outputId": "c9558073-7c01-4b81-ed9b-534b75bd4644"
      },
      "source": [
        "A = np.arange(0,12).reshape(3,4)\n",
        "A"
      ],
      "execution_count": 35,
      "outputs": [
        {
          "output_type": "execute_result",
          "data": {
            "text/plain": [
              "array([[ 0,  1,  2,  3],\n",
              "       [ 4,  5,  6,  7],\n",
              "       [ 8,  9, 10, 11]])"
            ]
          },
          "metadata": {
            "tags": []
          },
          "execution_count": 35
        }
      ]
    },
    {
      "cell_type": "code",
      "metadata": {
        "id": "RYJZ9uXfbkl-",
        "colab_type": "code",
        "colab": {
          "base_uri": "https://localhost:8080/",
          "height": 89
        },
        "outputId": "9170b7e1-2385-4828-c168-315c23f2caa9"
      },
      "source": [
        "A_tf = tf.constant(tf.range(0,12),shape=(3,4))\n",
        "A_tf"
      ],
      "execution_count": null,
      "outputs": [
        {
          "output_type": "execute_result",
          "data": {
            "text/plain": [
              "<tf.Tensor: shape=(3, 4), dtype=int32, numpy=\n",
              "array([[ 0,  1,  2,  3],\n",
              "       [ 4,  5,  6,  7],\n",
              "       [ 8,  9, 10, 11]], dtype=int32)>"
            ]
          },
          "metadata": {
            "tags": []
          },
          "execution_count": 40
        }
      ]
    },
    {
      "cell_type": "code",
      "metadata": {
        "id": "gQHQpAusHTz4",
        "colab_type": "code",
        "colab": {
          "base_uri": "https://localhost:8080/",
          "height": 120
        },
        "outputId": "f23aca23-635f-4431-f966-7bff24dc790b"
      },
      "source": [
        "print(A)\n",
        "print(f'A[0] is \"{A[0]}\"')\n",
        "print(f'A[0,2] is \"{A[0,2]}\"')\n",
        "print(f'A[0][2] is \"{A[0][2]}\"')"
      ],
      "execution_count": 23,
      "outputs": [
        {
          "output_type": "stream",
          "text": [
            "[[ 0  1  2  3]\n",
            " [ 4  5  6  7]\n",
            " [ 8  9 10 11]]\n",
            "A[0] is \"[0 1 2 3]\"\n",
            "A[0,2] is \"2\"\n",
            "A[0][2] is \"2\"\n"
          ],
          "name": "stdout"
        }
      ]
    },
    {
      "cell_type": "code",
      "metadata": {
        "id": "6KrRSSU3ut2w",
        "colab_type": "code",
        "colab": {
          "base_uri": "https://localhost:8080/",
          "height": 34
        },
        "outputId": "c13e1342-777c-40e5-f6a5-b7bf99075b56"
      },
      "source": [
        "A[2,2]"
      ],
      "execution_count": 24,
      "outputs": [
        {
          "output_type": "execute_result",
          "data": {
            "text/plain": [
              "10"
            ]
          },
          "metadata": {
            "tags": []
          },
          "execution_count": 24
        }
      ]
    },
    {
      "cell_type": "code",
      "metadata": {
        "id": "eHl_Vun7wawq",
        "colab_type": "code",
        "colab": {
          "base_uri": "https://localhost:8080/",
          "height": 68
        },
        "outputId": "4058fc2e-110e-4ff9-c19d-6940fe68e293"
      },
      "source": [
        "A[2,2] = 77\n",
        "A"
      ],
      "execution_count": 27,
      "outputs": [
        {
          "output_type": "execute_result",
          "data": {
            "text/plain": [
              "array([[ 0,  1,  2,  3],\n",
              "       [ 4,  5,  6,  7],\n",
              "       [ 8,  9, 77, 11]])"
            ]
          },
          "metadata": {
            "tags": []
          },
          "execution_count": 27
        }
      ]
    },
    {
      "cell_type": "code",
      "metadata": {
        "id": "duiFaLnYcFvY",
        "colab_type": "code",
        "colab": {
          "base_uri": "https://localhost:8080/",
          "height": 35
        },
        "outputId": "1442a75d-33bd-4a92-e20d-8d43b369d47d"
      },
      "source": [
        "A_tf[0,2] # scalar"
      ],
      "execution_count": null,
      "outputs": [
        {
          "output_type": "execute_result",
          "data": {
            "text/plain": [
              "<tf.Tensor: shape=(), dtype=int32, numpy=2>"
            ]
          },
          "metadata": {
            "tags": []
          },
          "execution_count": 42
        }
      ]
    },
    {
      "cell_type": "code",
      "metadata": {
        "id": "tZeRYWUoH1wF",
        "colab_type": "code",
        "colab": {
          "base_uri": "https://localhost:8080/",
          "height": 161
        },
        "outputId": "995aea55-4796-4b0c-8dfe-7979060f58dc"
      },
      "source": [
        "print(A)\n",
        "print(f'A[1,2:] is \"{A[1,2:]}\"')\n",
        "print(f'A[1,::2] is \"{A[1,::2]}\"')\n",
        "print(f'A[1,::-2] is \"{A[1,::-2]}\"')\n",
        "print(f'A[1,::-1] is \"{A[1,::-1]}\"')\n",
        "print(f'A[1,3:0:-1] is \"{A[1,3:0:-1]}\"')"
      ],
      "execution_count": null,
      "outputs": [
        {
          "output_type": "stream",
          "text": [
            "[[ 0  1  2  3]\n",
            " [ 4  5  6  7]\n",
            " [ 8  9 10 11]]\n",
            "A[1,2:] is \"[6 7]\"\n",
            "A[1,::2] is \"[4 6]\"\n",
            "A[1,::-2] is \"[7 5]\"\n",
            "A[1,::-1] is \"[7 6 5 4]\"\n",
            "A[1,3:0:-1] is \"[7 6 5]\"\n"
          ],
          "name": "stdout"
        }
      ]
    },
    {
      "cell_type": "code",
      "metadata": {
        "id": "7fAa6FFqIjiY",
        "colab_type": "code",
        "colab": {
          "base_uri": "https://localhost:8080/",
          "height": 68
        },
        "outputId": "853e2ee2-a481-4230-e225-d0804c898571"
      },
      "source": [
        "print(A)\n",
        "A[1:3,1:3] = 3*A[1:3,1:3] \n"
      ],
      "execution_count": 36,
      "outputs": [
        {
          "output_type": "stream",
          "text": [
            "[[ 0  1  2  3]\n",
            " [ 4  5  6  7]\n",
            " [ 8  9 10 11]]\n"
          ],
          "name": "stdout"
        }
      ]
    },
    {
      "cell_type": "code",
      "metadata": {
        "id": "ZsC__RZzItTM",
        "colab_type": "code",
        "colab": {
          "base_uri": "https://localhost:8080/",
          "height": 68
        },
        "outputId": "39555a5d-7437-43bc-f12c-fd67bf46bca4"
      },
      "source": [
        "A[1:3,1:3] = 777\n",
        "A"
      ],
      "execution_count": 33,
      "outputs": [
        {
          "output_type": "execute_result",
          "data": {
            "text/plain": [
              "array([[  0,   1,   2,   3],\n",
              "       [  4, 777, 777,   7],\n",
              "       [  8, 777, 777,  11]])"
            ]
          },
          "metadata": {
            "tags": []
          },
          "execution_count": 33
        }
      ]
    },
    {
      "cell_type": "markdown",
      "metadata": {
        "id": "OSd5xM3x6V_A",
        "colab_type": "text"
      },
      "source": [
        "# 난수 생성.\n",
        "\n",
        "`np.random.rand([d0 [,d1 [ ..., dn])` : 0~1사이의 수들이 균일한 확률로 선택되어 반환됨.\n",
        "* d0 , ... , dn : 난수로 구성된 ndarray의 shape를 지정하는 데 사용됨.\n",
        "\n",
        "`np.random.randn([d0 [,d1 [ ..., dn])` : $\\mu=0, \\sigma=1$ 인 정규 분포를 따르는 난수 반환.\n"
      ]
    },
    {
      "cell_type": "code",
      "metadata": {
        "id": "d7oxzXhO7r8r",
        "colab_type": "code",
        "colab": {
          "base_uri": "https://localhost:8080/",
          "height": 86
        },
        "outputId": "8d5ce013-b319-4b40-9c28-e98049c74681"
      },
      "source": [
        "A = np.random.rand(3,4)\n",
        "print(A.dtype)\n",
        "A"
      ],
      "execution_count": 39,
      "outputs": [
        {
          "output_type": "stream",
          "text": [
            "float64\n"
          ],
          "name": "stdout"
        },
        {
          "output_type": "execute_result",
          "data": {
            "text/plain": [
              "array([[0.03720681, 0.33980477, 0.54547408, 0.49219213],\n",
              "       [0.63548077, 0.46369793, 0.34433369, 0.38718278],\n",
              "       [0.85647614, 0.14464167, 0.76393154, 0.69513067]])"
            ]
          },
          "metadata": {
            "tags": []
          },
          "execution_count": 39
        }
      ]
    },
    {
      "cell_type": "code",
      "metadata": {
        "id": "aOqMiEsScnS9",
        "colab_type": "code",
        "colab": {
          "base_uri": "https://localhost:8080/",
          "height": 89
        },
        "outputId": "49478d6a-3b29-4c75-a8db-f2e3f30553ef"
      },
      "source": [
        "A_tf = tf.random.uniform(shape=(3,4), minval=0., maxval=1. )\n",
        "A_tf"
      ],
      "execution_count": null,
      "outputs": [
        {
          "output_type": "execute_result",
          "data": {
            "text/plain": [
              "<tf.Tensor: shape=(3, 4), dtype=float32, numpy=\n",
              "array([[0.2326045 , 0.86212325, 0.21450412, 0.63753927],\n",
              "       [0.8858304 , 0.7746886 , 0.24409056, 0.12157071],\n",
              "       [0.27621758, 0.5567453 , 0.86174667, 0.14161468]], dtype=float32)>"
            ]
          },
          "metadata": {
            "tags": []
          },
          "execution_count": 53
        }
      ]
    },
    {
      "cell_type": "code",
      "metadata": {
        "id": "fbjSFZVO7x56",
        "colab_type": "code",
        "colab": {
          "base_uri": "https://localhost:8080/",
          "height": 51
        },
        "outputId": "a03b655d-8bb8-4f10-ff8f-69b69bd033dd"
      },
      "source": [
        "A = np.random.randn(3,4) #normal distribution of which parameters are mean and standard deviation.\n",
        "print(A.shape)\n",
        "print(np.mean(A),np.std(A))"
      ],
      "execution_count": 43,
      "outputs": [
        {
          "output_type": "stream",
          "text": [
            "(3, 4)\n",
            "-0.38336479231057025 0.8497921541837837\n"
          ],
          "name": "stdout"
        }
      ]
    },
    {
      "cell_type": "code",
      "metadata": {
        "id": "QJGIx8J0dfUW",
        "colab_type": "code",
        "colab": {
          "base_uri": "https://localhost:8080/",
          "height": 35
        },
        "outputId": "b637572e-16a9-4a07-fcf0-bac80a0bb441"
      },
      "source": [
        "A_tf = tf.random.normal(shape=(1,2),mean=0., stddev=1.0)\n",
        "A_tf"
      ],
      "execution_count": null,
      "outputs": [
        {
          "output_type": "execute_result",
          "data": {
            "text/plain": [
              "<tf.Tensor: shape=(1, 2), dtype=float32, numpy=array([[-1.2632887 , -0.91719854]], dtype=float32)>"
            ]
          },
          "metadata": {
            "tags": []
          },
          "execution_count": 61
        }
      ]
    },
    {
      "cell_type": "markdown",
      "metadata": {
        "id": "M28jZA4u77ly",
        "colab_type": "text"
      },
      "source": [
        "# `ndarray`의 `dtype` 변경\n",
        "\n",
        "`ndarray.astype(dtype)` : method. argument로 넘겨진 `dtype`로 해당 `ndarray`의 타입 변경한 `ndarray`반환\n",
        "\n",
        "`np.uint8(ndarray)` : argument로 넘겨진 `ndarray`를 `uint8`로 변경한 새로운 `ndarray`반환\n",
        "\n",
        "..."
      ]
    },
    {
      "cell_type": "code",
      "metadata": {
        "id": "kk380h0j8f3k",
        "colab_type": "code",
        "colab": {
          "base_uri": "https://localhost:8080/",
          "height": 68
        },
        "outputId": "1979b237-ba2e-4a19-abc7-d51af14a9d7b"
      },
      "source": [
        "print(a)\n",
        "a.dtype"
      ],
      "execution_count": 44,
      "outputs": [
        {
          "output_type": "stream",
          "text": [
            "[[3 3 3]\n",
            " [3 3 3]]\n"
          ],
          "name": "stdout"
        },
        {
          "output_type": "execute_result",
          "data": {
            "text/plain": [
              "dtype('int64')"
            ]
          },
          "metadata": {
            "tags": []
          },
          "execution_count": 44
        }
      ]
    },
    {
      "cell_type": "code",
      "metadata": {
        "id": "UgSxTJS18kqy",
        "colab_type": "code",
        "colab": {
          "base_uri": "https://localhost:8080/",
          "height": 103
        },
        "outputId": "f6b89ce2-4e23-41db-866d-a81a1bcb8feb"
      },
      "source": [
        "c = a.astype('float32')\n",
        "print(a.dtype)\n",
        "print(c)\n",
        "print(id(a))\n",
        "print(id(c))"
      ],
      "execution_count": 46,
      "outputs": [
        {
          "output_type": "stream",
          "text": [
            "int64\n",
            "[[3. 3. 3.]\n",
            " [3. 3. 3.]]\n",
            "140475900243360\n",
            "140475781452864\n"
          ],
          "name": "stdout"
        }
      ]
    },
    {
      "cell_type": "code",
      "metadata": {
        "id": "K7kTPOMe0P8F",
        "colab_type": "code",
        "colab": {
          "base_uri": "https://localhost:8080/",
          "height": 51
        },
        "outputId": "8ff38dd3-2236-455c-b6ba-517dfba48732"
      },
      "source": [
        "a.astype(np.float128)"
      ],
      "execution_count": 47,
      "outputs": [
        {
          "output_type": "execute_result",
          "data": {
            "text/plain": [
              "array([[3., 3., 3.],\n",
              "       [3., 3., 3.]], dtype=float128)"
            ]
          },
          "metadata": {
            "tags": []
          },
          "execution_count": 47
        }
      ]
    },
    {
      "cell_type": "code",
      "metadata": {
        "id": "XE9F8gd2eFhj",
        "colab_type": "code",
        "colab": {
          "base_uri": "https://localhost:8080/",
          "height": 71
        },
        "outputId": "229a0e83-f0d7-4979-9046-84706712cc51"
      },
      "source": [
        "c_tf = tf.dtypes.cast(c,tf.float32)\n",
        "c_tf"
      ],
      "execution_count": null,
      "outputs": [
        {
          "output_type": "execute_result",
          "data": {
            "text/plain": [
              "<tf.Tensor: shape=(2, 3), dtype=float32, numpy=\n",
              "array([[3., 3., 3.],\n",
              "       [3., 3., 3.]], dtype=float32)>"
            ]
          },
          "metadata": {
            "tags": []
          },
          "execution_count": 66
        }
      ]
    },
    {
      "cell_type": "code",
      "metadata": {
        "id": "hMHn9U2u80Z3",
        "colab_type": "code",
        "colab": {
          "base_uri": "https://localhost:8080/",
          "height": 68
        },
        "outputId": "f222cc73-c062-479f-90d5-7f6ecc5f09ed"
      },
      "source": [
        "c = np.uint8(a)\n",
        "print(c.dtype)\n",
        "c\n",
        "print(id(a))\n",
        "print(id(c))"
      ],
      "execution_count": 48,
      "outputs": [
        {
          "output_type": "stream",
          "text": [
            "uint8\n",
            "140475900243360\n",
            "140475781453744\n"
          ],
          "name": "stdout"
        }
      ]
    },
    {
      "cell_type": "code",
      "metadata": {
        "id": "ECJ8eGrAekrN",
        "colab_type": "code",
        "colab": {
          "base_uri": "https://localhost:8080/",
          "height": 86
        },
        "outputId": "28aac581-8b76-4030-9a5a-928b9d60b1d4"
      },
      "source": [
        "c = np.uint64(a)\n",
        "print(a.dtype)\n",
        "c\n",
        "print(c.dtype)\n",
        "c"
      ],
      "execution_count": 50,
      "outputs": [
        {
          "output_type": "stream",
          "text": [
            "int64\n",
            "uint64\n"
          ],
          "name": "stdout"
        },
        {
          "output_type": "execute_result",
          "data": {
            "text/plain": [
              "array([[3, 3, 3],\n",
              "       [3, 3, 3]], dtype=uint64)"
            ]
          },
          "metadata": {
            "tags": []
          },
          "execution_count": 50
        }
      ]
    },
    {
      "cell_type": "markdown",
      "metadata": {
        "id": "-0sz_0EO9Jru",
        "colab_type": "text"
      },
      "source": [
        "# `shape`변경\n",
        "\n",
        "`ndarray.reshape(new_shape)`"
      ]
    },
    {
      "cell_type": "code",
      "metadata": {
        "id": "ICg0CAS6W0qd",
        "colab_type": "code",
        "colab": {
          "base_uri": "https://localhost:8080/",
          "height": 86
        },
        "outputId": "ee234f7d-b4a7-4e44-fe11-eb0d30ad8b00"
      },
      "source": [
        "v = np.arange(4)\n",
        "print(v,v.shape)\n",
        "a = v.reshape(2,2)\n",
        "a\n",
        "a[0]=777\n",
        "print(v)\n",
        "print(a)"
      ],
      "execution_count": 53,
      "outputs": [
        {
          "output_type": "stream",
          "text": [
            "[0 1 2 3] (4,)\n",
            "[777 777   2   3]\n",
            "[[777 777]\n",
            " [  2   3]]\n"
          ],
          "name": "stdout"
        }
      ]
    },
    {
      "cell_type": "code",
      "metadata": {
        "id": "Vm0n4k_qW6Ej",
        "colab_type": "code",
        "colab": {
          "base_uri": "https://localhost:8080/",
          "height": 53
        },
        "outputId": "6b3b238c-0ec4-4dba-90f5-d7af2639f1d2"
      },
      "source": [
        "b= np.arange(10,14).reshape(2,2)\n",
        "b"
      ],
      "execution_count": null,
      "outputs": [
        {
          "output_type": "execute_result",
          "data": {
            "text/plain": [
              "array([[10, 11],\n",
              "       [12, 13]])"
            ]
          },
          "metadata": {
            "tags": []
          },
          "execution_count": 73
        }
      ]
    },
    {
      "cell_type": "code",
      "metadata": {
        "id": "ywRL9YZC9sk5",
        "colab_type": "code",
        "colab": {
          "base_uri": "https://localhost:8080/",
          "height": 68
        },
        "outputId": "0af8c766-9ec1-4b0d-d36c-66bc03ad8a4b"
      },
      "source": [
        "a = np.arange(0,10,2) # [ s:e :step_size]\n",
        "b = a.reshape((1,5))\n",
        "print(a.shape)\n",
        "print(b.shape)\n",
        "b\n",
        "c = a.reshape((5,1))\n",
        "print(c.shape)"
      ],
      "execution_count": 55,
      "outputs": [
        {
          "output_type": "stream",
          "text": [
            "(5,)\n",
            "(1, 5)\n",
            "(5, 1)\n"
          ],
          "name": "stdout"
        }
      ]
    },
    {
      "cell_type": "code",
      "metadata": {
        "id": "6HvEgicDfLtI",
        "colab_type": "code",
        "colab": {
          "base_uri": "https://localhost:8080/",
          "height": 71
        },
        "outputId": "478f6f04-e834-4f36-ad0e-3eca58cb0ba6"
      },
      "source": [
        "a_tf = tf.constant(a)\n",
        "print(a_tf.shape, tf.rank(a_tf))\n",
        "\n",
        "b_tf = tf.reshape(a_tf,(5,1))\n",
        "print(b_tf.shape, tf.rank(b_tf))\n",
        "\n",
        "c_tf = tf.reshape(a_tf,shape=(1,5))\n",
        "print(c_tf.shape, tf.rank(c_tf))"
      ],
      "execution_count": null,
      "outputs": [
        {
          "output_type": "stream",
          "text": [
            "(5,) tf.Tensor(1, shape=(), dtype=int32)\n",
            "(5, 1) tf.Tensor(2, shape=(), dtype=int32)\n",
            "(1, 5) tf.Tensor(2, shape=(), dtype=int32)\n"
          ],
          "name": "stdout"
        }
      ]
    },
    {
      "cell_type": "markdown",
      "metadata": {
        "id": "i5LVKihH-Any",
        "colab_type": "text"
      },
      "source": [
        "# ndarray를 1차원으로 풀어내기\n",
        "\n",
        "`ndarray.ravel()`"
      ]
    },
    {
      "cell_type": "code",
      "metadata": {
        "id": "ahP9O_37-Kyl",
        "colab_type": "code",
        "colab": {
          "base_uri": "https://localhost:8080/",
          "height": 68
        },
        "outputId": "456ea1aa-3f23-48c2-bdfd-cb3e178c7cec"
      },
      "source": [
        "a = np.arange(1,10).reshape((3,3))\n",
        "b = a.ravel()\n",
        "print(a.shape, id(a))\n",
        "\n",
        "print(b.shape, id(b))\n",
        "b"
      ],
      "execution_count": 57,
      "outputs": [
        {
          "output_type": "stream",
          "text": [
            "(3, 3) 140475781453664\n",
            "(9,) 140475781454064\n"
          ],
          "name": "stdout"
        },
        {
          "output_type": "execute_result",
          "data": {
            "text/plain": [
              "array([1, 2, 3, 4, 5, 6, 7, 8, 9])"
            ]
          },
          "metadata": {
            "tags": []
          },
          "execution_count": 57
        }
      ]
    },
    {
      "cell_type": "markdown",
      "metadata": {
        "id": "s7I0Ho5T2O61",
        "colab_type": "text"
      },
      "source": [
        "# Test01\n",
        " * 8 by 4 로 된 matrix를 만들것.\n",
        " * 해당 matrix는 2부터 시작해서 짝수들로 64보다 작거나 같은 수로 채워짐. 행부터 채울것.\n",
        " * 해당 matrix를 출력하고 나서 vector로  만들것 (shape=(32,)인 np.array)\n",
        " * 해당 vector를 다시 출력.\n"
      ]
    },
    {
      "cell_type": "markdown",
      "metadata": {
        "id": "VW2kRHBk-qbO",
        "colab_type": "text"
      },
      "source": [
        "# Transpose\n",
        "\n",
        "`ndarray.T`"
      ]
    },
    {
      "cell_type": "code",
      "metadata": {
        "id": "VwdMgAcq-ysf",
        "colab_type": "code",
        "colab": {
          "base_uri": "https://localhost:8080/",
          "height": 154
        },
        "outputId": "624591b1-1546-447c-ef1a-a0b5907376d1"
      },
      "source": [
        "c=a.T\n",
        "print(a)\n",
        "print(c)\n"
      ],
      "execution_count": 71,
      "outputs": [
        {
          "output_type": "stream",
          "text": [
            "[[1. 1. 1.]\n",
            " [1. 1. 1.]\n",
            " [1. 1. 1.]\n",
            " [1. 1. 1.]\n",
            " [1. 1. 1.]]\n",
            "[[1. 1. 1. 1. 1.]\n",
            " [1. 1. 1. 1. 1.]\n",
            " [1. 1. 1. 1. 1.]]\n"
          ],
          "name": "stdout"
        }
      ]
    },
    {
      "cell_type": "markdown",
      "metadata": {
        "id": "nE3FMUMF_CcD",
        "colab_type": "text"
      },
      "source": [
        "# Broadcasting\n",
        "\n",
        "ndarray와 scalar와 연산시킬때, 해당 ndarray와 같은 shape이면서 해당 scalar의 값을 가진 ndarray와 연산시키는 것처럼 자동으로 elementwise연산이 수행되는 기능.\n",
        "* numpy의 가장 강력한 기능 중 하나. "
      ]
    },
    {
      "cell_type": "code",
      "metadata": {
        "id": "hGr38-wF_fgw",
        "colab_type": "code",
        "colab": {
          "base_uri": "https://localhost:8080/",
          "height": 188
        },
        "outputId": "89a9b2d8-470f-46f0-a136-25a469a331ac"
      },
      "source": [
        "print(a)\n",
        "c = a/2\n",
        "print(c)"
      ],
      "execution_count": 74,
      "outputs": [
        {
          "output_type": "stream",
          "text": [
            "[[1. 1. 1.]\n",
            " [1. 1. 1.]\n",
            " [1. 1. 1.]\n",
            " [1. 1. 1.]\n",
            " [1. 1. 1.]]\n",
            "[[0.5 0.5 0.5]\n",
            " [0.5 0.5 0.5]\n",
            " [0.5 0.5 0.5]\n",
            " [0.5 0.5 0.5]\n",
            " [0.5 0.5 0.5]]\n"
          ],
          "name": "stdout"
        }
      ]
    },
    {
      "cell_type": "code",
      "metadata": {
        "id": "zVfumBf7_njB",
        "colab_type": "code",
        "colab": {
          "base_uri": "https://localhost:8080/",
          "height": 120
        },
        "outputId": "6f576e63-0495-42cd-836f-7f68770288dd"
      },
      "source": [
        "a = np.ones( shape=(5,3) )\n",
        "c = a + np.array([3,4,5])\n",
        "print(c)\n",
        "\n",
        "print(np.array([3,4,5]).shape)"
      ],
      "execution_count": 78,
      "outputs": [
        {
          "output_type": "stream",
          "text": [
            "[[4. 5. 6.]\n",
            " [4. 5. 6.]\n",
            " [4. 5. 6.]\n",
            " [4. 5. 6.]\n",
            " [4. 5. 6.]]\n",
            "(3,)\n"
          ],
          "name": "stdout"
        }
      ]
    },
    {
      "cell_type": "code",
      "metadata": {
        "id": "c9qN1ZHy4HKh",
        "colab_type": "code",
        "colab": {
          "base_uri": "https://localhost:8080/",
          "height": 233
        },
        "outputId": "5f4b4f6c-2efa-43b2-945a-cea21b79cc99"
      },
      "source": [
        "b= np.array([3,4,5,6,7])\n",
        "print(b.shape)\n",
        "c = a+b\n",
        "print(c)"
      ],
      "execution_count": 79,
      "outputs": [
        {
          "output_type": "stream",
          "text": [
            "(5,)\n"
          ],
          "name": "stdout"
        },
        {
          "output_type": "error",
          "ename": "ValueError",
          "evalue": "ignored",
          "traceback": [
            "\u001b[0;31m---------------------------------------------------------------------------\u001b[0m",
            "\u001b[0;31mValueError\u001b[0m                                Traceback (most recent call last)",
            "\u001b[0;32m<ipython-input-79-3f984dd1339e>\u001b[0m in \u001b[0;36m<module>\u001b[0;34m()\u001b[0m\n\u001b[1;32m      1\u001b[0m \u001b[0mb\u001b[0m\u001b[0;34m=\u001b[0m \u001b[0mnp\u001b[0m\u001b[0;34m.\u001b[0m\u001b[0marray\u001b[0m\u001b[0;34m(\u001b[0m\u001b[0;34m[\u001b[0m\u001b[0;36m3\u001b[0m\u001b[0;34m,\u001b[0m\u001b[0;36m4\u001b[0m\u001b[0;34m,\u001b[0m\u001b[0;36m5\u001b[0m\u001b[0;34m,\u001b[0m\u001b[0;36m6\u001b[0m\u001b[0;34m,\u001b[0m\u001b[0;36m7\u001b[0m\u001b[0;34m]\u001b[0m\u001b[0;34m)\u001b[0m\u001b[0;34m\u001b[0m\u001b[0;34m\u001b[0m\u001b[0m\n\u001b[1;32m      2\u001b[0m \u001b[0mprint\u001b[0m\u001b[0;34m(\u001b[0m\u001b[0mb\u001b[0m\u001b[0;34m.\u001b[0m\u001b[0mshape\u001b[0m\u001b[0;34m)\u001b[0m\u001b[0;34m\u001b[0m\u001b[0;34m\u001b[0m\u001b[0m\n\u001b[0;32m----> 3\u001b[0;31m \u001b[0mc\u001b[0m \u001b[0;34m=\u001b[0m \u001b[0ma\u001b[0m\u001b[0;34m+\u001b[0m\u001b[0mb\u001b[0m\u001b[0;34m\u001b[0m\u001b[0;34m\u001b[0m\u001b[0m\n\u001b[0m\u001b[1;32m      4\u001b[0m \u001b[0mprint\u001b[0m\u001b[0;34m(\u001b[0m\u001b[0mc\u001b[0m\u001b[0;34m)\u001b[0m\u001b[0;34m\u001b[0m\u001b[0;34m\u001b[0m\u001b[0m\n",
            "\u001b[0;31mValueError\u001b[0m: operands could not be broadcast together with shapes (5,3) (5,) "
          ]
        }
      ]
    },
    {
      "cell_type": "code",
      "metadata": {
        "id": "dFlu3cRR4EHI",
        "colab_type": "code",
        "colab": {
          "base_uri": "https://localhost:8080/",
          "height": 137
        },
        "outputId": "4a284732-d4cb-4251-debd-e11fde591ed9"
      },
      "source": [
        "b = np.array([3,4,5,6,7])\n",
        "#b = b[:,np.newaxis]\n",
        "b = b.reshape(5,1)\n",
        "c = a+b\n",
        "print(a.shape)\n",
        "print(b.shape)\n",
        "print(c)"
      ],
      "execution_count": 80,
      "outputs": [
        {
          "output_type": "stream",
          "text": [
            "(5, 3)\n",
            "(5, 1)\n",
            "[[4. 4. 4.]\n",
            " [5. 5. 5.]\n",
            " [6. 6. 6.]\n",
            " [7. 7. 7.]\n",
            " [8. 8. 8.]]\n"
          ],
          "name": "stdout"
        }
      ]
    },
    {
      "cell_type": "code",
      "metadata": {
        "id": "5jtz9Mtp4Fza",
        "colab_type": "code",
        "colab": {
          "base_uri": "https://localhost:8080/",
          "height": 103
        },
        "outputId": "cc2f02c5-4eb1-4f63-b797-234da147d83a"
      },
      "source": [
        "c = a+np.array([3,4,5,6,7]).reshape((5,1))\n",
        "print(c)"
      ],
      "execution_count": 69,
      "outputs": [
        {
          "output_type": "stream",
          "text": [
            "[[4. 4. 4.]\n",
            " [5. 5. 5.]\n",
            " [6. 6. 6.]\n",
            " [7. 7. 7.]\n",
            " [8. 8. 8.]]\n"
          ],
          "name": "stdout"
        }
      ]
    },
    {
      "cell_type": "code",
      "metadata": {
        "id": "UidPatuz4pIK",
        "colab_type": "code",
        "colab": {}
      },
      "source": [
        ""
      ],
      "execution_count": null,
      "outputs": []
    }
  ]
}
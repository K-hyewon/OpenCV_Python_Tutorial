{
  "nbformat": 4,
  "nbformat_minor": 0,
  "metadata": {
    "colab": {
      "name": "09.10_DIP_Numpy01.ipynb",
      "provenance": [],
      "collapsed_sections": [
        "PVceDqitqAmT",
        "vvjMCX9h6rXU",
        "7KY5LLV0N-ue",
        "yiKsgzWq63vt",
        "Xe_TPopiI4ly",
        "cRtXK_nvLjSz",
        "nd3AiaxOJO2D",
        "Ls7GHZ_o4-_c",
        "37tlM4GFkGfk",
        "MbLWc_38WFus",
        "y-LQBRxk3tQ0",
        "1b-cqJOU-wXd"
      ],
      "include_colab_link": true
    },
    "kernelspec": {
      "name": "python3",
      "display_name": "Python 3"
    },
    "language_info": {
      "name": "python"
    }
  },
  "cells": [
    {
      "cell_type": "markdown",
      "metadata": {
        "id": "view-in-github",
        "colab_type": "text"
      },
      "source": [
        "<a href=\"https://colab.research.google.com/github/dsaint31x/OpenCV_Python_Tutorial/blob/master/DIP/%EA%B9%80%EA%B3%A0%EC%9D%80/09_10_DIP_Numpy01.ipynb\" target=\"_parent\"><img src=\"https://colab.research.google.com/assets/colab-badge.svg\" alt=\"Open In Colab\"/></a>"
      ]
    },
    {
      "cell_type": "code",
      "metadata": {
        "colab": {
          "base_uri": "https://localhost:8080/"
        },
        "id": "ZCi5x4Haphri",
        "outputId": "c4f914a3-3ee2-402d-81c3-cd5e0b36a1c4"
      },
      "source": [
        "from google.colab import drive\n",
        "drive.mount('/content/drive')"
      ],
      "execution_count": null,
      "outputs": [
        {
          "output_type": "stream",
          "name": "stdout",
          "text": [
            "Mounted at /content/drive\n"
          ]
        }
      ]
    },
    {
      "cell_type": "code",
      "metadata": {
        "colab": {
          "base_uri": "https://localhost:8080/"
        },
        "id": "cHOBPPkKnQnR",
        "outputId": "000a9a51-d5e8-4f32-a075-5261dc044908"
      },
      "source": [
        "cd '/content/drive/MyDrive/Classroom/3-2/ImageProcessing/git_Image'"
      ],
      "execution_count": null,
      "outputs": [
        {
          "output_type": "stream",
          "name": "stdout",
          "text": [
            "/content/drive/MyDrive/Classroom/3-2/ImageProcessing/git_Image\n"
          ]
        }
      ]
    },
    {
      "cell_type": "code",
      "metadata": {
        "colab": {
          "base_uri": "https://localhost:8080/"
        },
        "id": "WNegffXymnj3",
        "outputId": "017a542a-8bb9-4988-a0dc-80dfa944e55b"
      },
      "source": [
        "! git clone https://github.com/dsaint31x/OpenCV_Python_Tutorial/tree/master/images.git"
      ],
      "execution_count": null,
      "outputs": [
        {
          "output_type": "stream",
          "name": "stdout",
          "text": [
            "Cloning into 'images'...\n",
            "fatal: repository 'https://github.com/dsaint31x/OpenCV_Python_Tutorial/tree/master/images.git/' not found\n"
          ]
        }
      ]
    },
    {
      "cell_type": "markdown",
      "metadata": {
        "id": "7FVjqK5EBIxX"
      },
      "source": [
        "# numpy.ndarray\n",
        "- list 등으로 ndarray 생성\n",
        "- ndim: # of dimensions\n",
        "- shape: tuple로 각 차원의 크기를 보여줌 \n",
        "- size: # of elements\n",
        "- dtype: data of element(#int#,#float#) → 어떤 타입으로 출력됨\n",
        "- itemsize: byte size of element → 값으로 출력됨 \n"
      ]
    },
    {
      "cell_type": "code",
      "metadata": {
        "colab": {
          "base_uri": "https://localhost:8080/",
          "height": 34
        },
        "id": "oNG5NarrzEPA",
        "outputId": "c2ad88a6-823c-4c18-a50f-c87889ff8ba3"
      },
      "source": [
        "import numpy as np\n",
        "np.__version__"
      ],
      "execution_count": null,
      "outputs": [
        {
          "output_type": "execute_result",
          "data": {
            "application/vnd.google.colaboratory.intrinsic+json": {
              "type": "string"
            },
            "text/plain": [
              "'1.19.5'"
            ]
          },
          "metadata": {},
          "execution_count": 1
        }
      ]
    },
    {
      "cell_type": "code",
      "metadata": {
        "id": "ook8t_J4rFkS"
      },
      "source": [
        "import cv2\n",
        "import matplotlib.pyplot as plt\n",
        "from skimage import data\n",
        "import numpy as np\n",
        "cat_rgb = data.chelsea()\n",
        "cat_gray = cv2.cvtColor(cat_rgb, cv2.COLOR_BGR2GRAY)"
      ],
      "execution_count": null,
      "outputs": []
    },
    {
      "cell_type": "code",
      "metadata": {
        "colab": {
          "base_uri": "https://localhost:8080/"
        },
        "id": "v0Dpm7eknzdR",
        "outputId": "382b0483-87a3-4e33-b1c4-6042f4f80610"
      },
      "source": [
        "t = (1,2,3,4,5,6)\n",
        "a = np.array(t)\n",
        "print(type(t))\n",
        "print(type(a))"
      ],
      "execution_count": null,
      "outputs": [
        {
          "output_type": "stream",
          "name": "stdout",
          "text": [
            "<class 'tuple'>\n",
            "<class 'numpy.ndarray'>\n"
          ]
        }
      ]
    },
    {
      "cell_type": "markdown",
      "metadata": {
        "id": "xAhdgDmhouB1"
      },
      "source": [
        "array.size = array의 element 개수를 반환함\n",
        "\n",
        "array.dtype = Numpy ndarray의 경우 int 자료형에서 array에서 default값은 int 64임"
      ]
    },
    {
      "cell_type": "code",
      "metadata": {
        "colab": {
          "base_uri": "https://localhost:8080/"
        },
        "id": "tMlGAm33oC6i",
        "outputId": "a9d52934-7f9a-430c-d6ca-efe805d50d3f"
      },
      "source": [
        "print(a.ndim)\n",
        "print(a.shape)\n",
        "print(a.itemsize)\n",
        "print(a.size)\n",
        "print(a.dtype)"
      ],
      "execution_count": null,
      "outputs": [
        {
          "output_type": "stream",
          "name": "stdout",
          "text": [
            "1\n",
            "(6,)\n",
            "8\n",
            "6\n",
            "int64\n"
          ]
        }
      ]
    },
    {
      "cell_type": "markdown",
      "metadata": {
        "id": "Dgvk5_Lbo-C7"
      },
      "source": [
        "array.dtype = tensorflow ndarray의 경우 int 자료형에서 array에서 default값은 int 64임  = numpy ndarray와 같음"
      ]
    },
    {
      "cell_type": "code",
      "metadata": {
        "colab": {
          "base_uri": "https://localhost:8080/"
        },
        "id": "Br2xbBPtoVra",
        "outputId": "e0eb0d49-ea57-49d5-f07e-3cdee5dd6a40"
      },
      "source": [
        "import tensorflow as tf\n",
        "\n",
        "tensor = tf.constant(a)\n",
        "print(tf.rank(tensor))\n",
        "print(tensor.ndim)\n",
        "print(tensor.shape)\n",
        "print(tensor.dtype)\n",
        "tensor"
      ],
      "execution_count": null,
      "outputs": [
        {
          "output_type": "stream",
          "name": "stdout",
          "text": [
            "tf.Tensor(1, shape=(), dtype=int32)\n",
            "1\n",
            "(6,)\n",
            "<dtype: 'int64'>\n"
          ]
        },
        {
          "output_type": "execute_result",
          "data": {
            "text/plain": [
              "<tf.Tensor: shape=(6,), dtype=int64, numpy=array([1, 2, 3, 4, 5, 6])>"
            ]
          },
          "metadata": {},
          "execution_count": 12
        }
      ]
    },
    {
      "cell_type": "code",
      "metadata": {
        "colab": {
          "base_uri": "https://localhost:8080/"
        },
        "id": "KVh04lM1JbvQ",
        "outputId": "0f9e29ee-357b-460f-87ce-adeb63918f36"
      },
      "source": [
        "print(type(img))\n",
        "print(img.ndim)\n",
        "print(img.shape)\n",
        "# numpy.ndarray.dtpe\n",
        "# 파일에서는 uint(이d미지 구분만 할건데 부호를 주기엔 아까움, \n",
        "# 따라서, int나 float이 많이 사용됨\n",
        "# dtype = uint8 => 데이터의 한 element가 0~255(=2**8)사이의 값을 가짐을 의미한다)\n",
        "print(img.dtype)\n",
        "print(img.itemsize)"
      ],
      "execution_count": null,
      "outputs": [
        {
          "output_type": "stream",
          "name": "stdout",
          "text": [
            "<class 'numpy.ndarray'>\n",
            "3\n",
            "(512, 512, 3)\n",
            "uint8\n",
            "1\n"
          ]
        }
      ]
    },
    {
      "cell_type": "markdown",
      "metadata": {
        "id": "i2PZJB-u_pf_"
      },
      "source": [
        "8 bit = 1 byte\n",
        "\n",
        "itemsize = byte 기반\n"
      ]
    },
    {
      "cell_type": "code",
      "metadata": {
        "colab": {
          "base_uri": "https://localhost:8080/"
        },
        "id": "XetOtuA3_fzO",
        "outputId": "d07efb74-7b4e-4f75-9d53-1790aa5c0880"
      },
      "source": [
        "# 값을 하나로 치환해서 보여줌\n",
        "print(f'img.itemsize:{img.itemsize}bytes')\n",
        "print(img.itemsize)\n",
        "# 이미지 어레이의 원소 하나가 가진 바이트 사이즈가 1바이트임을 의미함\n",
        "# 1바이트=8비트=원소 하나가 0~255사이의 값을 가짐. "
      ],
      "execution_count": null,
      "outputs": [
        {
          "output_type": "stream",
          "name": "stdout",
          "text": [
            "img.itemsize:1bytes\n",
            "1\n"
          ]
        }
      ]
    },
    {
      "cell_type": "markdown",
      "metadata": {
        "id": "FjYEzbMppuhM"
      },
      "source": [
        "int = int64, float = float64"
      ]
    },
    {
      "cell_type": "code",
      "metadata": {
        "colab": {
          "base_uri": "https://localhost:8080/"
        },
        "id": "wH4rMdd2LF42",
        "outputId": "374f4d7d-bdfc-40e5-a5a6-d2277b06799a"
      },
      "source": [
        "import numpy as np\n",
        "# 1) 초기값이 list인 경우 numpy array 생성방법\n",
        "\n",
        "a = (1,2,3,4,5) # 1) 받는 인자가 tuple 형식\n",
        "b = [5,4,3,2,1] # 2) 받는 인자가tuple 형식\n",
        "a = np.array(a)\n",
        "b = np.array(b)\n",
        "c = np.array([1.3, 2, 3, 4]) # 1-1) float\n",
        "\n",
        "print(a.dtype)\n",
        "print(b.dtype)\n",
        "print(c.dtype)"
      ],
      "execution_count": null,
      "outputs": [
        {
          "output_type": "stream",
          "name": "stdout",
          "text": [
            "int64\n",
            "int64\n",
            "float64\n"
          ]
        }
      ]
    },
    {
      "cell_type": "markdown",
      "metadata": {
        "id": "MqW-JOy4p08d"
      },
      "source": [
        "ndarray.itemsize"
      ]
    },
    {
      "cell_type": "code",
      "metadata": {
        "colab": {
          "base_uri": "https://localhost:8080/"
        },
        "id": "6ZkfqUaQxHfR",
        "outputId": "33ab3c87-ab51-4340-f36a-b9b49e8320e2"
      },
      "source": [
        "print(a.ndim)\n",
        "print(a.dtype)\n",
        "print(a.itemsize) # dtype=int64->byte size= 64(비트)/8 = 8bytes"
      ],
      "execution_count": null,
      "outputs": [
        {
          "output_type": "stream",
          "name": "stdout",
          "text": [
            "1\n",
            "int64\n",
            "8\n"
          ]
        }
      ]
    },
    {
      "cell_type": "code",
      "metadata": {
        "colab": {
          "base_uri": "https://localhost:8080/",
          "height": 176
        },
        "id": "pras49Lx0bQ9",
        "outputId": "165fbc88-d29e-4d85-9c55-6d26d59c6483"
      },
      "source": [
        "Int8.max\n",
        "print(UInt8.max)"
      ],
      "execution_count": null,
      "outputs": [
        {
          "output_type": "error",
          "ename": "NameError",
          "evalue": "ignored",
          "traceback": [
            "\u001b[0;31m---------------------------------------------------------------------------\u001b[0m",
            "\u001b[0;31mNameError\u001b[0m                                 Traceback (most recent call last)",
            "\u001b[0;32m<ipython-input-18-9ae19fd8470f>\u001b[0m in \u001b[0;36m<module>\u001b[0;34m()\u001b[0m\n\u001b[0;32m----> 1\u001b[0;31m \u001b[0mInt8\u001b[0m\u001b[0;34m.\u001b[0m\u001b[0mmax\u001b[0m\u001b[0;34m\u001b[0m\u001b[0;34m\u001b[0m\u001b[0m\n\u001b[0m",
            "\u001b[0;31mNameError\u001b[0m: name 'Int8' is not defined"
          ]
        }
      ]
    },
    {
      "cell_type": "markdown",
      "metadata": {
        "id": "PVceDqitqAmT"
      },
      "source": [
        "# ndarray를 생성하는 방식\n",
        "\n",
        "- np.array(list, dtype = np.uint8 )\n",
        "- np.array(list, dtype = np.uint8 )\n",
        "- np.uint8(list)\n",
        "- np.arange(s,e,t) # s:start, e:end, t:step\n",
        "# ndarray.dtype, ndarray.itemsize 관계\n",
        "=> dtype / 8 = itemsize(byte)\n",
        "- uint8이면 1\n",
        "- int8이면 1\n",
        "- float16이면 2\n",
        "- float64이면 8"
      ]
    },
    {
      "cell_type": "code",
      "metadata": {
        "colab": {
          "base_uri": "https://localhost:8080/"
        },
        "id": "VfPg0qGWSBxl",
        "outputId": "37aa025c-7c76-4219-ece5-7dc352a123af"
      },
      "source": [
        "import numpy as np\n",
        "\n",
        "# 16비트연산이 제일 작고 빠름\n",
        "\n",
        "a = np.array([1,2,34], dtype=np.float16)\n",
        "b = np.array([1,2,34], dtype='f8')\n",
        "c = np.int8([1,2,34])\n",
        "d = np.uint8([1,2,34])\n",
        "print(a, a.dtype, a.itemsize, a.shape)\n",
        "print(b, b.dtype, b.itemsize, b.shape)\n",
        "print(c, c.dtype, c.itemsize, c.shape)\n",
        "print(d, d.dtype, d.itemsize, d.shape)\n",
        "# 변경할 필요가 없으니까 tuple로 출력됨, \n",
        "# 축이 하나(0번axis), 그 길이가 총 4개가 있다.\n",
        "\n",
        "# integer를 넣었음에도 불구하고 특별하게 데이터 타입을 지정하면 float으로 출력됨"
      ],
      "execution_count": null,
      "outputs": [
        {
          "output_type": "stream",
          "name": "stdout",
          "text": [
            "[ 1.  2. 34.] float16 2 (3,)\n",
            "[ 1.  2. 34.] float64 8 (3,)\n",
            "[ 1  2 34] int8 1 (3,)\n",
            "[ 1  2 34] uint8 1 (3,)\n"
          ]
        }
      ]
    },
    {
      "cell_type": "markdown",
      "metadata": {
        "id": "JIUXxM7-5ghd"
      },
      "source": [
        "ex) 2차원 array생성해보기"
      ]
    },
    {
      "cell_type": "code",
      "metadata": {
        "colab": {
          "base_uri": "https://localhost:8080/"
        },
        "id": "sBGj6jnJTG0-",
        "outputId": "e9d6069b-4a82-4c48-c00e-aa716c1df135"
      },
      "source": [
        "b = np.array([[1,2,3,4],[5,6,7,8]])\n",
        "print(b.shape)\n",
        "print(len(b.shape))\n",
        "print(b.ndim)\n",
        "print(b.dtype)\n",
        "print(b.size)\n",
        "print(b.itemsize) # dtype \n",
        "# 축=0 -> 2개의 리스트\n",
        "# 축=1-> 4개의 숫자로\n",
        "\n",
        "b"
      ],
      "execution_count": null,
      "outputs": [
        {
          "output_type": "stream",
          "name": "stdout",
          "text": [
            "(2, 4)\n",
            "2\n",
            "2\n",
            "int64\n",
            "8\n",
            "8\n"
          ]
        },
        {
          "output_type": "execute_result",
          "data": {
            "text/plain": [
              "array([[1, 2, 3, 4],\n",
              "       [5, 6, 7, 8]])"
            ]
          },
          "metadata": {},
          "execution_count": 23
        }
      ]
    },
    {
      "cell_type": "code",
      "metadata": {
        "colab": {
          "base_uri": "https://localhost:8080/"
        },
        "id": "_UxP5AWDOwPm",
        "outputId": "74aed426-f723-4d32-905a-e40861968618"
      },
      "source": [
        "d = np.arange(0,8,2)\n",
        "d"
      ],
      "execution_count": null,
      "outputs": [
        {
          "output_type": "execute_result",
          "data": {
            "text/plain": [
              "array([0, 2, 4, 6])"
            ]
          },
          "metadata": {},
          "execution_count": 107
        }
      ]
    },
    {
      "cell_type": "markdown",
      "metadata": {
        "id": "EE3G7VDpuiyl"
      },
      "source": [
        "# ndarray shape변경\n",
        "\n",
        "- ndarray.reshape(shape) # shape = (rows,cols) (tuple type)\n",
        "- ndarray.reshape((shape)) \n",
        "- np.reshape(array, (shape))"
      ]
    },
    {
      "cell_type": "code",
      "metadata": {
        "colab": {
          "base_uri": "https://localhost:8080/"
        },
        "id": "QLnBMLAbO46T",
        "outputId": "e8638285-a2b1-4365-b115-6999b512f6b3"
      },
      "source": [
        "d = np.arange(0,8,2)\n",
        "print(d.shape) #(4,)\n",
        "\n",
        "# 아래 세 표현은 모두 같은 표현\n",
        "e1 = d.reshape(2,2) \n",
        "e2 = d.reshape((2,2))\n",
        "e3 = np.reshape(d,(2,2))\n",
        "\n",
        "print('e1',e1)\n",
        "print('e2',e2)\n",
        "print('e3',e3)"
      ],
      "execution_count": null,
      "outputs": [
        {
          "output_type": "stream",
          "name": "stdout",
          "text": [
            "(4,)\n",
            "e1 [[0 2]\n",
            " [4 6]]\n",
            "e2 [[0 2]\n",
            " [4 6]]\n",
            "e3 [[0 2]\n",
            " [4 6]]\n"
          ]
        }
      ]
    },
    {
      "cell_type": "code",
      "metadata": {
        "colab": {
          "base_uri": "https://localhost:8080/"
        },
        "id": "FiDxqsnR3-y5",
        "outputId": "80e24b07-b706-4943-8841-0de5b85506bf"
      },
      "source": [
        "# c = np.arange(4)\n",
        "c = np.arange(0,4)\n",
        "c.reshape(2,2) \n",
        "# 변수 할당을 새롭게 해주지 않으면 변하지 않음\n",
        "print(c)\n",
        "d = c.reshape(2,2)\n",
        "print(c)\n",
        "print(d)"
      ],
      "execution_count": null,
      "outputs": [
        {
          "output_type": "stream",
          "name": "stdout",
          "text": [
            "[0 1 2 3]\n",
            "[0 1 2 3]\n",
            "[[0 1]\n",
            " [2 3]]\n"
          ]
        }
      ]
    },
    {
      "cell_type": "markdown",
      "metadata": {
        "id": "tofkIfkyUDKp"
      },
      "source": [
        "일반적으로 opencv는 정수 연산보다는 float연산을 더 많이 함"
      ]
    },
    {
      "cell_type": "code",
      "metadata": {
        "id": "Igpjjk6IPxnp",
        "colab": {
          "base_uri": "https://localhost:8080/"
        },
        "outputId": "2aedf342-891b-48a2-856a-35fd70ad154a"
      },
      "source": [
        "import tensorflow as tf\n",
        "\n",
        "a = np.arange(0,10,2)\n",
        "print('a',a, type(a))\n",
        "a_tf = tf.constant(a)\n",
        "print('a_tf', a_tf)\n",
        "print('type(a_tf)', type(a_tf))\n",
        "print('a_tf.shape', a_tf.shape)\n",
        "print('tf.rank(a_tf)', tf.rank(a_tf))\n",
        "print('a_tf.dtype', a_tf.dtype)"
      ],
      "execution_count": null,
      "outputs": [
        {
          "output_type": "stream",
          "name": "stdout",
          "text": [
            "a [0 2 4 6 8] <class 'numpy.ndarray'>\n",
            "a_tf tf.Tensor([0 2 4 6 8], shape=(5,), dtype=int64)\n",
            "type(a_tf) <class 'tensorflow.python.framework.ops.EagerTensor'>\n",
            "a_tf.shape (5,)\n",
            "tf.rank(a_tf) tf.Tensor(1, shape=(), dtype=int32)\n",
            "a_tf.dtype <dtype: 'int64'>\n"
          ]
        }
      ]
    },
    {
      "cell_type": "markdown",
      "metadata": {
        "id": "vvjMCX9h6rXU"
      },
      "source": [
        "# ndarray의 dtype 변경\n",
        "\n",
        "- np.uint8(ndarray)\n",
        "- ndarray.astype(np.uint8)"
      ]
    },
    {
      "cell_type": "code",
      "metadata": {
        "colab": {
          "base_uri": "https://localhost:8080/"
        },
        "id": "phWIMYvkUJbe",
        "outputId": "d84b3ef8-6d65-4a27-fbef-60f66ac297ea"
      },
      "source": [
        "# 해당하는 데이터 타입으로 캐스팅하는 방법\n",
        "# float 64 타입의 array를 원하는 data type의 array로 변경\n",
        "c = np.array([[1, 2, 3.94, 4],[5, 6, 7, 8]])\n",
        "d = np.uint8(c)\n",
        "print(c, c.dtype)\n",
        "print(d, d.dtype)"
      ],
      "execution_count": null,
      "outputs": [
        {
          "output_type": "stream",
          "name": "stdout",
          "text": [
            "[[1.   2.   3.94 4.  ]\n",
            " [5.   6.   7.   8.  ]] float64\n",
            "[[1 2 3 4]\n",
            " [5 6 7 8]] uint8\n"
          ]
        }
      ]
    },
    {
      "cell_type": "code",
      "metadata": {
        "colab": {
          "base_uri": "https://localhost:8080/"
        },
        "id": "xleA9elEMzY5",
        "outputId": "2d1bf83d-8714-4a7b-9489-8ce6eef8cebc"
      },
      "source": [
        "c = np.array([[1,2,3.94,4],[5,6,7,8]])\n",
        "e = c.astype('uint8')\n",
        "e"
      ],
      "execution_count": null,
      "outputs": [
        {
          "output_type": "execute_result",
          "data": {
            "text/plain": [
              "array([[1, 2, 3, 4],\n",
              "       [5, 6, 7, 8]], dtype=uint8)"
            ]
          },
          "metadata": {},
          "execution_count": 31
        }
      ]
    },
    {
      "cell_type": "markdown",
      "metadata": {
        "id": "7KY5LLV0N-ue"
      },
      "source": [
        "# 특정 element 변경 -> 얘는 원본도 변함, 이유는??"
      ]
    },
    {
      "cell_type": "code",
      "metadata": {
        "colab": {
          "base_uri": "https://localhost:8080/"
        },
        "id": "52-6hO9JODdv",
        "outputId": "39cfa220-7df4-491c-98df-b45eca38c87a"
      },
      "source": [
        "import numpy as np\n",
        "\n",
        "c = np.array([[1, 2, 3.94, 4],[5, 6, 7, 8]])\n",
        "print(c)\n",
        "c[0] = 777 # 0번째 행만 취함. \n",
        "print(c)\n",
        "c.fill(3)\n",
        "print(c)"
      ],
      "execution_count": null,
      "outputs": [
        {
          "output_type": "stream",
          "name": "stdout",
          "text": [
            "[[1.   2.   3.94 4.  ]\n",
            " [5.   6.   7.   8.  ]]\n",
            "[[777. 777. 777. 777.]\n",
            " [  5.   6.   7.   8.]]\n",
            "[[3. 3. 3. 3.]\n",
            " [3. 3. 3. 3.]]\n"
          ]
        }
      ]
    },
    {
      "cell_type": "code",
      "metadata": {
        "colab": {
          "base_uri": "https://localhost:8080/"
        },
        "id": "7z0hjNME4cB_",
        "outputId": "0bada09b-36ca-4fef-f854-61557014300f"
      },
      "source": [
        "c = np.array([[1, 2, 3.94, 4],[5, 6, 7, 8]])\n",
        "c[0][0:2] = 2020\n",
        "print(c)"
      ],
      "execution_count": null,
      "outputs": [
        {
          "output_type": "stream",
          "name": "stdout",
          "text": [
            "[[2020.   2020.      3.94    4.  ]\n",
            " [   5.      6.      7.      8.  ]]\n"
          ]
        }
      ]
    },
    {
      "cell_type": "code",
      "metadata": {
        "colab": {
          "base_uri": "https://localhost:8080/"
        },
        "id": "akD612p7OZIb",
        "outputId": "596adfc5-c54e-41ce-c547-578af5bf8f49"
      },
      "source": [
        "c = np.array([[1,2,3.94,4],[5,6,7,8]])\n",
        "c[0]=777\n",
        "c[0,2]=67\n",
        "c"
      ],
      "execution_count": null,
      "outputs": [
        {
          "output_type": "execute_result",
          "data": {
            "text/plain": [
              "array([[777., 777.,  67., 777.],\n",
              "       [  5.,   6.,   7.,   8.]])"
            ]
          },
          "metadata": {},
          "execution_count": 36
        }
      ]
    },
    {
      "cell_type": "markdown",
      "metadata": {
        "id": "yiKsgzWq63vt"
      },
      "source": [
        "# 특정 값으로 초기화한 ndarray 생성"
      ]
    },
    {
      "cell_type": "markdown",
      "metadata": {
        "id": "b8RaYOxclEUL"
      },
      "source": [
        "# np.full((shape)), ndarray.fill(value), np.empty((shape)), np.ones((shape)), np.zeros((shape))"
      ]
    },
    {
      "cell_type": "markdown",
      "metadata": {
        "id": "SXK5X6VL7OCv"
      },
      "source": [
        "정수여도 기본 dtype default값 = float 64"
      ]
    },
    {
      "cell_type": "code",
      "metadata": {
        "colab": {
          "base_uri": "https://localhost:8080/"
        },
        "id": "8jw5niXl4uld",
        "outputId": "b7cf3790-75f3-4c8f-e5d2-f308b75ad694"
      },
      "source": [
        "a = np.zeros((3,2))\n",
        "b = np.zeros(shape=(4,4), dtype = np.uint8)\n",
        "print('a',a, a.shape, a.dtype, a.itemsize)\n",
        "print('b',b, b.shape, b.dtype, b.itemsize)"
      ],
      "execution_count": null,
      "outputs": [
        {
          "output_type": "stream",
          "name": "stdout",
          "text": [
            "a [[0. 0.]\n",
            " [0. 0.]\n",
            " [0. 0.]] (3, 2) float64 8\n",
            "b [[0 0 0 0]\n",
            " [0 0 0 0]\n",
            " [0 0 0 0]\n",
            " [0 0 0 0]] (4, 4) uint8 1\n"
          ]
        }
      ]
    },
    {
      "cell_type": "code",
      "metadata": {
        "colab": {
          "base_uri": "https://localhost:8080/"
        },
        "id": "ysBWZ95R8ZXe",
        "outputId": "794c34a1-22d7-4972-90fe-ad0947ef8881"
      },
      "source": [
        "import tensorflow as tf\n",
        "\n",
        "a_tf = tf.zeros(shape=(3,3))\n",
        "a_tf.dtype # 왜 데이터 타입이 float 64가 아님?"
      ],
      "execution_count": null,
      "outputs": [
        {
          "output_type": "execute_result",
          "data": {
            "text/plain": [
              "tf.float32"
            ]
          },
          "metadata": {},
          "execution_count": 45
        }
      ]
    },
    {
      "cell_type": "markdown",
      "metadata": {
        "id": "YuPS0Cir_IZw"
      },
      "source": [
        "tf.constant() = 변수선언 시 사용\n",
        "괄호 안 = value, dtype, shape, name이 들어감. "
      ]
    },
    {
      "cell_type": "code",
      "metadata": {
        "colab": {
          "base_uri": "https://localhost:8080/"
        },
        "id": "bBt7W8Hz8z_K",
        "outputId": "b0765f7f-4ada-4f94-8d48-cc1c1e7bdb3e"
      },
      "source": [
        "# a = np.zeros((3,2))\n",
        "# a_tf = tf.constant(a)\n",
        "\n",
        "a_tf = tf.zeros(shape=(3,2))\n",
        "a_tf"
      ],
      "execution_count": null,
      "outputs": [
        {
          "output_type": "execute_result",
          "data": {
            "text/plain": [
              "<tf.Tensor: shape=(3, 2), dtype=float32, numpy=\n",
              "array([[0., 0.],\n",
              "       [0., 0.],\n",
              "       [0., 0.]], dtype=float32)>"
            ]
          },
          "metadata": {},
          "execution_count": 47
        }
      ]
    },
    {
      "cell_type": "code",
      "metadata": {
        "colab": {
          "base_uri": "https://localhost:8080/"
        },
        "id": "YsTd_fZL_Thi",
        "outputId": "482e20e6-95cb-4cb5-94bd-6d3cf7671eea"
      },
      "source": [
        "a = np.ones((4,2,3))\n",
        "a"
      ],
      "execution_count": null,
      "outputs": [
        {
          "output_type": "execute_result",
          "data": {
            "text/plain": [
              "array([[[1., 1., 1.],\n",
              "        [1., 1., 1.]],\n",
              "\n",
              "       [[1., 1., 1.],\n",
              "        [1., 1., 1.]],\n",
              "\n",
              "       [[1., 1., 1.],\n",
              "        [1., 1., 1.]],\n",
              "\n",
              "       [[1., 1., 1.],\n",
              "        [1., 1., 1.]]])"
            ]
          },
          "metadata": {},
          "execution_count": 48
        }
      ]
    },
    {
      "cell_type": "code",
      "metadata": {
        "colab": {
          "base_uri": "https://localhost:8080/"
        },
        "id": "i82WYS7uVGl7",
        "outputId": "21112bae-b44e-4197-a6f8-4f86dd9c8990"
      },
      "source": [
        "# 기본 데이터 타입 = float64\n",
        "# 다음 a,b,c는 모두 동일한 표현임.\n",
        "\n",
        "a = np.empty([3,4]) # 초기화x, 쓰레기 값이 들어가 있음, 교수님은 선호하지 않음,\n",
        "b = np.empty((3,4))\n",
        "c = np.empty(shape=(3,4)) \n",
        "print(a.dtype) \n",
        "print(a)\n",
        "# 보통 numpy.full을 사용할 일은 없음"
      ],
      "execution_count": null,
      "outputs": [
        {
          "output_type": "stream",
          "name": "stdout",
          "text": [
            "float64\n",
            "[[4.65024289e-310 9.76542463e-310 9.46240363e-310 6.79038892e-313]\n",
            " [2.46151512e-312 2.37663529e-312 6.79038654e-313 2.14321575e-312]\n",
            " [2.48273508e-312 2.29175545e-312 3.99910900e+252 6.93614491e-310]]\n"
          ]
        }
      ]
    },
    {
      "cell_type": "code",
      "metadata": {
        "colab": {
          "base_uri": "https://localhost:8080/"
        },
        "id": "TKVSsSRHWm4q",
        "outputId": "1e42b562-603b-4eeb-9205-9311d40b2303"
      },
      "source": [
        "# 왜 c = None??? -> 반환값 지정해주면 None, 지정안해주면 원하는 대로 출력됨.\n",
        "\n",
        "import numpy as np\n",
        "# array.fill = 이미 존재하는 numpy.ndarray를 특정값으로 채움\n",
        "a = np.empty([3,4])\n",
        "print('before a', a)\n",
        "# np.full([shape],value) # value값으로 shape을 가진 array 생성\n",
        "b = np.full([3,4], 8.2)\n",
        "a.fill(5)\n",
        "print('b',b)\n",
        "print('fill 5 after a', a)\n",
        "\n",
        "\n",
        "# 아래는 반환값 지정해서 ndarray.fill(value)했을 때\n",
        "c = a.fill(5)\n",
        "print(c)"
      ],
      "execution_count": null,
      "outputs": [
        {
          "output_type": "stream",
          "name": "stdout",
          "text": [
            "before a [[4.65024289e-310 2.91498731e-322 6.93616764e-310 3.44620186e-085]\n",
            " [4.34900767e+199 1.87422380e+261 4.56782417e-085 3.27801596e+213]\n",
            " [1.36455703e+161 2.17598251e+243 5.33640862e-001 6.93614492e-310]]\n",
            "b [[8.2 8.2 8.2 8.2]\n",
            " [8.2 8.2 8.2 8.2]\n",
            " [8.2 8.2 8.2 8.2]]\n",
            "fill 5 after a [[5. 5. 5. 5.]\n",
            " [5. 5. 5. 5.]\n",
            " [5. 5. 5. 5.]]\n",
            "None\n"
          ]
        }
      ]
    },
    {
      "cell_type": "code",
      "metadata": {
        "colab": {
          "base_uri": "https://localhost:8080/",
          "height": 134
        },
        "id": "MGRJr4doWxrT",
        "outputId": "74a42cf4-dab7-4714-de9b-eedab89bff60"
      },
      "source": [
        "b = np.zeros([0,0]) # 빈 리스트, 행과 열이 0,0\n",
        "d = np.zeros([5,2])\n",
        "c = np.zeros([,0]) \n",
        "print(b) \n",
        "print(d)\n",
        "print('b.shape',b.shape) # 0,0\n",
        "print(c)\n",
        "print(c.shape) "
      ],
      "execution_count": null,
      "outputs": [
        {
          "output_type": "error",
          "ename": "SyntaxError",
          "evalue": "ignored",
          "traceback": [
            "\u001b[0;36m  File \u001b[0;32m\"<ipython-input-43-20fc5e2187fc>\"\u001b[0;36m, line \u001b[0;32m3\u001b[0m\n\u001b[0;31m    c = np.zeros([,0])\u001b[0m\n\u001b[0m                  ^\u001b[0m\n\u001b[0;31mSyntaxError\u001b[0m\u001b[0;31m:\u001b[0m invalid syntax\n"
          ]
        }
      ]
    },
    {
      "cell_type": "code",
      "metadata": {
        "id": "I_osgd2olZzp",
        "colab": {
          "base_uri": "https://localhost:8080/"
        },
        "outputId": "a58ba5a0-e3f3-4ef1-d06e-2b86fafab3c3"
      },
      "source": [
        "# 다음 a,d은 모두 같은 표현\n",
        "\n",
        "# a = np.zeros((3,2))  \n",
        "a = np.zeros([3,2])\n",
        "# a = np.zeros(shape=(3,2),dtype=np.uint8)\n",
        "d = np.zeros((3,2),dtype=np.uint8)\n",
        "print(d)"
      ],
      "execution_count": null,
      "outputs": [
        {
          "output_type": "stream",
          "name": "stdout",
          "text": [
            "[[0 0]\n",
            " [0 0]\n",
            " [0 0]]\n"
          ]
        }
      ]
    },
    {
      "cell_type": "code",
      "metadata": {
        "colab": {
          "base_uri": "https://localhost:8080/"
        },
        "id": "U5Hif2-1EfD8",
        "outputId": "117a5325-5b45-4a46-ec2e-3a72e3a40733"
      },
      "source": [
        "print(type(d))"
      ],
      "execution_count": null,
      "outputs": [
        {
          "output_type": "stream",
          "name": "stdout",
          "text": [
            "<class 'numpy.ndarray'>\n"
          ]
        }
      ]
    },
    {
      "cell_type": "code",
      "metadata": {
        "colab": {
          "base_uri": "https://localhost:8080/"
        },
        "id": "hRJ9uD0WEleB",
        "outputId": "462c28c9-70f1-47e1-e323-d068e2a2591f"
      },
      "source": [
        "print(type(a))\n",
        "a"
      ],
      "execution_count": null,
      "outputs": [
        {
          "output_type": "stream",
          "name": "stdout",
          "text": [
            "<class 'numpy.ndarray'>\n"
          ]
        },
        {
          "output_type": "execute_result",
          "data": {
            "text/plain": [
              "array([[0., 0.],\n",
              "       [0., 0.],\n",
              "       [0., 0.]])"
            ]
          },
          "metadata": {},
          "execution_count": 58
        }
      ]
    },
    {
      "cell_type": "code",
      "metadata": {
        "colab": {
          "base_uri": "https://localhost:8080/"
        },
        "id": "KmJ7yZp1Xibl",
        "outputId": "6a686cc6-3bb8-48e0-a09d-8d8f5fa7ee68"
      },
      "source": [
        "c = np.ones([2, 2],dtype=np.uint8) # uint = unsigned int 의 약자\n",
        "print(c)"
      ],
      "execution_count": null,
      "outputs": [
        {
          "output_type": "stream",
          "name": "stdout",
          "text": [
            "[[1 1]\n",
            " [1 1]]\n"
          ]
        }
      ]
    },
    {
      "cell_type": "code",
      "metadata": {
        "id": "eNJWKvruYfFJ"
      },
      "source": [
        "d = np.full([3,4], 8, dtype = np.float32)"
      ],
      "execution_count": null,
      "outputs": []
    },
    {
      "cell_type": "markdown",
      "metadata": {
        "id": "uTvr3_RHFRk2"
      },
      "source": [
        "# tf.constant(value or array)\n",
        "value=> 1d array\n",
        "\n",
        "array=> 2d array, 3d array, 4d,5d ~"
      ]
    },
    {
      "cell_type": "code",
      "metadata": {
        "colab": {
          "base_uri": "https://localhost:8080/"
        },
        "id": "5lhuDM_DFT5X",
        "outputId": "45ea5c5b-5f59-4a5e-e1ad-afc177683b22"
      },
      "source": [
        "import tensorflow as tf\n",
        "\n",
        "a_tf = tf.zeros((3,2))\n",
        "a_np = np.zeros((3,2))\n",
        "print('a_tf', a_tf) \n",
        "print('a_np',a_np)"
      ],
      "execution_count": null,
      "outputs": [
        {
          "output_type": "stream",
          "name": "stdout",
          "text": [
            "a_tf tf.Tensor(\n",
            "[[0. 0.]\n",
            " [0. 0.]\n",
            " [0. 0.]], shape=(3, 2), dtype=float32)\n",
            "a_np [[0. 0.]\n",
            " [0. 0.]\n",
            " [0. 0.]]\n"
          ]
        }
      ]
    },
    {
      "cell_type": "code",
      "metadata": {
        "colab": {
          "base_uri": "https://localhost:8080/"
        },
        "id": "dXYjLi0CZCEx",
        "outputId": "26ef67a9-76b7-4d39-902d-2c7af5718b6a"
      },
      "source": [
        "a = tf.ones(img.shape)\n",
        "print(a.shape)\n",
        "# a"
      ],
      "execution_count": null,
      "outputs": [
        {
          "output_type": "stream",
          "name": "stdout",
          "text": [
            "(512, 512, 3)\n"
          ]
        }
      ]
    },
    {
      "cell_type": "code",
      "metadata": {
        "colab": {
          "base_uri": "https://localhost:8080/"
        },
        "id": "24NI__3PBCgp",
        "outputId": "a69f1161-ddf8-4ca1-dd69-7ce22f3c085a"
      },
      "source": [
        "import tensorflow as tf\n",
        "\n",
        "a_tf = tf.ones((4,2), dtype=tf.int64)\n",
        "a_tf"
      ],
      "execution_count": null,
      "outputs": [
        {
          "output_type": "execute_result",
          "data": {
            "text/plain": [
              "<tf.Tensor: shape=(4, 2), dtype=int64, numpy=\n",
              "array([[1, 1],\n",
              "       [1, 1],\n",
              "       [1, 1],\n",
              "       [1, 1]])>"
            ]
          },
          "metadata": {},
          "execution_count": 50
        }
      ]
    },
    {
      "cell_type": "code",
      "metadata": {
        "colab": {
          "base_uri": "https://localhost:8080/"
        },
        "id": "DNxVMzSwBjIt",
        "outputId": "0d3a6095-3000-4ca2-af36-625c634bcb8e"
      },
      "source": [
        "import numpy as np\n",
        "\n",
        "a = np.full((2,3), 155)\n",
        "a"
      ],
      "execution_count": null,
      "outputs": [
        {
          "output_type": "execute_result",
          "data": {
            "text/plain": [
              "array([[155, 155, 155],\n",
              "       [155, 155, 155]])"
            ]
          },
          "metadata": {},
          "execution_count": 52
        }
      ]
    },
    {
      "cell_type": "code",
      "metadata": {
        "colab": {
          "base_uri": "https://localhost:8080/"
        },
        "id": "jMOEYZ3vBrEF",
        "outputId": "f9b11624-056c-4386-cbba-01daa2f35a40"
      },
      "source": [
        "import tensorflow as tf\n",
        "\n",
        "a = np.full((2,3), 155)\n",
        "a_tf = tf.constant(a)\n",
        "a_tf"
      ],
      "execution_count": null,
      "outputs": [
        {
          "output_type": "execute_result",
          "data": {
            "text/plain": [
              "<tf.Tensor: shape=(2, 3), dtype=int64, numpy=\n",
              "array([[155, 155, 155],\n",
              "       [155, 155, 155]])>"
            ]
          },
          "metadata": {},
          "execution_count": 53
        }
      ]
    },
    {
      "cell_type": "markdown",
      "metadata": {
        "id": "LSro9H1RcGxB"
      },
      "source": [
        "# 기존의 ndarray와 같은 shape을 가지는 ndarray 생성\n",
        "\n",
        "- np.zeros_like(기존의 ndarray)\n",
        "- np.ones_like(기존의 ndarray)\n",
        "- np.full_like(기존의 ndarray)"
      ]
    },
    {
      "cell_type": "code",
      "metadata": {
        "colab": {
          "base_uri": "https://localhost:8080/"
        },
        "id": "8GsYTO-XBqJ7",
        "outputId": "4c35d9a8-ad54-44c1-d107-ca64844455e0"
      },
      "source": [
        "import numpy as np\n",
        "\n",
        "s = np.array([[1,2,3],[2,3,4]])\n",
        "print(s.shape)\n",
        "print(s)\n",
        "\n",
        "s_like = np.zeros_like(s)\n",
        "print(s_like.shape)\n",
        "print(s_like)"
      ],
      "execution_count": null,
      "outputs": [
        {
          "output_type": "stream",
          "name": "stdout",
          "text": [
            "(2, 3)\n",
            "[[1 2 3]\n",
            " [2 3 4]]\n",
            "(2, 3)\n",
            "[[0 0 0]\n",
            " [0 0 0]]\n"
          ]
        }
      ]
    },
    {
      "cell_type": "code",
      "metadata": {
        "colab": {
          "base_uri": "https://localhost:8080/"
        },
        "id": "J_L78buUN_oH",
        "outputId": "9131bf3e-8d6e-497b-db3f-c87fd0cc9926"
      },
      "source": [
        "import numpy as np\n",
        "import tensorflow as tf\n",
        "\n",
        "s = np.array([[1,2,3],[2,3,4]])\n",
        "\n",
        "s_ones= np.ones_like(s)\n",
        "s_zeros = np.zeros_like(s)\n",
        "s_full = np.full_like(s, 4) # 채워줄 value를 꼭 지정해줘야함.\n",
        "s_tf_ones = tf.ones_like(s)\n",
        "\n",
        "print('원본 s', s)\n",
        "print(s_ones)\n",
        "print(s_zeros)\n",
        "print(s_full)\n",
        "print(s_tf_ones)"
      ],
      "execution_count": null,
      "outputs": [
        {
          "output_type": "stream",
          "name": "stdout",
          "text": [
            "원본 s [[1 2 3]\n",
            " [2 3 4]]\n",
            "[[1 1 1]\n",
            " [1 1 1]]\n",
            "[[0 0 0]\n",
            " [0 0 0]]\n",
            "[[4 4 4]\n",
            " [4 4 4]]\n",
            "tf.Tensor(\n",
            "[[1 1 1]\n",
            " [1 1 1]], shape=(2, 3), dtype=int64)\n"
          ]
        }
      ]
    },
    {
      "cell_type": "code",
      "metadata": {
        "colab": {
          "base_uri": "https://localhost:8080/"
        },
        "id": "bywi72ukITvy",
        "outputId": "51a87562-4ccd-45ec-8c74-f81c8bf821ed"
      },
      "source": [
        "# 상수 값을 사용하기 위해 \n",
        "a_tf = tf.constant(tf.range(0,12), shape = (3,4))\n",
        "a_tf "
      ],
      "execution_count": null,
      "outputs": [
        {
          "output_type": "execute_result",
          "data": {
            "text/plain": [
              "<tf.Tensor: shape=(3, 4), dtype=int32, numpy=\n",
              "array([[ 0,  1,  2,  3],\n",
              "       [ 4,  5,  6,  7],\n",
              "       [ 8,  9, 10, 11]], dtype=int32)>"
            ]
          },
          "metadata": {},
          "execution_count": 82
        }
      ]
    },
    {
      "cell_type": "markdown",
      "metadata": {
        "id": "C9x6ifE4HQ2G"
      },
      "source": [
        "np.~_like에서 dtype지정 가능"
      ]
    },
    {
      "cell_type": "code",
      "metadata": {
        "id": "w1QGuYKNZkGw",
        "colab": {
          "base_uri": "https://localhost:8080/"
        },
        "outputId": "05b6520d-2f69-4b47-dbf8-b1167922cd08"
      },
      "source": [
        "d = np.full_like(img, 3.9, dtype=np.float32)\n",
        "e = np.full_like(img, 3.9)\n",
        "\n",
        "# print(img)\n",
        "print(d.dtype, d.shape)\n",
        "print(e.dtype, e.shape)"
      ],
      "execution_count": null,
      "outputs": [
        {
          "output_type": "stream",
          "name": "stdout",
          "text": [
            "float32 (512, 512, 3)\n",
            "uint8 (512, 512, 3)\n"
          ]
        }
      ]
    },
    {
      "cell_type": "markdown",
      "metadata": {
        "id": "Xe_TPopiI4ly"
      },
      "source": [
        "# indexing & slicing\n",
        "- ndarray의 element에 접근하는 것은 indexing을 통해 하나하나에 접근하고, slicing을 통해 특정 영역의 element에 접근 가능함.\n",
        "\n",
        "- 둘의 차이점: list등의 python의 fundamental type들과의 차이는 slicing의 경우에 numpy는 원본을 가리키고 있어서 slicing으로 실제로 원본이 수정되게 됨. (주의 필요.)\n",
        "\n",
        "- slicing : ndarray\n",
        "\n",
        "원본  바뀜\n",
        "\n",
        "- slicing : list\n",
        "\n",
        "원본 안 바뀜"
      ]
    },
    {
      "cell_type": "markdown",
      "metadata": {
        "id": "cRtXK_nvLjSz"
      },
      "source": [
        "# Indexing"
      ]
    },
    {
      "cell_type": "markdown",
      "metadata": {
        "id": "LDrBrlUOClhv"
      },
      "source": [
        "np(numpy) = arange(start, end), tf(tensorflow) = range(start, end)"
      ]
    },
    {
      "cell_type": "code",
      "metadata": {
        "colab": {
          "base_uri": "https://localhost:8080/"
        },
        "id": "E5_GQQFACWez",
        "outputId": "f407cb19-f50c-4c2d-94af-8d0bcdba129a"
      },
      "source": [
        "A = np.arange(0,12).reshape(3,4)\n",
        "A"
      ],
      "execution_count": null,
      "outputs": [
        {
          "output_type": "execute_result",
          "data": {
            "text/plain": [
              "array([[ 0,  1,  2,  3],\n",
              "       [ 4,  5,  6,  7],\n",
              "       [ 8,  9, 10, 11]])"
            ]
          },
          "metadata": {},
          "execution_count": 58
        }
      ]
    },
    {
      "cell_type": "code",
      "metadata": {
        "colab": {
          "base_uri": "https://localhost:8080/"
        },
        "id": "kRDBG0YiDG2s",
        "outputId": "de89cc73-4f35-4099-ea24-d3aafad1fa40"
      },
      "source": [
        "A_tf = tf.constant(tf.range(0,12), shape=(3,4))\n",
        "A_tf"
      ],
      "execution_count": null,
      "outputs": [
        {
          "output_type": "execute_result",
          "data": {
            "text/plain": [
              "<tf.Tensor: shape=(3, 4), dtype=int32, numpy=\n",
              "array([[ 0,  1,  2,  3],\n",
              "       [ 4,  5,  6,  7],\n",
              "       [ 8,  9, 10, 11]], dtype=int32)>"
            ]
          },
          "metadata": {},
          "execution_count": 60
        }
      ]
    },
    {
      "cell_type": "code",
      "metadata": {
        "colab": {
          "base_uri": "https://localhost:8080/"
        },
        "id": "vC08lsGcHjpr",
        "outputId": "4c3b8e3a-d58a-4614-df09-fda3874e016e"
      },
      "source": [
        "import tensorflow as tf\n",
        "\n",
        "a_tf = tf.constant(tf.range(0,12), shape = (3,4))\n",
        "# 특정 행에 접근 [] 특정행의 특정원소(원소번호=0부터)에 접근\n",
        "print('a_tf---', a_tf)\n",
        "print(f'a_tf[0] is \"{a_tf[0]}\"')\n",
        "print(f'shape:{a_tf[0].shape}')\n",
        "print(f'dimension:{a_tf[0].ndim}')\n",
        "\n",
        "# array[x,x] = array[x][x]\n",
        "print(f'a_tf[0,2] is \"{a_tf[0,2]}\"')\n",
        "print(f'a_tf[0][2] is \"{a_tf[0][2]}\"') \n",
        "print(f'shape:{a_tf[0][2].shape}')\n",
        "print(f'dimension:{a_tf[0][2].ndim}')\n",
        "\n",
        "# 특정 열에 접근하려면? -> slicing!"
      ],
      "execution_count": null,
      "outputs": [
        {
          "output_type": "stream",
          "name": "stdout",
          "text": [
            "a_tf--- tf.Tensor(\n",
            "[[ 0  1  2  3]\n",
            " [ 4  5  6  7]\n",
            " [ 8  9 10 11]], shape=(3, 4), dtype=int32)\n",
            "a_tf[0] is \"[0 1 2 3]\"\n",
            "shape:(4,)\n",
            "dimension:1\n",
            "a_tf[0,2] is \"2\"\n",
            "a_tf[0][2] is \"2\"\n",
            "shape:()\n",
            "dimension:0\n"
          ]
        }
      ]
    },
    {
      "cell_type": "markdown",
      "metadata": {
        "id": "nd3AiaxOJO2D"
      },
      "source": [
        "# Slicing"
      ]
    },
    {
      "cell_type": "markdown",
      "metadata": {
        "id": "Ls7GHZ_o4-_c"
      },
      "source": [
        "# a[start,end,step] -> a = tuple, list, ndarray\n",
        "- [:] 처음부터 끝까지\n",
        "- [start:] start오프셋(인덱스)부터 끝까지\n",
        "- [:end] 처음부터 end-1 오프셋(인덱스)까지\n",
        "- [start : end] start오프셋부터 end-1 오프셋(인덱스)까지\n",
        "- [start : end : step] step만큼 문자를 건너뛰면서, 위와 동일하게 추출"
      ]
    },
    {
      "cell_type": "code",
      "metadata": {
        "colab": {
          "base_uri": "https://localhost:8080/"
        },
        "id": "SmdobyyrQ1UE",
        "outputId": "4c0d0613-b656-49b2-954b-8803c4c1661f"
      },
      "source": [
        "# 특정 열에 접근 -> 2번째 열에 접근(0번째부터 시작)\n",
        "import tensorflow as tf\n",
        "\n",
        "a_tf = tf.constant(tf.range(0,12), shape = (3,4))\n",
        "print(type(a_tf))\n",
        "\n",
        "print(f'a_tf is \"{a_tf}\"')\n",
        "print(f'a_tf[:,2] is \"{a_tf[:,2]}\"') #  열이지만 가로로 출력됨.\n",
        "print(a_tf[:,2].shape)\n",
        "print(a_tf[:,2].ndim)"
      ],
      "execution_count": null,
      "outputs": [
        {
          "output_type": "stream",
          "name": "stdout",
          "text": [
            "<class 'tensorflow.python.framework.ops.EagerTensor'>\n",
            "a_tf is \"[[ 0  1  2  3]\n",
            " [ 4  5  6  7]\n",
            " [ 8  9 10 11]]\"\n",
            "a_tf[:,2] is \"[ 2  6 10]\"\n",
            "(3,)\n",
            "1\n"
          ]
        }
      ]
    },
    {
      "cell_type": "code",
      "metadata": {
        "colab": {
          "base_uri": "https://localhost:8080/"
        },
        "id": "CSSPSRMtJcuv",
        "outputId": "b82d373d-61dc-47e0-be5d-88f1943243de"
      },
      "source": [
        "import numpy as np\n",
        "\n",
        "a = np.arange(0,12).reshape(3,4)\n",
        "print(type(a))\n",
        "\n",
        "print(f'a== \"{a}\"')\n",
        "print('a[1,2::]==', a[1,2::]) # 1번째 행에서 2번째 열부터 마지막열 끝까지, 한칸간격으로 \n",
        "print('a[1,::2]==', a[1,::2]) # 1번째 행에서 모든 열, 두칸 간격으로 \n",
        "print('a[1,:2]==', a[1,:2]) # 1번째 행에서 1번째(2번째 -1) 열까지"
      ],
      "execution_count": null,
      "outputs": [
        {
          "output_type": "stream",
          "name": "stdout",
          "text": [
            "<class 'numpy.ndarray'>\n",
            "a== \"[[ 0  1  2  3]\n",
            " [ 4  5  6  7]\n",
            " [ 8  9 10 11]]\"\n",
            "a[1,2::]== [6 7]\n",
            "a[1,::2]== [4 6]\n",
            "a[1,:2]== [4 5]\n"
          ]
        }
      ]
    },
    {
      "cell_type": "code",
      "metadata": {
        "colab": {
          "base_uri": "https://localhost:8080/"
        },
        "id": "Tff3NJjjEAj7",
        "outputId": "6a9fcc70-0034-49b1-d953-25ac29a2b691"
      },
      "source": [
        "A = np.arange(0,12).reshape(3,4)\n",
        "A[1:3,1:3] = 3*A[1:3,1:3]\n",
        "A"
      ],
      "execution_count": null,
      "outputs": [
        {
          "output_type": "execute_result",
          "data": {
            "text/plain": [
              "array([[ 0,  1,  2,  3],\n",
              "       [ 4, 15, 18,  7],\n",
              "       [ 8, 27, 30, 11]])"
            ]
          },
          "metadata": {},
          "execution_count": 61
        }
      ]
    },
    {
      "cell_type": "code",
      "metadata": {
        "colab": {
          "base_uri": "https://localhost:8080/"
        },
        "id": "y-o7cXTcENqo",
        "outputId": "28a2c299-f0d3-47c6-81b0-5f9acef0d367"
      },
      "source": [
        "A = np.arange(0,12).reshape(3,4)\n",
        "A[1:3,1:3] = 777\n",
        "A"
      ],
      "execution_count": null,
      "outputs": [
        {
          "output_type": "execute_result",
          "data": {
            "text/plain": [
              "array([[  0,   1,   2,   3],\n",
              "       [  4, 777, 777,   7],\n",
              "       [  8, 777, 777,  11]])"
            ]
          },
          "metadata": {},
          "execution_count": 62
        }
      ]
    },
    {
      "cell_type": "code",
      "metadata": {
        "colab": {
          "base_uri": "https://localhost:8080/"
        },
        "id": "IrPC4BH3Mzf_",
        "outputId": "2da76abf-de51-4408-be7d-7aab83d441cd"
      },
      "source": [
        "# a = ndarray\n",
        "\n",
        "import numpy as np\n",
        "\n",
        "a = np.arange(0,12).reshape(3,4)\n",
        "print('slicing 전 a:',a)\n",
        "# a[1:3,1:3] = 3*a[1:3,1:3]\n",
        "b = a\n",
        "b[1:3,1:3] = 3*b[1:3,1:3]\n",
        "print('slicing 후 a:',a)\n",
        "\n",
        "# a[1:3, 1:3] = 777\n",
        "c = a\n",
        "c[1:3, 1:3] = 777 \n",
        "print('slicing 2 후 a:',a)"
      ],
      "execution_count": null,
      "outputs": [
        {
          "output_type": "stream",
          "name": "stdout",
          "text": [
            "slicing 전 a: [[ 0  1  2  3]\n",
            " [ 4  5  6  7]\n",
            " [ 8  9 10 11]]\n",
            "slicing 후 a: [[ 0  1  2  3]\n",
            " [ 4 15 18  7]\n",
            " [ 8 27 30 11]]\n",
            "slicing 2 후 a: [[  0   1   2   3]\n",
            " [  4 777 777   7]\n",
            " [  8 777 777  11]]\n"
          ]
        }
      ]
    },
    {
      "cell_type": "markdown",
      "metadata": {
        "id": "37tlM4GFkGfk"
      },
      "source": [
        "# Indexing & slicing"
      ]
    },
    {
      "cell_type": "code",
      "metadata": {
        "colab": {
          "base_uri": "https://localhost:8080/"
        },
        "id": "KE2QxA8qkoiJ",
        "outputId": "8984cf18-0895-45bb-d799-33485b9434bd"
      },
      "source": [
        "# (x,-1) => row 개수 = 3을 만족하면, column 개수 = 자동 지정\n",
        "b = np.arange(12).reshape(3,-1)\n",
        "b.shape\n",
        "b[2]\n",
        "b\n",
        "# Q. 2번째 행에서 0번째 인자 출력\n",
        "b[2][0]\n",
        "b[2,0]\n",
        "b[2][1:3]\n",
        "b[:,0]"
      ],
      "execution_count": null,
      "outputs": [
        {
          "output_type": "execute_result",
          "data": {
            "text/plain": [
              "array([0, 4, 8])"
            ]
          },
          "metadata": {},
          "execution_count": 10
        }
      ]
    },
    {
      "cell_type": "markdown",
      "metadata": {
        "id": "MbLWc_38WFus"
      },
      "source": [
        "# Q. 2번째 행에서 0번째 인자 출력 -> 복습 필요\n",
        "-> 방법:5가지\n",
        "\n",
        "# 모르겠음!??"
      ]
    },
    {
      "cell_type": "code",
      "metadata": {
        "colab": {
          "base_uri": "https://localhost:8080/"
        },
        "id": "rYwQN3yrUoMB",
        "outputId": "62c3b243-2534-478a-9289-1a450e717da5"
      },
      "source": [
        "b = np.arange(12).reshape(3,-1) # 3,4 \n",
        "print('b',b)\n",
        "\n",
        "# print(b[2][0]) # 8\n",
        "# print(b[2][0:1]) # [8]\n",
        "print(b[2:][0]) # [ 8 9 10 11]\n",
        "# print(b[2:][0:1]) # [[ 8 9 10 11 ]]\n",
        "# print(b[2,0]) # 8 \n",
        "# print(b[2,0:1]) # [8]\n",
        "# print(b[2:,0:1]) # [[8]]"
      ],
      "execution_count": null,
      "outputs": [
        {
          "output_type": "stream",
          "name": "stdout",
          "text": [
            "b [[ 0  1  2  3]\n",
            " [ 4  5  6  7]\n",
            " [ 8  9 10 11]]\n",
            "[ 8  9 10 11]\n"
          ]
        }
      ]
    },
    {
      "cell_type": "code",
      "metadata": {
        "colab": {
          "base_uri": "https://localhost:8080/"
        },
        "id": "edAsAMGvV_Pt",
        "outputId": "ebe0a8af-c3e6-4713-8377-0f537810de7c"
      },
      "source": [
        "import numpy as np\n",
        "\n",
        "a = np.arange(0,12).reshape(3,4)\n",
        "print(f'a is \"{a}\"')\n",
        "print(a[1,::2])\n",
        "print(a[1,:2])"
      ],
      "execution_count": null,
      "outputs": [
        {
          "output_type": "stream",
          "name": "stdout",
          "text": [
            "a is \"[[ 0  1  2  3]\n",
            " [ 4  5  6  7]\n",
            " [ 8  9 10 11]]\"\n",
            "[4 6]\n",
            "[4 5]\n"
          ]
        }
      ]
    },
    {
      "cell_type": "markdown",
      "metadata": {
        "id": "OQqW00bQmh96"
      },
      "source": [
        "python의 list등에서의 sliicing ->원본이 변하지 않음\n"
      ]
    },
    {
      "cell_type": "code",
      "metadata": {
        "colab": {
          "base_uri": "https://localhost:8080/"
        },
        "id": "9_REN0vgmHQ1",
        "outputId": "6a655299-9b37-45d0-a36f-6c4a218ff686"
      },
      "source": [
        "# a = list, list slicing => 원본 안 바뀜 \n",
        "\n",
        "a = list(range(10))\n",
        "print('slicing 전 a', a)\n",
        "print('a[3:5]: ', a[3:5])\n",
        "b = a[3:5]\n",
        "b[0] = 10 \n",
        "print('a[3:5][0] = 10:', a)"
      ],
      "execution_count": null,
      "outputs": [
        {
          "output_type": "stream",
          "name": "stdout",
          "text": [
            "slicing 전 a [0, 1, 2, 3, 4, 5, 6, 7, 8, 9]\n",
            "a[3:5]:  [3, 4]\n",
            "a[3:5][0] = 10: [0, 1, 2, 3, 4, 5, 6, 7, 8, 9]\n"
          ]
        }
      ]
    },
    {
      "cell_type": "markdown",
      "metadata": {
        "id": "hLxMewJ0Wwuk"
      },
      "source": [
        "numpy의 array등에서의 sliicing ->원본이 변함"
      ]
    },
    {
      "cell_type": "code",
      "metadata": {
        "colab": {
          "base_uri": "https://localhost:8080/"
        },
        "id": "AFkImsJjm5-Q",
        "outputId": "0d7d072c-3748-4a0b-b78e-36e90d890eee"
      },
      "source": [
        "# numpy, ndarray - slicing => 원본 바뀜\n",
        "a = np.arange(10)\n",
        "print('slicing 전 a', a)\n",
        "b = a[3:5]\n",
        "#b = a[3:5].copy()\n",
        "b[0] = 10\n",
        "print('slicing한 b',b)\n",
        "print('slicing 후 a',a)"
      ],
      "execution_count": null,
      "outputs": [
        {
          "output_type": "stream",
          "name": "stdout",
          "text": [
            "slicing 전 a [0 1 2 3 4 5 6 7 8 9]\n",
            "slicing한 b [10  4]\n",
            "slicing 후 a [ 0  1  2 10  4  5  6  7  8  9]\n"
          ]
        }
      ]
    },
    {
      "cell_type": "markdown",
      "metadata": {
        "id": "y-LQBRxk3tQ0"
      },
      "source": [
        "# 난수 생성\n",
        "\n",
        "<난수 1개 반환>\n",
        "1. np.random.randint(num)\n",
        "균일 분포의 정수 난수 1개 생성\n",
        "\n",
        "0, num-1사이의 랜덤한 숫자 1개 뽑아냄\n",
        " \n",
        " 1.1. np.random.randint(start_num,end_num)\n",
        "start_num, end_num-1 사이의 랜덤한 숫자 1개 뽑아냄\n",
        "\n",
        "<해당 shape의 ndarray 반환>\n",
        "2. np.random.rand(rows,cols)\n",
        "0부터 1사이(범위)의 균일 분포에서 난수 (m,n)형식의 matrix array 생성\n",
        "\n",
        "3. np.random.randn(m,n)\n",
        "가우시안 표준 정규분포에서 난수 (m,n)형식의 matrix array 생성\n",
        " \n",
        " => 평균=0, 표준편차=1\n",
        "\n",
        "<해당 최소값, 최대값,데이터 개수를 갖는 1d array 반환>\n",
        "- np.random.uniform(최소값,최대값,데이터개수)\n",
        " \n",
        " => 최소값, 최대값, 데이터 개수 지정 -> (데이터 개수,)의 1차원 ndarray 균등분포생성\n",
        "\n",
        "<해당 평균, 표준편차,데이터 개수를 갖는 1d array 반환>\n",
        "4. np.random.normal(평균,표준편차,데이터수)\n",
        " \n",
        " => 평균, 표준편차, 데이터 개수 지정 -> 정규분포=가우시안 분포 \n",
        " 생성"
      ]
    },
    {
      "cell_type": "markdown",
      "metadata": {
        "id": "8Opqza8WgyEV"
      },
      "source": [
        "# 가우시안 분포 =  정규분포"
      ]
    },
    {
      "cell_type": "code",
      "metadata": {
        "colab": {
          "base_uri": "https://localhost:8080/"
        },
        "id": "pmbYf7xfaKGy",
        "outputId": "a362b1d4-eab1-430b-c6f2-d20678521b70"
      },
      "source": [
        "import numpy as np\n",
        "\n",
        "a = np.random.randint(6) # 0~5에서 랜덤한 숫자 1개\n",
        "b = np.random.randint(10) # 0~9에서 랜덤한 숫자 1개\n",
        "c = np.random.randint(7,10) # 7~9에서 랜덤한 숫자 1개\n",
        "print(a)\n",
        "print(b)\n",
        "print(c)"
      ],
      "execution_count": null,
      "outputs": [
        {
          "output_type": "stream",
          "name": "stdout",
          "text": [
            "0\n",
            "0\n",
            "8\n"
          ]
        }
      ]
    },
    {
      "cell_type": "code",
      "metadata": {
        "colab": {
          "base_uri": "https://localhost:8080/"
        },
        "id": "0tPtlLi2aVP-",
        "outputId": "04496df7-600f-4312-fddf-d53a158716b7"
      },
      "source": [
        "# rand(m,n) = (m,n)shape의 0~1의 균일분포 난수 행렬 생성\n",
        "\n",
        "a = np.random.rand(3,4)\n",
        "b = np.random.rand(1,2)\n",
        "print('a',a)\n",
        "print('b',b)"
      ],
      "execution_count": null,
      "outputs": [
        {
          "output_type": "stream",
          "name": "stdout",
          "text": [
            "a [[0.56901979 0.05963298 0.20155737 0.68039024]\n",
            " [0.65016459 0.41207555 0.37198583 0.0870164 ]\n",
            " [0.33416857 0.84924138 0.29726785 0.02686213]]\n",
            "b [[0.55985382 0.09457139]]\n"
          ]
        }
      ]
    },
    {
      "cell_type": "markdown",
      "metadata": {
        "id": "xXb_kyocvLCb"
      },
      "source": [
        "# 통계적 처리"
      ]
    },
    {
      "cell_type": "code",
      "metadata": {
        "colab": {
          "base_uri": "https://localhost:8080/"
        },
        "id": "3JBsQepnvP1w",
        "outputId": "ebc5fdce-bde8-4a75-b3a3-8ef819771a22"
      },
      "source": [
        "g_m = np.mean(cat_gray)\n",
        "print(g_m) # 모든 수에 대해 계산됨."
      ],
      "execution_count": null,
      "outputs": [
        {
          "output_type": "stream",
          "name": "stdout",
          "text": [
            "108.20492978566149\n"
          ]
        }
      ]
    },
    {
      "cell_type": "code",
      "metadata": {
        "colab": {
          "base_uri": "https://localhost:8080/"
        },
        "id": "8WKrHYFEvSg4",
        "outputId": "4267a4b5-d121-4ab2-af7f-1bef8d433c48"
      },
      "source": [
        "rgb_m = np.mean(cat_rgb)\n",
        "print(rgb_m) # 모든 수에 대해 계산됨."
      ],
      "execution_count": null,
      "outputs": [
        {
          "output_type": "stream",
          "name": "stdout",
          "text": [
            "115.30514166050752\n"
          ]
        }
      ]
    },
    {
      "cell_type": "markdown",
      "metadata": {
        "id": "BVScm5dAxBgF"
      },
      "source": [
        "아래 코드 ??"
      ]
    },
    {
      "cell_type": "code",
      "metadata": {
        "colab": {
          "base_uri": "https://localhost:8080/"
        },
        "id": "oqy8ZYplvVTI",
        "outputId": "8d4aa40c-7df8-439b-da45-6186539987e9"
      },
      "source": [
        "print(cat_rgb.shape)\n",
        "rgb_m = np.mean(cat_rgb, axis=-1) # axis=2와 동일\n",
        "print(rgb_m.shape) # 모든 채널을 바탕으로.."
      ],
      "execution_count": null,
      "outputs": [
        {
          "output_type": "stream",
          "name": "stdout",
          "text": [
            "(300, 451, 3)\n",
            "(300, 451)\n"
          ]
        }
      ]
    },
    {
      "cell_type": "code",
      "metadata": {
        "colab": {
          "base_uri": "https://localhost:8080/"
        },
        "id": "-aQT8ewPxIJE",
        "outputId": "4b716743-bd89-47bb-e12e-0935b59dcdb0"
      },
      "source": [
        "rgb_m = np.mean(cat_rgb, axis=0)\n",
        "print(rgb_m.shape) # axis=0를 바탕으로 평균을 계산. 즉 결과는 column으로 남음."
      ],
      "execution_count": null,
      "outputs": [
        {
          "output_type": "stream",
          "name": "stdout",
          "text": [
            "(451, 3)\n"
          ]
        }
      ]
    },
    {
      "cell_type": "code",
      "metadata": {
        "colab": {
          "base_uri": "https://localhost:8080/"
        },
        "id": "VgCFkzyHwDr3",
        "outputId": "2dc1ec3a-3b00-4a30-c5a1-d0ff90d40618"
      },
      "source": [
        "a = np.arange(8).reshape(2,2,2)\n",
        "print(a.shape)\n",
        "print(a)\n",
        "a_m = np.mean(a, axis=0) # \n",
        "print(a_m.shape) # 모든 채널을 바탕으로..\n",
        "print(a_m)"
      ],
      "execution_count": null,
      "outputs": [
        {
          "output_type": "stream",
          "name": "stdout",
          "text": [
            "(2, 2, 2)\n",
            "[[[0 1]\n",
            "  [2 3]]\n",
            "\n",
            " [[4 5]\n",
            "  [6 7]]]\n",
            "(2, 2)\n",
            "[[2. 3.]\n",
            " [4. 5.]]\n"
          ]
        }
      ]
    },
    {
      "cell_type": "markdown",
      "metadata": {
        "id": "h4Zm-WHPLZaV"
      },
      "source": [
        "# np.mean(a, axis = None)\n",
        "\n",
        "- a = ndarray\n",
        "- axis = 0 -> 열 별 np.연산값 반환(행을 대상으로 계산)\n",
        "- axis = 1 -> 행 별 np.연산값 반환(열을 대상으로 계산)\n",
        "- axis = 1 -> ?\n",
        "\n",
        "- np.mean:평균, np.std:표준편차, np.var:분산, np.max, np.min\n",
        "\n",
        "# 기타 중요한 함수들\n",
        "- numpy.max = 특정 축을 따라 최대값을 구함\n",
        "- numpy.min - 최소값을 구함\n",
        "- numpy.median = median을 구함 \n",
        "- 모든 통계적인 값을 따라 가는 함수는 특정 축을 따라 계산할 수 있음(축 지정 가능)"
      ]
    },
    {
      "cell_type": "code",
      "metadata": {
        "colab": {
          "base_uri": "https://localhost:8080/"
        },
        "id": "pmjx2MP7i7-1",
        "outputId": "975c79f8-989a-436e-b1e5-f7de0fec5eb1"
      },
      "source": [
        "# np.std(standard deviation))= 표준편차= = 분산을 제곱근한 것 \n",
        "\n",
        "a = np.arange(20).reshape(5,-1)\n",
        "cod_arr = np.std(a, axis = 0) # 각 열의 표준편차 반환 -> 1d array\n",
        "print('a', a)\n",
        "print('cod_arr', cod_arr)\n",
        "print('cod_arr type', type(cod_arr))"
      ],
      "execution_count": null,
      "outputs": [
        {
          "output_type": "stream",
          "name": "stdout",
          "text": [
            "a [[ 0  1  2  3]\n",
            " [ 4  5  6  7]\n",
            " [ 8  9 10 11]\n",
            " [12 13 14 15]\n",
            " [16 17 18 19]]\n",
            "cod_arr [5.65685425 5.65685425 5.65685425 5.65685425]\n",
            "cod_arr type <class 'numpy.ndarray'>\n"
          ]
        }
      ]
    },
    {
      "cell_type": "code",
      "metadata": {
        "colab": {
          "base_uri": "https://localhost:8080/"
        },
        "id": "9Y8FJEYijLGM",
        "outputId": "1b7570fa-e1c2-4d01-cc4d-785d6cb745bb"
      },
      "source": [
        "# numpy.sum 총합을 구함.\n",
        "\n",
        "a = np.arange(20).reshape(5,-1)\n",
        "print('before',a)\n",
        "print(a.shape)\n",
        "row_sum_arr = np.sum(a, axis = 1)\n",
        "col_sum_arr = np.sum(a, axis = 0)\n",
        "print('sum row_sum_arr',row_sum_arr)\n",
        "print(row_sum_arr.shape)\n",
        "print('sum col_sum_arr',col_sum_arr)\n",
        "print(col_sum_arr.shape)"
      ],
      "execution_count": null,
      "outputs": [
        {
          "output_type": "stream",
          "name": "stdout",
          "text": [
            "before [[ 0  1  2  3]\n",
            " [ 4  5  6  7]\n",
            " [ 8  9 10 11]\n",
            " [12 13 14 15]\n",
            " [16 17 18 19]]\n",
            "(5, 4)\n",
            "sum row_sum_arr [ 6 22 38 54 70]\n",
            "(5,)\n",
            "sum col_sum_arr [40 45 50 55]\n",
            "(4,)\n"
          ]
        }
      ]
    },
    {
      "cell_type": "markdown",
      "metadata": {
        "id": "97RqyZG7s5v3"
      },
      "source": [
        "numpy.nonzero(array)\n",
        "\n",
        "numpy.isnan(array) # nan  = not a number\n",
        "\n",
        "numpy.ising(array)\n",
        "\n",
        "-> 사실 numpy.where로 다 대체가 가능함 "
      ]
    },
    {
      "cell_type": "markdown",
      "metadata": {
        "id": "uKhizVByjQAo"
      },
      "source": [
        "# 난수생성"
      ]
    },
    {
      "cell_type": "code",
      "metadata": {
        "colab": {
          "base_uri": "https://localhost:8080/"
        },
        "id": "ExeeiLucdd8a",
        "outputId": "b70d682d-7d24-4dc1-9cf9-5feaf0701247"
      },
      "source": [
        "# (rows,cols) shape의 평균(mean)0,표준편차(std)1의 \n",
        "# 가우시안 표준정규분포 난수 행렬 생성\n",
        "\n",
        "a = np.random.randn(3,4)\n",
        "b = np.random.randn(6)\n",
        "print('a',a, a.shape)\n",
        "print('b',b, b.shape)"
      ],
      "execution_count": null,
      "outputs": [
        {
          "output_type": "stream",
          "name": "stdout",
          "text": [
            "a [[ 0.05202481  0.19872181  0.99390299 -0.67774172]\n",
            " [-1.47219049 -0.07316904  1.12737235  1.19999688]\n",
            " [ 1.33574405 -0.58842498  2.92489456  0.26403113]] (3, 4)\n",
            "b [-1.51943966  1.4137078  -1.46174222  0.23025437 -1.30447986 -2.02993547] (6,)\n"
          ]
        }
      ]
    },
    {
      "cell_type": "code",
      "metadata": {
        "colab": {
          "base_uri": "https://localhost:8080/"
        },
        "id": "TUkRAC6yhFMJ",
        "outputId": "bacc20fd-ee70-478e-9290-e3b2b12f27b9"
      },
      "source": [
        "import tensorflow as tf\n",
        "import numpy as np\n",
        "\n",
        "# 범위의 기본값 = 0~1\n",
        "a_tf = tf.random.uniform(shape=(2,2), minval=0., maxval=1.)\n",
        "a = np.random.uniform(5,10,10)\n",
        "print('a_tf',a_tf)\n",
        "print('a',a)\n",
        "print('a.shape', a.shape)\n",
        "print('a.ndim', a.ndim)"
      ],
      "execution_count": null,
      "outputs": [
        {
          "output_type": "stream",
          "name": "stdout",
          "text": [
            "a_tf tf.Tensor(\n",
            "[[0.408239   0.06262481]\n",
            " [0.7077079  0.77093136]], shape=(2, 2), dtype=float32)\n",
            "a [8.10713908 7.38844501 5.43776073 7.03873359 7.52590919 8.46630275\n",
            " 6.68605691 8.31134564 5.30140582 9.74103081]\n",
            "a.shape (10,)\n",
            "a.ndim 1\n"
          ]
        }
      ]
    },
    {
      "cell_type": "markdown",
      "metadata": {
        "id": "uUttVQ1mkAUo"
      },
      "source": [
        "Q. 평균이 5이고, 분산이 3인 gaussian분포를 따르는 노이즈를 3x3 행렬로 만드시오."
      ]
    },
    {
      "cell_type": "code",
      "metadata": {
        "colab": {
          "base_uri": "https://localhost:8080/"
        },
        "id": "GyfMVeNRHkmi",
        "outputId": "a03d1621-8d20-40a9-f7cd-578a701b857c"
      },
      "source": [
        "import numpy as np\n",
        "\n",
        "a = np.random.normal(5,3**0.5,3*3).reshape(3,3)\n",
        "a"
      ],
      "execution_count": null,
      "outputs": [
        {
          "output_type": "execute_result",
          "data": {
            "text/plain": [
              "array([[ 2.74073064,  3.03725732,  5.06107482],\n",
              "       [ 6.11692578,  3.7695455 ,  6.06802413],\n",
              "       [ 5.54987995, -1.08264164,  5.73513824]])"
            ]
          },
          "metadata": {},
          "execution_count": 11
        }
      ]
    },
    {
      "cell_type": "markdown",
      "metadata": {
        "id": "3hmXsddGjXFB"
      },
      "source": [
        "변경하면 계속 그 후의 값에 영향을 줌"
      ]
    },
    {
      "cell_type": "code",
      "metadata": {
        "colab": {
          "base_uri": "https://localhost:8080/"
        },
        "id": "-OST5PqxjjEN",
        "outputId": "3095b2ee-bed9-40e5-9b1a-92ca0875922e"
      },
      "source": [
        "# python 큰 수의 법칙 https://xodud2972.tistory.com/62\n",
        "\n",
        "# 큰 수의 법칙(위의 내용과는 다름)\n",
        "a = np.random.randn(3,3)\n",
        "print('a------')\n",
        "print(a)\n",
        "print('np.mean(a)------')\n",
        "print(np.mean(a))\n",
        "print('np.std(a)------')\n",
        "print(np.std(a))\n",
        "\n",
        "a = a*3\n",
        "print('a*3------')\n",
        "print(a)\n",
        "print('np.mean(a)------')\n",
        "print(np.mean(a))\n",
        "print('np.std(a)------')\n",
        "print(np.std(a))\n",
        "\n",
        "a = a+5\n",
        "print('a+5------')\n",
        "print(a)\n",
        "print('np.mean(a)------')\n",
        "print(np.mean(a))\n",
        "print('np.std(a)------')\n",
        "print(np.std(a))"
      ],
      "execution_count": null,
      "outputs": [
        {
          "output_type": "stream",
          "name": "stdout",
          "text": [
            "a------\n",
            "[[ 0.12602041 -2.14997538 -1.72506806]\n",
            " [-1.62356945 -0.81233504  0.53276356]\n",
            " [ 0.89670211  1.17628569  0.36578728]]\n",
            "np.mean(a)------\n",
            "-0.3570432096655052\n",
            "np.std(a)------\n",
            "1.1722742580687695\n",
            "a*3------\n",
            "[[ 0.37806122 -6.44992615 -5.17520417]\n",
            " [-4.87070836 -2.43700512  1.59829068]\n",
            " [ 2.69010632  3.52885708  1.09736183]]\n",
            "np.mean(a)------\n",
            "-1.0711296289965153\n",
            "np.std(a)------\n",
            "3.5168227742063083\n",
            "a+5------\n",
            "[[ 5.37806122 -1.44992615 -0.17520417]\n",
            " [ 0.12929164  2.56299488  6.59829068]\n",
            " [ 7.69010632  8.52885708  6.09736183]]\n",
            "np.mean(a)------\n",
            "3.9288703710034847\n",
            "np.std(a)------\n",
            "3.5168227742063083\n"
          ]
        }
      ]
    },
    {
      "cell_type": "code",
      "metadata": {
        "colab": {
          "base_uri": "https://localhost:8080/"
        },
        "id": "qLXW7KiikWop",
        "outputId": "3584b773-7fdd-40e1-db02-a5170c28f5c7"
      },
      "source": [
        "a = np.random.randn(3,3)\n",
        "a = a*3\n",
        "a = a+5\n",
        "print(np.mean(a))\n",
        "print(np.std(a))\n",
        "print(np.var(a))"
      ],
      "execution_count": null,
      "outputs": [
        {
          "output_type": "stream",
          "name": "stdout",
          "text": [
            "5.000932933286733\n",
            "2.998896610005791\n",
            "8.993380877504224\n"
          ]
        }
      ]
    },
    {
      "cell_type": "markdown",
      "metadata": {
        "id": "vou2LkwlkczA"
      },
      "source": [
        "Q. -1~1 사이의 난수를 발생하는 함수 만들기(균등한확률 =균일분포)\n"
      ]
    },
    {
      "cell_type": "code",
      "metadata": {
        "id": "bJnOTFHclDiK",
        "colab": {
          "base_uri": "https://localhost:8080/"
        },
        "outputId": "217b2c9d-3001-45e2-f67c-cff82d39d237"
      },
      "source": [
        "import numpy as np\n",
        "\n",
        "def get_rand(*d): # * = tuple을 입력값으로 \n",
        "    a = np.random.rand(*d)\n",
        "    # -1~1사이의 값으로 만들어줌\n",
        "    b = a * 2 - 1 \n",
        "    \n",
        "    return b\n",
        "\n",
        "# (2,3,4) shape의 3차원 array생성.\n",
        "# 값은 0~1사이의 값 (0~1)*2-1 = -1~1사이의 값으로 변환됨. \n",
        "\n",
        "print(get_rand(2,3,4)) # 3,4 matix 가 2개\n",
        "print(get_rand(2,3)) # 2,3 matrix 가 ㅂ개 "
      ],
      "execution_count": null,
      "outputs": [
        {
          "output_type": "stream",
          "name": "stdout",
          "text": [
            "[[[-0.80471583  0.32673648 -0.02327367  0.49429861]\n",
            "  [-0.36691781  0.24074582  0.36999901 -0.90407818]\n",
            "  [ 0.47520956 -0.86749794 -0.99631858 -0.54235775]]\n",
            "\n",
            " [[-0.56296515 -0.14355393  0.53658522 -0.38733008]\n",
            "  [-0.00421652  0.88179304 -0.01841624  0.10031064]\n",
            "  [ 0.65868439  0.85667173 -0.90379179 -0.17052292]]]\n",
            "[[ 0.32641641  0.28802697 -0.76294034]\n",
            " [-0.61511552  0.60136381 -0.91769687]]\n"
          ]
        }
      ]
    },
    {
      "cell_type": "markdown",
      "metadata": {
        "id": "s5YWE0fbSTsD"
      },
      "source": [
        "# ndarray의 분산, 표준편차, 평균 등\n",
        "\n",
        "분산 =  데이터의 퍼진 정도\n",
        "표준편차 = 분산의 양의 제곱근\n",
        "\n",
        "- np.mean(ndarray)\n",
        "가장 흔한 평균값 구하는 메소드\n",
        "- np.average(ndarray)\n",
        "- np.median(ndarray)\n",
        "그레이스케일의 이미지를 쓸 때, 너무 흰색, 너무 검은 색 등의 극단적인 값들을 배제시키는 데에 많이 쓰임, 나열(sorting)했을 때 정말 중간값을 의미함\n",
        "- np.var(ndarray)\n",
        "- np.std(ndarray)"
      ]
    },
    {
      "cell_type": "code",
      "metadata": {
        "colab": {
          "base_uri": "https://localhost:8080/"
        },
        "id": "7P48Cw03Sl8L",
        "outputId": "db17f70b-321f-4232-fc9a-52a0edf53285"
      },
      "source": [
        "a = [1,2,3,4,5,6]\n",
        "print('a의 평균 mean', np.mean(a))\n",
        "print('a의 평균 average', np.average(a))\n",
        "print('a의 중앙값', np.median(a))\n",
        "print('a의 분산', np.var(a))\n",
        "print('a의 표준편차', np.std(a))"
      ],
      "execution_count": null,
      "outputs": [
        {
          "output_type": "stream",
          "name": "stdout",
          "text": [
            "a의 평균 mean 3.5\n",
            "a의 평균 average 3.5\n",
            "a의 중앙값 3.5\n",
            "a의 분산 2.9166666666666665\n",
            "a의 표준편차 1.707825127659933\n"
          ]
        }
      ]
    },
    {
      "cell_type": "code",
      "metadata": {
        "id": "muY59eFN0qTs"
      },
      "source": [
        "def get_uniform(*d):\n",
        "  a = np.random.uniform(-1,1)\n",
        "  b = a.reshape(*d)\n",
        "  return b"
      ],
      "execution_count": null,
      "outputs": []
    },
    {
      "cell_type": "code",
      "metadata": {
        "colab": {
          "base_uri": "https://localhost:8080/",
          "height": 288
        },
        "id": "ftx4YQo5l5rV",
        "outputId": "088e5ef3-433f-4f5f-eb12-d6a3932ff49d"
      },
      "source": [
        "get_uniform(2,3,4)"
      ],
      "execution_count": null,
      "outputs": [
        {
          "output_type": "error",
          "ename": "AttributeError",
          "evalue": "ignored",
          "traceback": [
            "\u001b[0;31m---------------------------------------------------------------------------\u001b[0m",
            "\u001b[0;31mAttributeError\u001b[0m                            Traceback (most recent call last)",
            "\u001b[0;32m<ipython-input-185-a31294fa19ea>\u001b[0m in \u001b[0;36m<module>\u001b[0;34m()\u001b[0m\n\u001b[0;32m----> 1\u001b[0;31m \u001b[0mget_uniform\u001b[0m\u001b[0;34m(\u001b[0m\u001b[0;36m2\u001b[0m\u001b[0;34m,\u001b[0m\u001b[0;36m3\u001b[0m\u001b[0;34m,\u001b[0m\u001b[0;36m4\u001b[0m\u001b[0;34m)\u001b[0m\u001b[0;34m\u001b[0m\u001b[0;34m\u001b[0m\u001b[0m\n\u001b[0m",
            "\u001b[0;32m<ipython-input-184-77a31287eaf0>\u001b[0m in \u001b[0;36mget_uniform\u001b[0;34m(*d)\u001b[0m\n\u001b[1;32m      1\u001b[0m \u001b[0;32mdef\u001b[0m \u001b[0mget_uniform\u001b[0m\u001b[0;34m(\u001b[0m\u001b[0;34m*\u001b[0m\u001b[0md\u001b[0m\u001b[0;34m)\u001b[0m\u001b[0;34m:\u001b[0m\u001b[0;34m\u001b[0m\u001b[0;34m\u001b[0m\u001b[0m\n\u001b[1;32m      2\u001b[0m   \u001b[0ma\u001b[0m \u001b[0;34m=\u001b[0m \u001b[0mnp\u001b[0m\u001b[0;34m.\u001b[0m\u001b[0mrandom\u001b[0m\u001b[0;34m.\u001b[0m\u001b[0muniform\u001b[0m\u001b[0;34m(\u001b[0m\u001b[0;34m-\u001b[0m\u001b[0;36m1\u001b[0m\u001b[0;34m,\u001b[0m\u001b[0;36m1\u001b[0m\u001b[0;34m)\u001b[0m\u001b[0;34m\u001b[0m\u001b[0;34m\u001b[0m\u001b[0m\n\u001b[0;32m----> 3\u001b[0;31m   \u001b[0mb\u001b[0m \u001b[0;34m=\u001b[0m \u001b[0ma\u001b[0m\u001b[0;34m.\u001b[0m\u001b[0mreshape\u001b[0m\u001b[0;34m(\u001b[0m\u001b[0;34m*\u001b[0m\u001b[0md\u001b[0m\u001b[0;34m)\u001b[0m\u001b[0;34m\u001b[0m\u001b[0;34m\u001b[0m\u001b[0m\n\u001b[0m\u001b[1;32m      4\u001b[0m   \u001b[0;32mreturn\u001b[0m \u001b[0mb\u001b[0m\u001b[0;34m\u001b[0m\u001b[0;34m\u001b[0m\u001b[0m\n",
            "\u001b[0;31mAttributeError\u001b[0m: 'float' object has no attribute 'reshape'"
          ]
        }
      ]
    },
    {
      "cell_type": "markdown",
      "metadata": {
        "id": "1b-cqJOU-wXd"
      },
      "source": [
        "# shape 변경\n",
        "- ndarray.reshape(new_shape)\n",
        "- ndarray.shape = (new_shape)"
      ]
    },
    {
      "cell_type": "code",
      "metadata": {
        "colab": {
          "base_uri": "https://localhost:8080/"
        },
        "id": "Q-5Pgnll-2KY",
        "outputId": "48eeae57-3d08-44e2-dddd-f7236704ab07"
      },
      "source": [
        "import numpy as np\n",
        "v = np.arange(4)\n",
        "print('v', v, v.shape, v.ndim)\n",
        "a = v.reshape(2,2)\n",
        "print('a', a, a.shape, a.ndim)\n",
        "a[0] = 777\n",
        "print('v', v)\n",
        "print('a', a)\n",
        "a[1] = 444\n",
        "print('v', v)\n",
        "print('a', a)"
      ],
      "execution_count": null,
      "outputs": [
        {
          "output_type": "stream",
          "name": "stdout",
          "text": [
            "v [0 1 2 3] (4,) 1\n",
            "a [[0 1]\n",
            " [2 3]] (2, 2) 2\n",
            "v [777 777   2   3]\n",
            "a [[777 777]\n",
            " [  2   3]]\n",
            "v [777 777 444 444]\n",
            "a [[777 777]\n",
            " [444 444]]\n"
          ]
        }
      ]
    },
    {
      "cell_type": "code",
      "metadata": {
        "colab": {
          "base_uri": "https://localhost:8080/"
        },
        "id": "Fs9SM3n6Afsd",
        "outputId": "a7f4b1f2-65bd-4a8a-d033-885f81cebc33"
      },
      "source": [
        "import numpy as np\n",
        "v = np.arange(6)\n",
        "print('v', v, v.shape, v.ndim)\n",
        "a = v.reshape(3,2)\n",
        "print('a', a, a.shape, a.ndim)\n",
        "a[0] = 777\n",
        "print('v', v)\n",
        "print('a', a)\n",
        "a[1] = 444\n",
        "print('v', v)\n",
        "print('a', a)\n",
        "a[0][0] = 32\n",
        "print('v', v)\n",
        "print('a', a)"
      ],
      "execution_count": null,
      "outputs": [
        {
          "output_type": "stream",
          "name": "stdout",
          "text": [
            "v [0 1 2 3 4 5] (6,) 1\n",
            "a [[0 1]\n",
            " [2 3]\n",
            " [4 5]] (3, 2) 2\n",
            "v [777 777   2   3   4   5]\n",
            "a [[777 777]\n",
            " [  2   3]\n",
            " [  4   5]]\n",
            "v [777 777 444 444   4   5]\n",
            "a [[777 777]\n",
            " [444 444]\n",
            " [  4   5]]\n",
            "v [ 32 777 444 444   4   5]\n",
            "a [[ 32 777]\n",
            " [444 444]\n",
            " [  4   5]]\n"
          ]
        }
      ]
    },
    {
      "cell_type": "code",
      "metadata": {
        "colab": {
          "base_uri": "https://localhost:8080/"
        },
        "id": "46p5YJ4wCeRz",
        "outputId": "73ee228c-eea9-42d4-c602-9aaa2318658d"
      },
      "source": [
        "a = np.arange(0,10,2)\n",
        "b = a.reshape((1,5))\n",
        "c = b.reshape((5,1))\n",
        "\n",
        "print('a.ndim, a.shape', a.ndim, a.shape)\n",
        "print('b.ndim, b.shape', b.ndim, b.shape)\n",
        "print('c.ndim, b.shape', c.ndim, c.shape)\n",
        "\n",
        "print(a)\n",
        "print(b)\n",
        "print(c)"
      ],
      "execution_count": null,
      "outputs": [
        {
          "output_type": "stream",
          "name": "stdout",
          "text": [
            "a.ndim, a.shape 1 (5,)\n",
            "b.ndim, b.shape 2 (1, 5)\n",
            "c.ndim, b.shape 2 (5, 1)\n",
            "[0 2 4 6 8]\n",
            "[[0 2 4 6 8]]\n",
            "[[0]\n",
            " [2]\n",
            " [4]\n",
            " [6]\n",
            " [8]]\n"
          ]
        }
      ]
    },
    {
      "cell_type": "code",
      "metadata": {
        "colab": {
          "base_uri": "https://localhost:8080/"
        },
        "id": "rr9DaPttDOAT",
        "outputId": "53070f0d-d263-447f-b53b-89a99ec35d78"
      },
      "source": [
        "c[0] = 444\n",
        "b\n",
        "c"
      ],
      "execution_count": null,
      "outputs": [
        {
          "output_type": "execute_result",
          "data": {
            "text/plain": [
              "array([[444],\n",
              "       [  2],\n",
              "       [  4],\n",
              "       [  6],\n",
              "       [  8]])"
            ]
          },
          "metadata": {},
          "execution_count": 86
        }
      ]
    },
    {
      "cell_type": "markdown",
      "metadata": {
        "id": "5dV30yEvEI94"
      },
      "source": [
        "tf.constant / tf.reshape"
      ]
    },
    {
      "cell_type": "markdown",
      "metadata": {
        "id": "avOOsB7BnQTv"
      },
      "source": [
        "tf.rank(a) = a라는 텐서의 차원의 수를 반환하는 함수"
      ]
    },
    {
      "cell_type": "code",
      "metadata": {
        "colab": {
          "base_uri": "https://localhost:8080/"
        },
        "id": "SGAzwR3lEPhP",
        "outputId": "cbb11717-18ee-43ee-e2f4-8aed3f734cd3"
      },
      "source": [
        "import numpy as np\n",
        "import tensorflow as tf\n",
        "\n",
        "a = np.arange(0,10,2)\n",
        "b = a.reshape((1,5))\n",
        "c = a.reshape((5,1))\n",
        "\n",
        "# np 대신 tf사용\n",
        "# array.reshape(new_shape) -> tf.reshape(array, new_shape)\n",
        "\n",
        "a_tf = tf.constant(a)\n",
        "print(a_tf.shape, tf.rank(a_tf)) \n",
        "b_tf = tf.reshape(a_tf, (5,1))\n",
        "\n",
        "print(b_tf.shape, tf.rank(b_tf))\n",
        "\n",
        "c_tf = tf.reshape(a_tf, (1,5))\n",
        "print(c_tf.shape, tf.rank(c_tf))"
      ],
      "execution_count": null,
      "outputs": [
        {
          "output_type": "stream",
          "name": "stdout",
          "text": [
            "(5,) tf.Tensor(1, shape=(), dtype=int32)\n",
            "(5, 1) tf.Tensor(2, shape=(), dtype=int32)\n",
            "(1, 5) tf.Tensor(2, shape=(), dtype=int32)\n"
          ]
        }
      ]
    },
    {
      "cell_type": "markdown",
      "metadata": {
        "id": "ypTITSCoMGKm"
      },
      "source": [
        "import tensorflow as tf\n",
        "\n",
        "tf.constant()"
      ]
    },
    {
      "cell_type": "code",
      "metadata": {
        "colab": {
          "base_uri": "https://localhost:8080/"
        },
        "id": "J15hnjr5nhuK",
        "outputId": "43a8a525-4c34-4ee6-e190-33fa0aebdb98"
      },
      "source": [
        "import tensorflow as tf\n",
        "\n",
        "scalar = tf.constant(1)\n",
        "vector = tf.constant([1, 2, 3])\n",
        "matrix = tf.constant([[1, 2, 3], [4, 5, 6], [7, 8, 9]])\n",
        "tensor = tf.constant([[[1, 2, 3], [4, 5, 6], [7, 8, 9]],\n",
        "                    [[1, 2, 3], [4, 5, 6], [7, 8, 9]],\n",
        "                    [[1, 2, 3], [4, 5, 6], [7, 8, 9]]])\n",
        "\n",
        "print(tf.rank(scalar))\n",
        "print(tf.rank(vector))\n",
        "print(tf.rank(matrix))\n",
        "print(tf.rank(tensor))"
      ],
      "execution_count": null,
      "outputs": [
        {
          "output_type": "stream",
          "name": "stdout",
          "text": [
            "tf.Tensor(0, shape=(), dtype=int32)\n",
            "tf.Tensor(1, shape=(), dtype=int32)\n",
            "tf.Tensor(2, shape=(), dtype=int32)\n",
            "tf.Tensor(3, shape=(), dtype=int32)\n"
          ]
        }
      ]
    },
    {
      "cell_type": "markdown",
      "metadata": {
        "id": "jALcpMD3j5H9"
      },
      "source": [
        "ndarray.shape = (new_shape)"
      ]
    },
    {
      "cell_type": "code",
      "metadata": {
        "colab": {
          "base_uri": "https://localhost:8080/"
        },
        "id": "YEa2lWcYj3HR",
        "outputId": "c15f3907-1c1c-46b5-e821-f87af28e572d"
      },
      "source": [
        "import numpy as np\n",
        "\n",
        "x = np.arange(10)\n",
        "print(x)\n",
        "x.shape = (2,5)\n",
        "print(x)"
      ],
      "execution_count": null,
      "outputs": [
        {
          "output_type": "stream",
          "name": "stdout",
          "text": [
            "[0 1 2 3 4 5 6 7 8 9]\n",
            "[[0 1 2 3 4]\n",
            " [5 6 7 8 9]]\n"
          ]
        }
      ]
    },
    {
      "cell_type": "markdown",
      "metadata": {
        "id": "xTkxlivIp5Wy"
      },
      "source": [
        "-1의미와 기능"
      ]
    },
    {
      "cell_type": "code",
      "metadata": {
        "colab": {
          "base_uri": "https://localhost:8080/"
        },
        "id": "jV0ATicMp8RX",
        "outputId": "f5c340c2-1a8e-4526-e24a-b50161eb2a03"
      },
      "source": [
        "import numpy as np\n",
        "\n",
        "x = np.arange(10).reshape(-1,5)\n",
        "print(x)\n",
        "print('---'*10)\n",
        "a = np.arange(10).reshape(5,-1)\n",
        "print(a)\n",
        "print('---'*10)\n",
        "b = np.arange(10).reshape(-1)\n",
        "print(b)"
      ],
      "execution_count": null,
      "outputs": [
        {
          "output_type": "stream",
          "name": "stdout",
          "text": [
            "[[0 1 2 3 4]\n",
            " [5 6 7 8 9]]\n",
            "------------------------------\n",
            "[[0 1]\n",
            " [2 3]\n",
            " [4 5]\n",
            " [6 7]\n",
            " [8 9]]\n",
            "------------------------------\n",
            "[0 1 2 3 4 5 6 7 8 9]\n"
          ]
        }
      ]
    },
    {
      "cell_type": "markdown",
      "metadata": {
        "id": "zmsuqN_Sospb"
      },
      "source": [
        "# ndarray를 1차원으로 풀어내기"
      ]
    },
    {
      "cell_type": "markdown",
      "metadata": {
        "id": "xuO4RFSorS5u"
      },
      "source": [
        "- ndarray.ravel() = np.ravel(ndaraay)\n",
        "- ndarray.flatten()\n",
        "- ndarray.reshape(-1)\n",
        "\n",
        "=> 넘파이는 행중심으로 flatten해줌(1차원으로 변경)"
      ]
    },
    {
      "cell_type": "code",
      "metadata": {
        "colab": {
          "base_uri": "https://localhost:8080/"
        },
        "id": "bp0zWSXlovSp",
        "outputId": "0ad9d8c2-4811-4cc5-f121-2ad47b29b583"
      },
      "source": [
        "import numpy as np\n",
        "\n",
        "a = np.arange(1,10).reshape(3,3)\n",
        "# b = a.ravel() #아래와 동일\n",
        "b = np.ravel(a)\n",
        "print(a.shape, id(a))\n",
        "print(b.shape, id(b))\n",
        "b"
      ],
      "execution_count": null,
      "outputs": [
        {
          "output_type": "stream",
          "name": "stdout",
          "text": [
            "(3, 3) 140483104004096\n",
            "(9,) 140483104607168\n"
          ]
        },
        {
          "output_type": "execute_result",
          "data": {
            "text/plain": [
              "array([1, 2, 3, 4, 5, 6, 7, 8, 9])"
            ]
          },
          "metadata": {},
          "execution_count": 102
        }
      ]
    },
    {
      "cell_type": "markdown",
      "metadata": {
        "id": "4Rc0o7lXrW77"
      },
      "source": [
        "Q. 8 by 4 로 된 matrix를 만들것.-> 복습필요\n",
        "- 해당 matrix는 2부터 시작해서 짝수들로 64보다 작거나 같은 수로 채워짐. \n",
        "- 행부터 채울것.\n",
        "- 해당 matrix를 출력하고 나서 vector로 만들것 (shape=(32,)인 np.array) \n",
        "\n",
        "-> 방법 3가지 (ravel, flatten, reshape(rows,), reshape(-1))\n",
        "\n",
        "- 해당 vector를 다시 출력."
      ]
    },
    {
      "cell_type": "code",
      "metadata": {
        "colab": {
          "base_uri": "https://localhost:8080/"
        },
        "id": "FbcSq9yGFI5M",
        "outputId": "935c6130-d303-469e-b4f6-9b0149542019"
      },
      "source": [
        "a = np.arange(2,65,2).reshape(8,4) # 행렬, 2차원\n",
        "\n",
        "# b = a.reshape(32,) # 벡터, 1차원\n",
        "# b = a.reshape(-1)\n",
        "# b = a.ravel()\n",
        "b = a.flatten()\n",
        "\n",
        "print(a)\n",
        "print(b)\n",
        "print(a.shape)\n",
        "print(b.shape)"
      ],
      "execution_count": null,
      "outputs": [
        {
          "output_type": "stream",
          "name": "stdout",
          "text": [
            "[[ 2  4  6  8]\n",
            " [10 12 14 16]\n",
            " [18 20 22 24]\n",
            " [26 28 30 32]\n",
            " [34 36 38 40]\n",
            " [42 44 46 48]\n",
            " [50 52 54 56]\n",
            " [58 60 62 64]]\n",
            "[ 2  4  6  8 10 12 14 16 18 20 22 24 26 28 30 32 34 36 38 40 42 44 46 48\n",
            " 50 52 54 56 58 60 62 64]\n",
            "(8, 4)\n",
            "(32,)\n"
          ]
        }
      ]
    },
    {
      "cell_type": "markdown",
      "metadata": {
        "id": "UfNDNBrm0UDV"
      },
      "source": [
        "# Transpose"
      ]
    },
    {
      "cell_type": "code",
      "metadata": {
        "colab": {
          "base_uri": "https://localhost:8080/"
        },
        "id": "t5RzMPKI2EDQ",
        "outputId": "f1212e7f-a8ae-4a15-e4f7-19ff85144468"
      },
      "source": [
        "a= np.arange(1,7).reshape(2,3)\n",
        "c = a.T\n",
        "print('a',a) \n",
        "print('a.T', c) "
      ],
      "execution_count": null,
      "outputs": [
        {
          "output_type": "stream",
          "name": "stdout",
          "text": [
            "a [[1 2 3]\n",
            " [4 5 6]]\n",
            "a.T [[1 4]\n",
            " [2 5]\n",
            " [3 6]]\n"
          ]
        }
      ]
    },
    {
      "cell_type": "markdown",
      "metadata": {
        "id": "aoXqGSc6icqN"
      },
      "source": [
        "# Broadcasting\n",
        "\n",
        "ndarray와 scalar와 연산시킬때, \n",
        "해당 ndarray와 같은 shape & 해당 scalar의 값을 가진 ndarray를 생성 \n",
        "\n",
        "-> 자동으로 elementwise연산이 수행되는 기능."
      ]
    },
    {
      "cell_type": "code",
      "metadata": {
        "colab": {
          "base_uri": "https://localhost:8080/"
        },
        "id": "1eO4lw2zJkhu",
        "outputId": "f0f5a1ca-2335-404f-e8f7-6b1f19f4995a"
      },
      "source": [
        "a = np.ones((3,3))\n",
        "b = a/2\n",
        "\n",
        "print(a)\n",
        "print(b)"
      ],
      "execution_count": null,
      "outputs": [
        {
          "output_type": "stream",
          "name": "stdout",
          "text": [
            "[[1. 1. 1.]\n",
            " [1. 1. 1.]\n",
            " [1. 1. 1.]]\n",
            "[[0.5 0.5 0.5]\n",
            " [0.5 0.5 0.5]\n",
            " [0.5 0.5 0.5]]\n"
          ]
        }
      ]
    },
    {
      "cell_type": "code",
      "metadata": {
        "colab": {
          "base_uri": "https://localhost:8080/"
        },
        "id": "YOYkx3HxKqui",
        "outputId": "29fc4494-5b93-46c9-f236-9434eda06aff"
      },
      "source": [
        "a = np.ones(shape=(5,3))\n",
        "b = np.array([3,4,5])\n",
        "c = a + b\n",
        "print(a)\n",
        "print(c)\n",
        "print('a', a.shape)\n",
        "print('b', b.shape)"
      ],
      "execution_count": null,
      "outputs": [
        {
          "output_type": "stream",
          "name": "stdout",
          "text": [
            "[[1. 1. 1.]\n",
            " [1. 1. 1.]\n",
            " [1. 1. 1.]\n",
            " [1. 1. 1.]\n",
            " [1. 1. 1.]]\n",
            "[[4. 5. 6.]\n",
            " [4. 5. 6.]\n",
            " [4. 5. 6.]\n",
            " [4. 5. 6.]\n",
            " [4. 5. 6.]]\n",
            "a (5, 3)\n",
            "b (3,)\n"
          ]
        }
      ]
    },
    {
      "cell_type": "code",
      "metadata": {
        "colab": {
          "base_uri": "https://localhost:8080/"
        },
        "id": "92phWPq4mG_g",
        "outputId": "e00fb4c1-e622-434e-a548-96e3c17fc01b"
      },
      "source": [
        "# 캐스팅 a\n",
        " \n",
        "a = np.arange(1,10).reshape(3,3)\n",
        "a.astype(np.float64) # 변수할당을 안해줬기때문에 a는 바뀌지 x  \n",
        "# np.float64(a) # 변수할당을 안해줬기때문에 a는 바뀌지 x\n",
        "c = a/2\n",
        "print('a',a)\n",
        "print(a.dtype)\n",
        "print('c',c)\n",
        "print(c.dtype)"
      ],
      "execution_count": null,
      "outputs": [
        {
          "output_type": "stream",
          "name": "stdout",
          "text": [
            "a [[1 2 3]\n",
            " [4 5 6]\n",
            " [7 8 9]]\n",
            "int64\n",
            "c [[0.5 1.  1.5]\n",
            " [2.  2.5 3. ]\n",
            " [3.5 4.  4.5]]\n",
            "float64\n"
          ]
        }
      ]
    },
    {
      "cell_type": "markdown",
      "metadata": {
        "id": "V910jf_UilPI"
      },
      "source": [
        "# BroadCasting이 가능한 shape 조건"
      ]
    },
    {
      "cell_type": "code",
      "metadata": {
        "colab": {
          "base_uri": "https://localhost:8080/"
        },
        "id": "Yi9rQ_CP5Dlj",
        "outputId": "b0dcaf79-5408-4108-ab7f-24779cb84dac"
      },
      "source": [
        "a = np.ones(shape = (5,3))\n",
        "b= np.array([3,4,5,6,7]) # shape:(5,)  # 에러 \n",
        "b= b[:, np.newaxis] # shape:(5,1)\n",
        "# b= np.array([3,4,5,6,7]).reshape(5,1)\n",
        "# b= np.arange(10).reshape(5,2) # 에러 \n",
        "# b= np.arange(15).reshape(5,3) \n",
        "# b= np.arange(6).reshape(2,3) # 에러 \n",
        "# b= np.arange(3).reshape(1,3) \n",
        "\n",
        "print(a.shape)\n",
        "print(b.shape)\n",
        "c = a+b\n",
        "print(c)"
      ],
      "execution_count": null,
      "outputs": [
        {
          "output_type": "stream",
          "name": "stdout",
          "text": [
            "(5, 3)\n",
            "(5, 1)\n",
            "[[4. 4. 4.]\n",
            " [5. 5. 5.]\n",
            " [6. 6. 6.]\n",
            " [7. 7. 7.]\n",
            " [8. 8. 8.]]\n"
          ]
        }
      ]
    },
    {
      "cell_type": "markdown",
      "metadata": {
        "id": "gJNqh-omiypS"
      },
      "source": [
        "# np.newaxis\n",
        ": 차원 확장\n",
        "\n",
        "- 행부분에 np.newaxis입력시, 차원을 한단계 추가\n",
        "- 열부분에 np.newaxis입력시, 차원을 분해한 후 한단계추가\n",
        "\n",
        "ex)열부분에 np.newaxis입력\n",
        "- 1d -> 2d : colums이 새로 생성됨\n",
        "- 2d -> 3d,,,, : shape의 1번째(0번째부터 있을때) 인자가 1로 추가됨"
      ]
    },
    {
      "cell_type": "markdown",
      "metadata": {
        "id": "VEjCq7T7kFvO"
      },
      "source": [
        "1d -> 2d"
      ]
    },
    {
      "cell_type": "code",
      "metadata": {
        "colab": {
          "base_uri": "https://localhost:8080/"
        },
        "id": "SdludDER5Pt-",
        "outputId": "0796d140-3f9f-47b1-f7b1-f7290adc480b"
      },
      "source": [
        "b = np.array([3,4,5,6,7])\n",
        "print(b, b.shape, b.ndim)\n",
        "c=b[np.newaxis]\n",
        "# c=b[:, np.newaxis]\n",
        "print(c, c.shape, c.ndim)"
      ],
      "execution_count": null,
      "outputs": [
        {
          "output_type": "stream",
          "name": "stdout",
          "text": [
            "[3 4 5 6 7] (5,) 1\n",
            "[[3 4 5 6 7]] (1, 5) 2\n"
          ]
        }
      ]
    },
    {
      "cell_type": "markdown",
      "metadata": {
        "id": "k3pCn4ZEmvzr"
      },
      "source": [
        "2d -> 3d"
      ]
    },
    {
      "cell_type": "code",
      "metadata": {
        "colab": {
          "base_uri": "https://localhost:8080/"
        },
        "id": "PUwMJ_I1kISZ",
        "outputId": "ffea6383-7931-472c-baab-4c0b904db459"
      },
      "source": [
        "b = np.array([[1,2],[1,2]])\n",
        "c=b[:, np.newaxis]\n",
        "\n",
        "print(b, b.shape, b.ndim)\n",
        "print('-----')\n",
        "print(c, c.shape, c.ndim)"
      ],
      "execution_count": null,
      "outputs": [
        {
          "output_type": "stream",
          "name": "stdout",
          "text": [
            "[[1 2]\n",
            " [1 2]] (2, 2) 2\n",
            "-----\n",
            "[[[1 2]]\n",
            "\n",
            " [[1 2]]] (2, 1, 2) 3\n"
          ]
        }
      ]
    },
    {
      "cell_type": "code",
      "metadata": {
        "colab": {
          "base_uri": "https://localhost:8080/"
        },
        "id": "yRYLHnZam2o1",
        "outputId": "0890278c-dca6-465a-aaef-6d6f23d6fb4d"
      },
      "source": [
        "b = np.array([[[1],[2],[3]]])\n",
        "c=b[:, np.newaxis]\n",
        "\n",
        "print(b, b.shape, b.ndim)\n",
        "print('-----')\n",
        "print(c, c.shape, c.ndim)"
      ],
      "execution_count": null,
      "outputs": [
        {
          "output_type": "stream",
          "name": "stdout",
          "text": [
            "[[[1]\n",
            "  [2]\n",
            "  [3]]] (1, 3, 1) 3\n",
            "-----\n",
            "[[[[1]\n",
            "   [2]\n",
            "   [3]]]] (1, 1, 3, 1) 4\n"
          ]
        }
      ]
    },
    {
      "cell_type": "markdown",
      "metadata": {
        "id": "7dX9qLW2NIQA"
      },
      "source": [
        "# 'is' vs '=='"
      ]
    },
    {
      "cell_type": "markdown",
      "metadata": {
        "id": "F6v2JiIGm2fV"
      },
      "source": [
        "\n",
        "- is는 완전히 동일함을 의미\n",
        "\n",
        " => 변수의 value가 같고 메모리(id)도 같음 (완전히 동일한 데이터)\n",
        " \n",
        " => True값 하나만 반환\n",
        "\n",
        "- ==는 변수가 같은 Value(값)을 가지면(id다름)\n",
        "\n",
        " => True로 채워진 ndarray 반환\n"
      ]
    },
    {
      "cell_type": "code",
      "metadata": {
        "colab": {
          "base_uri": "https://localhost:8080/"
        },
        "id": "8q1IqDhYmWGa",
        "outputId": "27817bb3-cb90-43d6-9a23-3854f75caaa9"
      },
      "source": [
        "a = np.ones((2,2), dtype=np.uint8)\n",
        "b = a.astype(np.uint16)\n",
        "\n",
        "print(a is b, f'id(a):{id(a)}, id(b):{id(b)}')\n",
        "print(a==b) # 행렬의 형태로 출력됨. "
      ],
      "execution_count": null,
      "outputs": [
        {
          "output_type": "stream",
          "name": "stdout",
          "text": [
            "False id(a):140483104607168, id(b):140483104766592\n",
            "[[ True  True]\n",
            " [ True  True]]\n"
          ]
        }
      ]
    },
    {
      "cell_type": "code",
      "metadata": {
        "colab": {
          "base_uri": "https://localhost:8080/"
        },
        "id": "t2yjZDaDy-JP",
        "outputId": "4aa13e7b-6071-4c75-90e7-08a80f153d87"
      },
      "source": [
        "a = np.arange(0,10)\n",
        "b = np.arange(0,10)\n",
        "c = a #실제적으로 a,b는 같은 객체를 가르키고 있는 별칭관계.\n",
        "\n",
        "print(id(a))\n",
        "print(id(b))\n",
        "print(id(c))\n",
        "\n",
        "d = a.copy()\n",
        "print(a is d)\n",
        "print(np.all(a == d))\n",
        "print(a==d)"
      ],
      "execution_count": null,
      "outputs": [
        {
          "output_type": "stream",
          "name": "stdout",
          "text": [
            "140547021292288\n",
            "140547048631392\n",
            "140547021292288\n",
            "False\n",
            "True\n",
            "[ True  True  True  True  True  True  True  True  True  True]\n"
          ]
        }
      ]
    },
    {
      "cell_type": "markdown",
      "metadata": {
        "id": "XrS9clVHOHqE"
      },
      "source": [
        "# args란? unpacking\n",
        "\n",
        "- tuple, 즉 어떤 묶음으로 받은 인자들을 각각의 인자로 풀어서 반환"
      ]
    },
    {
      "cell_type": "code",
      "metadata": {
        "id": "tsY7OGjZqLRi",
        "colab": {
          "base_uri": "https://localhost:8080/"
        },
        "outputId": "a33ac0e4-6b02-4fe0-a307-1093f0ab2b04"
      },
      "source": [
        "# *b = *args\n",
        "\n",
        "def test(*b): \n",
        "    print('*b',*b)\n",
        "    print(type(b))\n",
        "    print('b',b)\n",
        "\n",
        "test(1,2,3)\n",
        "# test(2)?\n",
        "# test([1,2,3],1)"
      ],
      "execution_count": null,
      "outputs": [
        {
          "output_type": "stream",
          "name": "stdout",
          "text": [
            "*b 1 2 3\n",
            "<class 'tuple'>\n",
            "b (1, 2, 3)\n"
          ]
        }
      ]
    },
    {
      "cell_type": "markdown",
      "metadata": {
        "id": "aQHsFnAwruOY"
      },
      "source": [
        "비트가 클수록 정확함, 유효숫자가 많음\n",
        "integer범위에서는 값을 표현할 수 있는 범위가 커지는 것이고,\n",
        "real범위에서는 유효숫자가 커짐."
      ]
    },
    {
      "cell_type": "markdown",
      "metadata": {
        "id": "hLcg-mHCqqBQ"
      },
      "source": [
        "# np.squeeze(a,axis=None)\n",
        "- 지정된 축을 대상으로(행또는 열) 차원을 축소\n",
        "- 축을 입력하지 않으면 1차원 배열로 축소\n",
        "- 변수할당을 안해주면 원본은 변하지 x\n",
        "\n",
        "- Parameters\n",
        "\n",
        "1) a: array_like\n",
        "\n",
        "Input data.\n",
        "\n",
        "2) axis\n",
        "None or int or tuple of ints, optional\n",
        "\n",
        "New in version 1.7.0.\n",
        "\n",
        "Selects a subset of the entries of length one in the shape. If an axis is selected with shape entry greater than one, an error is raised.\n",
        "\n",
        "- Returns squeezed : ndarray\n",
        "\n",
        "The input array, but with all or a subset of the dimensions of length 1 removed. This is always a itself or a view into a. Note that if all axes are squeezed, the result is a 0d array and not a scalar.\n",
        "\n",
        "- Raises : ValueError\n",
        "\n",
        "If axis is not None, and an axis being squeezed is not of length 1"
      ]
    },
    {
      "cell_type": "code",
      "metadata": {
        "colab": {
          "base_uri": "https://localhost:8080/"
        },
        "id": "jwJQp4LyufZN",
        "outputId": "9dbea288-994c-4281-be5b-4e7784701048"
      },
      "source": [
        "c = np.arange(9).reshape(3,3)\n",
        "print(c.shape)\n",
        "np.squeeze(c)\n",
        "print(c.shape)\n",
        "print(c)"
      ],
      "execution_count": null,
      "outputs": [
        {
          "output_type": "stream",
          "name": "stdout",
          "text": [
            "(3, 3)\n",
            "(3, 3)\n",
            "[[0 1 2]\n",
            " [3 4 5]\n",
            " [6 7 8]]\n"
          ]
        }
      ]
    },
    {
      "cell_type": "code",
      "metadata": {
        "colab": {
          "base_uri": "https://localhost:8080/"
        },
        "id": "IAMQ9PLNq5An",
        "outputId": "9696185d-8c4b-4157-bf4e-94cdbed0937a"
      },
      "source": [
        "c = np.array([[[0], [1], [2]]])\n",
        "print('c.shape', c.shape)\n",
        "print(c)\n",
        "d  = np.squeeze(c)\n",
        "print('d.shape', d.shape)\n",
        "print(d)"
      ],
      "execution_count": null,
      "outputs": [
        {
          "output_type": "stream",
          "name": "stdout",
          "text": [
            "c.shape (1, 3, 1)\n",
            "[[[0]\n",
            "  [1]\n",
            "  [2]]]\n",
            "d.shape (3,)\n",
            "[0 1 2]\n"
          ]
        }
      ]
    },
    {
      "cell_type": "code",
      "metadata": {
        "colab": {
          "base_uri": "https://localhost:8080/"
        },
        "id": "qkBQ2kYD2Gg2",
        "outputId": "e425f372-1df5-4deb-f9cc-60611a4334bd"
      },
      "source": [
        "c = np.array([[1,2,3,4]])\n",
        "print('c.shape', c.shape)\n",
        "print(c, c.ndim)\n",
        "d  = np.squeeze(c)\n",
        "print('d.shape', d.shape)\n",
        "print(d, d.ndim)"
      ],
      "execution_count": null,
      "outputs": [
        {
          "output_type": "stream",
          "name": "stdout",
          "text": [
            "c.shape (1, 4)\n",
            "[[1 2 3 4]] 2\n",
            "d.shape (4,)\n",
            "[1 2 3 4] 1\n"
          ]
        }
      ]
    },
    {
      "cell_type": "markdown",
      "metadata": {
        "id": "OWo-Xadv4Igo"
      },
      "source": [
        "아래 셀 왜 안 되는지??"
      ]
    },
    {
      "cell_type": "code",
      "metadata": {
        "colab": {
          "base_uri": "https://localhost:8080/",
          "height": 450
        },
        "id": "RX-nUqD22pP-",
        "outputId": "5f24d7a7-e0a9-482b-a784-f65301b9f6e4"
      },
      "source": [
        "c = np.array([[1,2],[3,4]])\n",
        "print('c.shape', c.shape)\n",
        "print(c, c.ndim)\n",
        "d  = np.squeeze(c,axis=0)\n",
        "print('d.shape', d.shape)\n",
        "print(d, d.ndim)"
      ],
      "execution_count": null,
      "outputs": [
        {
          "output_type": "stream",
          "name": "stdout",
          "text": [
            "c.shape (2, 2)\n",
            "[[1 2]\n",
            " [3 4]] 2\n"
          ]
        },
        {
          "output_type": "error",
          "ename": "ValueError",
          "evalue": "ignored",
          "traceback": [
            "\u001b[0;31m---------------------------------------------------------------------------\u001b[0m",
            "\u001b[0;31mValueError\u001b[0m                                Traceback (most recent call last)",
            "\u001b[0;32m<ipython-input-113-281f1d371879>\u001b[0m in \u001b[0;36m<module>\u001b[0;34m()\u001b[0m\n\u001b[1;32m      2\u001b[0m \u001b[0mprint\u001b[0m\u001b[0;34m(\u001b[0m\u001b[0;34m'c.shape'\u001b[0m\u001b[0;34m,\u001b[0m \u001b[0mc\u001b[0m\u001b[0;34m.\u001b[0m\u001b[0mshape\u001b[0m\u001b[0;34m)\u001b[0m\u001b[0;34m\u001b[0m\u001b[0;34m\u001b[0m\u001b[0m\n\u001b[1;32m      3\u001b[0m \u001b[0mprint\u001b[0m\u001b[0;34m(\u001b[0m\u001b[0mc\u001b[0m\u001b[0;34m,\u001b[0m \u001b[0mc\u001b[0m\u001b[0;34m.\u001b[0m\u001b[0mndim\u001b[0m\u001b[0;34m)\u001b[0m\u001b[0;34m\u001b[0m\u001b[0;34m\u001b[0m\u001b[0m\n\u001b[0;32m----> 4\u001b[0;31m \u001b[0md\u001b[0m  \u001b[0;34m=\u001b[0m \u001b[0mnp\u001b[0m\u001b[0;34m.\u001b[0m\u001b[0msqueeze\u001b[0m\u001b[0;34m(\u001b[0m\u001b[0mc\u001b[0m\u001b[0;34m,\u001b[0m\u001b[0maxis\u001b[0m\u001b[0;34m=\u001b[0m\u001b[0;36m0\u001b[0m\u001b[0;34m)\u001b[0m\u001b[0;34m\u001b[0m\u001b[0;34m\u001b[0m\u001b[0m\n\u001b[0m\u001b[1;32m      5\u001b[0m \u001b[0mprint\u001b[0m\u001b[0;34m(\u001b[0m\u001b[0;34m'd.shape'\u001b[0m\u001b[0;34m,\u001b[0m \u001b[0md\u001b[0m\u001b[0;34m.\u001b[0m\u001b[0mshape\u001b[0m\u001b[0;34m)\u001b[0m\u001b[0;34m\u001b[0m\u001b[0;34m\u001b[0m\u001b[0m\n\u001b[1;32m      6\u001b[0m \u001b[0mprint\u001b[0m\u001b[0;34m(\u001b[0m\u001b[0md\u001b[0m\u001b[0;34m,\u001b[0m \u001b[0md\u001b[0m\u001b[0;34m.\u001b[0m\u001b[0mndim\u001b[0m\u001b[0;34m)\u001b[0m\u001b[0;34m\u001b[0m\u001b[0;34m\u001b[0m\u001b[0m\n",
            "\u001b[0;32m<__array_function__ internals>\u001b[0m in \u001b[0;36msqueeze\u001b[0;34m(*args, **kwargs)\u001b[0m\n",
            "\u001b[0;32m/usr/local/lib/python3.7/dist-packages/numpy/core/fromnumeric.py\u001b[0m in \u001b[0;36msqueeze\u001b[0;34m(a, axis)\u001b[0m\n\u001b[1;32m   1493\u001b[0m         \u001b[0;32mreturn\u001b[0m \u001b[0msqueeze\u001b[0m\u001b[0;34m(\u001b[0m\u001b[0;34m)\u001b[0m\u001b[0;34m\u001b[0m\u001b[0;34m\u001b[0m\u001b[0m\n\u001b[1;32m   1494\u001b[0m     \u001b[0;32melse\u001b[0m\u001b[0;34m:\u001b[0m\u001b[0;34m\u001b[0m\u001b[0;34m\u001b[0m\u001b[0m\n\u001b[0;32m-> 1495\u001b[0;31m         \u001b[0;32mreturn\u001b[0m \u001b[0msqueeze\u001b[0m\u001b[0;34m(\u001b[0m\u001b[0maxis\u001b[0m\u001b[0;34m=\u001b[0m\u001b[0maxis\u001b[0m\u001b[0;34m)\u001b[0m\u001b[0;34m\u001b[0m\u001b[0;34m\u001b[0m\u001b[0m\n\u001b[0m\u001b[1;32m   1496\u001b[0m \u001b[0;34m\u001b[0m\u001b[0m\n\u001b[1;32m   1497\u001b[0m \u001b[0;34m\u001b[0m\u001b[0m\n",
            "\u001b[0;31mValueError\u001b[0m: cannot select an axis to squeeze out which has size not equal to one"
          ]
        }
      ]
    },
    {
      "cell_type": "markdown",
      "metadata": {
        "id": "U8MSip4mlm6B"
      },
      "source": [
        "# np.eye(a)\n",
        "- a: shape(rows, cols) \n",
        "- 대각선만 1로 나머지는 0,(방향: 좌측 상단부터)"
      ]
    },
    {
      "cell_type": "markdown",
      "metadata": {
        "id": "7Uv4TsMS4oUj"
      },
      "source": [
        "# Boolean indexing\n",
        "ex 1) (3,3)shape의 array A에서 A[np.array([True, True, False])] => 0,1번째 행만 남고 나머지 삭제\n",
        "\n",
        "A[np.array[[True, True, False]]] =>0,1 번째 열만 남고 나머지 삭제\n",
        "\n",
        "ex 2) print(A <= 3)\n",
        "=> 3 이하인 요소만 True로 출력\n",
        "- return: ndarray\n",
        "\n",
        "(shape = A.shape, element= True or False) \n",
        "- dtype = bool\n"
      ]
    },
    {
      "cell_type": "code",
      "metadata": {
        "id": "ll2ABtDL9QlK",
        "colab": {
          "base_uri": "https://localhost:8080/"
        },
        "outputId": "78efb582-7648-4d39-dbaf-8f1a9205357f"
      },
      "source": [
        "a = np.eye(3,3)\n",
        "b = np.array([True,True,False]) \n",
        "print(f'a:{a}')\n",
        "print(f'b:{b}')\n",
        "print(f'a.shape:{a.shape}') # 3,3\n",
        "print(f'b.shape:{b.shape}') # 3,\n",
        "print(f'a[b]:{a[b]}') \n",
        "print(f'b data type: {b.dtype} ') \n",
        "print(f'a[b] data type: {a[b].dtype} ') "
      ],
      "execution_count": null,
      "outputs": [
        {
          "output_type": "stream",
          "name": "stdout",
          "text": [
            "a:[[1. 0. 0.]\n",
            " [0. 1. 0.]\n",
            " [0. 0. 1.]]\n",
            "b:[ True  True False]\n",
            "a.shape:(3, 3)\n",
            "b.shape:(3,)\n",
            "a[b]:[[1. 0. 0.]\n",
            " [0. 1. 0.]]\n",
            "b data type: bool \n",
            "a[b] data type: float64 \n"
          ]
        }
      ]
    },
    {
      "cell_type": "code",
      "metadata": {
        "colab": {
          "base_uri": "https://localhost:8080/"
        },
        "id": "rldk_-H97yC-",
        "outputId": "30ddfad7-11c1-449b-f4ab-15ffefb52c1a"
      },
      "source": [
        "a = np.eye(3,3)\n",
        "\n",
        "print(a <=0)"
      ],
      "execution_count": null,
      "outputs": [
        {
          "output_type": "stream",
          "name": "stdout",
          "text": [
            "[[False  True  True]\n",
            " [ True False  True]\n",
            " [ True  True False]]\n",
            "<class 'numpy.ndarray'>\n"
          ]
        }
      ]
    },
    {
      "cell_type": "code",
      "metadata": {
        "colab": {
          "base_uri": "https://localhost:8080/"
        },
        "id": "JstFFMqa85EY",
        "outputId": "efa717e4-afa6-4750-9b0b-913ebd1cb4d0"
      },
      "source": [
        "a = np.eye(3,3)\n",
        "# d = 조건문\n",
        "d = (a <=0) # d = a <=0 와 동일\n",
        "# d = (a==255)\n",
        "print(d)\n",
        "print(type(d))\n",
        "print(d.dtype)"
      ],
      "execution_count": null,
      "outputs": [
        {
          "output_type": "stream",
          "name": "stdout",
          "text": [
            "[[False  True  True]\n",
            " [ True False  True]\n",
            " [ True  True False]]\n",
            "<class 'numpy.ndarray'>\n",
            "bool\n"
          ]
        }
      ]
    },
    {
      "cell_type": "markdown",
      "metadata": {
        "id": "zmJuS2ECtyO2"
      },
      "source": [
        "# 범위 지정 1. ==와 2. & and와 3. | or\n",
        "\n",
        "- & and와 | or\n",
        "\n",
        "ex) a[(a에 관한 조건문)] = b\n",
        "- a: array\n",
        "- b: 변환하고자 하는 값"
      ]
    },
    {
      "cell_type": "code",
      "metadata": {
        "colab": {
          "base_uri": "https://localhost:8080/"
        },
        "id": "Up_7NdG7-NJ4",
        "outputId": "a1a7def6-7b09-453b-ca4f-0707b0835ac6"
      },
      "source": [
        "a= np.arange(12).reshape(-1,4)\n",
        "a[(a>2)&(a<10)] = 100\n",
        "a"
      ],
      "execution_count": null,
      "outputs": [
        {
          "output_type": "execute_result",
          "data": {
            "text/plain": [
              "array([[  0,   1,   2, 100],\n",
              "       [100, 100, 100, 100],\n",
              "       [100, 100,  10,  11]])"
            ]
          },
          "metadata": {},
          "execution_count": 117
        }
      ]
    },
    {
      "cell_type": "code",
      "metadata": {
        "colab": {
          "base_uri": "https://localhost:8080/"
        },
        "id": "ttmZm_vz-T4x",
        "outputId": "e364d4e9-bf26-4f82-ca69-cb344d00e83f"
      },
      "source": [
        "a= np.arange(12).reshape(-1,4)\n",
        "a[(a < 2) | (a > 10)] = 100\n",
        "a"
      ],
      "execution_count": null,
      "outputs": [
        {
          "output_type": "execute_result",
          "data": {
            "text/plain": [
              "array([[100, 100,   2,   3],\n",
              "       [  4,   5,   6,   7],\n",
              "       [  8,   9,  10, 100]])"
            ]
          },
          "metadata": {},
          "execution_count": 118
        }
      ]
    },
    {
      "cell_type": "code",
      "metadata": {
        "colab": {
          "base_uri": "https://localhost:8080/"
        },
        "id": "iQxySWpw-rUX",
        "outputId": "02c47fe4-8bd1-4118-a05d-eae08e153bc2"
      },
      "source": [
        "a = np.full((3,3),255)\n",
        "# a[a == 255] = 1\n",
        "d = a[a == 255]\n",
        "d = 1\n",
        "# print(a)\n",
        "print(a)\n",
        "print(d)"
      ],
      "execution_count": null,
      "outputs": [
        {
          "output_type": "stream",
          "name": "stdout",
          "text": [
            "[[255 255 255]\n",
            " [255 255 255]\n",
            " [255 255 255]]\n",
            "1\n"
          ]
        }
      ]
    },
    {
      "cell_type": "code",
      "metadata": {
        "colab": {
          "base_uri": "https://localhost:8080/"
        },
        "id": "CXwmVpKBwONq",
        "outputId": "573f1c04-7086-4167-c140-f849ef9af4c2"
      },
      "source": [
        "a = np.full((3,3),255)\n",
        "a[a!=255] = 128\n",
        "a"
      ],
      "execution_count": null,
      "outputs": [
        {
          "output_type": "execute_result",
          "data": {
            "text/plain": [
              "array([[255, 255, 255],\n",
              "       [255, 255, 255],\n",
              "       [255, 255, 255]])"
            ]
          },
          "metadata": {},
          "execution_count": 133
        }
      ]
    },
    {
      "cell_type": "markdown",
      "metadata": {
        "id": "AV7Bv9QvnGaH"
      },
      "source": [
        "# Numpy 02. 조건에 의한 indexing\n",
        "- True, False로 구성된 ndarray(or mask)를 통한 특정 ndarray에 indexing.\n",
        "\n",
        "- np.where (조건식, [,True일때 값, False일때 값])\n",
        "\n",
        "- 조건식에 해당(조건식이 True인) 인덱스의 tuple or 조건식의 결과에 따라 변경된 값으로 채워진 ndarray를 반환."
      ]
    },
    {
      "cell_type": "code",
      "metadata": {
        "colab": {
          "base_uri": "https://localhost:8080/",
          "height": 505
        },
        "id": "EEqqOR7Inb7F",
        "outputId": "574f5859-81c3-46f2-9330-0133a00facd0"
      },
      "source": [
        "mask = np.where(cat_gray>100, 1, 0)\n",
        "print(mask.shape,type(mask))\n",
        "plt.figure()\n",
        "plt.imshow(mask,cmap='gray')\n",
        "plt.xticks([]),plt.yticks([])\n",
        "plt.show()\n",
        "\n",
        "r = cat_gray * mask\n",
        "plt.figure()\n",
        "plt.imshow(r, cmap='gray')\n",
        "plt.xticks([]),plt.yticks([])\n",
        "plt.show()"
      ],
      "execution_count": null,
      "outputs": [
        {
          "output_type": "stream",
          "name": "stdout",
          "text": [
            "(300, 451) <class 'numpy.ndarray'>\n"
          ]
        },
        {
          "output_type": "display_data",
          "data": {
            "image/png": "[encoded data removed]",
            "text/plain": [
              "<Figure size 432x288 with 1 Axes>"
            ]
          },
          "metadata": {}
        },
        {
          "output_type": "display_data",
          "data": {
            "image/png": "[encoded data removed]",
            "text/plain": [
              "<Figure size 432x288 with 1 Axes>"
            ]
          },
          "metadata": {}
        }
      ]
    },
    {
      "cell_type": "code",
      "metadata": {
        "colab": {
          "base_uri": "https://localhost:8080/"
        },
        "id": "M8RSj8sbnu5m",
        "outputId": "b30e161f-beef-4264-9777-ac9a86e7062a"
      },
      "source": [
        "import numpy as np\n",
        "\n",
        "a = np.arange(12).reshape(3,4) # 3 x 4\n",
        "x = np.array([[0,1,2,3], [10,11,12,13],[20,21,22,23]]) # 3 x 4\n",
        "y = np.zeros((3,4)) # 3 x 4\n",
        "print(f'a:{a}')\n",
        "print(f'x:{x}')\n",
        "print(f'y:{y}')\n",
        "# array a에서 조건 a>5를 만족하는 \n",
        "# 인덱스에는 x array값을 넣고, \n",
        "# 조건을 만족하지 않으면 y array값을 넣음\n",
        "np.where(a > 5, x, y) "
      ],
      "execution_count": null,
      "outputs": [
        {
          "output_type": "stream",
          "name": "stdout",
          "text": [
            "a:[[ 0  1  2  3]\n",
            " [ 4  5  6  7]\n",
            " [ 8  9 10 11]]\n",
            "x:[[ 0  1  2  3]\n",
            " [10 11 12 13]\n",
            " [20 21 22 23]]\n",
            "y:[[0. 0. 0. 0.]\n",
            " [0. 0. 0. 0.]\n",
            " [0. 0. 0. 0.]]\n"
          ]
        },
        {
          "output_type": "execute_result",
          "data": {
            "text/plain": [
              "array([[ 0.,  0.,  0.,  0.],\n",
              "       [ 0.,  0., 12., 13.],\n",
              "       [20., 21., 22., 23.]])"
            ]
          },
          "metadata": {},
          "execution_count": 17
        }
      ]
    },
    {
      "cell_type": "code",
      "metadata": {
        "colab": {
          "base_uri": "https://localhost:8080/",
          "height": 487
        },
        "id": "9cXlLWIutLnl",
        "outputId": "28622e09-05b9-4f5d-9924-24934c65c344"
      },
      "source": [
        "plt.figure()\n",
        "plt.imshow(cat_rgb)\n",
        "plt.xticks([]),plt.yticks([])\n",
        "plt.show()\n",
        "\n",
        "# 픽셀(밝기)값 50보다 낮은 값들 0으로(0,0,0)으로 채우기\n",
        "# 더 극명하게 어둡게 \n",
        "r = cat_rgb.copy()\n",
        "r[cat_gray<50] = (0,0,0)\n",
        "plt.figure()\n",
        "plt.imshow(r)\n",
        "plt.xticks([]),plt.yticks([])\n",
        "plt.show()"
      ],
      "execution_count": null,
      "outputs": [
        {
          "output_type": "display_data",
          "data": {
            "image/png": "[encoded data removed]",
            "text/plain": [
              "<Figure size 432x288 with 1 Axes>"
            ]
          },
          "metadata": {}
        },
        {
          "output_type": "display_data",
          "data": {
            "image/png": "[encoded data removed]",
            "text/plain": [
              "<Figure size 432x288 with 1 Axes>"
            ]
          },
          "metadata": {}
        }
      ]
    },
    {
      "cell_type": "markdown",
      "metadata": {
        "id": "xryar93Vt2rQ"
      },
      "source": [
        "위와 같음?"
      ]
    },
    {
      "cell_type": "code",
      "metadata": {
        "colab": {
          "base_uri": "https://localhost:8080/",
          "height": 252
        },
        "id": "faE5690ZtwYQ",
        "outputId": "a9a5b0a8-9de8-4e36-b4fc-319cb6fdfb71"
      },
      "source": [
        "r[cat_gray<50] = 0\n",
        "plt.figure()\n",
        "plt.imshow(r)\n",
        "plt.xticks([]),plt.yticks([])\n",
        "plt.show()"
      ],
      "execution_count": null,
      "outputs": [
        {
          "output_type": "display_data",
          "data": {
            "image/png": "[encoded data removed]",
            "text/plain": [
              "<Figure size 432x288 with 1 Axes>"
            ]
          },
          "metadata": {}
        }
      ]
    },
    {
      "cell_type": "markdown",
      "metadata": {
        "id": "Y9jTVxAQt66J"
      },
      "source": [
        "np.where( ndarray, 조건식 )\n",
        "\n",
        "조건식에 해당하는(True인) index를 반환함.\n",
        "차원이 2이상일 경우, 차원수에 해당하는 갯수의 list를 반환."
      ]
    },
    {
      "cell_type": "markdown",
      "metadata": {
        "id": "R2zX0q5Auxff"
      },
      "source": [
        "아래 코드??"
      ]
    },
    {
      "cell_type": "code",
      "metadata": {
        "colab": {
          "base_uri": "https://localhost:8080/"
        },
        "id": "eDwsYubBt_lT",
        "outputId": "2f6c289b-695b-4acc-b57a-c315ea5d126d"
      },
      "source": [
        "indice = np.where(cat_gray<10)\n",
        "print(np.shape(indice)) # 293개의 pixel의 인덱스...\n",
        "\n",
        "print(indice[0].shape)\n",
        "r = np.stack( (indice[0],indice[1]),axis=-1)\n",
        "print(cat_gray[r[0][0],r[0][1]])\n",
        "r[0:10]"
      ],
      "execution_count": null,
      "outputs": [
        {
          "output_type": "stream",
          "name": "stdout",
          "text": [
            "(2, 293)\n",
            "(293,)\n",
            "8\n"
          ]
        },
        {
          "output_type": "execute_result",
          "data": {
            "text/plain": [
              "array([[ 91, 187],\n",
              "       [ 91, 188],\n",
              "       [ 92, 189],\n",
              "       [ 92, 190],\n",
              "       [ 93, 174],\n",
              "       [ 93, 175],\n",
              "       [ 93, 190],\n",
              "       [ 94, 174],\n",
              "       [ 94, 175],\n",
              "       [ 94, 176]])"
            ]
          },
          "metadata": {},
          "execution_count": 28
        }
      ]
    },
    {
      "cell_type": "markdown",
      "metadata": {
        "id": "dVmZtR_Hnyqi"
      },
      "source": [
        "??"
      ]
    },
    {
      "cell_type": "code",
      "metadata": {
        "colab": {
          "base_uri": "https://localhost:8080/"
        },
        "id": "1g9PxIbjnw5w",
        "outputId": "7424a6f2-c7f6-4dba-b5c7-befd556565bb"
      },
      "source": [
        "import numpy as np\n",
        "\n",
        "a = np.arange(12).reshape(3,4)\n",
        "print(a)\n",
        "np.where(a > 5)"
      ],
      "execution_count": null,
      "outputs": [
        {
          "output_type": "stream",
          "name": "stdout",
          "text": [
            "[[ 0  1  2  3]\n",
            " [ 4  5  6  7]\n",
            " [ 8  9 10 11]]\n"
          ]
        },
        {
          "output_type": "execute_result",
          "data": {
            "text/plain": [
              "(array([1, 1, 2, 2, 2, 2]), array([2, 3, 0, 1, 2, 3]))"
            ]
          },
          "metadata": {},
          "execution_count": 18
        }
      ]
    },
    {
      "cell_type": "markdown",
      "metadata": {
        "id": "OkjfCOlKn5-0"
      },
      "source": [
        "??"
      ]
    },
    {
      "cell_type": "code",
      "metadata": {
        "id": "XuoRDWExn8hz"
      },
      "source": [
        "a = np.arange(12).reshape(-1,4) # 3 x 4\n",
        "conrds = np.where((a>3) & (a<8)) # a에서 4~7의 값의 인덱스\n",
        "c = np.zeros_like(a)\n",
        "print(c)\n",
        "c[conrds] = 1\n",
        "print(a)\n",
        "print(conrds)\n",
        "print(c)\n",
        "#팬시 인덱싱을 하면 위의 코드 한 줄로 끝남, 위의 코드 실행하는 이유=  \n",
        "# 넘파이 인덱스 이해 \n",
        "# cords  = 좌표. 인덱싱, 어레이 등등 이 될 수 있음 "
      ],
      "execution_count": null,
      "outputs": []
    },
    {
      "cell_type": "markdown",
      "metadata": {
        "id": "dLWg2ly9xZBV"
      },
      "source": [
        "??"
      ]
    },
    {
      "cell_type": "code",
      "metadata": {
        "colab": {
          "base_uri": "https://localhost:8080/"
        },
        "id": "ZJcNmxWRsvMD",
        "outputId": "071ea8dc-6b67-4d76-a688-bc7294261b59"
      },
      "source": [
        "a = np.array([[1,0,2, []]])\n",
        "cord_array = np.stack(np.where(a==0), axis = -1) # -1 = 뒤에서 부터 순서대로 붙임\n",
        "cord_array"
      ],
      "execution_count": null,
      "outputs": [
        {
          "output_type": "stream",
          "name": "stderr",
          "text": [
            "/usr/local/lib/python3.7/dist-packages/ipykernel_launcher.py:1: VisibleDeprecationWarning: Creating an ndarray from ragged nested sequences (which is a list-or-tuple of lists-or-tuples-or ndarrays with different lengths or shapes) is deprecated. If you meant to do this, you must specify 'dtype=object' when creating the ndarray\n",
            "  \"\"\"Entry point for launching an IPython kernel.\n"
          ]
        },
        {
          "output_type": "execute_result",
          "data": {
            "text/plain": [
              "array([[0, 1]])"
            ]
          },
          "metadata": {},
          "execution_count": 19
        }
      ]
    },
    {
      "cell_type": "markdown",
      "metadata": {
        "id": "bs9cUbt8xTRe"
      },
      "source": [
        "# 기타"
      ]
    },
    {
      "cell_type": "code",
      "metadata": {
        "colab": {
          "base_uri": "https://localhost:8080/"
        },
        "id": "h4cDlxMExfS4",
        "outputId": "e0deb179-204f-459b-ae18-f5a1f771b0fb"
      },
      "source": [
        "a = np.array([1,2,3,4,0,0,4,3,2,1,0])\n",
        "print(a.shape)\n",
        "print(type(a))\n",
        "# print(np.nonzero(a).shape) # tuple이라 에러\n",
        "print(type(np.nonzero(a)))\n",
        "np.nonzero(a)"
      ],
      "execution_count": null,
      "outputs": [
        {
          "output_type": "stream",
          "name": "stdout",
          "text": [
            "(11,)\n",
            "<class 'numpy.ndarray'>\n",
            "<class 'tuple'>\n"
          ]
        },
        {
          "output_type": "execute_result",
          "data": {
            "text/plain": [
              "(array([0, 1, 2, 3, 6, 7, 8, 9]),)"
            ]
          },
          "metadata": {},
          "execution_count": 45
        }
      ]
    },
    {
      "cell_type": "markdown",
      "metadata": {
        "id": "xp8GNiS9ya_1"
      },
      "source": [
        "np.all 배열의 모든 데이터가 조건과 맞으면 True 하나라도 다르면 False"
      ]
    },
    {
      "cell_type": "code",
      "metadata": {
        "colab": {
          "base_uri": "https://localhost:8080/"
        },
        "id": "_0rliU7vyMPU",
        "outputId": "96d834b5-83a9-479b-cc8b-6377e9dbe292"
      },
      "source": [
        "np.all([1,1,1])\n",
        "\n",
        "# arr = np.array([[1, 2, 3], [4, 5, 6], [7, 8, 9]])\n",
        "# np.all(arr > 5)\n",
        "# False\n",
        "\n",
        "# np.all(arr < 10)\n",
        "# True"
      ],
      "execution_count": null,
      "outputs": [
        {
          "output_type": "execute_result",
          "data": {
            "text/plain": [
              "True"
            ]
          },
          "metadata": {},
          "execution_count": 46
        }
      ]
    },
    {
      "cell_type": "markdown",
      "metadata": {
        "id": "KvRvv9Zjye0t"
      },
      "source": [
        "np.any(조건) - 배열의 데이터 중 조건과 맞는 데이터가 있으면 True 전혀 없으면 False"
      ]
    },
    {
      "cell_type": "code",
      "metadata": {
        "colab": {
          "base_uri": "https://localhost:8080/"
        },
        "id": "bR4KpWpBygg3",
        "outputId": "23f9cfbe-f0dc-4108-c624-5c8ef33e091e"
      },
      "source": [
        "np.any([1,0,1])\n",
        "\n",
        "# arr = np.array([[1, 2, 3], [4, 5, 6], [7, 8, 9]])\n",
        "# np.any(arr > 5)\n",
        "# True\n",
        "\n",
        "# np.any(arr < 0)\n",
        "# False"
      ],
      "execution_count": null,
      "outputs": [
        {
          "output_type": "execute_result",
          "data": {
            "text/plain": [
              "True"
            ]
          },
          "metadata": {},
          "execution_count": 48
        }
      ]
    },
    {
      "cell_type": "markdown",
      "metadata": {
        "id": "YWA6uo84cqBR"
      },
      "source": [
        "# arange 와 range\n",
        "\n",
        "- 자체적으로 쓸 수 있는가 ex) a = range(5)\n",
        "\n",
        "arange (x) range(o)\n",
        "\n",
        "- Numpy에서 지원\n",
        "\n",
        "arange (o) range(x)\n",
        "\n",
        "ex 1) list(range(5)) : [0,1,2,3,4]인 list 생성\n",
        "\n",
        "ex 2) np.arange(5) : [0 1 2 3 4 5]인 ndarray생성\n",
        "\n"
      ]
    },
    {
      "cell_type": "code",
      "metadata": {
        "colab": {
          "base_uri": "https://localhost:8080/"
        },
        "id": "SN3Jpj0gKeve",
        "outputId": "af7f940f-342e-4e12-bed1-be646de020f7"
      },
      "source": [
        "a = list(range(5))\n",
        "b = np.arange(5)\n",
        "print('a',a)\n",
        "print(type(a))\n",
        "print('b',b)\n",
        "print(type(b))"
      ],
      "execution_count": null,
      "outputs": [
        {
          "output_type": "stream",
          "name": "stdout",
          "text": [
            "a [0, 1, 2, 3, 4]\n",
            "<class 'list'>\n",
            "b [0 1 2 3 4]\n",
            "<class 'numpy.ndarray'>\n"
          ]
        }
      ]
    },
    {
      "cell_type": "code",
      "metadata": {
        "colab": {
          "base_uri": "https://localhost:8080/"
        },
        "id": "1FqM6rlXcsRk",
        "outputId": "75f6b4eb-1e7e-439d-9f69-0e237e2bd27f"
      },
      "source": [
        "a = range(5)\n",
        "b = range(2,10) \n",
        "# c = np.range(8) # 에러\n",
        "print('range type', type(a))\n",
        "print(a)\n",
        "print(b)\n",
        "# print(c)\n",
        "print('a', len(a))\n",
        "print('b', len(b))"
      ],
      "execution_count": null,
      "outputs": [
        {
          "output_type": "stream",
          "name": "stdout",
          "text": [
            "range type <class 'range'>\n",
            "range(0, 5)\n",
            "range(2, 10)\n",
            "a 5\n",
            "b 8\n"
          ]
        }
      ]
    },
    {
      "cell_type": "code",
      "metadata": {
        "colab": {
          "base_uri": "https://localhost:8080/"
        },
        "id": "TeDxEdLKcw6Q",
        "outputId": "139649f1-c3a4-4bd8-e6cf-410033f64829"
      },
      "source": [
        "# a = arange(5) # 에러\n",
        "# b = arange(2,7) # 에러\n",
        "c = np.arange(8) \n",
        "print('np.arange type', type(c))\n",
        "print(c)"
      ],
      "execution_count": null,
      "outputs": [
        {
          "output_type": "stream",
          "name": "stdout",
          "text": [
            "np.arange type <class 'numpy.ndarray'>\n",
            "[0 1 2 3 4 5 6 7]\n"
          ]
        }
      ]
    }
  ]
}
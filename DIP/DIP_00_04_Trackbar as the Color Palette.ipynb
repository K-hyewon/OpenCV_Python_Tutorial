{
 "cells": [
  {
   "attachments": {},
   "cell_type": "markdown",
   "metadata": {},
   "source": [
    "# Goal\n",
    "\n",
    "OpenCV windows에서 ***trackbar*** 연동하는 방법을 익힌다.\n",
    "\n",
    "실제로 배우는 function은 다음과 같다.\n",
    "\n",
    "* `cv2.getTrackbarPos()`\n",
    "`cv2.createTrackbar()`\n",
    "\n",
    "## Code Demo\n",
    "\n",
    "color를 조절하는 trackbar 3개와 조절여부를 on/off시키는 trackbar 1개로 구성된 간단한 application 코드를 통해 tackbar를 OpenCV window에서 다루는 법을 익힌다.\n",
    "B,G,R colors 별로 trackbar하나씩이 할당되며, on/off 시키는 trackbar (0,1사이의 값을 가짐)로 구성됨.\n",
    "\n",
    "For `cv2.getTrackbarPos()` function, \n",
    "\n",
    "* 첫번째 argument : trackbar name임. \n",
    "* 두번째 argument : trackbar가 부착될 window의 이름.\n",
    "* 세번째 argument : trackbar의 기본값\n",
    "* 네번째 argument : the maximum value. (minimu value는 항상 0임)\n",
    "* 다섯번째 argument : trackbar의 값이 변경될 때 호출되는 callback function \n",
    "    * 연결된 callback function 은 기본 argument로 현재 trackbar의 위치(값)을 가짐.\n",
    "    \n",
    "> In our case, function does nothing, so we simply pass.\n",
    "\n",
    "**OpenCV** 에서는 button이나 switch에 해당하는 GUI component를 제공하지 않음 (정말 test용으로 사용가능한 최소한의 GUI만 만들 수 있도록 제공해줌).\n",
    "\n",
    "때문에, 예제 중 on/off 기능의 trackbar를 활용하여 button등으로 사용해야한다.\n"
   ]
  },
  {
   "cell_type": "code",
   "execution_count": 1,
   "metadata": {},
   "outputs": [],
   "source": [
    "import cv2\n",
    "import numpy as np\n",
    "\n",
    "def nothing(x):\n",
    "    pass\n",
    "\n",
    "# Create a black image, a window\n",
    "img = np.zeros((300,512,3), np.uint8)\n",
    "cv2.namedWindow('image')\n",
    "\n",
    "# create trackbars for color change\n",
    "cv2.createTrackbar('R','image',0,255,nothing)\n",
    "cv2.createTrackbar('G','image',0,255,nothing)\n",
    "cv2.createTrackbar('B','image',0,255,nothing)\n",
    "\n",
    "# create switch for ON/OFF functionality\n",
    "switch = '0 : OFF \\n1 : ON'\n",
    "cv2.createTrackbar(switch, 'image',0,1,nothing)\n",
    "\n",
    "while(1):\n",
    "    cv2.imshow('image',img)\n",
    "    k = cv2.waitKey(1) & 0xFF\n",
    "    if k == 27:\n",
    "        break\n",
    "    if cv2.getWindowProperty('image', cv2.WND_PROP_VISIBLE ) <1:\n",
    "        break\n",
    "\n",
    "    # get current positions of four trackbars\n",
    "    r = cv2.getTrackbarPos('R','image')\n",
    "    g = cv2.getTrackbarPos('G','image')\n",
    "    b = cv2.getTrackbarPos('B','image')\n",
    "    s = cv2.getTrackbarPos(switch,'image')\n",
    "\n",
    "    if s == 0:\n",
    "        img[:] = 0\n",
    "    else:\n",
    "        img[:] = [b,g,r]\n",
    "\n",
    "cv2.destroyAllWindows()"
   ]
  },
  {
   "attachments": {},
   "cell_type": "markdown",
   "metadata": {},
   "source": [
    "The screenshot of the application looks like below :\n",
    "\n",
    "![](https://docs.opencv.org/4.x/trackbar_screenshot.jpg)"
   ]
  },
  {
   "cell_type": "code",
   "execution_count": null,
   "metadata": {},
   "outputs": [],
   "source": []
  }
 ],
 "metadata": {
  "kernelspec": {
   "display_name": "opencv",
   "language": "python",
   "name": "python3"
  },
  "language_info": {
   "codemirror_mode": {
    "name": "ipython",
    "version": 3
   },
   "file_extension": ".py",
   "mimetype": "text/x-python",
   "name": "python",
   "nbconvert_exporter": "python",
   "pygments_lexer": "ipython3",
   "version": "3.11.0"
  },
  "vscode": {
   "interpreter": {
    "hash": "690cd8fa14783f16a951a63a19459f1deb07a6f6d52b5740207b291f230ab995"
   }
  }
 },
 "nbformat": 4,
 "nbformat_minor": 2
}

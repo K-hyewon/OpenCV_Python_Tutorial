{
  "nbformat": 4,
  "nbformat_minor": 0,
  "metadata": {
    "colab": {
      "name": "DIP_Numpy01.ipynb의 사본",
      "provenance": [],
      "collapsed_sections": []
    },
    "kernelspec": {
      "name": "python3",
      "display_name": "Python 3"
    }
  },
  "cells": [
    {
      "cell_type": "code",
      "metadata": {
        "id": "JQvWdgTqWn_Y",
        "colab_type": "code",
        "colab": {
          "base_uri": "https://localhost:8080/",
          "height": 35
        },
        "outputId": "cec8733a-780a-4614-b00e-66d50ff9149a"
      },
      "source": [
        "import tensorflow as tf\n",
        "import numpy as np\n",
        "np.__version__"
      ],
      "execution_count": 1,
      "outputs": [
        {
          "output_type": "execute_result",
          "data": {
            "application/vnd.google.colaboratory.intrinsic+json": {
              "type": "string"
            },
            "text/plain": [
              "'1.18.5'"
            ]
          },
          "metadata": {
            "tags": []
          },
          "execution_count": 1
        }
      ]
    },
    {
      "cell_type": "code",
      "metadata": {
        "id": "AL0VO2ibn7pN",
        "colab_type": "code",
        "colab": {
          "base_uri": "https://localhost:8080/",
          "height": 35
        },
        "outputId": "44d04bff-541e-4981-debd-a94243f290c8"
      },
      "source": [
        "tf.__version__"
      ],
      "execution_count": 2,
      "outputs": [
        {
          "output_type": "execute_result",
          "data": {
            "application/vnd.google.colaboratory.intrinsic+json": {
              "type": "string"
            },
            "text/plain": [
              "'2.3.0'"
            ]
          },
          "metadata": {
            "tags": []
          },
          "execution_count": 2
        }
      ]
    },
    {
      "cell_type": "code",
      "metadata": {
        "id": "LYyw073coOCR",
        "colab_type": "code",
        "colab": {}
      },
      "source": [
        "import numpy as np"
      ],
      "execution_count": 3,
      "outputs": []
    },
    {
      "cell_type": "markdown",
      "metadata": {
        "id": "9qKKSyet4KwN",
        "colab_type": "text"
      },
      "source": [
        "`np.array ( list [,dtype])`\n",
        "\n",
        "* list등으로 `ndarray` 생성.\n",
        "* `dtype` : data type of element.\n",
        "   * `float64` : default type in the numpy.\n",
        "   * `uint8` : unsigned int (8bit), the most commonly used for image processing\n",
        "   * `int8` : signed int (8bit)\n",
        "   * `floast32` : float (32bit)"
      ]
    },
    {
      "cell_type": "code",
      "metadata": {
        "id": "kMD79oUzpnKI",
        "colab_type": "code",
        "colab": {
          "base_uri": "https://localhost:8080/",
          "height": 35
        },
        "outputId": "46dfa55b-eaf7-4854-c828-5838ca428003"
      },
      "source": [
        "a = np.array((1,2,3,4))\n",
        "a"
      ],
      "execution_count": 6,
      "outputs": [
        {
          "output_type": "execute_result",
          "data": {
            "text/plain": [
              "array([1, 2, 3, 4])"
            ]
          },
          "metadata": {
            "tags": []
          },
          "execution_count": 6
        }
      ]
    },
    {
      "cell_type": "code",
      "metadata": {
        "id": "iHJMa0O24JgA",
        "colab_type": "code",
        "colab": {
          "base_uri": "https://localhost:8080/",
          "height": 52
        },
        "outputId": "b53bd9b8-dedf-4ba0-863f-776cd603938d"
      },
      "source": [
        "t=(1,2,3,4)\n",
        "a = np.array(t)\n",
        "print(type(t))\n",
        "print(type(a))"
      ],
      "execution_count": 7,
      "outputs": [
        {
          "output_type": "stream",
          "text": [
            "<class 'tuple'>\n",
            "<class 'numpy.ndarray'>\n"
          ],
          "name": "stdout"
        }
      ]
    },
    {
      "cell_type": "code",
      "metadata": {
        "id": "qMsjg-b0ZLcJ",
        "colab_type": "code",
        "colab": {
          "base_uri": "https://localhost:8080/",
          "height": 106
        },
        "outputId": "feb312c0-ca7e-4b0c-c19a-225f0b75fe54"
      },
      "source": [
        "print(a.ndim)   #number of dimension 축\n",
        "print(a.shape)   #\n",
        "print(a.itemsize) #bytes\n",
        "print(a.size)\n",
        "print(a.dtype)"
      ],
      "execution_count": 8,
      "outputs": [
        {
          "output_type": "stream",
          "text": [
            "1\n",
            "(4,)\n",
            "8\n",
            "4\n",
            "int64\n"
          ],
          "name": "stdout"
        }
      ]
    },
    {
      "cell_type": "code",
      "metadata": {
        "id": "rJ_1pRgXqnDS",
        "colab_type": "code",
        "colab": {
          "base_uri": "https://localhost:8080/",
          "height": 52
        },
        "outputId": "5b114c65-35c5-4656-d5a2-9e1b269924d5"
      },
      "source": [
        "t=(1,2,3,4,5,6)\n",
        "a = np.array(t)\n",
        "print(type(t))\n",
        "print(type(a))"
      ],
      "execution_count": 11,
      "outputs": [
        {
          "output_type": "stream",
          "text": [
            "<class 'tuple'>\n",
            "<class 'numpy.ndarray'>\n"
          ],
          "name": "stdout"
        }
      ]
    },
    {
      "cell_type": "code",
      "metadata": {
        "id": "ccDs_S_-qz5s",
        "colab_type": "code",
        "colab": {
          "base_uri": "https://localhost:8080/",
          "height": 106
        },
        "outputId": "f1b4dede-4e71-46d9-eaa6-3f58db85ffb8"
      },
      "source": [
        "print(a.ndim)   #number of dimension 축\n",
        "print(a.shape)   #dimension 구조\n",
        "print(a.itemsize) #bytes\n",
        "print(a.size)\n",
        "print(a.dtype)"
      ],
      "execution_count": 12,
      "outputs": [
        {
          "output_type": "stream",
          "text": [
            "1\n",
            "(6,)\n",
            "8\n",
            "6\n",
            "int64\n"
          ],
          "name": "stdout"
        }
      ]
    },
    {
      "cell_type": "code",
      "metadata": {
        "id": "vkb26J3zZgJT",
        "colab_type": "code",
        "colab": {
          "base_uri": "https://localhost:8080/",
          "height": 106
        },
        "outputId": "d35dc632-f8ec-4fe8-a9a2-50b070cfbd2d"
      },
      "source": [
        "#넘어가죠\n",
        "tensor = tf.constant(a)\n",
        "print(tf.rank(tensor))   #rank=ndim\n",
        "print(tensor.ndim)\n",
        "print(tensor.shape)\n",
        "print(tensor.dtype)\n",
        "tensor"
      ],
      "execution_count": 13,
      "outputs": [
        {
          "output_type": "stream",
          "text": [
            "tf.Tensor(1, shape=(), dtype=int32)\n",
            "1\n",
            "(6,)\n",
            "<dtype: 'int64'>\n"
          ],
          "name": "stdout"
        },
        {
          "output_type": "execute_result",
          "data": {
            "text/plain": [
              "<tf.Tensor: shape=(6,), dtype=int64, numpy=array([1, 2, 3, 4, 5, 6])>"
            ]
          },
          "metadata": {
            "tags": []
          },
          "execution_count": 13
        }
      ]
    },
    {
      "cell_type": "markdown",
      "metadata": {
        "id": "T90fDRMl5jB3",
        "colab_type": "text"
      },
      "source": [
        "# 특정 값으로 초기화한 `ndarray` 생성\n",
        "\n",
        "`zeros`,`ones`, and `full`"
      ]
    },
    {
      "cell_type": "code",
      "metadata": {
        "id": "Ziw_tUUW5ue_",
        "colab_type": "code",
        "colab": {
          "base_uri": "https://localhost:8080/",
          "height": 70
        },
        "outputId": "53627b08-88e6-4bcc-facb-2441bc66279f"
      },
      "source": [
        "a = np.zeros((3,2))   #3행 2열\n",
        "a"
      ],
      "execution_count": 14,
      "outputs": [
        {
          "output_type": "execute_result",
          "data": {
            "text/plain": [
              "array([[0., 0.],\n",
              "       [0., 0.],\n",
              "       [0., 0.]])"
            ]
          },
          "metadata": {
            "tags": []
          },
          "execution_count": 14
        }
      ]
    },
    {
      "cell_type": "code",
      "metadata": {
        "id": "wr8DNk-NrWkw",
        "colab_type": "code",
        "colab": {
          "base_uri": "https://localhost:8080/",
          "height": 88
        },
        "outputId": "2c582c1f-0069-4228-a3d7-2b887a409adf"
      },
      "source": [
        "a = np.zeros((3,2))   #3행 2열\n",
        "a = np.zeros(shape=(4,4),dtype=np.uint8)\n",
        "a"
      ],
      "execution_count": 15,
      "outputs": [
        {
          "output_type": "execute_result",
          "data": {
            "text/plain": [
              "array([[0, 0, 0, 0],\n",
              "       [0, 0, 0, 0],\n",
              "       [0, 0, 0, 0],\n",
              "       [0, 0, 0, 0]], dtype=uint8)"
            ]
          },
          "metadata": {
            "tags": []
          },
          "execution_count": 15
        }
      ]
    },
    {
      "cell_type": "code",
      "metadata": {
        "id": "o4XZncRKrqno",
        "colab_type": "code",
        "colab": {
          "base_uri": "https://localhost:8080/",
          "height": 35
        },
        "outputId": "1c34835b-22d6-4e0a-cd62-37db17705bcf"
      },
      "source": [
        "a.shape"
      ],
      "execution_count": 16,
      "outputs": [
        {
          "output_type": "execute_result",
          "data": {
            "text/plain": [
              "(4, 4)"
            ]
          },
          "metadata": {
            "tags": []
          },
          "execution_count": 16
        }
      ]
    },
    {
      "cell_type": "code",
      "metadata": {
        "id": "YurPYb-0rwHB",
        "colab_type": "code",
        "colab": {
          "base_uri": "https://localhost:8080/",
          "height": 35
        },
        "outputId": "d9cec70d-ad24-491e-aecf-b58f75dba7a9"
      },
      "source": [
        "len(a.shape)"
      ],
      "execution_count": 17,
      "outputs": [
        {
          "output_type": "execute_result",
          "data": {
            "text/plain": [
              "2"
            ]
          },
          "metadata": {
            "tags": []
          },
          "execution_count": 17
        }
      ]
    },
    {
      "cell_type": "code",
      "metadata": {
        "id": "Ap3hCnBtaMWd",
        "colab_type": "code",
        "colab": {
          "base_uri": "https://localhost:8080/",
          "height": 88
        },
        "outputId": "440f7b28-e6d2-4714-9b90-3ea6b4c9bd61"
      },
      "source": [
        "# a_tf = tf.constant(a)\n",
        "a_tf = tf.zeros(shape=(3,2))\n",
        "a_tf\n",
        "# a_tf.numpy()"
      ],
      "execution_count": 18,
      "outputs": [
        {
          "output_type": "execute_result",
          "data": {
            "text/plain": [
              "<tf.Tensor: shape=(3, 2), dtype=float32, numpy=\n",
              "array([[0., 0.],\n",
              "       [0., 0.],\n",
              "       [0., 0.]], dtype=float32)>"
            ]
          },
          "metadata": {
            "tags": []
          },
          "execution_count": 18
        }
      ]
    },
    {
      "cell_type": "code",
      "metadata": {
        "id": "WkHyv-r651mK",
        "colab_type": "code",
        "colab": {
          "base_uri": "https://localhost:8080/",
          "height": 88
        },
        "outputId": "ecbff03a-c2eb-45a3-a90e-f8f97edf92af"
      },
      "source": [
        "a = np.ones((4,2))\n",
        "a"
      ],
      "execution_count": 20,
      "outputs": [
        {
          "output_type": "execute_result",
          "data": {
            "text/plain": [
              "array([[1., 1.],\n",
              "       [1., 1.],\n",
              "       [1., 1.],\n",
              "       [1., 1.]])"
            ]
          },
          "metadata": {
            "tags": []
          },
          "execution_count": 20
        }
      ]
    },
    {
      "cell_type": "code",
      "metadata": {
        "id": "16FqX4Z8r6Hi",
        "colab_type": "code",
        "colab": {
          "base_uri": "https://localhost:8080/",
          "height": 212
        },
        "outputId": "09e7fe57-81c2-4de0-fbc7-e3e87f674d4c"
      },
      "source": [
        "a = np.ones((4,2,3))\n",
        "a"
      ],
      "execution_count": 21,
      "outputs": [
        {
          "output_type": "execute_result",
          "data": {
            "text/plain": [
              "array([[[1., 1., 1.],\n",
              "        [1., 1., 1.]],\n",
              "\n",
              "       [[1., 1., 1.],\n",
              "        [1., 1., 1.]],\n",
              "\n",
              "       [[1., 1., 1.],\n",
              "        [1., 1., 1.]],\n",
              "\n",
              "       [[1., 1., 1.],\n",
              "        [1., 1., 1.]]])"
            ]
          },
          "metadata": {
            "tags": []
          },
          "execution_count": 21
        }
      ]
    },
    {
      "cell_type": "code",
      "metadata": {
        "id": "37CAi5vUamY9",
        "colab_type": "code",
        "colab": {
          "base_uri": "https://localhost:8080/",
          "height": 106
        },
        "outputId": "bd808526-19e6-4744-dd97-3741b689eb05"
      },
      "source": [
        "#넘어가\n",
        "a_tf = tf.ones((4,2), dtype=tf.int64)\n",
        "a_tf"
      ],
      "execution_count": 22,
      "outputs": [
        {
          "output_type": "execute_result",
          "data": {
            "text/plain": [
              "<tf.Tensor: shape=(4, 2), dtype=int64, numpy=\n",
              "array([[1, 1],\n",
              "       [1, 1],\n",
              "       [1, 1],\n",
              "       [1, 1]])>"
            ]
          },
          "metadata": {
            "tags": []
          },
          "execution_count": 22
        }
      ]
    },
    {
      "cell_type": "code",
      "metadata": {
        "id": "prC3HMm355l9",
        "colab_type": "code",
        "colab": {
          "base_uri": "https://localhost:8080/",
          "height": 35
        },
        "outputId": "404fe965-7759-4b47-d4e9-9578202586cd"
      },
      "source": [
        "a = np.full((1,3),7)\n",
        "a"
      ],
      "execution_count": 24,
      "outputs": [
        {
          "output_type": "execute_result",
          "data": {
            "text/plain": [
              "array([[7, 7, 7]])"
            ]
          },
          "metadata": {
            "tags": []
          },
          "execution_count": 24
        }
      ]
    },
    {
      "cell_type": "code",
      "metadata": {
        "id": "pHI3WVJDsP3P",
        "colab_type": "code",
        "colab": {
          "base_uri": "https://localhost:8080/",
          "height": 35
        },
        "outputId": "f425de69-eb56-462d-ae03-7306ba2cc21e"
      },
      "source": [
        "a = np.full((1,3),255)\n",
        "a"
      ],
      "execution_count": 26,
      "outputs": [
        {
          "output_type": "execute_result",
          "data": {
            "text/plain": [
              "array([[255, 255, 255]])"
            ]
          },
          "metadata": {
            "tags": []
          },
          "execution_count": 26
        }
      ]
    },
    {
      "cell_type": "code",
      "metadata": {
        "id": "nJhwZ89uayMB",
        "colab_type": "code",
        "colab": {
          "base_uri": "https://localhost:8080/",
          "height": 35
        },
        "outputId": "1d9e05bc-4654-46bc-e225-8073d9e8e483"
      },
      "source": [
        "#넘어가\n",
        "a_tf = tf.constant(a)\n",
        "a_tf"
      ],
      "execution_count": 27,
      "outputs": [
        {
          "output_type": "execute_result",
          "data": {
            "text/plain": [
              "<tf.Tensor: shape=(1, 3), dtype=int64, numpy=array([[255, 255, 255]])>"
            ]
          },
          "metadata": {
            "tags": []
          },
          "execution_count": 27
        }
      ]
    },
    {
      "cell_type": "markdown",
      "metadata": {
        "id": "rg1LU7jH5IGB",
        "colab_type": "text"
      },
      "source": [
        "# 기존의 `ndarray` 와 같은 shape를 가지는 `ndarray`생성\n",
        "\n",
        "`zeros_like`, `ones_like`, and `full_like` "
      ]
    },
    {
      "cell_type": "code",
      "metadata": {
        "id": "L4ag0LTM5_sJ",
        "colab_type": "code",
        "colab": {
          "base_uri": "https://localhost:8080/",
          "height": 88
        },
        "outputId": "fc35577a-afa3-4d1a-b1f0-24e01a32ca54"
      },
      "source": [
        "s = np.array([[1,2,3],[4,5,6]])\n",
        "print(s.shape)\n",
        "\n",
        "a = np.zeros_like(s)\n",
        "print(a.shape)\n",
        "a"
      ],
      "execution_count": 28,
      "outputs": [
        {
          "output_type": "stream",
          "text": [
            "(2, 3)\n",
            "(2, 3)\n"
          ],
          "name": "stdout"
        },
        {
          "output_type": "execute_result",
          "data": {
            "text/plain": [
              "array([[0, 0, 0],\n",
              "       [0, 0, 0]])"
            ]
          },
          "metadata": {
            "tags": []
          },
          "execution_count": 28
        }
      ]
    },
    {
      "cell_type": "code",
      "metadata": {
        "id": "Evk1B89u6QgA",
        "colab_type": "code",
        "colab": {
          "base_uri": "https://localhost:8080/",
          "height": 70
        },
        "outputId": "c1ef6c9d-1932-4fd0-8820-4fd40f3ad7e1"
      },
      "source": [
        "a = np.ones_like(s)\n",
        "print(a.shape)\n",
        "a"
      ],
      "execution_count": 29,
      "outputs": [
        {
          "output_type": "stream",
          "text": [
            "(2, 3)\n"
          ],
          "name": "stdout"
        },
        {
          "output_type": "execute_result",
          "data": {
            "text/plain": [
              "array([[1, 1, 1],\n",
              "       [1, 1, 1]])"
            ]
          },
          "metadata": {
            "tags": []
          },
          "execution_count": 29
        }
      ]
    },
    {
      "cell_type": "code",
      "metadata": {
        "id": "3KbDRVns6WwS",
        "colab_type": "code",
        "colab": {
          "base_uri": "https://localhost:8080/",
          "height": 52
        },
        "outputId": "78525c57-045d-4a9e-9bc2-e4a25c995ab9"
      },
      "source": [
        "a = np.full_like(s,3.0)\n",
        "a"
      ],
      "execution_count": 30,
      "outputs": [
        {
          "output_type": "execute_result",
          "data": {
            "text/plain": [
              "array([[3, 3, 3],\n",
              "       [3, 3, 3]])"
            ]
          },
          "metadata": {
            "tags": []
          },
          "execution_count": 30
        }
      ]
    },
    {
      "cell_type": "code",
      "metadata": {
        "id": "ZCJB0l0cssas",
        "colab_type": "code",
        "colab": {
          "base_uri": "https://localhost:8080/",
          "height": 888
        },
        "outputId": "bf6ae9bf-1ceb-452b-f80d-a73a8784a2c6"
      },
      "source": [
        "a = np.zeros((256,128,3))\n",
        "a"
      ],
      "execution_count": 34,
      "outputs": [
        {
          "output_type": "execute_result",
          "data": {
            "text/plain": [
              "array([[[0., 0., 0.],\n",
              "        [0., 0., 0.],\n",
              "        [0., 0., 0.],\n",
              "        ...,\n",
              "        [0., 0., 0.],\n",
              "        [0., 0., 0.],\n",
              "        [0., 0., 0.]],\n",
              "\n",
              "       [[0., 0., 0.],\n",
              "        [0., 0., 0.],\n",
              "        [0., 0., 0.],\n",
              "        ...,\n",
              "        [0., 0., 0.],\n",
              "        [0., 0., 0.],\n",
              "        [0., 0., 0.]],\n",
              "\n",
              "       [[0., 0., 0.],\n",
              "        [0., 0., 0.],\n",
              "        [0., 0., 0.],\n",
              "        ...,\n",
              "        [0., 0., 0.],\n",
              "        [0., 0., 0.],\n",
              "        [0., 0., 0.]],\n",
              "\n",
              "       ...,\n",
              "\n",
              "       [[0., 0., 0.],\n",
              "        [0., 0., 0.],\n",
              "        [0., 0., 0.],\n",
              "        ...,\n",
              "        [0., 0., 0.],\n",
              "        [0., 0., 0.],\n",
              "        [0., 0., 0.]],\n",
              "\n",
              "       [[0., 0., 0.],\n",
              "        [0., 0., 0.],\n",
              "        [0., 0., 0.],\n",
              "        ...,\n",
              "        [0., 0., 0.],\n",
              "        [0., 0., 0.],\n",
              "        [0., 0., 0.]],\n",
              "\n",
              "       [[0., 0., 0.],\n",
              "        [0., 0., 0.],\n",
              "        [0., 0., 0.],\n",
              "        ...,\n",
              "        [0., 0., 0.],\n",
              "        [0., 0., 0.],\n",
              "        [0., 0., 0.]]])"
            ]
          },
          "metadata": {
            "tags": []
          },
          "execution_count": 34
        }
      ]
    },
    {
      "cell_type": "markdown",
      "metadata": {
        "id": "G74cZ8N0GZRs",
        "colab_type": "text"
      },
      "source": [
        "# indexing & slicing\n",
        "\n",
        "`ndarray`의 element에 접근하는 것은 indexing을 통해 하나하나에 접근하고, slicing을 통해 특정 영역의 element에 접근 가능함.\n",
        "\n",
        "* list등의 python의 fundamental type들과의 차이는 slicing의 경우에 numpy는 원본을 가리키고 있어서 slicing으로 실제로 원본이 수정되게 됨. (주의 필요.)"
      ]
    },
    {
      "cell_type": "code",
      "metadata": {
        "id": "7L33cIoPHFzZ",
        "colab_type": "code",
        "colab": {
          "base_uri": "https://localhost:8080/",
          "height": 70
        },
        "outputId": "4d01c9e6-fece-4605-e8a2-67afea8df163"
      },
      "source": [
        "A = np.arange(0,12).reshape(3,4)   #arange=range\n",
        "A"
      ],
      "execution_count": 71,
      "outputs": [
        {
          "output_type": "execute_result",
          "data": {
            "text/plain": [
              "array([[ 0,  1,  2,  3],\n",
              "       [ 4,  5,  6,  7],\n",
              "       [ 8,  9, 10, 11]])"
            ]
          },
          "metadata": {
            "tags": []
          },
          "execution_count": 71
        }
      ]
    },
    {
      "cell_type": "code",
      "metadata": {
        "id": "PnSnAE4nuLMX",
        "colab_type": "code",
        "colab": {}
      },
      "source": [
        "#A = np.arange(0,12).reshape(3,-1)   #-1:나머지는 니가 채워줘\n",
        "#A"
      ],
      "execution_count": 40,
      "outputs": []
    },
    {
      "cell_type": "code",
      "metadata": {
        "id": "i2sAmPS4uPgx",
        "colab_type": "code",
        "colab": {}
      },
      "source": [
        "#A = np.arange(0,12).reshape(2,2,-1)   #arange=range\n",
        "#A"
      ],
      "execution_count": 41,
      "outputs": []
    },
    {
      "cell_type": "code",
      "metadata": {
        "id": "RYJZ9uXfbkl-",
        "colab_type": "code",
        "colab": {
          "base_uri": "https://localhost:8080/",
          "height": 88
        },
        "outputId": "1404ed40-b165-4364-9569-1ab162784e47"
      },
      "source": [
        "A_tf = tf.constant(tf.range(0,12),shape=(3,4))\n",
        "A_tf"
      ],
      "execution_count": 43,
      "outputs": [
        {
          "output_type": "execute_result",
          "data": {
            "text/plain": [
              "<tf.Tensor: shape=(3, 4), dtype=int32, numpy=\n",
              "array([[ 0,  1,  2,  3],\n",
              "       [ 4,  5,  6,  7],\n",
              "       [ 8,  9, 10, 11]], dtype=int32)>"
            ]
          },
          "metadata": {
            "tags": []
          },
          "execution_count": 43
        }
      ]
    },
    {
      "cell_type": "code",
      "metadata": {
        "id": "gQHQpAusHTz4",
        "colab_type": "code",
        "colab": {
          "base_uri": "https://localhost:8080/",
          "height": 124
        },
        "outputId": "19eaf517-75ee-4ff5-8d02-f8df3330e7e3"
      },
      "source": [
        "print(A)\n",
        "print(f'A[0] is \"{A[0]}\"')\n",
        "print(f'A[0,2] is \"{A[0,2]}\"')   #아래랑 같음\n",
        "print(f'A[0][2] is \"{A[0][2]}\"')   #위랑 같음"
      ],
      "execution_count": 45,
      "outputs": [
        {
          "output_type": "stream",
          "text": [
            "[[ 0  1  2  3]\n",
            " [ 4  5  6  7]\n",
            " [ 8  9 10 11]]\n",
            "A[0] is \"[0 1 2 3]\"\n",
            "A[0,2] is \"2\"\n",
            "A[0][2] is \"2\"\n"
          ],
          "name": "stdout"
        }
      ]
    },
    {
      "cell_type": "code",
      "metadata": {
        "id": "F3R9sfS9uvQD",
        "colab_type": "code",
        "colab": {
          "base_uri": "https://localhost:8080/",
          "height": 35
        },
        "outputId": "0c6c15b4-78c1-4598-937a-75acf9d73e2f"
      },
      "source": [
        "A[1]"
      ],
      "execution_count": 46,
      "outputs": [
        {
          "output_type": "execute_result",
          "data": {
            "text/plain": [
              "array([4, 5, 6, 7])"
            ]
          },
          "metadata": {
            "tags": []
          },
          "execution_count": 46
        }
      ]
    },
    {
      "cell_type": "code",
      "metadata": {
        "id": "_AXqc1atvBsa",
        "colab_type": "code",
        "colab": {
          "base_uri": "https://localhost:8080/",
          "height": 35
        },
        "outputId": "2f68ff21-0798-4b64-8dea-9ed5b62e43ac"
      },
      "source": [
        "A[2,2]"
      ],
      "execution_count": 47,
      "outputs": [
        {
          "output_type": "execute_result",
          "data": {
            "text/plain": [
              "10"
            ]
          },
          "metadata": {
            "tags": []
          },
          "execution_count": 47
        }
      ]
    },
    {
      "cell_type": "code",
      "metadata": {
        "id": "ejAPqpP9wfNB",
        "colab_type": "code",
        "colab": {
          "base_uri": "https://localhost:8080/",
          "height": 70
        },
        "outputId": "e71b5286-9120-44b6-c22f-c69b9cddd020"
      },
      "source": [
        "A[2,2]=77\n",
        "A"
      ],
      "execution_count": 58,
      "outputs": [
        {
          "output_type": "execute_result",
          "data": {
            "text/plain": [
              "array([[  0,   1,   2,   3],\n",
              "       [  4, 777, 777,   7],\n",
              "       [  8, 777,  77,  11]])"
            ]
          },
          "metadata": {
            "tags": []
          },
          "execution_count": 58
        }
      ]
    },
    {
      "cell_type": "code",
      "metadata": {
        "id": "duiFaLnYcFvY",
        "colab_type": "code",
        "colab": {
          "base_uri": "https://localhost:8080/",
          "height": 35
        },
        "outputId": "a1070ad2-5f6e-4050-faa8-fbb70c43cef0"
      },
      "source": [
        "A_tf[0,2] # scalar"
      ],
      "execution_count": 59,
      "outputs": [
        {
          "output_type": "execute_result",
          "data": {
            "text/plain": [
              "<tf.Tensor: shape=(), dtype=int32, numpy=2>"
            ]
          },
          "metadata": {
            "tags": []
          },
          "execution_count": 59
        }
      ]
    },
    {
      "cell_type": "code",
      "metadata": {
        "id": "tZeRYWUoH1wF",
        "colab_type": "code",
        "colab": {
          "base_uri": "https://localhost:8080/",
          "height": 159
        },
        "outputId": "0953e70d-0643-4519-8610-0b4be49b3a95"
      },
      "source": [
        "print(A)\n",
        "print(f'A[1,2:] is \"{A[1,2:]}\"')\n",
        "print(f'A[1,::2] is \"{A[1,::2]}\"')\n",
        "print(f'A[1,::-2] is \"{A[1,::-2]}\"')\n",
        "print(f'A[1,::-1] is \"{A[1,::-1]}\"')\n",
        "print(f'A[1,3:0:-1] is \"{A[1,3:0:-1]}\"')"
      ],
      "execution_count": 60,
      "outputs": [
        {
          "output_type": "stream",
          "text": [
            "[[  0   1   2   3]\n",
            " [  4 777 777   7]\n",
            " [  8 777  77  11]]\n",
            "A[1,2:] is \"[777   7]\"\n",
            "A[1,::2] is \"[  4 777]\"\n",
            "A[1,::-2] is \"[  7 777]\"\n",
            "A[1,::-1] is \"[  7 777 777   4]\"\n",
            "A[1,3:0:-1] is \"[  7 777 777]\"\n"
          ],
          "name": "stdout"
        }
      ]
    },
    {
      "cell_type": "code",
      "metadata": {
        "id": "7fAa6FFqIjiY",
        "colab_type": "code",
        "colab": {
          "base_uri": "https://localhost:8080/",
          "height": 106
        },
        "outputId": "a9c4b36b-58ac-49a9-8aa2-522169dbed8f"
      },
      "source": [
        "print(A)\n",
        "A[1:3,1:3]"
      ],
      "execution_count": 64,
      "outputs": [
        {
          "output_type": "stream",
          "text": [
            "[[  0   1   2   3]\n",
            " [  4 777 777   7]\n",
            " [  8 777  77  11]]\n"
          ],
          "name": "stdout"
        },
        {
          "output_type": "execute_result",
          "data": {
            "text/plain": [
              "array([[777, 777],\n",
              "       [777,  77]])"
            ]
          },
          "metadata": {
            "tags": []
          },
          "execution_count": 64
        }
      ]
    },
    {
      "cell_type": "code",
      "metadata": {
        "id": "jBgBBEnzxC20",
        "colab_type": "code",
        "colab": {
          "base_uri": "https://localhost:8080/",
          "height": 106
        },
        "outputId": "f38453cf-8e69-4182-faac-eb4b3c03d378"
      },
      "source": [
        "print(A)\n",
        "A[1:3,::-1]"
      ],
      "execution_count": 72,
      "outputs": [
        {
          "output_type": "stream",
          "text": [
            "[[ 0  1  2  3]\n",
            " [ 4  5  6  7]\n",
            " [ 8  9 10 11]]\n"
          ],
          "name": "stdout"
        },
        {
          "output_type": "execute_result",
          "data": {
            "text/plain": [
              "array([[ 7,  6,  5,  4],\n",
              "       [11, 10,  9,  8]])"
            ]
          },
          "metadata": {
            "tags": []
          },
          "execution_count": 72
        }
      ]
    },
    {
      "cell_type": "code",
      "metadata": {
        "id": "LF-tpd5Nx86C",
        "colab_type": "code",
        "colab": {
          "base_uri": "https://localhost:8080/",
          "height": 70
        },
        "outputId": "ed2ce8d4-1791-45fa-9688-73d54f82fbda"
      },
      "source": [
        "print(A)\n",
        "A[1:3,::-1]=3*A[1:3,::-1]"
      ],
      "execution_count": 73,
      "outputs": [
        {
          "output_type": "stream",
          "text": [
            "[[ 0  1  2  3]\n",
            " [ 4  5  6  7]\n",
            " [ 8  9 10 11]]\n"
          ],
          "name": "stdout"
        }
      ]
    },
    {
      "cell_type": "code",
      "metadata": {
        "id": "ZsC__RZzItTM",
        "colab_type": "code",
        "colab": {
          "base_uri": "https://localhost:8080/",
          "height": 70
        },
        "outputId": "518cd82b-51af-4970-8af1-7d3d9f494075"
      },
      "source": [
        "A[1:3,1:3] = 777\n",
        "A"
      ],
      "execution_count": 70,
      "outputs": [
        {
          "output_type": "execute_result",
          "data": {
            "text/plain": [
              "array([[  0,   1,   2,   3],\n",
              "       [  4, 777, 777,   7],\n",
              "       [  8, 777, 777,  11]])"
            ]
          },
          "metadata": {
            "tags": []
          },
          "execution_count": 70
        }
      ]
    },
    {
      "cell_type": "markdown",
      "metadata": {
        "id": "OSd5xM3x6V_A",
        "colab_type": "text"
      },
      "source": [
        "# 난수 생성.\n",
        "\n",
        "`np.random.rand([d0 [,d1 [ ..., dn])` : 0~1사이의 수들이 균일한 확률로 선택되어 반환됨.\n",
        "* d0 , ... , dn : 난수로 구성된 ndarray의 shape를 지정하는 데 사용됨.\n",
        "\n",
        "`np.random.randn([d0 [,d1 [ ..., dn])` : $\\mu=0, \\sigma=1$ 인 정규 분포를 따르는 난수 반환.\n"
      ]
    },
    {
      "cell_type": "code",
      "metadata": {
        "id": "d7oxzXhO7r8r",
        "colab_type": "code",
        "colab": {
          "base_uri": "https://localhost:8080/",
          "height": 88
        },
        "outputId": "b81cd415-933d-4152-fdf7-b153b54e1763"
      },
      "source": [
        "A = np.random.rand(3,4)\n",
        "print(A.dtype)\n",
        "A"
      ],
      "execution_count": 74,
      "outputs": [
        {
          "output_type": "stream",
          "text": [
            "float64\n"
          ],
          "name": "stdout"
        },
        {
          "output_type": "execute_result",
          "data": {
            "text/plain": [
              "array([[0.68732307, 0.92920527, 0.68886332, 0.14065172],\n",
              "       [0.1706073 , 0.30257644, 0.99724323, 0.43431864],\n",
              "       [0.63810133, 0.07504847, 0.65872527, 0.14127451]])"
            ]
          },
          "metadata": {
            "tags": []
          },
          "execution_count": 74
        }
      ]
    },
    {
      "cell_type": "code",
      "metadata": {
        "id": "aOqMiEsScnS9",
        "colab_type": "code",
        "colab": {
          "base_uri": "https://localhost:8080/",
          "height": 88
        },
        "outputId": "75b72346-a9b1-49fb-a389-700b21389654"
      },
      "source": [
        "A_tf = tf.random.uniform(shape=(3,4), minval=0., maxval=1. )\n",
        "A_tf"
      ],
      "execution_count": 75,
      "outputs": [
        {
          "output_type": "execute_result",
          "data": {
            "text/plain": [
              "<tf.Tensor: shape=(3, 4), dtype=float32, numpy=\n",
              "array([[0.2923541 , 0.9449266 , 0.44981945, 0.328004  ],\n",
              "       [0.14202201, 0.23297739, 0.47566962, 0.82950735],\n",
              "       [0.03909338, 0.3677541 , 0.26142538, 0.10883665]], dtype=float32)>"
            ]
          },
          "metadata": {
            "tags": []
          },
          "execution_count": 75
        }
      ]
    },
    {
      "cell_type": "code",
      "metadata": {
        "id": "fbjSFZVO7x56",
        "colab_type": "code",
        "colab": {
          "base_uri": "https://localhost:8080/",
          "height": 35
        },
        "outputId": "7c8e8842-2f1b-41aa-a788-7c34cf0b8a00"
      },
      "source": [
        "A = np.random.randn(1,2) #normal distribution of which parameters are mean and standard deviation.\n",
        "A"
      ],
      "execution_count": 76,
      "outputs": [
        {
          "output_type": "execute_result",
          "data": {
            "text/plain": [
              "array([[ 0.86749417, -0.38756187]])"
            ]
          },
          "metadata": {
            "tags": []
          },
          "execution_count": 76
        }
      ]
    },
    {
      "cell_type": "code",
      "metadata": {
        "id": "7TyDrH_3zYww",
        "colab_type": "code",
        "colab": {
          "base_uri": "https://localhost:8080/",
          "height": 52
        },
        "outputId": "43df01a7-1fb6-4ea3-f720-bfa11d0a4ca2"
      },
      "source": [
        "A = np.random.randn(10,9) #normal distribution of which parameters are mean and standard deviation.\n",
        "print(A.shape)\n",
        "print(np.mean(A),np.std(A))"
      ],
      "execution_count": 78,
      "outputs": [
        {
          "output_type": "stream",
          "text": [
            "(10, 9)\n",
            "-0.049119450881606054 1.0085084427124107\n"
          ],
          "name": "stdout"
        }
      ]
    },
    {
      "cell_type": "code",
      "metadata": {
        "id": "9ZqpPjYbzrzE",
        "colab_type": "code",
        "colab": {
          "base_uri": "https://localhost:8080/",
          "height": 52
        },
        "outputId": "bf48a356-ceed-4dd4-887f-19ca9a2620f9"
      },
      "source": [
        "A = np.random.randn(3,4) #normal distribution of which parameters are mean and standard deviation.\n",
        "print(A.shape)\n",
        "print(np.mean(A),np.std(A))"
      ],
      "execution_count": 79,
      "outputs": [
        {
          "output_type": "stream",
          "text": [
            "(3, 4)\n",
            "-0.14691210404096514 0.8491139891987463\n"
          ],
          "name": "stdout"
        }
      ]
    },
    {
      "cell_type": "code",
      "metadata": {
        "id": "QJGIx8J0dfUW",
        "colab_type": "code",
        "colab": {
          "base_uri": "https://localhost:8080/",
          "height": 55
        },
        "outputId": "c59b550e-b3b6-4950-d8fa-2b5f813808ab"
      },
      "source": [
        "A_tf = tf.random.normal(shape=(1,2),mean=0., stddev=1.0)\n",
        "A_tf"
      ],
      "execution_count": 80,
      "outputs": [
        {
          "output_type": "execute_result",
          "data": {
            "text/plain": [
              "<tf.Tensor: shape=(1, 2), dtype=float32, numpy=array([[-0.08392498,  0.48385012]], dtype=float32)>"
            ]
          },
          "metadata": {
            "tags": []
          },
          "execution_count": 80
        }
      ]
    },
    {
      "cell_type": "markdown",
      "metadata": {
        "id": "M28jZA4u77ly",
        "colab_type": "text"
      },
      "source": [
        "# `ndarray`의 `dtype` 변경\n",
        "\n",
        "`ndarray.astype(dtype)` : method. argument로 넘겨진 `dtype`로 해당 `ndarray`의 타입 변경한 `ndarray`반환\n",
        "\n",
        "`np.uint8(ndarray)` : argument로 넘겨진 `ndarray`를 `uint8`로 변경한 새로운 `ndarray`반환\n",
        "\n",
        "..."
      ]
    },
    {
      "cell_type": "code",
      "metadata": {
        "id": "kk380h0j8f3k",
        "colab_type": "code",
        "colab": {
          "base_uri": "https://localhost:8080/",
          "height": 906
        },
        "outputId": "e5ff6a01-0d51-4e6f-c28f-8f7cb405516e"
      },
      "source": [
        "print(a)\n",
        "a.dtype"
      ],
      "execution_count": 81,
      "outputs": [
        {
          "output_type": "stream",
          "text": [
            "[[[0. 0. 0.]\n",
            "  [0. 0. 0.]\n",
            "  [0. 0. 0.]\n",
            "  ...\n",
            "  [0. 0. 0.]\n",
            "  [0. 0. 0.]\n",
            "  [0. 0. 0.]]\n",
            "\n",
            " [[0. 0. 0.]\n",
            "  [0. 0. 0.]\n",
            "  [0. 0. 0.]\n",
            "  ...\n",
            "  [0. 0. 0.]\n",
            "  [0. 0. 0.]\n",
            "  [0. 0. 0.]]\n",
            "\n",
            " [[0. 0. 0.]\n",
            "  [0. 0. 0.]\n",
            "  [0. 0. 0.]\n",
            "  ...\n",
            "  [0. 0. 0.]\n",
            "  [0. 0. 0.]\n",
            "  [0. 0. 0.]]\n",
            "\n",
            " ...\n",
            "\n",
            " [[0. 0. 0.]\n",
            "  [0. 0. 0.]\n",
            "  [0. 0. 0.]\n",
            "  ...\n",
            "  [0. 0. 0.]\n",
            "  [0. 0. 0.]\n",
            "  [0. 0. 0.]]\n",
            "\n",
            " [[0. 0. 0.]\n",
            "  [0. 0. 0.]\n",
            "  [0. 0. 0.]\n",
            "  ...\n",
            "  [0. 0. 0.]\n",
            "  [0. 0. 0.]\n",
            "  [0. 0. 0.]]\n",
            "\n",
            " [[0. 0. 0.]\n",
            "  [0. 0. 0.]\n",
            "  [0. 0. 0.]\n",
            "  ...\n",
            "  [0. 0. 0.]\n",
            "  [0. 0. 0.]\n",
            "  [0. 0. 0.]]]\n"
          ],
          "name": "stdout"
        },
        {
          "output_type": "execute_result",
          "data": {
            "text/plain": [
              "dtype('float64')"
            ]
          },
          "metadata": {
            "tags": []
          },
          "execution_count": 81
        }
      ]
    },
    {
      "cell_type": "code",
      "metadata": {
        "id": "UgSxTJS18kqy",
        "colab_type": "code",
        "colab": {
          "base_uri": "https://localhost:8080/",
          "height": 70
        },
        "outputId": "73acd7ad-89ca-437c-f5ed-75cce45e46dc"
      },
      "source": [
        "c = a.astype('float32')\n",
        "print(a.dtype)\n",
        "c\n",
        "print(id(a))\n",
        "print(id(c))"
      ],
      "execution_count": 82,
      "outputs": [
        {
          "output_type": "stream",
          "text": [
            "float64\n",
            "140714201435232\n",
            "140714082709792\n"
          ],
          "name": "stdout"
        }
      ]
    },
    {
      "cell_type": "code",
      "metadata": {
        "id": "CykR_pEw0W02",
        "colab_type": "code",
        "colab": {
          "base_uri": "https://localhost:8080/",
          "height": 941
        },
        "outputId": "bd2774ab-89c9-4bd0-bd03-7c112690eb5a"
      },
      "source": [
        "c = a.astype('float32')\n",
        "print(a.dtype)\n",
        "print(c)\n",
        "print(id(a))\n",
        "print(id(c))"
      ],
      "execution_count": 84,
      "outputs": [
        {
          "output_type": "stream",
          "text": [
            "float64\n",
            "[[[0. 0. 0.]\n",
            "  [0. 0. 0.]\n",
            "  [0. 0. 0.]\n",
            "  ...\n",
            "  [0. 0. 0.]\n",
            "  [0. 0. 0.]\n",
            "  [0. 0. 0.]]\n",
            "\n",
            " [[0. 0. 0.]\n",
            "  [0. 0. 0.]\n",
            "  [0. 0. 0.]\n",
            "  ...\n",
            "  [0. 0. 0.]\n",
            "  [0. 0. 0.]\n",
            "  [0. 0. 0.]]\n",
            "\n",
            " [[0. 0. 0.]\n",
            "  [0. 0. 0.]\n",
            "  [0. 0. 0.]\n",
            "  ...\n",
            "  [0. 0. 0.]\n",
            "  [0. 0. 0.]\n",
            "  [0. 0. 0.]]\n",
            "\n",
            " ...\n",
            "\n",
            " [[0. 0. 0.]\n",
            "  [0. 0. 0.]\n",
            "  [0. 0. 0.]\n",
            "  ...\n",
            "  [0. 0. 0.]\n",
            "  [0. 0. 0.]\n",
            "  [0. 0. 0.]]\n",
            "\n",
            " [[0. 0. 0.]\n",
            "  [0. 0. 0.]\n",
            "  [0. 0. 0.]\n",
            "  ...\n",
            "  [0. 0. 0.]\n",
            "  [0. 0. 0.]\n",
            "  [0. 0. 0.]]\n",
            "\n",
            " [[0. 0. 0.]\n",
            "  [0. 0. 0.]\n",
            "  [0. 0. 0.]\n",
            "  ...\n",
            "  [0. 0. 0.]\n",
            "  [0. 0. 0.]\n",
            "  [0. 0. 0.]]]\n",
            "140714201435232\n",
            "140714081814048\n"
          ],
          "name": "stdout"
        }
      ]
    },
    {
      "cell_type": "code",
      "metadata": {
        "id": "e9PBehS70ROC",
        "colab_type": "code",
        "colab": {
          "base_uri": "https://localhost:8080/",
          "height": 888
        },
        "outputId": "e43c3c28-ab20-4da1-a595-b99fac117207"
      },
      "source": [
        "a.astype(np.float128)"
      ],
      "execution_count": 85,
      "outputs": [
        {
          "output_type": "execute_result",
          "data": {
            "text/plain": [
              "array([[[0., 0., 0.],\n",
              "        [0., 0., 0.],\n",
              "        [0., 0., 0.],\n",
              "        ...,\n",
              "        [0., 0., 0.],\n",
              "        [0., 0., 0.],\n",
              "        [0., 0., 0.]],\n",
              "\n",
              "       [[0., 0., 0.],\n",
              "        [0., 0., 0.],\n",
              "        [0., 0., 0.],\n",
              "        ...,\n",
              "        [0., 0., 0.],\n",
              "        [0., 0., 0.],\n",
              "        [0., 0., 0.]],\n",
              "\n",
              "       [[0., 0., 0.],\n",
              "        [0., 0., 0.],\n",
              "        [0., 0., 0.],\n",
              "        ...,\n",
              "        [0., 0., 0.],\n",
              "        [0., 0., 0.],\n",
              "        [0., 0., 0.]],\n",
              "\n",
              "       ...,\n",
              "\n",
              "       [[0., 0., 0.],\n",
              "        [0., 0., 0.],\n",
              "        [0., 0., 0.],\n",
              "        ...,\n",
              "        [0., 0., 0.],\n",
              "        [0., 0., 0.],\n",
              "        [0., 0., 0.]],\n",
              "\n",
              "       [[0., 0., 0.],\n",
              "        [0., 0., 0.],\n",
              "        [0., 0., 0.],\n",
              "        ...,\n",
              "        [0., 0., 0.],\n",
              "        [0., 0., 0.],\n",
              "        [0., 0., 0.]],\n",
              "\n",
              "       [[0., 0., 0.],\n",
              "        [0., 0., 0.],\n",
              "        [0., 0., 0.],\n",
              "        ...,\n",
              "        [0., 0., 0.],\n",
              "        [0., 0., 0.],\n",
              "        [0., 0., 0.]]], dtype=float128)"
            ]
          },
          "metadata": {
            "tags": []
          },
          "execution_count": 85
        }
      ]
    },
    {
      "cell_type": "code",
      "metadata": {
        "id": "XE9F8gd2eFhj",
        "colab_type": "code",
        "colab": {
          "base_uri": "https://localhost:8080/",
          "height": 906
        },
        "outputId": "100bb66a-4608-4d00-cef3-7f5725bbf4ce"
      },
      "source": [
        "c_tf = tf.dtypes.cast(c,tf.float32)\n",
        "c_tf"
      ],
      "execution_count": 86,
      "outputs": [
        {
          "output_type": "execute_result",
          "data": {
            "text/plain": [
              "<tf.Tensor: shape=(256, 128, 3), dtype=float32, numpy=\n",
              "array([[[0., 0., 0.],\n",
              "        [0., 0., 0.],\n",
              "        [0., 0., 0.],\n",
              "        ...,\n",
              "        [0., 0., 0.],\n",
              "        [0., 0., 0.],\n",
              "        [0., 0., 0.]],\n",
              "\n",
              "       [[0., 0., 0.],\n",
              "        [0., 0., 0.],\n",
              "        [0., 0., 0.],\n",
              "        ...,\n",
              "        [0., 0., 0.],\n",
              "        [0., 0., 0.],\n",
              "        [0., 0., 0.]],\n",
              "\n",
              "       [[0., 0., 0.],\n",
              "        [0., 0., 0.],\n",
              "        [0., 0., 0.],\n",
              "        ...,\n",
              "        [0., 0., 0.],\n",
              "        [0., 0., 0.],\n",
              "        [0., 0., 0.]],\n",
              "\n",
              "       ...,\n",
              "\n",
              "       [[0., 0., 0.],\n",
              "        [0., 0., 0.],\n",
              "        [0., 0., 0.],\n",
              "        ...,\n",
              "        [0., 0., 0.],\n",
              "        [0., 0., 0.],\n",
              "        [0., 0., 0.]],\n",
              "\n",
              "       [[0., 0., 0.],\n",
              "        [0., 0., 0.],\n",
              "        [0., 0., 0.],\n",
              "        ...,\n",
              "        [0., 0., 0.],\n",
              "        [0., 0., 0.],\n",
              "        [0., 0., 0.]],\n",
              "\n",
              "       [[0., 0., 0.],\n",
              "        [0., 0., 0.],\n",
              "        [0., 0., 0.],\n",
              "        ...,\n",
              "        [0., 0., 0.],\n",
              "        [0., 0., 0.],\n",
              "        [0., 0., 0.]]], dtype=float32)>"
            ]
          },
          "metadata": {
            "tags": []
          },
          "execution_count": 86
        }
      ]
    },
    {
      "cell_type": "code",
      "metadata": {
        "id": "hMHn9U2u80Z3",
        "colab_type": "code",
        "colab": {
          "base_uri": "https://localhost:8080/",
          "height": 70
        },
        "outputId": "895efc9d-9f8e-4f69-9703-fc9447654684"
      },
      "source": [
        "c = np.uint8(a)\n",
        "print(c.dtype)\n",
        "c\n",
        "print(id(a))\n",
        "print(id(c))"
      ],
      "execution_count": 87,
      "outputs": [
        {
          "output_type": "stream",
          "text": [
            "uint8\n",
            "140714201435232\n",
            "140714081815088\n"
          ],
          "name": "stdout"
        }
      ]
    },
    {
      "cell_type": "code",
      "metadata": {
        "id": "ECJ8eGrAekrN",
        "colab_type": "code",
        "colab": {
          "base_uri": "https://localhost:8080/",
          "height": 52
        },
        "outputId": "cea0d968-591b-48a6-ae39-4c2b9764601e"
      },
      "source": [
        "c = np.uint64(a)\n",
        "print(a.dtype)\n",
        "c\n",
        "print(c.dtype)"
      ],
      "execution_count": 88,
      "outputs": [
        {
          "output_type": "stream",
          "text": [
            "float64\n",
            "uint64\n"
          ],
          "name": "stdout"
        }
      ]
    },
    {
      "cell_type": "markdown",
      "metadata": {
        "id": "-0sz_0EO9Jru",
        "colab_type": "text"
      },
      "source": [
        "# `shape`변경\n",
        "\n",
        "`ndarray.reshape(new_hsape)`"
      ]
    },
    {
      "cell_type": "code",
      "metadata": {
        "id": "EB4SS2Sb0zwC",
        "colab_type": "code",
        "colab": {
          "base_uri": "https://localhost:8080/",
          "height": 88
        },
        "outputId": "43edd91a-5193-4db1-a517-a08136b59e86"
      },
      "source": [
        "v=np.arange(4)\n",
        "print(v,v.shape)\n",
        "a=v.reshape(2,2)\n",
        "a\n",
        "a[0]=777\n",
        "print(v)\n",
        "print(a)"
      ],
      "execution_count": 90,
      "outputs": [
        {
          "output_type": "stream",
          "text": [
            "[0 1 2 3] (4,)\n",
            "[777 777   2   3]\n",
            "[[777 777]\n",
            " [  2   3]]\n"
          ],
          "name": "stdout"
        }
      ]
    },
    {
      "cell_type": "code",
      "metadata": {
        "id": "ICg0CAS6W0qd",
        "colab_type": "code",
        "colab": {
          "base_uri": "https://localhost:8080/",
          "height": 53
        },
        "outputId": "80243149-19a6-4841-fcf5-67013762c305"
      },
      "source": [
        "a = np.arange(4).reshape(2,2)\n",
        "a"
      ],
      "execution_count": null,
      "outputs": [
        {
          "output_type": "execute_result",
          "data": {
            "text/plain": [
              "array([[0, 1],\n",
              "       [2, 3]])"
            ]
          },
          "metadata": {
            "tags": []
          },
          "execution_count": 72
        }
      ]
    },
    {
      "cell_type": "code",
      "metadata": {
        "id": "Vm0n4k_qW6Ej",
        "colab_type": "code",
        "colab": {
          "base_uri": "https://localhost:8080/",
          "height": 52
        },
        "outputId": "8fbeec8b-92fd-4db9-c220-7768ef85bffd"
      },
      "source": [
        "b= np.arange(10,14).reshape(2,2)\n",
        "b"
      ],
      "execution_count": 91,
      "outputs": [
        {
          "output_type": "execute_result",
          "data": {
            "text/plain": [
              "array([[10, 11],\n",
              "       [12, 13]])"
            ]
          },
          "metadata": {
            "tags": []
          },
          "execution_count": 91
        }
      ]
    },
    {
      "cell_type": "code",
      "metadata": {
        "id": "ywRL9YZC9sk5",
        "colab_type": "code",
        "colab": {
          "base_uri": "https://localhost:8080/",
          "height": 70
        },
        "outputId": "0cf0d675-8da0-4177-9cd5-f7c2e54e7c2b"
      },
      "source": [
        "a = np.arange(0,10,2)   #[start, end, step size]\n",
        "b = a.reshape((1,5))\n",
        "print(a.shape)\n",
        "print(b.shape)\n",
        "b"
      ],
      "execution_count": 92,
      "outputs": [
        {
          "output_type": "stream",
          "text": [
            "(5,)\n",
            "(1, 5)\n"
          ],
          "name": "stdout"
        },
        {
          "output_type": "execute_result",
          "data": {
            "text/plain": [
              "array([[0, 2, 4, 6, 8]])"
            ]
          },
          "metadata": {
            "tags": []
          },
          "execution_count": 92
        }
      ]
    },
    {
      "cell_type": "code",
      "metadata": {
        "id": "4sKvBHMn1rXT",
        "colab_type": "code",
        "colab": {
          "base_uri": "https://localhost:8080/",
          "height": 70
        },
        "outputId": "a8a277c2-b20f-44e5-addd-35d735c11e9f"
      },
      "source": [
        "a = np.arange(0,10,2)   #[start, end, step size]\n",
        "b = a.reshape((1,5))\n",
        "print(a.shape)\n",
        "print(b.shape)\n",
        "b\n",
        "c=a.reshape((5,1))\n",
        "print(c.shape)"
      ],
      "execution_count": 93,
      "outputs": [
        {
          "output_type": "stream",
          "text": [
            "(5,)\n",
            "(1, 5)\n",
            "(5, 1)\n"
          ],
          "name": "stdout"
        }
      ]
    },
    {
      "cell_type": "code",
      "metadata": {
        "id": "6HvEgicDfLtI",
        "colab_type": "code",
        "colab": {
          "base_uri": "https://localhost:8080/",
          "height": 70
        },
        "outputId": "2e2e8166-395b-40b5-a3b4-7d7222803537"
      },
      "source": [
        "a_tf = tf.constant(a)\n",
        "print(a_tf.shape, tf.rank(a_tf))\n",
        "\n",
        "b_tf = tf.reshape(a_tf,(5,1))\n",
        "print(b_tf.shape, tf.rank(b_tf))\n",
        "\n",
        "c_tf = tf.reshape(a_tf,shape=(1,5))\n",
        "print(c_tf.shape, tf.rank(c_tf))"
      ],
      "execution_count": 94,
      "outputs": [
        {
          "output_type": "stream",
          "text": [
            "(5,) tf.Tensor(1, shape=(), dtype=int32)\n",
            "(5, 1) tf.Tensor(2, shape=(), dtype=int32)\n",
            "(1, 5) tf.Tensor(2, shape=(), dtype=int32)\n"
          ],
          "name": "stdout"
        }
      ]
    },
    {
      "cell_type": "markdown",
      "metadata": {
        "id": "i5LVKihH-Any",
        "colab_type": "text"
      },
      "source": [
        "# ndarray를 1차원으로 풀어내기\n",
        "\n",
        "`ndarray.ravel()`"
      ]
    },
    {
      "cell_type": "code",
      "metadata": {
        "id": "ahP9O_37-Kyl",
        "colab_type": "code",
        "colab": {
          "base_uri": "https://localhost:8080/",
          "height": 70
        },
        "outputId": "e4ced03e-a2c4-4791-dc6e-8baaac97bee9"
      },
      "source": [
        "a = np.arange(1,10).reshape((3,3))\n",
        "b = a.ravel()\n",
        "print(a.shape, id(a))\n",
        "\n",
        "print(b.shape, id(b))\n",
        "b"
      ],
      "execution_count": 95,
      "outputs": [
        {
          "output_type": "stream",
          "text": [
            "(3, 3) 140714081867056\n",
            "(9,) 140714081868576\n"
          ],
          "name": "stdout"
        },
        {
          "output_type": "execute_result",
          "data": {
            "text/plain": [
              "array([1, 2, 3, 4, 5, 6, 7, 8, 9])"
            ]
          },
          "metadata": {
            "tags": []
          },
          "execution_count": 95
        }
      ]
    },
    {
      "cell_type": "code",
      "metadata": {
        "id": "ZqJCc_fX2Z2Z",
        "colab_type": "code",
        "colab": {
          "base_uri": "https://localhost:8080/",
          "height": 230
        },
        "outputId": "6045ecbe-bba8-4c68-df37-65af04c0379c"
      },
      "source": [
        "#test1\n",
        "\n",
        "a = np.arange(2,65,2).reshape((8,4))\n",
        "print(a)\n",
        "\n",
        "b=a.ravel()\n",
        "print(b)\n",
        "b\n"
      ],
      "execution_count": 104,
      "outputs": [
        {
          "output_type": "stream",
          "text": [
            "[[ 2  4  6  8]\n",
            " [10 12 14 16]\n",
            " [18 20 22 24]\n",
            " [26 28 30 32]\n",
            " [34 36 38 40]\n",
            " [42 44 46 48]\n",
            " [50 52 54 56]\n",
            " [58 60 62 64]]\n",
            "[ 2  4  6  8 10 12 14 16 18 20 22 24 26 28 30 32 34 36 38 40 42 44 46 48\n",
            " 50 52 54 56 58 60 62 64]\n"
          ],
          "name": "stdout"
        },
        {
          "output_type": "execute_result",
          "data": {
            "text/plain": [
              "array([ 2,  4,  6,  8, 10, 12, 14, 16, 18, 20, 22, 24, 26, 28, 30, 32, 34,\n",
              "       36, 38, 40, 42, 44, 46, 48, 50, 52, 54, 56, 58, 60, 62, 64])"
            ]
          },
          "metadata": {
            "tags": []
          },
          "execution_count": 104
        }
      ]
    },
    {
      "cell_type": "markdown",
      "metadata": {
        "id": "VW2kRHBk-qbO",
        "colab_type": "text"
      },
      "source": [
        "# Transpose\n",
        "\n",
        "`ndarray.T`"
      ]
    },
    {
      "cell_type": "code",
      "metadata": {
        "id": "VwdMgAcq-ysf",
        "colab_type": "code",
        "colab": {
          "base_uri": "https://localhost:8080/",
          "height": 124
        },
        "outputId": "23fb318b-2238-4c02-e269-d0da49677955"
      },
      "source": [
        "c=a.T\n",
        "print(id(a))\n",
        "print(id(c))\n",
        "c"
      ],
      "execution_count": 105,
      "outputs": [
        {
          "output_type": "stream",
          "text": [
            "140714081868496\n",
            "140714081869456\n"
          ],
          "name": "stdout"
        },
        {
          "output_type": "execute_result",
          "data": {
            "text/plain": [
              "array([[ 2, 10, 18, 26, 34, 42, 50, 58],\n",
              "       [ 4, 12, 20, 28, 36, 44, 52, 60],\n",
              "       [ 6, 14, 22, 30, 38, 46, 54, 62],\n",
              "       [ 8, 16, 24, 32, 40, 48, 56, 64]])"
            ]
          },
          "metadata": {
            "tags": []
          },
          "execution_count": 105
        }
      ]
    },
    {
      "cell_type": "markdown",
      "metadata": {
        "id": "nE3FMUMF_CcD",
        "colab_type": "text"
      },
      "source": [
        "# Broadcasting\n",
        "\n",
        "ndarray와 scalar와 연산시킬때, 해당 ndarray와 같은 shape이면서 해당 scalar의 값을 가진 ndarray와 연산시키는 것처럼 자동으로 elementwise연산이 수행되는 기능.\n",
        "* numpy의 가장 강력한 기능 중 하나. "
      ]
    },
    {
      "cell_type": "code",
      "metadata": {
        "id": "hGr38-wF_fgw",
        "colab_type": "code",
        "colab": {
          "base_uri": "https://localhost:8080/",
          "height": 301
        },
        "outputId": "a2706049-af00-4800-dfb1-63c00bdd2b79"
      },
      "source": [
        "print(a)\n",
        "c = a+2\n",
        "print(c)"
      ],
      "execution_count": 106,
      "outputs": [
        {
          "output_type": "stream",
          "text": [
            "[[ 2  4  6  8]\n",
            " [10 12 14 16]\n",
            " [18 20 22 24]\n",
            " [26 28 30 32]\n",
            " [34 36 38 40]\n",
            " [42 44 46 48]\n",
            " [50 52 54 56]\n",
            " [58 60 62 64]]\n",
            "[[ 4  6  8 10]\n",
            " [12 14 16 18]\n",
            " [20 22 24 26]\n",
            " [28 30 32 34]\n",
            " [36 38 40 42]\n",
            " [44 46 48 50]\n",
            " [52 54 56 58]\n",
            " [60 62 64 66]]\n"
          ],
          "name": "stdout"
        }
      ]
    },
    {
      "cell_type": "code",
      "metadata": {
        "id": "Vl2PVA6h50i9",
        "colab_type": "code",
        "colab": {
          "base_uri": "https://localhost:8080/",
          "height": 195
        },
        "outputId": "8d5b05a2-0491-46e9-f94d-10228ba4e1d0"
      },
      "source": [
        "print(a)\n",
        "c = a/2\n",
        "print(c)"
      ],
      "execution_count": 111,
      "outputs": [
        {
          "output_type": "stream",
          "text": [
            "[[1. 1. 1.]\n",
            " [1. 1. 1.]\n",
            " [1. 1. 1.]\n",
            " [1. 1. 1.]\n",
            " [1. 1. 1.]]\n",
            "[[0.5 0.5 0.5]\n",
            " [0.5 0.5 0.5]\n",
            " [0.5 0.5 0.5]\n",
            " [0.5 0.5 0.5]\n",
            " [0.5 0.5 0.5]]\n"
          ],
          "name": "stdout"
        }
      ]
    },
    {
      "cell_type": "code",
      "metadata": {
        "id": "zVfumBf7_njB",
        "colab_type": "code",
        "colab": {
          "base_uri": "https://localhost:8080/",
          "height": 106
        },
        "outputId": "8789ea24-2b1a-40c9-b1f2-9e6012e86b00"
      },
      "source": [
        "a = np.ones((5,3))\n",
        "c = a+np.array([3,4,5])\n",
        "print(c)\n",
        "\n",
        "#b= np.array([3,4,5,6,7])\n",
        "#c = a+(b[:,np.newaxis])\n",
        "#print(b[:,np.newaxis].shape)\n",
        "#print(c)\n",
        "\n",
        "#c = a+np.array([3,4,5,6,7])\n",
        "#print(c)"
      ],
      "execution_count": 112,
      "outputs": [
        {
          "output_type": "stream",
          "text": [
            "[[4. 5. 6.]\n",
            " [4. 5. 6.]\n",
            " [4. 5. 6.]\n",
            " [4. 5. 6.]\n",
            " [4. 5. 6.]]\n"
          ],
          "name": "stdout"
        }
      ]
    },
    {
      "cell_type": "code",
      "metadata": {
        "id": "t_gLrVR164YV",
        "colab_type": "code",
        "colab": {
          "base_uri": "https://localhost:8080/",
          "height": 195
        },
        "outputId": "3b29458a-a234-4587-bb98-edc9e339109e"
      },
      "source": [
        "a = np.ones(shape=(5,3))\n",
        "c = a+np.array([3,4,5])\n",
        "print(c)\n",
        "\n",
        "print(a+np.array([3,4,5]).shape)"
      ],
      "execution_count": 115,
      "outputs": [
        {
          "output_type": "stream",
          "text": [
            "[[4. 5. 6.]\n",
            " [4. 5. 6.]\n",
            " [4. 5. 6.]\n",
            " [4. 5. 6.]\n",
            " [4. 5. 6.]]\n",
            "[[4. 4. 4.]\n",
            " [4. 4. 4.]\n",
            " [4. 4. 4.]\n",
            " [4. 4. 4.]\n",
            " [4. 4. 4.]]\n"
          ],
          "name": "stdout"
        }
      ]
    },
    {
      "cell_type": "code",
      "metadata": {
        "id": "WrIYfl3f7tjO",
        "colab_type": "code",
        "colab": {
          "base_uri": "https://localhost:8080/",
          "height": 141
        },
        "outputId": "781b51f7-e3c8-461b-d57e-17c42c94c884"
      },
      "source": [
        "b= np.array([3,4,5,6,7])\n",
        "#c = a+(b[:,np.newaxis])\n",
        "b=b.reshape(5,1)\n",
        "c=a+b\n",
        "print(a.shape)\n",
        "print(b.shape)\n",
        "print(c)"
      ],
      "execution_count": 116,
      "outputs": [
        {
          "output_type": "stream",
          "text": [
            "(5, 3)\n",
            "(5, 1)\n",
            "[[4. 4. 4.]\n",
            " [5. 5. 5.]\n",
            " [6. 6. 6.]\n",
            " [7. 7. 7.]\n",
            " [8. 8. 8.]]\n"
          ],
          "name": "stdout"
        }
      ]
    },
    {
      "cell_type": "code",
      "metadata": {
        "id": "orK5kTYx8gnl",
        "colab_type": "code",
        "colab": {
          "base_uri": "https://localhost:8080/",
          "height": 106
        },
        "outputId": "0bd36130-d2be-438e-ff33-f491d0b244e0"
      },
      "source": [
        "c = a+np.array([3,4,5,6,7]).reshape((5,1))\n",
        "print(c)"
      ],
      "execution_count": 117,
      "outputs": [
        {
          "output_type": "stream",
          "text": [
            "[[4. 4. 4.]\n",
            " [5. 5. 5.]\n",
            " [6. 6. 6.]\n",
            " [7. 7. 7.]\n",
            " [8. 8. 8.]]\n"
          ],
          "name": "stdout"
        }
      ]
    },
    {
      "cell_type": "code",
      "metadata": {
        "id": "J6vX6OOVW-u2",
        "colab_type": "code",
        "colab": {}
      },
      "source": [
        "np.concatenate((a,b),0)"
      ],
      "execution_count": null,
      "outputs": []
    },
    {
      "cell_type": "code",
      "metadata": {
        "id": "JC1uM-KhXEai",
        "colab_type": "code",
        "colab": {}
      },
      "source": [
        "np.vstack((a,b))"
      ],
      "execution_count": null,
      "outputs": []
    },
    {
      "cell_type": "code",
      "metadata": {
        "id": "vx-MJpMoXIst",
        "colab_type": "code",
        "colab": {}
      },
      "source": [
        "np.concatenate((a,b),1)\n",
        "np.hstack((a,b))"
      ],
      "execution_count": null,
      "outputs": []
    },
    {
      "cell_type": "code",
      "metadata": {
        "id": "7-X7M6jNXNw3",
        "colab_type": "code",
        "colab": {}
      },
      "source": [
        "a = np.arange(12).reshape(4,3)\n",
        "b = np.arange(10,22).reshape(4,3)\n",
        "print(a.shape)\n",
        "print(b.shape)"
      ],
      "execution_count": null,
      "outputs": []
    },
    {
      "cell_type": "code",
      "metadata": {
        "id": "E8DqE8shXY-I",
        "colab_type": "code",
        "colab": {}
      },
      "source": [
        "c=np.stack((a,b),0)\n",
        "print(c.shape)\n",
        "c"
      ],
      "execution_count": null,
      "outputs": []
    },
    {
      "cell_type": "code",
      "metadata": {
        "id": "FSROwIKwXcco",
        "colab_type": "code",
        "colab": {}
      },
      "source": [
        "c=np.stack((a,b),1)\n",
        "print(c.shape)\n",
        "c"
      ],
      "execution_count": null,
      "outputs": []
    },
    {
      "cell_type": "code",
      "metadata": {
        "id": "Ww7wByE4X5LN",
        "colab_type": "code",
        "colab": {}
      },
      "source": [
        "c=np.stack((a,b),2)\n",
        "print(c.shape)\n",
        "c"
      ],
      "execution_count": null,
      "outputs": []
    },
    {
      "cell_type": "code",
      "metadata": {
        "id": "H4W8AnAPX_84",
        "colab_type": "code",
        "colab": {}
      },
      "source": [
        "c=np.stack((a,b),-1)\n",
        "print(c.shape)\n",
        "c"
      ],
      "execution_count": null,
      "outputs": []
    },
    {
      "cell_type": "code",
      "metadata": {
        "id": "YGE3DRBkYEys",
        "colab_type": "code",
        "colab": {}
      },
      "source": [
        "a = np.arange(12)\n",
        "a"
      ],
      "execution_count": null,
      "outputs": []
    },
    {
      "cell_type": "code",
      "metadata": {
        "id": "4SAV3l9OYrKk",
        "colab_type": "code",
        "colab": {}
      },
      "source": [
        "np.hsplit(a,3)"
      ],
      "execution_count": null,
      "outputs": []
    },
    {
      "cell_type": "code",
      "metadata": {
        "id": "soX-lOttYvrA",
        "colab_type": "code",
        "colab": {}
      },
      "source": [
        "np.hsplit(a,[3,5])"
      ],
      "execution_count": null,
      "outputs": []
    },
    {
      "cell_type": "code",
      "metadata": {
        "id": "otr_H9eJY0uy",
        "colab_type": "code",
        "colab": {}
      },
      "source": [
        "b = np.arage"
      ],
      "execution_count": null,
      "outputs": []
    },
    {
      "cell_type": "code",
      "metadata": {
        "id": "vACcIzJaN6Od",
        "colab_type": "code",
        "colab": {}
      },
      "source": [
        "A = np.array([[3,-7,-2],[-3,5,1],[6,-4,0]])\n"
      ],
      "execution_count": null,
      "outputs": []
    },
    {
      "cell_type": "code",
      "metadata": {
        "id": "MsHW8KDfOH2j",
        "colab_type": "code",
        "colab": {}
      },
      "source": [
        "import scipy.linalg as sl\n"
      ],
      "execution_count": null,
      "outputs": []
    },
    {
      "cell_type": "code",
      "metadata": {
        "id": "uDLLUg7qPEE-",
        "colab_type": "code",
        "colab": {}
      },
      "source": [
        "sl.lu(A)"
      ],
      "execution_count": null,
      "outputs": []
    },
    {
      "cell_type": "code",
      "metadata": {
        "id": "gZWnb_1rPZGv",
        "colab_type": "code",
        "colab": {}
      },
      "source": [
        "P, L, U = sl.lu(A)"
      ],
      "execution_count": null,
      "outputs": []
    },
    {
      "cell_type": "code",
      "metadata": {
        "id": "cVCIFyGzPbm3",
        "colab_type": "code",
        "colab": {}
      },
      "source": [
        "U"
      ],
      "execution_count": null,
      "outputs": []
    },
    {
      "cell_type": "code",
      "metadata": {
        "id": "acxEG3NVPeq6",
        "colab_type": "code",
        "colab": {}
      },
      "source": [
        "L"
      ],
      "execution_count": null,
      "outputs": []
    },
    {
      "cell_type": "code",
      "metadata": {
        "id": "6cLeRByLQNPz",
        "colab_type": "code",
        "colab": {}
      },
      "source": [
        "np.linalg.inv(L)"
      ],
      "execution_count": null,
      "outputs": []
    },
    {
      "cell_type": "code",
      "metadata": {
        "id": "JwNRAnTfQVtV",
        "colab_type": "code",
        "colab": {}
      },
      "source": [
        "L@U"
      ],
      "execution_count": null,
      "outputs": []
    },
    {
      "cell_type": "code",
      "metadata": {
        "id": "Q7b91zvXQgCs",
        "colab_type": "code",
        "colab": {}
      },
      "source": [
        "P@L"
      ],
      "execution_count": null,
      "outputs": []
    },
    {
      "cell_type": "code",
      "metadata": {
        "id": "kEVQafT3RCcV",
        "colab_type": "code",
        "colab": {}
      },
      "source": [
        ""
      ],
      "execution_count": null,
      "outputs": []
    }
  ]
}
{
  "nbformat": 4,
  "nbformat_minor": 0,
  "metadata": {
    "colab": {
      "name": "[DIP]201112_MorphologicalProcessing.ipynb",
      "provenance": [],
      "authorship_tag": "ABX9TyOoOMalz6AgVljp5CKTxs6O",
      "include_colab_link": true
    },
    "kernelspec": {
      "name": "python3",
      "display_name": "Python 3"
    }
  },
  "cells": [
    {
      "cell_type": "markdown",
      "metadata": {
        "id": "view-in-github",
        "colab_type": "text"
      },
      "source": [
        "<a href=\"https://colab.research.google.com/github/dsaint31x/OpenCV_Python_Tutorial/blob/master/DIP/2020/%EA%B9%80%EB%AF%BC%EC%A7%80/%5BDIP%5D201112_MorphologicalProcessing.ipynb\" target=\"_parent\"><img src=\"https://colab.research.google.com/assets/colab-badge.svg\" alt=\"Open In Colab\"/></a>"
      ]
    },
    {
      "cell_type": "code",
      "metadata": {
        "id": "favwH22dEr9Y"
      },
      "source": [
        "from urllib import request\n",
        "import cv2\n",
        "import numpy as np\n",
        "import matplotlib.pyplot as plt\n",
        "\n",
        "def morphology_operation(holes_url, test_url, op):\n",
        "\n",
        "  fstr = 'holes.jpg'\n",
        "  request.urlretrieve(holes_url, fstr)\n",
        "  print('saved ok : holes.jpg')\n",
        "\n",
        "  fstr = 'test.jpg'\n",
        "  request.urlretrieve(test_url, fstr)\n",
        "  print(\"저장되었습니다.\")\n",
        "\n",
        "  img = cv2.imread('holes.jpg', cv2.IMREAD_GRAYSCALE)\n",
        "  _, img = cv2.threshold(img, 0, 255, cv2.THRESH_BINARY+cv2.THRESH_OTSU)\n",
        "  k = cv2.getStructuringElement(cv2.MORPH_RECT, (13, 13))\n",
        "  erosion = cv2.erode(img, k)\n",
        "  dilation = cv2.dilate(img, k)\n",
        "\n",
        "  opening = cv2.morphologyEx(img, cv2.MORPH_OPEN, k)\n",
        "  closing = cv2.morphologyEx(img, cv2.MORPH_CLOSE, k)\n",
        "\n",
        "  if(op == 0):  #0일 때 opening\n",
        "    plt.figure()\n",
        "    plt.axis('off')\n",
        "    plt.imshow(opening, cmap='gray')\n",
        "  elif(op == 1):  #1일 때 closing\n",
        "    plt.figure()\n",
        "    plt.axis('off')\n",
        "    plt.imshow(closing, cmap='gray')\n",
        "  else:\n",
        "    print(\"세번째 인자로 0 또는 1을 입력하세요\")\n",
        "  \n",
        "  plt.show()"
      ],
      "execution_count": 18,
      "outputs": []
    },
    {
      "cell_type": "code",
      "metadata": {
        "id": "s7KK7E6eHwsF",
        "outputId": "8bf82b06-3455-4158-d4b7-0e21983eacd4",
        "colab": {
          "base_uri": "https://localhost:8080/",
          "height": 284
        }
      },
      "source": [
        "url_b = 'https://t1.daumcdn.net/cfile/tistory/9983894C5B93B3AA04'\n",
        "url = 'https://raw.githubusercontent.com/dltpdn/opencv-python_edu/master/img/moon_gray.jpg'\n",
        "\n",
        "morphology_operation(url_b, url, 0)"
      ],
      "execution_count": 20,
      "outputs": [
        {
          "output_type": "stream",
          "text": [
            "saved ok : holes.jpg\n",
            "저장되었습니다.\n"
          ],
          "name": "stdout"
        },
        {
          "output_type": "display_data",
          "data": {
            "image/png": "[encoded data removed]",
            "text/plain": [
              "<Figure size 432x288 with 1 Axes>"
            ]
          },
          "metadata": {
            "tags": [],
            "needs_background": "light"
          }
        }
      ]
    }
  ]
}
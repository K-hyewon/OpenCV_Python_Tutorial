{
  "nbformat": 4,
  "nbformat_minor": 0,
  "metadata": {
    "colab": {
      "name": "200917_DIP_01.ipynb",
      "provenance": [],
      "authorship_tag": "ABX9TyN0CcdAn8GqTasRC3cC9qkW",
      "include_colab_link": true
    },
    "kernelspec": {
      "name": "python3",
      "display_name": "Python 3"
    }
  },
  "cells": [
    {
      "cell_type": "markdown",
      "metadata": {
        "id": "view-in-github",
        "colab_type": "text"
      },
      "source": [
        "<a href=\"https://colab.research.google.com/github/dsaint31x/OpenCV_Python_Tutorial/blob/master/DIP/2020/%EA%B9%80%EB%AF%BC%EC%A7%80/200917_DIP_01.ipynb\" target=\"_parent\"><img src=\"https://colab.research.google.com/assets/colab-badge.svg\" alt=\"Open In Colab\"/></a>"
      ]
    },
    {
      "cell_type": "code",
      "metadata": {
        "id": "sAB9DJlfk0lB",
        "colab_type": "code",
        "colab": {
          "base_uri": "https://localhost:8080/",
          "height": 35
        },
        "outputId": "c9ba1a38-2707-4f6b-8620-0e7ed6c61373"
      },
      "source": [
        "import tensorflow as tf\n",
        "import numpy as np\n",
        "np.__version__"
      ],
      "execution_count": 1,
      "outputs": [
        {
          "output_type": "execute_result",
          "data": {
            "application/vnd.google.colaboratory.intrinsic+json": {
              "type": "string"
            },
            "text/plain": [
              "'1.18.5'"
            ]
          },
          "metadata": {
            "tags": []
          },
          "execution_count": 1
        }
      ]
    },
    {
      "cell_type": "code",
      "metadata": {
        "id": "CEmsQwgetHkg",
        "colab_type": "code",
        "colab": {
          "base_uri": "https://localhost:8080/",
          "height": 35
        },
        "outputId": "c0ae81e5-988d-46ac-d044-51310562b47c"
      },
      "source": [
        "a = np.array((1,2,3,4))\n",
        "a"
      ],
      "execution_count": 2,
      "outputs": [
        {
          "output_type": "execute_result",
          "data": {
            "text/plain": [
              "array([1, 2, 3, 4])"
            ]
          },
          "metadata": {
            "tags": []
          },
          "execution_count": 2
        }
      ]
    },
    {
      "cell_type": "code",
      "metadata": {
        "id": "7mGJjvgUtLQh",
        "colab_type": "code",
        "colab": {
          "base_uri": "https://localhost:8080/",
          "height": 107
        },
        "outputId": "ee81ea8a-79b3-4229-a468-2a044a1d6fb6"
      },
      "source": [
        "print(a.ndim)\n",
        "print(a.shape)\n",
        "print(a.itemsize) #bytes\n",
        "print(a.size)\n",
        "print(a.dtype)"
      ],
      "execution_count": 3,
      "outputs": [
        {
          "output_type": "stream",
          "text": [
            "1\n",
            "(4,)\n",
            "8\n",
            "4\n",
            "int64\n"
          ],
          "name": "stdout"
        }
      ]
    },
    {
      "cell_type": "code",
      "metadata": {
        "id": "tMSBsYNjtNHZ",
        "colab_type": "code",
        "colab": {
          "base_uri": "https://localhost:8080/",
          "height": 107
        },
        "outputId": "e4b950c2-dc09-4d70-e5f3-fe52adbb4b0e"
      },
      "source": [
        "tensor = tf.constant(a)\n",
        "print(tf.rank(tensor))\n",
        "print(tensor.ndim)\n",
        "print(tensor.shape)\n",
        "print(tensor.dtype)\n",
        "tensor"
      ],
      "execution_count": 4,
      "outputs": [
        {
          "output_type": "stream",
          "text": [
            "tf.Tensor(1, shape=(), dtype=int32)\n",
            "1\n",
            "(4,)\n",
            "<dtype: 'int64'>\n"
          ],
          "name": "stdout"
        },
        {
          "output_type": "execute_result",
          "data": {
            "text/plain": [
              "<tf.Tensor: shape=(4,), dtype=int64, numpy=array([1, 2, 3, 4])>"
            ]
          },
          "metadata": {
            "tags": []
          },
          "execution_count": 4
        }
      ]
    },
    {
      "cell_type": "code",
      "metadata": {
        "id": "NZzFp8f7tPOn",
        "colab_type": "code",
        "colab": {
          "base_uri": "https://localhost:8080/",
          "height": 71
        },
        "outputId": "0587f7b5-b2d7-4748-bd0a-e15ec282c1d4"
      },
      "source": [
        "a = np.zeros((3,2))\n",
        "a"
      ],
      "execution_count": 5,
      "outputs": [
        {
          "output_type": "execute_result",
          "data": {
            "text/plain": [
              "array([[0., 0.],\n",
              "       [0., 0.],\n",
              "       [0., 0.]])"
            ]
          },
          "metadata": {
            "tags": []
          },
          "execution_count": 5
        }
      ]
    },
    {
      "cell_type": "code",
      "metadata": {
        "id": "g4ulWXYNtRFA",
        "colab_type": "code",
        "colab": {
          "base_uri": "https://localhost:8080/",
          "height": 89
        },
        "outputId": "3b80efa6-4896-4da6-93f4-a0f8e24603c0"
      },
      "source": [
        "a_tf = tf.zeros(shape=(3,2))\n",
        "a_tf\n",
        "# a_tf.numpy()"
      ],
      "execution_count": 6,
      "outputs": [
        {
          "output_type": "execute_result",
          "data": {
            "text/plain": [
              "<tf.Tensor: shape=(3, 2), dtype=float32, numpy=\n",
              "array([[0., 0.],\n",
              "       [0., 0.],\n",
              "       [0., 0.]], dtype=float32)>"
            ]
          },
          "metadata": {
            "tags": []
          },
          "execution_count": 6
        }
      ]
    },
    {
      "cell_type": "code",
      "metadata": {
        "id": "BlSZJQW3tU9Y",
        "colab_type": "code",
        "colab": {
          "base_uri": "https://localhost:8080/",
          "height": 89
        },
        "outputId": "49932b27-fb97-4172-b701-d4ac0202a428"
      },
      "source": [
        "a = np.ones((4,2))\n",
        "a"
      ],
      "execution_count": 7,
      "outputs": [
        {
          "output_type": "execute_result",
          "data": {
            "text/plain": [
              "array([[1., 1.],\n",
              "       [1., 1.],\n",
              "       [1., 1.],\n",
              "       [1., 1.]])"
            ]
          },
          "metadata": {
            "tags": []
          },
          "execution_count": 7
        }
      ]
    },
    {
      "cell_type": "code",
      "metadata": {
        "id": "voQBMqo9tV24",
        "colab_type": "code",
        "colab": {
          "base_uri": "https://localhost:8080/",
          "height": 107
        },
        "outputId": "1a6c0770-55a6-452b-e53c-65bf5dd45bca"
      },
      "source": [
        "a_tf = tf.ones((4,2), dtype=tf.int64)\n",
        "a_tf"
      ],
      "execution_count": 8,
      "outputs": [
        {
          "output_type": "execute_result",
          "data": {
            "text/plain": [
              "<tf.Tensor: shape=(4, 2), dtype=int64, numpy=\n",
              "array([[1, 1],\n",
              "       [1, 1],\n",
              "       [1, 1],\n",
              "       [1, 1]])>"
            ]
          },
          "metadata": {
            "tags": []
          },
          "execution_count": 8
        }
      ]
    },
    {
      "cell_type": "code",
      "metadata": {
        "id": "d_EzIvFytXXB",
        "colab_type": "code",
        "colab": {
          "base_uri": "https://localhost:8080/",
          "height": 35
        },
        "outputId": "5868f38f-4f80-4019-bfbc-39bfcb00071a"
      },
      "source": [
        "a = np.full((1,3),7)\n",
        "a"
      ],
      "execution_count": 9,
      "outputs": [
        {
          "output_type": "execute_result",
          "data": {
            "text/plain": [
              "array([[7, 7, 7]])"
            ]
          },
          "metadata": {
            "tags": []
          },
          "execution_count": 9
        }
      ]
    },
    {
      "cell_type": "code",
      "metadata": {
        "id": "lIe9Rxootam9",
        "colab_type": "code",
        "colab": {
          "base_uri": "https://localhost:8080/",
          "height": 35
        },
        "outputId": "c8d0b18a-d0d5-4d3e-cef0-e9343aae5069"
      },
      "source": [
        "a_tf = tf.constant(a)\n",
        "a_tf"
      ],
      "execution_count": 10,
      "outputs": [
        {
          "output_type": "execute_result",
          "data": {
            "text/plain": [
              "<tf.Tensor: shape=(1, 3), dtype=int64, numpy=array([[7, 7, 7]])>"
            ]
          },
          "metadata": {
            "tags": []
          },
          "execution_count": 10
        }
      ]
    },
    {
      "cell_type": "code",
      "metadata": {
        "id": "t59yH6JetcCi",
        "colab_type": "code",
        "colab": {
          "base_uri": "https://localhost:8080/",
          "height": 89
        },
        "outputId": "04dbd955-7e46-49e7-f5d7-ce96a6548ffc"
      },
      "source": [
        "s = np.array([[1,2,3],[4,5,6]])\n",
        "print(s.shape)\n",
        "\n",
        "a = np.zeros_like(s)\n",
        "print(a.shape)\n",
        "a"
      ],
      "execution_count": 11,
      "outputs": [
        {
          "output_type": "stream",
          "text": [
            "(2, 3)\n",
            "(2, 3)\n"
          ],
          "name": "stdout"
        },
        {
          "output_type": "execute_result",
          "data": {
            "text/plain": [
              "array([[0, 0, 0],\n",
              "       [0, 0, 0]])"
            ]
          },
          "metadata": {
            "tags": []
          },
          "execution_count": 11
        }
      ]
    },
    {
      "cell_type": "code",
      "metadata": {
        "id": "nnYAqIaxtf3y",
        "colab_type": "code",
        "colab": {
          "base_uri": "https://localhost:8080/",
          "height": 71
        },
        "outputId": "491e319b-8f03-401b-82d1-1f81ee7c0511"
      },
      "source": [
        "a = np.ones_like(s)\n",
        "print(a.shape)\n",
        "a"
      ],
      "execution_count": 12,
      "outputs": [
        {
          "output_type": "stream",
          "text": [
            "(2, 3)\n"
          ],
          "name": "stdout"
        },
        {
          "output_type": "execute_result",
          "data": {
            "text/plain": [
              "array([[1, 1, 1],\n",
              "       [1, 1, 1]])"
            ]
          },
          "metadata": {
            "tags": []
          },
          "execution_count": 12
        }
      ]
    },
    {
      "cell_type": "code",
      "metadata": {
        "id": "e-9Ur0hgtifl",
        "colab_type": "code",
        "colab": {
          "base_uri": "https://localhost:8080/",
          "height": 53
        },
        "outputId": "c48be3f3-eb1f-453e-a74b-061b6836a2ed"
      },
      "source": [
        "a = np.full_like(s,3.0)\n",
        "a"
      ],
      "execution_count": 13,
      "outputs": [
        {
          "output_type": "execute_result",
          "data": {
            "text/plain": [
              "array([[3, 3, 3],\n",
              "       [3, 3, 3]])"
            ]
          },
          "metadata": {
            "tags": []
          },
          "execution_count": 13
        }
      ]
    },
    {
      "cell_type": "code",
      "metadata": {
        "id": "a6eXbNZ_tn4M",
        "colab_type": "code",
        "colab": {
          "base_uri": "https://localhost:8080/",
          "height": 71
        },
        "outputId": "7e2aea7b-7e8b-4996-dfe4-41d73130a7af"
      },
      "source": [
        "# indexing & slicing\n",
        "A = np.arange(0, 12).reshape(3, 4)\n",
        "A"
      ],
      "execution_count": 19,
      "outputs": [
        {
          "output_type": "execute_result",
          "data": {
            "text/plain": [
              "array([[ 0,  1,  2,  3],\n",
              "       [ 4,  5,  6,  7],\n",
              "       [ 8,  9, 10, 11]])"
            ]
          },
          "metadata": {
            "tags": []
          },
          "execution_count": 19
        }
      ]
    },
    {
      "cell_type": "code",
      "metadata": {
        "id": "3Wr52N-RuYJl",
        "colab_type": "code",
        "colab": {
          "base_uri": "https://localhost:8080/",
          "height": 89
        },
        "outputId": "528756ae-17ba-4d36-dcc2-cd1001d77312"
      },
      "source": [
        "A_tf = tf.constant(tf.range(0,12),shape=(3,4))\n",
        "A_tf"
      ],
      "execution_count": 21,
      "outputs": [
        {
          "output_type": "execute_result",
          "data": {
            "text/plain": [
              "<tf.Tensor: shape=(3, 4), dtype=int32, numpy=\n",
              "array([[ 0,  1,  2,  3],\n",
              "       [ 4,  5,  6,  7],\n",
              "       [ 8,  9, 10, 11]], dtype=int32)>"
            ]
          },
          "metadata": {
            "tags": []
          },
          "execution_count": 21
        }
      ]
    },
    {
      "cell_type": "code",
      "metadata": {
        "id": "YF14UEsIun9v",
        "colab_type": "code",
        "colab": {
          "base_uri": "https://localhost:8080/",
          "height": 143
        },
        "outputId": "d324c729-6cbb-442a-a63e-981d4b880bea"
      },
      "source": [
        "print(A)\n",
        "print(f'A[0] is \"{A[0]}\"')\n",
        "print(f'A[0, 2] is \"{A[0, 2]}\"')\n",
        "print(f'A[0][2] is \"{A[0][2]}\"')\n",
        "A[2, 2]"
      ],
      "execution_count": 24,
      "outputs": [
        {
          "output_type": "stream",
          "text": [
            "[[ 0  1  2  3]\n",
            " [ 4  5  6  7]\n",
            " [ 8  9 10 11]]\n",
            "A[0] is \"[0 1 2 3]\"\n",
            "A[0, 2] is \"2\"\n",
            "A[0][2] is \"2\"\n"
          ],
          "name": "stdout"
        },
        {
          "output_type": "execute_result",
          "data": {
            "text/plain": [
              "10"
            ]
          },
          "metadata": {
            "tags": []
          },
          "execution_count": 24
        }
      ]
    },
    {
      "cell_type": "code",
      "metadata": {
        "id": "NFc89EeqzrOx",
        "colab_type": "code",
        "colab": {
          "base_uri": "https://localhost:8080/",
          "height": 89
        },
        "outputId": "dd3a6e2c-9b11-4317-eb96-5b645183b24a"
      },
      "source": [
        "A = np.random.rand(3,4)\n",
        "print(A.dtype)\n",
        "A"
      ],
      "execution_count": 25,
      "outputs": [
        {
          "output_type": "stream",
          "text": [
            "float64\n"
          ],
          "name": "stdout"
        },
        {
          "output_type": "execute_result",
          "data": {
            "text/plain": [
              "array([[0.81888994, 0.26497422, 0.87363993, 0.95449038],\n",
              "       [0.34290373, 0.46463335, 0.07747271, 0.49624222],\n",
              "       [0.6552343 , 0.67815729, 0.22417296, 0.57522987]])"
            ]
          },
          "metadata": {
            "tags": []
          },
          "execution_count": 25
        }
      ]
    },
    {
      "cell_type": "code",
      "metadata": {
        "id": "73H7F3czzsFT",
        "colab_type": "code",
        "colab": {
          "base_uri": "https://localhost:8080/",
          "height": 89
        },
        "outputId": "0f2e8629-f756-41c1-abd2-f0a2c70af420"
      },
      "source": [
        "A_tf = tf.random.uniform(shape=(3,4), minval=0., maxval=1. )\n",
        "A_tf"
      ],
      "execution_count": 26,
      "outputs": [
        {
          "output_type": "execute_result",
          "data": {
            "text/plain": [
              "<tf.Tensor: shape=(3, 4), dtype=float32, numpy=\n",
              "array([[0.03663599, 0.43880486, 0.53427005, 0.14094448],\n",
              "       [0.06976247, 0.47470832, 0.8042743 , 0.6969719 ],\n",
              "       [0.06963885, 0.80293536, 0.34436405, 0.580621  ]], dtype=float32)>"
            ]
          },
          "metadata": {
            "tags": []
          },
          "execution_count": 26
        }
      ]
    },
    {
      "cell_type": "code",
      "metadata": {
        "id": "Ah8pDNwyzuIW",
        "colab_type": "code",
        "colab": {
          "base_uri": "https://localhost:8080/",
          "height": 35
        },
        "outputId": "0b27220c-d0fd-474d-c265-037b2e8f8503"
      },
      "source": [
        "A = np.random.randn(1,2) #normal distribution of which parameters are mean and standard deviation.\n",
        "A"
      ],
      "execution_count": 27,
      "outputs": [
        {
          "output_type": "execute_result",
          "data": {
            "text/plain": [
              "array([[-2.46783438,  0.42349867]])"
            ]
          },
          "metadata": {
            "tags": []
          },
          "execution_count": 27
        }
      ]
    },
    {
      "cell_type": "code",
      "metadata": {
        "id": "B0fGUIa2zwNX",
        "colab_type": "code",
        "colab": {
          "base_uri": "https://localhost:8080/",
          "height": 35
        },
        "outputId": "47766039-498e-45d4-c1ef-7d2b9dbf1367"
      },
      "source": [
        "A_tf = tf.random.normal(shape=(1,2),mean=0., stddev=1.0)\n",
        "A_tf"
      ],
      "execution_count": 28,
      "outputs": [
        {
          "output_type": "execute_result",
          "data": {
            "text/plain": [
              "<tf.Tensor: shape=(1, 2), dtype=float32, numpy=array([[ 0.08947976, -0.6451376 ]], dtype=float32)>"
            ]
          },
          "metadata": {
            "tags": []
          },
          "execution_count": 28
        }
      ]
    },
    {
      "cell_type": "code",
      "metadata": {
        "id": "VO1NQmPQzyJ3",
        "colab_type": "code",
        "colab": {
          "base_uri": "https://localhost:8080/",
          "height": 161
        },
        "outputId": "a0bfd9e3-a146-4364-9f6e-a2176328d260"
      },
      "source": [
        "#test1\n",
        "\n",
        "Test = np.arange(2, 65, 2).reshape((8, 4))\n",
        "Test"
      ],
      "execution_count": 29,
      "outputs": [
        {
          "output_type": "execute_result",
          "data": {
            "text/plain": [
              "array([[ 2,  4,  6,  8],\n",
              "       [10, 12, 14, 16],\n",
              "       [18, 20, 22, 24],\n",
              "       [26, 28, 30, 32],\n",
              "       [34, 36, 38, 40],\n",
              "       [42, 44, 46, 48],\n",
              "       [50, 52, 54, 56],\n",
              "       [58, 60, 62, 64]])"
            ]
          },
          "metadata": {
            "tags": []
          },
          "execution_count": 29
        }
      ]
    },
    {
      "cell_type": "code",
      "metadata": {
        "id": "BHmNrRby34Cs",
        "colab_type": "code",
        "colab": {
          "base_uri": "https://localhost:8080/",
          "height": 53
        },
        "outputId": "c59665cb-250b-4f52-c26b-0c4b2fa725be"
      },
      "source": [
        "v = Test.ravel()\n",
        "v"
      ],
      "execution_count": 30,
      "outputs": [
        {
          "output_type": "execute_result",
          "data": {
            "text/plain": [
              "array([ 2,  4,  6,  8, 10, 12, 14, 16, 18, 20, 22, 24, 26, 28, 30, 32, 34,\n",
              "       36, 38, 40, 42, 44, 46, 48, 50, 52, 54, 56, 58, 60, 62, 64])"
            ]
          },
          "metadata": {
            "tags": []
          },
          "execution_count": 30
        }
      ]
    },
    {
      "cell_type": "code",
      "metadata": {
        "id": "LeOR59BT6wCm",
        "colab_type": "code",
        "colab": {
          "base_uri": "https://localhost:8080/",
          "height": 197
        },
        "outputId": "81fc2b54-4666-4372-cab7-621d086f1e4c"
      },
      "source": [
        "print(a)\n",
        "c = a+2\n",
        "print(c)"
      ],
      "execution_count": 32,
      "outputs": [
        {
          "output_type": "stream",
          "text": [
            "[[1. 1. 1.]\n",
            " [1. 1. 1.]\n",
            " [1. 1. 1.]\n",
            " [1. 1. 1.]\n",
            " [1. 1. 1.]]\n",
            "[[3. 3. 3.]\n",
            " [3. 3. 3.]\n",
            " [3. 3. 3.]\n",
            " [3. 3. 3.]\n",
            " [3. 3. 3.]]\n"
          ],
          "name": "stdout"
        }
      ]
    },
    {
      "cell_type": "code",
      "metadata": {
        "id": "FbV176Zp6jM_",
        "colab_type": "code",
        "colab": {
          "base_uri": "https://localhost:8080/",
          "height": 107
        },
        "outputId": "fb643ba7-e454-4849-dfae-3004a5d170f0"
      },
      "source": [
        "a = np.ones((5, 3))\n",
        "c = a + np.array([3, 4, 5])\n",
        "print(c)"
      ],
      "execution_count": 33,
      "outputs": [
        {
          "output_type": "stream",
          "text": [
            "[[4. 5. 6.]\n",
            " [4. 5. 6.]\n",
            " [4. 5. 6.]\n",
            " [4. 5. 6.]\n",
            " [4. 5. 6.]]\n"
          ],
          "name": "stdout"
        }
      ]
    },
    {
      "cell_type": "code",
      "metadata": {
        "id": "464dnOdf8u9j",
        "colab_type": "code",
        "colab": {
          "base_uri": "https://localhost:8080/",
          "height": 125
        },
        "outputId": "8a3df6dd-29dc-4354-9736-8136594891bf"
      },
      "source": [
        "b= np.array([3,4,5,6,7])\n",
        "c = a+(b[:,np.newaxis])\n",
        "print(b[:,np.newaxis].shape)\n",
        "print(c)"
      ],
      "execution_count": 34,
      "outputs": [
        {
          "output_type": "stream",
          "text": [
            "(5, 1)\n",
            "[[4. 4. 4.]\n",
            " [5. 5. 5.]\n",
            " [6. 6. 6.]\n",
            " [7. 7. 7.]\n",
            " [8. 8. 8.]]\n"
          ],
          "name": "stdout"
        }
      ]
    },
    {
      "cell_type": "code",
      "metadata": {
        "id": "b6hTLc9E8zl1",
        "colab_type": "code",
        "colab": {
          "base_uri": "https://localhost:8080/",
          "height": 107
        },
        "outputId": "60665665-7746-430d-e21e-0c61863ecfba"
      },
      "source": [
        "c = a+np.array([3,4,5,6,7]).reshape((5, 1))\n",
        "print(c)"
      ],
      "execution_count": 36,
      "outputs": [
        {
          "output_type": "stream",
          "text": [
            "[[4. 4. 4.]\n",
            " [5. 5. 5.]\n",
            " [6. 6. 6.]\n",
            " [7. 7. 7.]\n",
            " [8. 8. 8.]]\n"
          ],
          "name": "stdout"
        }
      ]
    }
  ]
}
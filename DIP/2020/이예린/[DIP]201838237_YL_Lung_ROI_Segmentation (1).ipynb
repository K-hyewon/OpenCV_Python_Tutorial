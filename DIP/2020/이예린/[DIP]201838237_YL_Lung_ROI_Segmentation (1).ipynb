{
  "nbformat": 4,
  "nbformat_minor": 0,
  "metadata": {
    "colab": {
      "name": "[DIP]201838237_YL_Lung-ROI-Segmentation",
      "provenance": [],
      "collapsed_sections": []
    },
    "kernelspec": {
      "name": "python3",
      "display_name": "Python 3"
    }
  },
  "cells": [
    {
      "cell_type": "code",
      "metadata": {
        "id": "RQwxla9Y9fwn"
      },
      "source": [
        "#구글 마운트\n",
        "from google.colab import drive\n",
        "drive.mount('/content/drive')"
      ],
      "execution_count": null,
      "outputs": []
    },
    {
      "cell_type": "code",
      "metadata": {
        "id": "gPNVfoisjZGf"
      },
      "source": [
        "import numpy as np\n",
        "import cv2\n",
        "import os\n",
        "import matplotlib.pyplot as plt\n",
        "\n",
        "#구글 드라이브에서 이미지 불러오기\n",
        "path = '/content/drive/My Drive/2020-2_Image Processing'\n",
        "fstr_0 = os.path.join(path,'Lung-ROI-segmentation.png')\n",
        "img  = cv2.imread(fstr_0,cv2.IMREAD_GRAYSCALE)\n",
        "\n",
        "print(img.shape)\n",
        "\n",
        "plt.figure()\n",
        "plt.imshow(img, cmap=plt.cm.gray) #grayscale로 \n",
        "plt.show()"
      ],
      "execution_count": null,
      "outputs": []
    },
    {
      "cell_type": "code",
      "metadata": {
        "id": "lZKUFt5G_rQ5"
      },
      "source": [
        "#image split 850을 3으로 나눠서 수치로 나눔. \n",
        "#등분을 하려다 실패함.\"too many indices for array\"라는 오류가..\n",
        "#img_split= np.hsplit(img[:,:850,:],3)\n",
        "img_split= np.hsplit(img,(283,566))\n",
        "print(type(img_split))\n",
        "#print(np.shape(img_split))\n",
        "\n",
        "#자른이미지 보기\n",
        "for i in range(len(img_split)):\n",
        "    plt.figure()\n",
        "    plt.imshow(img_split[i], cmap=plt.cm.gray)\n",
        "    plt.xticks([]),plt.yticks([])\n",
        "plt.show()"
      ],
      "execution_count": null,
      "outputs": []
    },
    {
      "cell_type": "code",
      "metadata": {
        "id": "3ZQ5CG3A_PT6"
      },
      "source": [
        "#fstr_1 = img_split[0]\n",
        "#fstr_2 = img_split[1]\n",
        "#img_0  = cv2.imread(fstr_1,cv2.IMREAD_GRAYSCALE)\n",
        "#mask = cv2.imread(fstr_2,cv2.IMREAD_GRAYSCALE)\n",
        "\n",
        "plt.figure()\n",
        "plt.imshow(img_split[0],cmap=plt.cm.gray)\n",
        "plt.figure()\n",
        "plt.imshow(img_split[1],cmap=plt.cm.gray)\n",
        "\n",
        "#img_split[0]==img_0라고, img_split[1]==mask라고 부르자\n",
        "#img_0에 mask를 씌워서 bitwise연산자로 masked_roi를 뽑아내는 과정\n",
        "masked_roi = cv2.bitwise_and(img_split[0],img_split[1])\n",
        "\n",
        "#뽑아낸 masked_roi 보이기\n",
        "plt.figure()\n",
        "plt.imshow(masked_roi,cmap=plt.cm.gray)\n",
        "plt.show()"
      ],
      "execution_count": null,
      "outputs": []
    },
    {
      "cell_type": "code",
      "metadata": {
        "id": "xFyOd0WIDEFh"
      },
      "source": [
        ""
      ],
      "execution_count": null,
      "outputs": []
    }
  ]
}
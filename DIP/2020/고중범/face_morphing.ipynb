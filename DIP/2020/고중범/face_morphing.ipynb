{
 "cells": [
  {
   "cell_type": "code",
   "execution_count": 1,
   "metadata": {},
   "outputs": [
    {
     "data": {
      "application/vnd.jupyter.widget-view+json": {
       "model_id": "21909d6958264393a358bdddcafec85c",
       "version_major": 2,
       "version_minor": 0
      },
      "text/plain": [
       "interactive(children=(IntSlider(value=10, continuous_update=False, description='x', step=10), Output()), _dom_…"
      ]
     },
     "metadata": {},
     "output_type": "display_data"
    }
   ],
   "source": [
    "from __future__ import print_function\n",
    "import os\n",
    "import cv2\n",
    "import matplotlib.pyplot as plt\n",
    "from ipywidgets import interact, interactive, fixed, interact_manual\n",
    "import ipywidgets as widgets\n",
    "\n",
    "def f(x):\n",
    "  alpha = x/100\n",
    "  ret = cv2.addWeighted(img_0, alpha, img_1, 1-alpha,0)\n",
    "  plt.imshow(ret[:,:,::-1])\n",
    "\n",
    "image_path = './img'\n",
    "old_jungbeom = os.path.join(image_path,'1.PNG')\n",
    "young_jungbeom = os.path.join(image_path,'2.PNG')\n",
    "\n",
    "img_0 = cv2.imread(old_jungbeom)\n",
    "img_1 = cv2.imread(young_jungbeom)\n",
    "img_0 = cv2.resize(img_0, dsize=(img_1.shape[1],img_1.shape[0]), interpolation= cv2.INTER_AREA)\n",
    "\n",
    "interact(f, x=widgets.IntSlider(min=0, max=100, step=10, value=10, continuous_update=False));"
   ]
  }
 ],
 "metadata": {
  "kernelspec": {
   "display_name": "Python 3",
   "language": "python",
   "name": "python3"
  },
  "language_info": {
   "codemirror_mode": {
    "name": "ipython",
    "version": 3
   },
   "file_extension": ".py",
   "mimetype": "text/x-python",
   "name": "python",
   "nbconvert_exporter": "python",
   "pygments_lexer": "ipython3",
   "version": "3.7.9"
  }
 },
 "nbformat": 4,
 "nbformat_minor": 4
}

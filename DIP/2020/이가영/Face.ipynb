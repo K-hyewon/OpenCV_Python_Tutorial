{
  "nbformat": 4,
  "nbformat_minor": 0,
  "metadata": {
    "colab": {
      "name": "Face.ipynb",
      "provenance": [],
      "private_outputs": true,
      "authorship_tag": "ABX9TyMXPgRO24pfL2UcHuJ1g2FZ",
      "include_colab_link": true
    },
    "kernelspec": {
      "name": "python3",
      "display_name": "Python 3"
    }
  },
  "cells": [
    {
      "cell_type": "markdown",
      "metadata": {
        "id": "view-in-github",
        "colab_type": "text"
      },
      "source": [
        "<a href=\"https://colab.research.google.com/github/dsaint31x/OpenCV_Python_Tutorial/blob/master/DIP/2020/%EC%9D%B4%EA%B0%80%EC%98%81/Face.ipynb\" target=\"_parent\"><img src=\"https://colab.research.google.com/assets/colab-badge.svg\" alt=\"Open In Colab\"/></a>"
      ]
    },
    {
      "cell_type": "code",
      "metadata": {
        "id": "CPQtQxtoKqiS"
      },
      "source": [
        "from google.colab import drive\n",
        "drive.mount('/content/drive')"
      ],
      "execution_count": null,
      "outputs": []
    },
    {
      "cell_type": "code",
      "metadata": {
        "id": "Dag1B_AFKa95"
      },
      "source": [
        "from __future__ import print_function\n",
        "from ipywidgets import interact, interactive, fixed, interact_manual\n",
        "import ipywidgets as widgets\n",
        "import os,cv2\n",
        "from google.colab.patches import cv2_imshow\n",
        "\n",
        "def f(x):\n",
        "  alpha = x/100\n",
        "  ret = cv2.addWeighted(result_0, alpha, result_1, 1-alpha,0)\n",
        "  plt.imshow(ret[:,:,::-1])\n",
        "path = '/content/drive/My Drive'\n",
        "data_0 = os.path.join(path,'2020_1.jpg')\n",
        "data_1 = os.path.join(path,'2010.jpg') \n",
        "\n",
        "img_0 = cv2.imread(data_0)\n",
        "img_1 = cv2.imread(data_1)\n",
        "\n",
        "cv2_imshow(img_0)\n",
        "cv2_imshow(img_1)\n"
      ],
      "execution_count": null,
      "outputs": []
    },
    {
      "cell_type": "code",
      "metadata": {
        "id": "ZVEdRDJcKtSs"
      },
      "source": [
        "import matplotlib.pyplot as plt\n",
        "result_0 = cv2.imread(data_0)\n",
        "result_1 = cv2.imread(data_1)\n",
        "result_0 = cv2.resize(result_0, dsize=(result_1.shape[1],result_1.shape[0]), interpolation= cv2.INTER_AREA)\n",
        "\n",
        "interact(f, x=widgets.IntSlider(min=0, max=100, step=10, value=10, continuous_update=False));"
      ],
      "execution_count": null,
      "outputs": []
    }
  ]
}
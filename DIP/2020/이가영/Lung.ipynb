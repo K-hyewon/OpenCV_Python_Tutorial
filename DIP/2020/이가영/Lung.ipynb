{
  "nbformat": 4,
  "nbformat_minor": 0,
  "metadata": {
    "colab": {
      "name": "Lung.ipynb",
      "provenance": [],
      "private_outputs": true,
      "authorship_tag": "ABX9TyNdX/9JOy1q0tRXBZBnCxGg",
      "include_colab_link": true
    },
    "kernelspec": {
      "name": "python3",
      "display_name": "Python 3"
    }
  },
  "cells": [
    {
      "cell_type": "markdown",
      "metadata": {
        "id": "view-in-github",
        "colab_type": "text"
      },
      "source": [
        "<a href=\"https://colab.research.google.com/github/dsaint31x/OpenCV_Python_Tutorial/blob/master/DIP/2020/%EC%9D%B4%EA%B0%80%EC%98%81/Lung.ipynb\" target=\"_parent\"><img src=\"https://colab.research.google.com/assets/colab-badge.svg\" alt=\"Open In Colab\"/></a>"
      ]
    },
    {
      "cell_type": "code",
      "metadata": {
        "id": "ZZn5kVRJShqn"
      },
      "source": [
        "#구글 마운트\n",
        "from google.colab import drive\n",
        "drive.mount('/content/drive')"
      ],
      "execution_count": null,
      "outputs": []
    },
    {
      "cell_type": "code",
      "metadata": {
        "id": "S1uWCF72mV3v"
      },
      "source": [
        "import cv2\n",
        "import numpy as np \n",
        "from google.colab.patches import cv2_imshow #colab에서 imshow 쓰려면 이거 꼭 써야함\n",
        "\n",
        "src = cv2.imread(\"/content/drive/My Drive/Lung-ROI-segmentation.png\", cv2.IMREAD_COLOR)\n",
        "dst = cv2.cvtColor(src, cv2.COLOR_BGR2GRAY)\n",
        "\n",
        "cv2_imshow(dst)\n",
        "\n",
        "print(dst.shape)"
      ],
      "execution_count": null,
      "outputs": []
    },
    {
      "cell_type": "code",
      "metadata": {
        "id": "Kc1OFi1NmdEv"
      },
      "source": [
        "import numpy as np\n",
        "import cv2\n",
        "from google.colab.patches import cv2_imshow\n",
        "\n",
        "src = cv2.imread(\"/content/drive/My Drive/Lung-ROI-segmentation.png\", cv2.IMREAD_COLOR)\n",
        "dst = cv2.cvtColor(src, cv2.COLOR_BGR2GRAY)\n",
        "\n",
        "dst_blurred = cv2.GaussianBlur(dst, (5, 5), 0)\n",
        "\n",
        "ret,thresh2 = cv2.threshold(dst_blurred,127,255,cv2.THRESH_BINARY_INV)\n",
        "cv2_imshow(thresh2) #사각형을 찾아서 그부분을 자르려고 했는데 말도 안되는 일이였다ㅠㅠ 1번 방법 실패ㅠㅠ"
      ],
      "execution_count": null,
      "outputs": []
    },
    {
      "cell_type": "code",
      "metadata": {
        "id": "vSU5FTujFwqN"
      },
      "source": [
        "import matplotlib.pyplot as plt\n",
        "dst_cut= np.hsplit(dst,(283,566)) #566을 567이나 568로 바꾸면 오류가 생긴다 Sizes of input arguments do not match 원인이 뭔지 모르겠다\n",
        "                     \n",
        "\n",
        "plt.imshow(dst_cut[0] , cmap=plt.cm.gray) #for문 사용하려 헸지만 오류로 단일 사용"
      ],
      "execution_count": null,
      "outputs": []
    },
    {
      "cell_type": "code",
      "metadata": {
        "id": "HJpdkxb1TBAT"
      },
      "source": [
        "plt.imshow(dst_cut[1] , cmap=plt.cm.gray)"
      ],
      "execution_count": null,
      "outputs": []
    },
    {
      "cell_type": "code",
      "metadata": {
        "id": "4NxI2FalTCu3"
      },
      "source": [
        "plt.imshow(dst_cut[2] , cmap=plt.cm.gray)"
      ],
      "execution_count": null,
      "outputs": []
    },
    {
      "cell_type": "code",
      "metadata": {
        "id": "MNHpEx3kTrCu"
      },
      "source": [
        "#영역 추출 과정은 책을 참고\n",
        "plt.figure()\n",
        "plt.imshow(dst_cut[0],cmap=plt.cm.gray)\n",
        "plt.figure()\n",
        "plt.imshow(dst_cut[1],cmap=plt.cm.gray)\n",
        "\n",
        "masked_roi = cv2.bitwise_and(dst_cut[0],dst_cut[1])\n",
        "\n",
        "\n",
        "plt.figure()\n",
        "plt.imshow(masked_roi,cmap=plt.cm.gray)\n",
        "plt.show()"
      ],
      "execution_count": null,
      "outputs": []
    }
  ]
}
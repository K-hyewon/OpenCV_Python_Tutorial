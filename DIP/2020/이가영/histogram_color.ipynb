{
  "nbformat": 4,
  "nbformat_minor": 0,
  "metadata": {
    "colab": {
      "name": "Untitled26.ipynb",
      "provenance": [],
      "private_outputs": true,
      "mount_file_id": "1pMHlmlYC0Gu7oBDvPacgTjha4j4qjTqk",
      "authorship_tag": "ABX9TyPIvsdMKIw4ohwn6HIwtCuL",
      "include_colab_link": true
    },
    "kernelspec": {
      "name": "python3",
      "display_name": "Python 3"
    }
  },
  "cells": [
    {
      "cell_type": "markdown",
      "metadata": {
        "id": "view-in-github",
        "colab_type": "text"
      },
      "source": [
        "<a href=\"https://colab.research.google.com/github/dsaint31x/OpenCV_Python_Tutorial/blob/master/DIP/2020/%EC%9D%B4%EA%B0%80%EC%98%81/histogram_color.ipynb\" target=\"_parent\"><img src=\"https://colab.research.google.com/assets/colab-badge.svg\" alt=\"Open In Colab\"/></a>"
      ]
    },
    {
      "cell_type": "code",
      "metadata": {
        "id": "RbA_VXGTDyfq"
      },
      "source": [
        "from google.colab import drive\n",
        "drive.mount('/content/drive')"
      ],
      "execution_count": null,
      "outputs": []
    },
    {
      "cell_type": "code",
      "metadata": {
        "id": "OB0nma4JEG3h"
      },
      "source": [
        "import cv2\n",
        "import numpy as np\n",
        "from matplotlib import pyplot as plt\n",
        "\n",
        "img = cv2.imread('/content/drive/My Drive/image.jpg')\n",
        "\n",
        "plt.figure(figsize=(20,7))\n",
        "\n",
        "imgae1=plt.subplot(1,3,1)\n",
        "imgae1.set_title('Original')\n",
        "img = cv2.cvtColor(img,cv2.COLOR_BGR2RGB)\n",
        "plt.imshow(img)\n",
        "\n",
        "hsv = cv2.cvtColor(img,cv2.COLOR_BGR2HSV)\n",
        "h,s,v = cv2.split(hsv)\n",
        "\n",
        "v2 = cv2.equalizeHist(v)\n",
        "hsv2 = cv2.merge([h,s,v2])\n",
        "dst=cv2.cvtColor(hsv2,cv2.COLOR_HSV2BGR)\n",
        "imgae2=plt.subplot(1,3,2)\n",
        "imgae2.set_title('h of hsv equalizeHist')\n",
        "plt.imshow(dst)\n",
        "\n"
      ],
      "execution_count": null,
      "outputs": []
    }
  ]
}
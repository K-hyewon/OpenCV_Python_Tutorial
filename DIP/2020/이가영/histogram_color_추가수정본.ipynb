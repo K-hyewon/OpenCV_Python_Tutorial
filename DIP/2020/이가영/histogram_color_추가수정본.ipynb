{
  "nbformat": 4,
  "nbformat_minor": 0,
  "metadata": {
    "colab": {
      "name": "Untitled26.ipynb의 사본",
      "provenance": [],
      "private_outputs": true,
      "mount_file_id": "1pMHlmlYC0Gu7oBDvPacgTjha4j4qjTqk",
      "authorship_tag": "ABX9TyN/6s9c3JBPXc4zBwtiQQW/",
      "include_colab_link": true
    },
    "kernelspec": {
      "name": "python3",
      "display_name": "Python 3"
    }
  },
  "cells": [
    {
      "cell_type": "markdown",
      "metadata": {
        "id": "view-in-github",
        "colab_type": "text"
      },
      "source": [
        "<a href=\"https://colab.research.google.com/github/dsaint31x/OpenCV_Python_Tutorial/blob/master/DIP/2020/%EC%9D%B4%EA%B0%80%EC%98%81/histogram_color_%EC%B6%94%EA%B0%80%EC%88%98%EC%A0%95%EB%B3%B8.ipynb\" target=\"_parent\"><img src=\"https://colab.research.google.com/assets/colab-badge.svg\" alt=\"Open In Colab\"/></a>"
      ]
    },
    {
      "cell_type": "code",
      "metadata": {
        "id": "RbA_VXGTDyfq"
      },
      "source": [
        "from google.colab import drive\n",
        "drive.mount('/content/drive')"
      ],
      "execution_count": null,
      "outputs": []
    },
    {
      "cell_type": "markdown",
      "metadata": {
        "id": "CXrfdc8nxbnR"
      },
      "source": [
        "1.컬러사진 Histogram Equalization 결과 보기"
      ]
    },
    {
      "cell_type": "code",
      "metadata": {
        "id": "OB0nma4JEG3h"
      },
      "source": [
        "import cv2\n",
        "import numpy as np\n",
        "from matplotlib import pyplot as plt\n",
        "\n",
        "img = cv2.imread('/content/drive/My Drive/image.jpg')\n",
        "\n",
        "plt.figure(figsize=(20,7))\n",
        "\n",
        "imgae1=plt.subplot(1,3,1)\n",
        "imgae1.set_title('Original')\n",
        "img = cv2.cvtColor(img,cv2.COLOR_BGR2RGB)\n",
        "plt.imshow(img)\n",
        "\n",
        "hsv = cv2.cvtColor(img,cv2.COLOR_BGR2HSV)\n",
        "h,s,v = cv2.split(hsv)\n",
        "\n",
        "v2 = cv2.equalizeHist(v)\n",
        "hsv2 = cv2.merge([h,s,v2])\n",
        "dst=cv2.cvtColor(hsv2,cv2.COLOR_HSV2BGR)\n",
        "imgae2=plt.subplot(1,3,2)\n",
        "imgae2.set_title('h of hsv equalizeHist')\n",
        "plt.imshow(dst)\n",
        "\n"
      ],
      "execution_count": null,
      "outputs": []
    },
    {
      "cell_type": "markdown",
      "metadata": {
        "id": "jYbKy9m4xs2I"
      },
      "source": [
        "2.컬러사진 Histogram Equalization 결과 그래프로 보기"
      ]
    },
    {
      "cell_type": "code",
      "metadata": {
        "id": "mt8H0Y-hwiG5"
      },
      "source": [
        "img = cv2.resize(img,(400,400))\n",
        "dst = cv2.resize(dst,(400,400))\n",
        "\n",
        "\n",
        "plt.figure(figsize=(8,10))\n",
        "\n",
        "plt.subplots_adjust(wspace=0.4,hspace=0.4)\n",
        "plt.subplot(331),plt.imshow(img,'gray'),plt.title('Original')\n",
        "plt.axis('off')\n",
        "\n",
        "\n",
        "plt.subplot(333),plt.imshow(dst,'gray'),plt.title('Equalization by cv')\n",
        "plt.axis('off')\n",
        "\n",
        "\n",
        "bin_size = 4\n",
        "hist, bins = np.histogram(img.flatten(),int(256/bin_size),[0,256])\n",
        "cdf = hist.cumsum()\n",
        "plt.subplot(334),plt.plot([bin_size*i for i in range(len(cdf))],hist)\n",
        "plt.subplot(337),plt.plot([bin_size*i for i in range(len(cdf))],cdf, color='r')\n",
        "\n",
        "bin_size = 8\n",
        "hist, bins = np.histogram(dst.flatten(),int(256/bin_size),[0,256])\n",
        "cdf = hist.cumsum()\n",
        "plt.subplot(336),plt.plot([bin_size*i for i in range(len(cdf))],hist)\n",
        "plt.subplot(339),plt.plot([bin_size*i for i in range(len(cdf))],cdf, color='r')\n",
        "\n",
        "plt.tight_layout()\n",
        "plt.show()\n"
      ],
      "execution_count": null,
      "outputs": []
    },
    {
      "cell_type": "markdown",
      "metadata": {
        "id": "Zq-YfTbtxjQq"
      },
      "source": [
        "3.r,g,b histogram 그래프 관찰"
      ]
    },
    {
      "cell_type": "code",
      "metadata": {
        "id": "LPzXf772ti5Q"
      },
      "source": [
        "import cv2\n",
        "import numpy as np\n",
        "from matplotlib import pyplot as plt\n",
        "\n",
        "img = cv2.imread('/content/drive/My Drive/image.jpg')\n",
        "\n",
        "print(img.shape)\n",
        "plt.imshow(img)\n",
        "\n",
        "r,g,b = cv2.split(img)\n",
        "\n",
        "plt.subplot(231)\n",
        "plt.title('Red')\n",
        "plt.imshow(r, cmap='gray')\n",
        "\n",
        "plt.subplot(232)\n",
        "plt.title('Green')\n",
        "plt.imshow(g, cmap='gray')\n",
        "\n",
        "plt.subplot(233)\n",
        "plt.title('Blue')\n",
        "plt.imshow(b, cmap='gray')\n",
        "\n",
        "hist_r = cv2.calcHist([img], [0], None, [256], [0,256])\n",
        "hist_g = cv2.calcHist([img], [1], None, [256], [0,256])\n",
        "hist_b = cv2.calcHist([img], [2], None, [256], [0,256])\n",
        "\n",
        "plt.subplot(234)\n",
        "plt.title('Red histogram')\n",
        "plt.plot(hist_r, color='r')\n",
        "\n",
        "plt.subplot(235)\n",
        "plt.title('G histogram')\n",
        "plt.plot(hist_g, color='g')\n",
        "\n",
        "plt.subplot(236)\n",
        "plt.title('R histogram')\n",
        "plt.plot(hist_b, color='b')\n",
        "\n",
        "plt.tight_layout()"
      ],
      "execution_count": null,
      "outputs": []
    }
  ]
}
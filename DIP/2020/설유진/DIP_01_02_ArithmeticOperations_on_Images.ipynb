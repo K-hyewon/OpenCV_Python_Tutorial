{
 "cells": [
  {
   "cell_type": "code",
   "execution_count": null,
   "metadata": {},
   "outputs": [],
   "source": [
    "import numpy as np\n",
    "import cv2\n",
    "import os\n",
    "import matplotlib.pyplot as plt\n",
    "\n",
    "path = '/content/drive/My Drive/[10]Lecture/ImageProcessing/Images'\n"
   ]
  },
  {
   "cell_type": "code",
   "execution_count": null,
   "metadata": {},
   "outputs": [],
   "source": [
    "fstr_0 = os.path.join(path,'robot_arm0.jpg')\n",
    "fstr_1 = os.path.join(path,'robot_arm1.jpg')\n",
    "img_0 = cv2.imread(fstr_0, cv2.IMREAD_GRAYSCALE)\n",
    "img_1 = cv2.imread(fstr_1, cv2.IMREAD_GRAYSCALE)\n",
    "img_0_color = cv2.imread(fstr_0)\n",
    "img_1_color = cv2.imread(fstr_1)\n",
    "\n",
    "diff = cv2.absdiff(img_0, img_1)\n",
    "\n",
    "diff[diff>=10] = 255\n",
    "print(diff.dtype)\n",
    "diff_red = cv2.cvtColor(diff,cv2.COLOR_GRAY2BGR)\n",
    "diff_red[:,:,2] = 0\n",
    "\n",
    "spot = cv2.bitwise_xor(img_1_color,diff_red)\n",
    "\n",
    "imgs = {'img_0':img_0_color, 'img_1':img_1_color, 'difference':diff,'spot':spot}\n",
    "\n",
    "plt.figure(figsize=[16,8])\n",
    "for idx, (title, img) in enumerate(imgs.items()):\n",
    "  plt.subplot(2,2,idx+1)\n",
    "  plt.title(title)\n",
    "  plt.axis('off')\n",
    "  if img.ndim >2: \n",
    "    plt.imshow(img[:,:,::-1])\n",
    "  else:\n",
    "    plt.imshow(img,cmap=plt.cm.gray)\n",
    "plt.tight_layout()\n",
    "plt.show()"
   ]
  },
  {
   "cell_type": "code",
   "execution_count": null,
   "metadata": {},
   "outputs": [],
   "source": [
    "fstr_0 = os.path.join(path,'Lung_set.jpg')\n",
    "fstr_1 = os.path.join(path,'img_crop.jpg')\n",
    "fstr_2 = os.path.join(path,'img_mask.jpg')\n",
    "\n",
    "#fstr_1 = os.path.join(path,'Lung_mask.png')\n",
    "\n",
    "\n",
    "cropimg_width=img.width/3\n",
    "cropimg_height=img.height\n",
    "\n",
    "img_crop=img.crop(0,0,cropimg_width,cropimg_height)\n",
    "img_mask=img.crop(cropimg_width,0,cropimg_width*2,cropimg_height)\n",
    "cv2.imwrite(fstr_1, cv2.cvtColor(img_crop,cv2.COLOR_BGR2GRAY))\n",
    "cv2.imwrite(fstr_2, cv2.cvtColor(img_mask,cv2.COLOR_BGR2GRAY))\n",
    "\n",
    "img  = cv2.imread(fstr_1,cv2.IMREAD_GRAYSCALE)\n",
    "mask = cv2.imread(fstr_2,cv2.IMREAD_GRAYSCALE) \n",
    "\n",
    "plt.figure()\n",
    "plt.imshow(img,cmap=plt.cm.gray)\n",
    "plt.figure()\n",
    "plt.imshow(mask,cmap=plt.cm.gray)\n",
    "print(img.shape)\n",
    "print(mask.shape)\n",
    "\n",
    "#_, mask = cv2.threshold(mask,254,255,cv2.THRESH_BINARY)\n",
    "masked_roi = cv2.bitwise_and(img,mask)\n",
    "\n",
    "\n",
    "plt.figure()\n",
    "plt.imshow(masked_roi,cmap=plt.cm.gray)\n",
    "plt.show()"
   ]
  },
  {
   "cell_type": "code",
   "execution_count": null,
   "metadata": {},
   "outputs": [],
   "source": [
    ":\n",
    "fstr_0 = os.path.join(path,'Lung-ROI-segmentation.png')\n",
    "img = cv2.imread(fstr_0)\n",
    "print(img.shape)\n",
    "l = np.hsplit(img,(283,284,567,568))\n",
    "print(len(l))\n",
    "plt.figure()\n",
    "plt.imshow(l[0])\n",
    "plt.figure()\n",
    "plt.imshow(l[2])\n",
    "plt.figure()\n",
    "plt.imshow(cv2.bitwise_and(l[0],l[2]))\n",
    "plt.show()\n",
    "fstr_0 = os.path.join(path,'Lung.jpg')\n",
    "cv2.imwrite(fstr_0, cv2.cvtColor(l[0],cv2.COLOR_BGR2GRAY))\n",
    "\n",
    "g = cv2.cvtColor(l[2],cv2.COLOR_BGR2GRAY)\n",
    "_, gb = cv2.threshold(g,1,255,cv2.THRESH_BINARY)\n",
    "mask = cv2.cvtColor(g,cv2.COLOR_GRAY2BGR)\n",
    "\n",
    "fstr_0 = os.path.join(path,'Lung_mask.png')\n",
    "cv2.imwrite(fstr_0,l[2])"
   ]
  }
 ],
 "metadata": {
  "kernelspec": {
   "display_name": "Python 3",
   "language": "python",
   "name": "python3"
  },
  "language_info": {
   "codemirror_mode": {
    "name": "ipython",
    "version": 3
   },
   "file_extension": ".py",
   "mimetype": "text/x-python",
   "name": "python",
   "nbconvert_exporter": "python",
   "pygments_lexer": "ipython3",
   "version": "3.7.6"
  }
 },
 "nbformat": 4,
 "nbformat_minor": 4
}

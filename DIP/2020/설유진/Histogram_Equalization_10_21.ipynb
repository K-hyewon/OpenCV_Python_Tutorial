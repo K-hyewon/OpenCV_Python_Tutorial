{
 "cells": [
  {
   "cell_type": "code",
   "execution_count": 31,
   "metadata": {},
   "outputs": [
    {
     "data": {
      "text/plain": [
       "<function dir>"
      ]
     },
     "execution_count": 31,
     "metadata": {},
     "output_type": "execute_result"
    }
   ],
   "source": [
    "dir"
   ]
  },
  {
   "cell_type": "code",
   "execution_count": 32,
   "metadata": {},
   "outputs": [
    {
     "name": "stdout",
     "output_type": "stream",
     "text": [
      "C:\\\n"
     ]
    }
   ],
   "source": [
    "cd .."
   ]
  },
  {
   "cell_type": "code",
   "execution_count": 33,
   "metadata": {},
   "outputs": [],
   "source": [
    "import cv2\n",
    "import numpy as np\n",
    "import argparse\n",
    "import os\n",
    "import matplotlib.pyplot as plt"
   ]
  },
  {
   "cell_type": "code",
   "execution_count": 34,
   "metadata": {},
   "outputs": [],
   "source": [
    "path = \"C:\\\\image.png\"\n",
    "src = cv2.imread(path)"
   ]
  },
  {
   "cell_type": "code",
   "execution_count": null,
   "metadata": {},
   "outputs": [],
   "source": [
    "# hsv로 변환\n",
    "hsv = cv2.cvtColor(src, cv2.COLOR_BGR2HSV) \n",
    "h, s, v = cv2.split(hsv)\n",
    "\n",
    "# v값 히스토그램 평활화\n",
    "equalizedV = cv2.equalizeHist(v)\n",
    "hsv2 = cv2.merge([h,s,equalizedV])\n",
    "\n",
    "# hsv2를 RGB로 재변환\n",
    "hsvDst = cv2.cvtColor(hsv2, cv2.COLOR_HSV2BGR)\n",
    "\n",
    "# YCrCb로 변환\n",
    "yCrCb = cv2.cvtColor(src, cv2.COLOR_BGR2YCrCb)\n",
    "y, Cr, Cb = cv2.split(yCrCb)\n",
    "\n",
    "# y값 히스토그램 평활화\n",
    "equalizedY = cv2.equalizeHist(y)\n",
    "yCrCb2 = cv2.merge([equalizedY, Cr, Cb])\n",
    "\n",
    "# yCrCb2를 BGR로 재변환.\n",
    "yCrCbDst = cv2.cvtColor(yCrCb2, cv2.COLOR_YCrCb2BGR)\n",
    "\n",
    "cv2.imshow('src', src)\n",
    "cv2.imshow('hsv', hsvDst)\n",
    "cv2.imshow('YCrCb', yCrCbDst)\n",
    "cv2.waitKey()\n",
    "cv2.destroyAllWindows()"
   ]
  },
  {
   "cell_type": "code",
   "execution_count": null,
   "metadata": {},
   "outputs": [],
   "source": []
  }
 ],
 "metadata": {
  "kernelspec": {
   "display_name": "Python 3",
   "language": "python",
   "name": "python3"
  },
  "language_info": {
   "codemirror_mode": {
    "name": "ipython",
    "version": 3
   },
   "file_extension": ".py",
   "mimetype": "text/x-python",
   "name": "python",
   "nbconvert_exporter": "python",
   "pygments_lexer": "ipython3",
   "version": "3.7.2"
  }
 },
 "nbformat": 4,
 "nbformat_minor": 4
}

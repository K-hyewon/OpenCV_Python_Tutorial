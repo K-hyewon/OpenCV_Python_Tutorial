{
  "nbformat": 4,
  "nbformat_minor": 0,
  "metadata": {
    "colab": {
      "name": "DIP_Numpy01.ipynb의 사본",
      "provenance": [],
      "collapsed_sections": [
        "VW2kRHBk-qbO",
        "nE3FMUMF_CcD"
      ],
      "include_colab_link": true
    },
    "kernelspec": {
      "name": "python3",
      "display_name": "Python 3"
    }
  },
  "cells": [
    {
      "cell_type": "markdown",
      "metadata": {
        "id": "view-in-github",
        "colab_type": "text"
      },
      "source": [
        "<a href=\"https://colab.research.google.com/github/dsaint31x/OpenCV_Python_Tutorial/blob/master/DIP/2020/%EC%9E%84%EC%86%A1%ED%99%98/DIP_Numpy01_ipynb.ipynb\" target=\"_parent\"><img src=\"https://colab.research.google.com/assets/colab-badge.svg\" alt=\"Open In Colab\"/></a>"
      ]
    },
    {
      "cell_type": "code",
      "metadata": {
        "id": "JQvWdgTqWn_Y",
        "colab_type": "code",
        "colab": {
          "base_uri": "https://localhost:8080/",
          "height": 35
        },
        "outputId": "f94cac29-39c1-46b6-ff0e-f174a8f3a6b3"
      },
      "source": [
        "import tensorflow as tf\n",
        "import numpy as np\n",
        "np.__version__"
      ],
      "execution_count": 2,
      "outputs": [
        {
          "output_type": "execute_result",
          "data": {
            "application/vnd.google.colaboratory.intrinsic+json": {
              "type": "string"
            },
            "text/plain": [
              "'1.18.5'"
            ]
          },
          "metadata": {
            "tags": []
          },
          "execution_count": 2
        }
      ]
    },
    {
      "cell_type": "code",
      "metadata": {
        "id": "IYk9dDIwoKyh",
        "colab_type": "code",
        "colab": {
          "base_uri": "https://localhost:8080/",
          "height": 35
        },
        "outputId": "b0224bc1-6ea0-483a-ecf3-d796248c8571"
      },
      "source": [
        "tf.__version__"
      ],
      "execution_count": 3,
      "outputs": [
        {
          "output_type": "execute_result",
          "data": {
            "application/vnd.google.colaboratory.intrinsic+json": {
              "type": "string"
            },
            "text/plain": [
              "'2.3.0'"
            ]
          },
          "metadata": {
            "tags": []
          },
          "execution_count": 3
        }
      ]
    },
    {
      "cell_type": "markdown",
      "metadata": {
        "id": "9qKKSyet4KwN",
        "colab_type": "text"
      },
      "source": [
        "`np.array ( list [,dtype])`\n",
        "\n",
        "* list등으로 `ndarray` 생성.\n",
        "* `dtype` : data type of element.\n",
        "   * `float64` : default type in the numpy.\n",
        "   * `uint8` : unsigned int (8bit), the most commonly used for image processing\n",
        "   * `int8` : signed int (8bit)\n",
        "   * `floast32` : float (32bit)"
      ]
    },
    {
      "cell_type": "code",
      "metadata": {
        "id": "iHJMa0O24JgA",
        "colab_type": "code",
        "colab": {
          "base_uri": "https://localhost:8080/",
          "height": 34
        },
        "outputId": "04a3bcaa-9f25-45c0-e387-f1ae9c22940e"
      },
      "source": [
        "a = np.array((1,2,3,4))\n",
        "a"
      ],
      "execution_count": 4,
      "outputs": [
        {
          "output_type": "execute_result",
          "data": {
            "text/plain": [
              "array([1, 2, 3, 4])"
            ]
          },
          "metadata": {
            "tags": []
          },
          "execution_count": 4
        }
      ]
    },
    {
      "cell_type": "code",
      "metadata": {
        "id": "qMsjg-b0ZLcJ",
        "colab_type": "code",
        "colab": {
          "base_uri": "https://localhost:8080/",
          "height": 105
        },
        "outputId": "e864cda3-65f0-4ac8-9f35-f8d39842b4b9"
      },
      "source": [
        "print(a.ndim)\n",
        "print(a.shape)\n",
        "print(a.itemsize) #bytes\n",
        "print(a.size)\n",
        "print(a.dtype)"
      ],
      "execution_count": 5,
      "outputs": [
        {
          "output_type": "stream",
          "text": [
            "1\n",
            "(4,)\n",
            "8\n",
            "4\n",
            "int64\n"
          ],
          "name": "stdout"
        }
      ]
    },
    {
      "cell_type": "code",
      "metadata": {
        "id": "vkb26J3zZgJT",
        "colab_type": "code",
        "colab": {
          "base_uri": "https://localhost:8080/",
          "height": 105
        },
        "outputId": "e0a573a9-6686-4f90-dca5-12632b3d0e6a"
      },
      "source": [
        "tensor = tf.constant(a)\n",
        "print(tf.rank(tensor))\n",
        "print(tensor.ndim)\n",
        "print(tensor.shape)\n",
        "print(tensor.dtype)\n",
        "tensor"
      ],
      "execution_count": 6,
      "outputs": [
        {
          "output_type": "stream",
          "text": [
            "tf.Tensor(1, shape=(), dtype=int32)\n",
            "1\n",
            "(4,)\n",
            "<dtype: 'int64'>\n"
          ],
          "name": "stdout"
        },
        {
          "output_type": "execute_result",
          "data": {
            "text/plain": [
              "<tf.Tensor: shape=(4,), dtype=int64, numpy=array([1, 2, 3, 4])>"
            ]
          },
          "metadata": {
            "tags": []
          },
          "execution_count": 6
        }
      ]
    },
    {
      "cell_type": "markdown",
      "metadata": {
        "id": "T90fDRMl5jB3",
        "colab_type": "text"
      },
      "source": [
        "# 특정 값으로 초기화한 `ndarray` 생성\n",
        "\n",
        "`zeros`,`ones`, and `full`"
      ]
    },
    {
      "cell_type": "code",
      "metadata": {
        "id": "Ziw_tUUW5ue_",
        "colab_type": "code",
        "colab": {
          "base_uri": "https://localhost:8080/",
          "height": 70
        },
        "outputId": "27f10115-d6ea-40f2-f6e7-23822a4931d3"
      },
      "source": [
        "a = np.zeros((3,2))\n",
        "a"
      ],
      "execution_count": 7,
      "outputs": [
        {
          "output_type": "execute_result",
          "data": {
            "text/plain": [
              "array([[0., 0.],\n",
              "       [0., 0.],\n",
              "       [0., 0.]])"
            ]
          },
          "metadata": {
            "tags": []
          },
          "execution_count": 7
        }
      ]
    },
    {
      "cell_type": "code",
      "metadata": {
        "id": "Ap3hCnBtaMWd",
        "colab_type": "code",
        "colab": {
          "base_uri": "https://localhost:8080/",
          "height": 87
        },
        "outputId": "ee34d9dd-477c-4120-8f20-90dcd2e06757"
      },
      "source": [
        "# a_tf = tf.constant(a)\n",
        "a_tf = tf.zeros(shape=(3,2))\n",
        "a_tf\n",
        "# a_tf.numpy()"
      ],
      "execution_count": 8,
      "outputs": [
        {
          "output_type": "execute_result",
          "data": {
            "text/plain": [
              "<tf.Tensor: shape=(3, 2), dtype=float32, numpy=\n",
              "array([[0., 0.],\n",
              "       [0., 0.],\n",
              "       [0., 0.]], dtype=float32)>"
            ]
          },
          "metadata": {
            "tags": []
          },
          "execution_count": 8
        }
      ]
    },
    {
      "cell_type": "code",
      "metadata": {
        "id": "WkHyv-r651mK",
        "colab_type": "code",
        "colab": {
          "base_uri": "https://localhost:8080/",
          "height": 87
        },
        "outputId": "1c2bfcf7-43b0-47f7-fcd7-3d3f40c5b92e"
      },
      "source": [
        "a = np.ones((4,2))\n",
        "a"
      ],
      "execution_count": 9,
      "outputs": [
        {
          "output_type": "execute_result",
          "data": {
            "text/plain": [
              "array([[1., 1.],\n",
              "       [1., 1.],\n",
              "       [1., 1.],\n",
              "       [1., 1.]])"
            ]
          },
          "metadata": {
            "tags": []
          },
          "execution_count": 9
        }
      ]
    },
    {
      "cell_type": "code",
      "metadata": {
        "id": "37CAi5vUamY9",
        "colab_type": "code",
        "colab": {
          "base_uri": "https://localhost:8080/",
          "height": 105
        },
        "outputId": "4934eea7-b8d5-42e6-bcd4-69cde3394a0b"
      },
      "source": [
        "a_tf = tf.ones((4,2), dtype=tf.int64)\n",
        "a_tf"
      ],
      "execution_count": 10,
      "outputs": [
        {
          "output_type": "execute_result",
          "data": {
            "text/plain": [
              "<tf.Tensor: shape=(4, 2), dtype=int64, numpy=\n",
              "array([[1, 1],\n",
              "       [1, 1],\n",
              "       [1, 1],\n",
              "       [1, 1]])>"
            ]
          },
          "metadata": {
            "tags": []
          },
          "execution_count": 10
        }
      ]
    },
    {
      "cell_type": "code",
      "metadata": {
        "id": "prC3HMm355l9",
        "colab_type": "code",
        "colab": {
          "base_uri": "https://localhost:8080/",
          "height": 34
        },
        "outputId": "58e4b36e-6944-40c5-c337-8ad083b33e0f"
      },
      "source": [
        "a = np.full((1,3),7)\n",
        "a"
      ],
      "execution_count": 11,
      "outputs": [
        {
          "output_type": "execute_result",
          "data": {
            "text/plain": [
              "array([[7, 7, 7]])"
            ]
          },
          "metadata": {
            "tags": []
          },
          "execution_count": 11
        }
      ]
    },
    {
      "cell_type": "code",
      "metadata": {
        "id": "nJhwZ89uayMB",
        "colab_type": "code",
        "colab": {
          "base_uri": "https://localhost:8080/",
          "height": 34
        },
        "outputId": "46b6145c-ad22-4f88-d116-4d82094b29a4"
      },
      "source": [
        "a_tf = tf.constant(a)\n",
        "a_tf"
      ],
      "execution_count": 12,
      "outputs": [
        {
          "output_type": "execute_result",
          "data": {
            "text/plain": [
              "<tf.Tensor: shape=(1, 3), dtype=int64, numpy=array([[7, 7, 7]])>"
            ]
          },
          "metadata": {
            "tags": []
          },
          "execution_count": 12
        }
      ]
    },
    {
      "cell_type": "markdown",
      "metadata": {
        "id": "rg1LU7jH5IGB",
        "colab_type": "text"
      },
      "source": [
        "# 기존의 `ndarray` 와 같은 shape를 가지는 `ndarray`생성\n",
        "\n",
        "`zeros_like`, `ones_like`, and `full_like` "
      ]
    },
    {
      "cell_type": "code",
      "metadata": {
        "id": "L4ag0LTM5_sJ",
        "colab_type": "code",
        "colab": {
          "base_uri": "https://localhost:8080/",
          "height": 87
        },
        "outputId": "5c28027d-f2d1-417d-f1ac-7058730dd341"
      },
      "source": [
        "s = np.array([[1,2,3],[4,5,6]])\n",
        "print(s.shape)\n",
        "\n",
        "a = np.zeros_like(s)\n",
        "print(a.shape)\n",
        "a"
      ],
      "execution_count": 13,
      "outputs": [
        {
          "output_type": "stream",
          "text": [
            "(2, 3)\n",
            "(2, 3)\n"
          ],
          "name": "stdout"
        },
        {
          "output_type": "execute_result",
          "data": {
            "text/plain": [
              "array([[0, 0, 0],\n",
              "       [0, 0, 0]])"
            ]
          },
          "metadata": {
            "tags": []
          },
          "execution_count": 13
        }
      ]
    },
    {
      "cell_type": "code",
      "metadata": {
        "id": "Evk1B89u6QgA",
        "colab_type": "code",
        "colab": {
          "base_uri": "https://localhost:8080/",
          "height": 70
        },
        "outputId": "773a5499-f401-4110-e782-2dfa967bc285"
      },
      "source": [
        "a = np.ones_like(s)\n",
        "print(a.shape)\n",
        "a"
      ],
      "execution_count": 14,
      "outputs": [
        {
          "output_type": "stream",
          "text": [
            "(2, 3)\n"
          ],
          "name": "stdout"
        },
        {
          "output_type": "execute_result",
          "data": {
            "text/plain": [
              "array([[1, 1, 1],\n",
              "       [1, 1, 1]])"
            ]
          },
          "metadata": {
            "tags": []
          },
          "execution_count": 14
        }
      ]
    },
    {
      "cell_type": "code",
      "metadata": {
        "id": "3KbDRVns6WwS",
        "colab_type": "code",
        "colab": {
          "base_uri": "https://localhost:8080/",
          "height": 52
        },
        "outputId": "a49f14bc-3247-425d-c558-4cc7041d44da"
      },
      "source": [
        "a = np.full_like(s,3.0)\n",
        "a"
      ],
      "execution_count": 15,
      "outputs": [
        {
          "output_type": "execute_result",
          "data": {
            "text/plain": [
              "array([[3, 3, 3],\n",
              "       [3, 3, 3]])"
            ]
          },
          "metadata": {
            "tags": []
          },
          "execution_count": 15
        }
      ]
    },
    {
      "cell_type": "code",
      "metadata": {
        "id": "XiWr1rvrtri4",
        "colab_type": "code",
        "colab": {
          "base_uri": "https://localhost:8080/",
          "height": 34
        },
        "outputId": "cb083032-709f-4ede-a29b-1436186ff71e"
      },
      "source": [
        "np.zeros((256,128,3)).shape"
      ],
      "execution_count": 16,
      "outputs": [
        {
          "output_type": "execute_result",
          "data": {
            "text/plain": [
              "(256, 128, 3)"
            ]
          },
          "metadata": {
            "tags": []
          },
          "execution_count": 16
        }
      ]
    },
    {
      "cell_type": "markdown",
      "metadata": {
        "id": "G74cZ8N0GZRs",
        "colab_type": "text"
      },
      "source": [
        "# indexing & slicing\n",
        "\n",
        "`ndarray`의 element에 접근하는 것은 indexing을 통해 하나하나에 접근하고, slicing을 통해 특정 영역의 element에 접근 가능함.\n",
        "\n",
        "* list등의 python의 fundamental type들과의 차이는 slicing의 경우에 numpy는 원본을 가리키고 있어서 slicing으로 실제로 원본이 수정되게 됨. (주의 필요.)"
      ]
    },
    {
      "cell_type": "code",
      "metadata": {
        "id": "7L33cIoPHFzZ",
        "colab_type": "code",
        "colab": {
          "base_uri": "https://localhost:8080/",
          "height": 70
        },
        "outputId": "e754e213-dd67-4112-a0b3-9e18522df4aa"
      },
      "source": [
        "A = np.arange(0,12).reshape(3,4)\n",
        "A"
      ],
      "execution_count": 17,
      "outputs": [
        {
          "output_type": "execute_result",
          "data": {
            "text/plain": [
              "array([[ 0,  1,  2,  3],\n",
              "       [ 4,  5,  6,  7],\n",
              "       [ 8,  9, 10, 11]])"
            ]
          },
          "metadata": {
            "tags": []
          },
          "execution_count": 17
        }
      ]
    },
    {
      "cell_type": "code",
      "metadata": {
        "id": "RYJZ9uXfbkl-",
        "colab_type": "code",
        "colab": {
          "base_uri": "https://localhost:8080/",
          "height": 87
        },
        "outputId": "4e8e13d5-8780-464a-96d8-2b24dd27e8d1"
      },
      "source": [
        "A_tf = tf.constant(tf.range(0,12),shape=(3,4))\n",
        "A_tf"
      ],
      "execution_count": 18,
      "outputs": [
        {
          "output_type": "execute_result",
          "data": {
            "text/plain": [
              "<tf.Tensor: shape=(3, 4), dtype=int32, numpy=\n",
              "array([[ 0,  1,  2,  3],\n",
              "       [ 4,  5,  6,  7],\n",
              "       [ 8,  9, 10, 11]], dtype=int32)>"
            ]
          },
          "metadata": {
            "tags": []
          },
          "execution_count": 18
        }
      ]
    },
    {
      "cell_type": "code",
      "metadata": {
        "id": "gQHQpAusHTz4",
        "colab_type": "code",
        "colab": {
          "base_uri": "https://localhost:8080/",
          "height": 70
        },
        "outputId": "96f67d41-c06a-4172-a29c-114a80dafca7"
      },
      "source": [
        "print(f'A[0] is \"{A[0]}\"')\n",
        "print(f'A[0,2] is \"{A[0,2]}\"')\n",
        "print(f'A[0][2] is \"{A[0][2]}\"')"
      ],
      "execution_count": 19,
      "outputs": [
        {
          "output_type": "stream",
          "text": [
            "A[0] is \"[0 1 2 3]\"\n",
            "A[0,2] is \"2\"\n",
            "A[0][2] is \"2\"\n"
          ],
          "name": "stdout"
        }
      ]
    },
    {
      "cell_type": "code",
      "metadata": {
        "id": "duiFaLnYcFvY",
        "colab_type": "code",
        "colab": {
          "base_uri": "https://localhost:8080/",
          "height": 34
        },
        "outputId": "95d5ac32-0895-4b78-94a4-96780a8a0103"
      },
      "source": [
        "A_tf[0,2] # scalar"
      ],
      "execution_count": 20,
      "outputs": [
        {
          "output_type": "execute_result",
          "data": {
            "text/plain": [
              "<tf.Tensor: shape=(), dtype=int32, numpy=2>"
            ]
          },
          "metadata": {
            "tags": []
          },
          "execution_count": 20
        }
      ]
    },
    {
      "cell_type": "code",
      "metadata": {
        "id": "tZeRYWUoH1wF",
        "colab_type": "code",
        "colab": {
          "base_uri": "https://localhost:8080/",
          "height": 158
        },
        "outputId": "5dab2f94-2dae-43f5-c6db-2fb9be7a05c7"
      },
      "source": [
        "print(A)\n",
        "print(f'A[1,2:] is \"{A[1,2:]}\"')\n",
        "print(f'A[1,::2] is \"{A[1,::2]}\"')\n",
        "print(f'A[1,::-2] is \"{A[1,::-2]}\"')\n",
        "print(f'A[1,::-1] is \"{A[1,::-1]}\"')\n",
        "print(f'A[1,3:0:-1] is \"{A[1,3:0:-1]}\"')"
      ],
      "execution_count": 21,
      "outputs": [
        {
          "output_type": "stream",
          "text": [
            "[[ 0  1  2  3]\n",
            " [ 4  5  6  7]\n",
            " [ 8  9 10 11]]\n",
            "A[1,2:] is \"[6 7]\"\n",
            "A[1,::2] is \"[4 6]\"\n",
            "A[1,::-2] is \"[7 5]\"\n",
            "A[1,::-1] is \"[7 6 5 4]\"\n",
            "A[1,3:0:-1] is \"[7 6 5]\"\n"
          ],
          "name": "stdout"
        }
      ]
    },
    {
      "cell_type": "code",
      "metadata": {
        "id": "7fAa6FFqIjiY",
        "colab_type": "code",
        "colab": {
          "base_uri": "https://localhost:8080/",
          "height": 52
        },
        "outputId": "7e263650-67d1-4e42-dcf4-e1118ec8b653"
      },
      "source": [
        "A[1:3,1:3]"
      ],
      "execution_count": 22,
      "outputs": [
        {
          "output_type": "execute_result",
          "data": {
            "text/plain": [
              "array([[ 5,  6],\n",
              "       [ 9, 10]])"
            ]
          },
          "metadata": {
            "tags": []
          },
          "execution_count": 22
        }
      ]
    },
    {
      "cell_type": "code",
      "metadata": {
        "id": "ZsC__RZzItTM",
        "colab_type": "code",
        "colab": {
          "base_uri": "https://localhost:8080/",
          "height": 70
        },
        "outputId": "49f76d62-549c-495b-9845-dd2eeb67a161"
      },
      "source": [
        "A[1:3,1:3] = 777\n",
        "A"
      ],
      "execution_count": 23,
      "outputs": [
        {
          "output_type": "execute_result",
          "data": {
            "text/plain": [
              "array([[  0,   1,   2,   3],\n",
              "       [  4, 777, 777,   7],\n",
              "       [  8, 777, 777,  11]])"
            ]
          },
          "metadata": {
            "tags": []
          },
          "execution_count": 23
        }
      ]
    },
    {
      "cell_type": "markdown",
      "metadata": {
        "id": "OSd5xM3x6V_A",
        "colab_type": "text"
      },
      "source": [
        "# 난수 생성.\n",
        "\n",
        "`np.random.rand([d0 [,d1 [ ..., dn])` : 0~1사이의 수들이 균일한 확률로 선택되어 반환됨.\n",
        "* d0 , ... , dn : 난수로 구성된 ndarray의 shape를 지정하는 데 사용됨.\n",
        "\n",
        "`np.random.randn([d0 [,d1 [ ..., dn])` : $\\mu=0, \\sigma=1$ 인 정규 분포를 따르는 난수 반환.\n"
      ]
    },
    {
      "cell_type": "code",
      "metadata": {
        "id": "d7oxzXhO7r8r",
        "colab_type": "code",
        "colab": {
          "base_uri": "https://localhost:8080/",
          "height": 87
        },
        "outputId": "a5d58a92-731f-4f7d-f79a-96dfb9431f52"
      },
      "source": [
        "A = np.random.rand(3,4)\n",
        "print(A.dtype)\n",
        "A"
      ],
      "execution_count": 24,
      "outputs": [
        {
          "output_type": "stream",
          "text": [
            "float64\n"
          ],
          "name": "stdout"
        },
        {
          "output_type": "execute_result",
          "data": {
            "text/plain": [
              "array([[0.83498972, 0.57338766, 0.07813079, 0.55333088],\n",
              "       [0.34159524, 0.5527507 , 0.00414163, 0.85220741],\n",
              "       [0.45920992, 0.93180411, 0.84370592, 0.23299745]])"
            ]
          },
          "metadata": {
            "tags": []
          },
          "execution_count": 24
        }
      ]
    },
    {
      "cell_type": "code",
      "metadata": {
        "id": "aOqMiEsScnS9",
        "colab_type": "code",
        "colab": {
          "base_uri": "https://localhost:8080/",
          "height": 87
        },
        "outputId": "6e5bc072-f397-4b17-de04-789d743ef11a"
      },
      "source": [
        "A_tf = tf.random.uniform(shape=(3,4), minval=0., maxval=1. )\n",
        "A_tf"
      ],
      "execution_count": 25,
      "outputs": [
        {
          "output_type": "execute_result",
          "data": {
            "text/plain": [
              "<tf.Tensor: shape=(3, 4), dtype=float32, numpy=\n",
              "array([[0.524968  , 0.9487542 , 0.8286005 , 0.4747324 ],\n",
              "       [0.22451007, 0.53659296, 0.8886337 , 0.33421957],\n",
              "       [0.38916183, 0.6480521 , 0.5823848 , 0.23426366]], dtype=float32)>"
            ]
          },
          "metadata": {
            "tags": []
          },
          "execution_count": 25
        }
      ]
    },
    {
      "cell_type": "code",
      "metadata": {
        "id": "fbjSFZVO7x56",
        "colab_type": "code",
        "colab": {
          "base_uri": "https://localhost:8080/",
          "height": 34
        },
        "outputId": "f8d2c363-ee27-47dd-adbf-1956efa3eee8"
      },
      "source": [
        "A = np.random.randn(1,2) #normal distribution of which parameters are mean and standard deviation.\n",
        "A"
      ],
      "execution_count": 26,
      "outputs": [
        {
          "output_type": "execute_result",
          "data": {
            "text/plain": [
              "array([[1.69929865, 1.11460481]])"
            ]
          },
          "metadata": {
            "tags": []
          },
          "execution_count": 26
        }
      ]
    },
    {
      "cell_type": "code",
      "metadata": {
        "id": "QJGIx8J0dfUW",
        "colab_type": "code",
        "colab": {
          "base_uri": "https://localhost:8080/",
          "height": 34
        },
        "outputId": "20671a58-90bd-4941-b030-03f9b8d2d9a2"
      },
      "source": [
        "A_tf = tf.random.normal(shape=(1,2),mean=0., stddev=1.0)\n",
        "A_tf"
      ],
      "execution_count": 27,
      "outputs": [
        {
          "output_type": "execute_result",
          "data": {
            "text/plain": [
              "<tf.Tensor: shape=(1, 2), dtype=float32, numpy=array([[-1.2761047, -1.416095 ]], dtype=float32)>"
            ]
          },
          "metadata": {
            "tags": []
          },
          "execution_count": 27
        }
      ]
    },
    {
      "cell_type": "markdown",
      "metadata": {
        "id": "M28jZA4u77ly",
        "colab_type": "text"
      },
      "source": [
        "# `ndarray`의 `dtype` 변경\n",
        "\n",
        "`ndarray.astype(dtype)` : method. argument로 넘겨진 `dtype`로 해당 `ndarray`의 타입 변경한 `ndarray`반환\n",
        "\n",
        "`np.uint8(ndarray)` : argument로 넘겨진 `ndarray`를 `uint8`로 변경한 새로운 `ndarray`반환\n",
        "\n",
        "..."
      ]
    },
    {
      "cell_type": "code",
      "metadata": {
        "id": "kk380h0j8f3k",
        "colab_type": "code",
        "colab": {
          "base_uri": "https://localhost:8080/",
          "height": 70
        },
        "outputId": "c9282126-2725-46d2-a875-ce2422d307a6"
      },
      "source": [
        "print(a)\n",
        "a.dtype"
      ],
      "execution_count": 28,
      "outputs": [
        {
          "output_type": "stream",
          "text": [
            "[[3 3 3]\n",
            " [3 3 3]]\n"
          ],
          "name": "stdout"
        },
        {
          "output_type": "execute_result",
          "data": {
            "text/plain": [
              "dtype('int64')"
            ]
          },
          "metadata": {
            "tags": []
          },
          "execution_count": 28
        }
      ]
    },
    {
      "cell_type": "code",
      "metadata": {
        "id": "UgSxTJS18kqy",
        "colab_type": "code",
        "colab": {
          "base_uri": "https://localhost:8080/",
          "height": 70
        },
        "outputId": "14976019-e4d5-4544-a40f-5e19facf9840"
      },
      "source": [
        "c = a.astype('float32')\n",
        "print(a.dtype)\n",
        "c\n",
        "print(id(a))\n",
        "print(id(c))"
      ],
      "execution_count": 29,
      "outputs": [
        {
          "output_type": "stream",
          "text": [
            "int64\n",
            "140284531312320\n",
            "140284433522896\n"
          ],
          "name": "stdout"
        }
      ]
    },
    {
      "cell_type": "code",
      "metadata": {
        "id": "XE9F8gd2eFhj",
        "colab_type": "code",
        "colab": {
          "base_uri": "https://localhost:8080/",
          "height": 70
        },
        "outputId": "e3d8c22b-499d-4b38-ee1c-e139bc383a8d"
      },
      "source": [
        "c_tf = tf.dtypes.cast(c,tf.float32)\n",
        "c_tf"
      ],
      "execution_count": 30,
      "outputs": [
        {
          "output_type": "execute_result",
          "data": {
            "text/plain": [
              "<tf.Tensor: shape=(2, 3), dtype=float32, numpy=\n",
              "array([[3., 3., 3.],\n",
              "       [3., 3., 3.]], dtype=float32)>"
            ]
          },
          "metadata": {
            "tags": []
          },
          "execution_count": 30
        }
      ]
    },
    {
      "cell_type": "code",
      "metadata": {
        "id": "hMHn9U2u80Z3",
        "colab_type": "code",
        "colab": {
          "base_uri": "https://localhost:8080/",
          "height": 70
        },
        "outputId": "dc89414e-b5aa-43ec-de62-5e0d31a73a29"
      },
      "source": [
        "c = np.uint8(a)\n",
        "print(c.dtype)\n",
        "c\n",
        "print(id(a))\n",
        "print(id(c))"
      ],
      "execution_count": 31,
      "outputs": [
        {
          "output_type": "stream",
          "text": [
            "uint8\n",
            "140284531312320\n",
            "140284433525376\n"
          ],
          "name": "stdout"
        }
      ]
    },
    {
      "cell_type": "code",
      "metadata": {
        "id": "ECJ8eGrAekrN",
        "colab_type": "code",
        "colab": {
          "base_uri": "https://localhost:8080/",
          "height": 52
        },
        "outputId": "67c98385-4151-43ab-f154-07379babde9d"
      },
      "source": [
        "c = np.uint64(a)\n",
        "print(a.dtype)\n",
        "c\n",
        "print(c.dtype)"
      ],
      "execution_count": 32,
      "outputs": [
        {
          "output_type": "stream",
          "text": [
            "int64\n",
            "uint64\n"
          ],
          "name": "stdout"
        }
      ]
    },
    {
      "cell_type": "markdown",
      "metadata": {
        "id": "-0sz_0EO9Jru",
        "colab_type": "text"
      },
      "source": [
        "# `shape`변경\n",
        "\n",
        "`ndarray.reshape(new_hsape)`"
      ]
    },
    {
      "cell_type": "code",
      "metadata": {
        "id": "ICg0CAS6W0qd",
        "colab_type": "code",
        "colab": {
          "base_uri": "https://localhost:8080/",
          "height": 52
        },
        "outputId": "c541ff79-d7eb-4a12-b0d1-ef774e6a1cd2"
      },
      "source": [
        "a = np.arange(4).reshape(2,2)\n",
        "a"
      ],
      "execution_count": 33,
      "outputs": [
        {
          "output_type": "execute_result",
          "data": {
            "text/plain": [
              "array([[0, 1],\n",
              "       [2, 3]])"
            ]
          },
          "metadata": {
            "tags": []
          },
          "execution_count": 33
        }
      ]
    },
    {
      "cell_type": "code",
      "metadata": {
        "id": "Vm0n4k_qW6Ej",
        "colab_type": "code",
        "colab": {
          "base_uri": "https://localhost:8080/",
          "height": 52
        },
        "outputId": "109c1d45-9786-4971-d3ea-1b2f76b8dd36"
      },
      "source": [
        "b= np.arange(10,14).reshape(2,2)\n",
        "b"
      ],
      "execution_count": 34,
      "outputs": [
        {
          "output_type": "execute_result",
          "data": {
            "text/plain": [
              "array([[10, 11],\n",
              "       [12, 13]])"
            ]
          },
          "metadata": {
            "tags": []
          },
          "execution_count": 34
        }
      ]
    },
    {
      "cell_type": "code",
      "metadata": {
        "id": "ywRL9YZC9sk5",
        "colab_type": "code",
        "colab": {
          "base_uri": "https://localhost:8080/",
          "height": 70
        },
        "outputId": "b78b8e19-1c90-4e4e-bee5-d1e23e9ae432"
      },
      "source": [
        "a = np.arange(0,10,2)\n",
        "b = a.reshape((1,5))\n",
        "print(a.shape)\n",
        "print(b.shape)\n",
        "b"
      ],
      "execution_count": 35,
      "outputs": [
        {
          "output_type": "stream",
          "text": [
            "(5,)\n",
            "(1, 5)\n"
          ],
          "name": "stdout"
        },
        {
          "output_type": "execute_result",
          "data": {
            "text/plain": [
              "array([[0, 2, 4, 6, 8]])"
            ]
          },
          "metadata": {
            "tags": []
          },
          "execution_count": 35
        }
      ]
    },
    {
      "cell_type": "code",
      "metadata": {
        "id": "6HvEgicDfLtI",
        "colab_type": "code",
        "colab": {
          "base_uri": "https://localhost:8080/",
          "height": 70
        },
        "outputId": "fb9182f8-e9c8-406c-81de-34b4d1ec94ab"
      },
      "source": [
        "a_tf = tf.constant(a)\n",
        "print(a_tf.shape, tf.rank(a_tf))\n",
        "\n",
        "b_tf = tf.reshape(a_tf,(5,1))\n",
        "print(b_tf.shape, tf.rank(b_tf))\n",
        "\n",
        "c_tf = tf.reshape(a_tf,shape=(1,5))\n",
        "print(c_tf.shape, tf.rank(c_tf))"
      ],
      "execution_count": 36,
      "outputs": [
        {
          "output_type": "stream",
          "text": [
            "(5,) tf.Tensor(1, shape=(), dtype=int32)\n",
            "(5, 1) tf.Tensor(2, shape=(), dtype=int32)\n",
            "(1, 5) tf.Tensor(2, shape=(), dtype=int32)\n"
          ],
          "name": "stdout"
        }
      ]
    },
    {
      "cell_type": "markdown",
      "metadata": {
        "id": "i5LVKihH-Any",
        "colab_type": "text"
      },
      "source": [
        "# ndarray를 1차원으로 풀어내기\n",
        "\n",
        "`ndarray.ravel()`"
      ]
    },
    {
      "cell_type": "code",
      "metadata": {
        "id": "ahP9O_37-Kyl",
        "colab_type": "code",
        "colab": {
          "base_uri": "https://localhost:8080/",
          "height": 70
        },
        "outputId": "3a3907f7-ce17-490e-e946-0a1c0abbbea2"
      },
      "source": [
        "a = np.arange(1,10).reshape((3,3))\n",
        "b = a.ravel()\n",
        "print(a.shape, id(a))\n",
        "\n",
        "print(b.shape, id(b))\n",
        "b"
      ],
      "execution_count": 37,
      "outputs": [
        {
          "output_type": "stream",
          "text": [
            "(3, 3) 140284433526336\n",
            "(9,) 140284433522896\n"
          ],
          "name": "stdout"
        },
        {
          "output_type": "execute_result",
          "data": {
            "text/plain": [
              "array([1, 2, 3, 4, 5, 6, 7, 8, 9])"
            ]
          },
          "metadata": {
            "tags": []
          },
          "execution_count": 37
        }
      ]
    },
    {
      "cell_type": "code",
      "metadata": {
        "id": "GN1Aj_Fa2m8M",
        "colab_type": "code",
        "colab": {
          "base_uri": "https://localhost:8080/",
          "height": 193
        },
        "outputId": "e8ba3120-c041-4687-d769-15f683cb9573"
      },
      "source": [
        "d=np.arange(2,65,2).reshape(8,4)\n",
        "print(d)\n",
        "e=d.ravel()\n",
        "print(e)"
      ],
      "execution_count": 38,
      "outputs": [
        {
          "output_type": "stream",
          "text": [
            "[[ 2  4  6  8]\n",
            " [10 12 14 16]\n",
            " [18 20 22 24]\n",
            " [26 28 30 32]\n",
            " [34 36 38 40]\n",
            " [42 44 46 48]\n",
            " [50 52 54 56]\n",
            " [58 60 62 64]]\n",
            "[ 2  4  6  8 10 12 14 16 18 20 22 24 26 28 30 32 34 36 38 40 42 44 46 48\n",
            " 50 52 54 56 58 60 62 64]\n"
          ],
          "name": "stdout"
        }
      ]
    },
    {
      "cell_type": "markdown",
      "metadata": {
        "id": "VW2kRHBk-qbO",
        "colab_type": "text"
      },
      "source": [
        "# Transpose\n",
        "\n",
        "`ndarray.T`"
      ]
    },
    {
      "cell_type": "code",
      "metadata": {
        "id": "VwdMgAcq-ysf",
        "colab_type": "code",
        "colab": {
          "base_uri": "https://localhost:8080/",
          "height": 101
        },
        "outputId": "a6416dff-e296-46eb-f5d1-88e291f5b275"
      },
      "source": [
        "c=a.T\n",
        "print(id(a))\n",
        "print(id(c))\n",
        "c"
      ],
      "execution_count": null,
      "outputs": [
        {
          "output_type": "stream",
          "text": [
            "140300165615488\n",
            "140300165728576\n"
          ],
          "name": "stdout"
        },
        {
          "output_type": "execute_result",
          "data": {
            "text/plain": [
              "array([[1, 4, 7],\n",
              "       [2, 5, 8],\n",
              "       [3, 6, 9]])"
            ]
          },
          "metadata": {
            "tags": []
          },
          "execution_count": 34
        }
      ]
    },
    {
      "cell_type": "markdown",
      "metadata": {
        "id": "nE3FMUMF_CcD",
        "colab_type": "text"
      },
      "source": [
        "# Broadcasting\n",
        "\n",
        "ndarray와 scalar와 연산시킬때, 해당 ndarray와 같은 shape이면서 해당 scalar의 값을 가진 ndarray와 연산시키는 것처럼 자동으로 elementwise연산이 수행되는 기능.\n",
        "* numpy의 가장 강력한 기능 중 하나. "
      ]
    },
    {
      "cell_type": "code",
      "metadata": {
        "id": "hGr38-wF_fgw",
        "colab_type": "code",
        "colab": {
          "base_uri": "https://localhost:8080/",
          "height": 122
        },
        "outputId": "e996cc3d-6271-45f5-f79e-8a3f5b39e1f4"
      },
      "source": [
        "print(a)\n",
        "c = a+2\n",
        "print(c)"
      ],
      "execution_count": 39,
      "outputs": [
        {
          "output_type": "stream",
          "text": [
            "[[1 2 3]\n",
            " [4 5 6]\n",
            " [7 8 9]]\n",
            "[[ 3  4  5]\n",
            " [ 6  7  8]\n",
            " [ 9 10 11]]\n"
          ],
          "name": "stdout"
        }
      ]
    },
    {
      "cell_type": "code",
      "metadata": {
        "id": "zVfumBf7_njB",
        "colab_type": "code",
        "colab": {
          "base_uri": "https://localhost:8080/",
          "height": 415
        },
        "outputId": "d1ad3da5-c204-4620-c61d-f3ef644ad392"
      },
      "source": [
        "a = np.ones((5,3))\n",
        "c = a+np.array([3,4,5])\n",
        "print(c)\n",
        "\n",
        "b= np.array([3,4,5,6,7])\n",
        "c = a+(b[:,np.newaxis])\n",
        "print(b[:,np.newaxis].shape)\n",
        "print(c)\n",
        "\n",
        "c = a+np.array([3,4,5,6,7])\n",
        "print(c)"
      ],
      "execution_count": 40,
      "outputs": [
        {
          "output_type": "stream",
          "text": [
            "[[4. 5. 6.]\n",
            " [4. 5. 6.]\n",
            " [4. 5. 6.]\n",
            " [4. 5. 6.]\n",
            " [4. 5. 6.]]\n",
            "(5, 1)\n",
            "[[4. 4. 4.]\n",
            " [5. 5. 5.]\n",
            " [6. 6. 6.]\n",
            " [7. 7. 7.]\n",
            " [8. 8. 8.]]\n"
          ],
          "name": "stdout"
        },
        {
          "output_type": "error",
          "ename": "ValueError",
          "evalue": "ignored",
          "traceback": [
            "\u001b[0;31m---------------------------------------------------------------------------\u001b[0m",
            "\u001b[0;31mValueError\u001b[0m                                Traceback (most recent call last)",
            "\u001b[0;32m<ipython-input-40-ff055937c894>\u001b[0m in \u001b[0;36m<module>\u001b[0;34m()\u001b[0m\n\u001b[1;32m      8\u001b[0m \u001b[0mprint\u001b[0m\u001b[0;34m(\u001b[0m\u001b[0mc\u001b[0m\u001b[0;34m)\u001b[0m\u001b[0;34m\u001b[0m\u001b[0;34m\u001b[0m\u001b[0m\n\u001b[1;32m      9\u001b[0m \u001b[0;34m\u001b[0m\u001b[0m\n\u001b[0;32m---> 10\u001b[0;31m \u001b[0mc\u001b[0m \u001b[0;34m=\u001b[0m \u001b[0ma\u001b[0m\u001b[0;34m+\u001b[0m\u001b[0mnp\u001b[0m\u001b[0;34m.\u001b[0m\u001b[0marray\u001b[0m\u001b[0;34m(\u001b[0m\u001b[0;34m[\u001b[0m\u001b[0;36m3\u001b[0m\u001b[0;34m,\u001b[0m\u001b[0;36m4\u001b[0m\u001b[0;34m,\u001b[0m\u001b[0;36m5\u001b[0m\u001b[0;34m,\u001b[0m\u001b[0;36m6\u001b[0m\u001b[0;34m,\u001b[0m\u001b[0;36m7\u001b[0m\u001b[0;34m]\u001b[0m\u001b[0;34m)\u001b[0m\u001b[0;34m\u001b[0m\u001b[0;34m\u001b[0m\u001b[0m\n\u001b[0m\u001b[1;32m     11\u001b[0m \u001b[0mprint\u001b[0m\u001b[0;34m(\u001b[0m\u001b[0mc\u001b[0m\u001b[0;34m)\u001b[0m\u001b[0;34m\u001b[0m\u001b[0;34m\u001b[0m\u001b[0m\n",
            "\u001b[0;31mValueError\u001b[0m: operands could not be broadcast together with shapes (5,3) (5,) "
          ]
        }
      ]
    },
    {
      "cell_type": "code",
      "metadata": {
        "id": "sCAZWErq6rz7",
        "colab_type": "code",
        "colab": {
          "base_uri": "https://localhost:8080/",
          "height": 105
        },
        "outputId": "b3929109-4c39-41b0-a3ff-5ae2e2f710f7"
      },
      "source": [
        "a = np.ones((5,3))\n",
        "c = a+np.array([3,4,5])\n",
        "print(c)"
      ],
      "execution_count": 41,
      "outputs": [
        {
          "output_type": "stream",
          "text": [
            "[[4. 5. 6.]\n",
            " [4. 5. 6.]\n",
            " [4. 5. 6.]\n",
            " [4. 5. 6.]\n",
            " [4. 5. 6.]]\n"
          ],
          "name": "stdout"
        }
      ]
    },
    {
      "cell_type": "code",
      "metadata": {
        "id": "J6vX6OOVW-u2",
        "colab_type": "code",
        "colab": {
          "base_uri": "https://localhost:8080/",
          "height": 204
        },
        "outputId": "367bce04-2756-4242-e170-ce895d038e24"
      },
      "source": [
        "np.concatenate((a,b),0)"
      ],
      "execution_count": 42,
      "outputs": [
        {
          "output_type": "error",
          "ename": "ValueError",
          "evalue": "ignored",
          "traceback": [
            "\u001b[0;31m---------------------------------------------------------------------------\u001b[0m",
            "\u001b[0;31mValueError\u001b[0m                                Traceback (most recent call last)",
            "\u001b[0;32m<ipython-input-42-190f024ad22e>\u001b[0m in \u001b[0;36m<module>\u001b[0;34m()\u001b[0m\n\u001b[0;32m----> 1\u001b[0;31m \u001b[0mnp\u001b[0m\u001b[0;34m.\u001b[0m\u001b[0mconcatenate\u001b[0m\u001b[0;34m(\u001b[0m\u001b[0;34m(\u001b[0m\u001b[0ma\u001b[0m\u001b[0;34m,\u001b[0m\u001b[0mb\u001b[0m\u001b[0;34m)\u001b[0m\u001b[0;34m,\u001b[0m\u001b[0;36m0\u001b[0m\u001b[0;34m)\u001b[0m\u001b[0;34m\u001b[0m\u001b[0;34m\u001b[0m\u001b[0m\n\u001b[0m",
            "\u001b[0;32m<__array_function__ internals>\u001b[0m in \u001b[0;36mconcatenate\u001b[0;34m(*args, **kwargs)\u001b[0m\n",
            "\u001b[0;31mValueError\u001b[0m: all the input arrays must have same number of dimensions, but the array at index 0 has 2 dimension(s) and the array at index 1 has 1 dimension(s)"
          ]
        }
      ]
    },
    {
      "cell_type": "code",
      "metadata": {
        "id": "JC1uM-KhXEai",
        "colab_type": "code",
        "colab": {
          "base_uri": "https://localhost:8080/",
          "height": 362
        },
        "outputId": "0169c436-e4ab-447d-babf-1df217419027"
      },
      "source": [
        "np.vstack((a,b))"
      ],
      "execution_count": 43,
      "outputs": [
        {
          "output_type": "error",
          "ename": "ValueError",
          "evalue": "ignored",
          "traceback": [
            "\u001b[0;31m---------------------------------------------------------------------------\u001b[0m",
            "\u001b[0;31mValueError\u001b[0m                                Traceback (most recent call last)",
            "\u001b[0;32m<ipython-input-43-cd1ecc781bea>\u001b[0m in \u001b[0;36m<module>\u001b[0;34m()\u001b[0m\n\u001b[0;32m----> 1\u001b[0;31m \u001b[0mnp\u001b[0m\u001b[0;34m.\u001b[0m\u001b[0mvstack\u001b[0m\u001b[0;34m(\u001b[0m\u001b[0;34m(\u001b[0m\u001b[0ma\u001b[0m\u001b[0;34m,\u001b[0m\u001b[0mb\u001b[0m\u001b[0;34m)\u001b[0m\u001b[0;34m)\u001b[0m\u001b[0;34m\u001b[0m\u001b[0;34m\u001b[0m\u001b[0m\n\u001b[0m",
            "\u001b[0;32m<__array_function__ internals>\u001b[0m in \u001b[0;36mvstack\u001b[0;34m(*args, **kwargs)\u001b[0m\n",
            "\u001b[0;32m/usr/local/lib/python3.6/dist-packages/numpy/core/shape_base.py\u001b[0m in \u001b[0;36mvstack\u001b[0;34m(tup)\u001b[0m\n\u001b[1;32m    281\u001b[0m     \u001b[0;32mif\u001b[0m \u001b[0;32mnot\u001b[0m \u001b[0misinstance\u001b[0m\u001b[0;34m(\u001b[0m\u001b[0marrs\u001b[0m\u001b[0;34m,\u001b[0m \u001b[0mlist\u001b[0m\u001b[0;34m)\u001b[0m\u001b[0;34m:\u001b[0m\u001b[0;34m\u001b[0m\u001b[0;34m\u001b[0m\u001b[0m\n\u001b[1;32m    282\u001b[0m         \u001b[0marrs\u001b[0m \u001b[0;34m=\u001b[0m \u001b[0;34m[\u001b[0m\u001b[0marrs\u001b[0m\u001b[0;34m]\u001b[0m\u001b[0;34m\u001b[0m\u001b[0;34m\u001b[0m\u001b[0m\n\u001b[0;32m--> 283\u001b[0;31m     \u001b[0;32mreturn\u001b[0m \u001b[0m_nx\u001b[0m\u001b[0;34m.\u001b[0m\u001b[0mconcatenate\u001b[0m\u001b[0;34m(\u001b[0m\u001b[0marrs\u001b[0m\u001b[0;34m,\u001b[0m \u001b[0;36m0\u001b[0m\u001b[0;34m)\u001b[0m\u001b[0;34m\u001b[0m\u001b[0;34m\u001b[0m\u001b[0m\n\u001b[0m\u001b[1;32m    284\u001b[0m \u001b[0;34m\u001b[0m\u001b[0m\n\u001b[1;32m    285\u001b[0m \u001b[0;34m\u001b[0m\u001b[0m\n",
            "\u001b[0;32m<__array_function__ internals>\u001b[0m in \u001b[0;36mconcatenate\u001b[0;34m(*args, **kwargs)\u001b[0m\n",
            "\u001b[0;31mValueError\u001b[0m: all the input array dimensions for the concatenation axis must match exactly, but along dimension 1, the array at index 0 has size 3 and the array at index 1 has size 5"
          ]
        }
      ]
    },
    {
      "cell_type": "code",
      "metadata": {
        "id": "vx-MJpMoXIst",
        "colab_type": "code",
        "colab": {
          "base_uri": "https://localhost:8080/",
          "height": 222
        },
        "outputId": "fbe3e73a-0fef-4068-cd39-92f97b5a647e"
      },
      "source": [
        "np.concatenate((a,b),1)\n",
        "np.hstack((a,b))"
      ],
      "execution_count": 44,
      "outputs": [
        {
          "output_type": "error",
          "ename": "ValueError",
          "evalue": "ignored",
          "traceback": [
            "\u001b[0;31m---------------------------------------------------------------------------\u001b[0m",
            "\u001b[0;31mValueError\u001b[0m                                Traceback (most recent call last)",
            "\u001b[0;32m<ipython-input-44-09e509507c49>\u001b[0m in \u001b[0;36m<module>\u001b[0;34m()\u001b[0m\n\u001b[0;32m----> 1\u001b[0;31m \u001b[0mnp\u001b[0m\u001b[0;34m.\u001b[0m\u001b[0mconcatenate\u001b[0m\u001b[0;34m(\u001b[0m\u001b[0;34m(\u001b[0m\u001b[0ma\u001b[0m\u001b[0;34m,\u001b[0m\u001b[0mb\u001b[0m\u001b[0;34m)\u001b[0m\u001b[0;34m,\u001b[0m\u001b[0;36m1\u001b[0m\u001b[0;34m)\u001b[0m\u001b[0;34m\u001b[0m\u001b[0;34m\u001b[0m\u001b[0m\n\u001b[0m\u001b[1;32m      2\u001b[0m \u001b[0mnp\u001b[0m\u001b[0;34m.\u001b[0m\u001b[0mhstack\u001b[0m\u001b[0;34m(\u001b[0m\u001b[0;34m(\u001b[0m\u001b[0ma\u001b[0m\u001b[0;34m,\u001b[0m\u001b[0mb\u001b[0m\u001b[0;34m)\u001b[0m\u001b[0;34m)\u001b[0m\u001b[0;34m\u001b[0m\u001b[0;34m\u001b[0m\u001b[0m\n",
            "\u001b[0;32m<__array_function__ internals>\u001b[0m in \u001b[0;36mconcatenate\u001b[0;34m(*args, **kwargs)\u001b[0m\n",
            "\u001b[0;31mValueError\u001b[0m: all the input arrays must have same number of dimensions, but the array at index 0 has 2 dimension(s) and the array at index 1 has 1 dimension(s)"
          ]
        }
      ]
    },
    {
      "cell_type": "code",
      "metadata": {
        "id": "7-X7M6jNXNw3",
        "colab_type": "code",
        "colab": {
          "base_uri": "https://localhost:8080/",
          "height": 51
        },
        "outputId": "bc7661e8-9942-41fb-c3f6-fa818aeace40"
      },
      "source": [
        "a = np.arange(12).reshape(4,3)\n",
        "b = np.arange(10,22).reshape(4,3)\n",
        "print(a.shape)\n",
        "print(b.shape)"
      ],
      "execution_count": null,
      "outputs": [
        {
          "output_type": "stream",
          "text": [
            "(4, 3)\n",
            "(4, 3)\n"
          ],
          "name": "stdout"
        }
      ]
    },
    {
      "cell_type": "code",
      "metadata": {
        "id": "E8DqE8shXY-I",
        "colab_type": "code",
        "colab": {
          "base_uri": "https://localhost:8080/",
          "height": 188
        },
        "outputId": "76361f25-0fdc-4986-9e68-f3229b4966b9"
      },
      "source": [
        "c=np.stack((a,b),0)\n",
        "print(c.shape)\n",
        "c"
      ],
      "execution_count": null,
      "outputs": [
        {
          "output_type": "stream",
          "text": [
            "(2, 4, 3)\n"
          ],
          "name": "stdout"
        },
        {
          "output_type": "execute_result",
          "data": {
            "text/plain": [
              "array([[[ 0,  1,  2],\n",
              "        [ 3,  4,  5],\n",
              "        [ 6,  7,  8],\n",
              "        [ 9, 10, 11]],\n",
              "\n",
              "       [[10, 11, 12],\n",
              "        [13, 14, 15],\n",
              "        [16, 17, 18],\n",
              "        [19, 20, 21]]])"
            ]
          },
          "metadata": {
            "tags": []
          },
          "execution_count": 13
        }
      ]
    },
    {
      "cell_type": "code",
      "metadata": {
        "id": "FSROwIKwXcco",
        "colab_type": "code",
        "colab": {
          "base_uri": "https://localhost:8080/",
          "height": 223
        },
        "outputId": "b9aa0176-2433-4288-ec26-f0dd54d7fe18"
      },
      "source": [
        "c=np.stack((a,b),1)\n",
        "print(c.shape)\n",
        "c"
      ],
      "execution_count": null,
      "outputs": [
        {
          "output_type": "stream",
          "text": [
            "(4, 2, 3)\n"
          ],
          "name": "stdout"
        },
        {
          "output_type": "execute_result",
          "data": {
            "text/plain": [
              "array([[[ 0,  1,  2],\n",
              "        [10, 11, 12]],\n",
              "\n",
              "       [[ 3,  4,  5],\n",
              "        [13, 14, 15]],\n",
              "\n",
              "       [[ 6,  7,  8],\n",
              "        [16, 17, 18]],\n",
              "\n",
              "       [[ 9, 10, 11],\n",
              "        [19, 20, 21]]])"
            ]
          },
          "metadata": {
            "tags": []
          },
          "execution_count": 14
        }
      ]
    },
    {
      "cell_type": "code",
      "metadata": {
        "id": "Ww7wByE4X5LN",
        "colab_type": "code",
        "colab": {
          "base_uri": "https://localhost:8080/",
          "height": 291
        },
        "outputId": "e54c6866-52b0-4066-cea9-2be0281065ca"
      },
      "source": [
        "c=np.stack((a,b),2)\n",
        "print(c.shape)\n",
        "c"
      ],
      "execution_count": null,
      "outputs": [
        {
          "output_type": "stream",
          "text": [
            "(4, 3, 2)\n"
          ],
          "name": "stdout"
        },
        {
          "output_type": "execute_result",
          "data": {
            "text/plain": [
              "array([[[ 0, 10],\n",
              "        [ 1, 11],\n",
              "        [ 2, 12]],\n",
              "\n",
              "       [[ 3, 13],\n",
              "        [ 4, 14],\n",
              "        [ 5, 15]],\n",
              "\n",
              "       [[ 6, 16],\n",
              "        [ 7, 17],\n",
              "        [ 8, 18]],\n",
              "\n",
              "       [[ 9, 19],\n",
              "        [10, 20],\n",
              "        [11, 21]]])"
            ]
          },
          "metadata": {
            "tags": []
          },
          "execution_count": 15
        }
      ]
    },
    {
      "cell_type": "code",
      "metadata": {
        "id": "H4W8AnAPX_84",
        "colab_type": "code",
        "colab": {
          "base_uri": "https://localhost:8080/",
          "height": 291
        },
        "outputId": "fbc6596b-56d5-43bd-fe6f-52af25fb0755"
      },
      "source": [
        "c=np.stack((a,b),-1)\n",
        "print(c.shape)\n",
        "c"
      ],
      "execution_count": null,
      "outputs": [
        {
          "output_type": "stream",
          "text": [
            "(4, 3, 2)\n"
          ],
          "name": "stdout"
        },
        {
          "output_type": "execute_result",
          "data": {
            "text/plain": [
              "array([[[ 0, 10],\n",
              "        [ 1, 11],\n",
              "        [ 2, 12]],\n",
              "\n",
              "       [[ 3, 13],\n",
              "        [ 4, 14],\n",
              "        [ 5, 15]],\n",
              "\n",
              "       [[ 6, 16],\n",
              "        [ 7, 17],\n",
              "        [ 8, 18]],\n",
              "\n",
              "       [[ 9, 19],\n",
              "        [10, 20],\n",
              "        [11, 21]]])"
            ]
          },
          "metadata": {
            "tags": []
          },
          "execution_count": 16
        }
      ]
    },
    {
      "cell_type": "code",
      "metadata": {
        "id": "YGE3DRBkYEys",
        "colab_type": "code",
        "colab": {
          "base_uri": "https://localhost:8080/",
          "height": 34
        },
        "outputId": "46e0a6ec-9fc2-4161-fca6-ebbd56bbabf9"
      },
      "source": [
        "a = np.arange(12)\n",
        "a"
      ],
      "execution_count": null,
      "outputs": [
        {
          "output_type": "execute_result",
          "data": {
            "text/plain": [
              "array([ 0,  1,  2,  3,  4,  5,  6,  7,  8,  9, 10, 11])"
            ]
          },
          "metadata": {
            "tags": []
          },
          "execution_count": 18
        }
      ]
    },
    {
      "cell_type": "code",
      "metadata": {
        "id": "4SAV3l9OYrKk",
        "colab_type": "code",
        "colab": {
          "base_uri": "https://localhost:8080/",
          "height": 34
        },
        "outputId": "342fe341-e09a-48d8-c555-6fb10d934d3d"
      },
      "source": [
        "np.hsplit(a,3)"
      ],
      "execution_count": null,
      "outputs": [
        {
          "output_type": "execute_result",
          "data": {
            "text/plain": [
              "[array([0, 1, 2, 3]), array([4, 5, 6, 7]), array([ 8,  9, 10, 11])]"
            ]
          },
          "metadata": {
            "tags": []
          },
          "execution_count": 20
        }
      ]
    },
    {
      "cell_type": "code",
      "metadata": {
        "id": "soX-lOttYvrA",
        "colab_type": "code",
        "colab": {
          "base_uri": "https://localhost:8080/",
          "height": 34
        },
        "outputId": "e8ba306d-b924-4043-d1c4-f82a5bd5b9dd"
      },
      "source": [
        "np.hsplit(a,[3,5])"
      ],
      "execution_count": null,
      "outputs": [
        {
          "output_type": "execute_result",
          "data": {
            "text/plain": [
              "[array([0, 1, 2]), array([3, 4]), array([ 5,  6,  7,  8,  9, 10, 11])]"
            ]
          },
          "metadata": {
            "tags": []
          },
          "execution_count": 22
        }
      ]
    },
    {
      "cell_type": "code",
      "metadata": {
        "id": "otr_H9eJY0uy",
        "colab_type": "code",
        "colab": {
          "base_uri": "https://localhost:8080/",
          "height": 207
        },
        "outputId": "488634a7-4032-48ef-cd42-f534ae988f82"
      },
      "source": [
        "b = np.arage"
      ],
      "execution_count": null,
      "outputs": [
        {
          "output_type": "error",
          "ename": "NameError",
          "evalue": "ignored",
          "traceback": [
            "\u001b[0;31m---------------------------------------------------------------------------\u001b[0m",
            "\u001b[0;31mNameError\u001b[0m                                 Traceback (most recent call last)",
            "\u001b[0;32m<ipython-input-1-0987281b1aac>\u001b[0m in \u001b[0;36m<module>\u001b[0;34m()\u001b[0m\n\u001b[0;32m----> 1\u001b[0;31m \u001b[0mb\u001b[0m \u001b[0;34m=\u001b[0m \u001b[0mnp\u001b[0m\u001b[0;34m.\u001b[0m\u001b[0marage\u001b[0m\u001b[0;34m\u001b[0m\u001b[0;34m\u001b[0m\u001b[0m\n\u001b[0m",
            "\u001b[0;31mNameError\u001b[0m: name 'np' is not defined"
          ]
        }
      ]
    },
    {
      "cell_type": "code",
      "metadata": {
        "id": "vACcIzJaN6Od",
        "colab_type": "code",
        "colab": {}
      },
      "source": [
        "A = np.array([[3,-7,-2],[-3,5,1],[6,-4,0]])\n"
      ],
      "execution_count": null,
      "outputs": []
    },
    {
      "cell_type": "code",
      "metadata": {
        "id": "MsHW8KDfOH2j",
        "colab_type": "code",
        "colab": {}
      },
      "source": [
        "import scipy.linalg as sl\n"
      ],
      "execution_count": null,
      "outputs": []
    },
    {
      "cell_type": "code",
      "metadata": {
        "id": "uDLLUg7qPEE-",
        "colab_type": "code",
        "colab": {
          "base_uri": "https://localhost:8080/",
          "height": 143
        },
        "outputId": "571179b4-9187-4661-8160-427a577bbb25"
      },
      "source": [
        "sl.lu(A)"
      ],
      "execution_count": null,
      "outputs": [
        {
          "output_type": "execute_result",
          "data": {
            "text/plain": [
              "(array([[0., 1., 0.],\n",
              "        [0., 0., 1.],\n",
              "        [1., 0., 0.]]), array([[ 1. ,  0. ,  0. ],\n",
              "        [ 0.5,  1. ,  0. ],\n",
              "        [-0.5, -0.6,  1. ]]), array([[ 6. , -4. ,  0. ],\n",
              "        [ 0. , -5. , -2. ],\n",
              "        [ 0. ,  0. , -0.2]]))"
            ]
          },
          "metadata": {
            "tags": []
          },
          "execution_count": 5
        }
      ]
    },
    {
      "cell_type": "code",
      "metadata": {
        "id": "gZWnb_1rPZGv",
        "colab_type": "code",
        "colab": {}
      },
      "source": [
        "P, L, U = sl.lu(A)"
      ],
      "execution_count": null,
      "outputs": []
    },
    {
      "cell_type": "code",
      "metadata": {
        "id": "cVCIFyGzPbm3",
        "colab_type": "code",
        "colab": {
          "base_uri": "https://localhost:8080/",
          "height": 71
        },
        "outputId": "1d14be1a-7455-4398-d568-20cba3a2d4cd"
      },
      "source": [
        "U"
      ],
      "execution_count": null,
      "outputs": [
        {
          "output_type": "execute_result",
          "data": {
            "text/plain": [
              "array([[ 6. , -4. ,  0. ],\n",
              "       [ 0. , -5. , -2. ],\n",
              "       [ 0. ,  0. , -0.2]])"
            ]
          },
          "metadata": {
            "tags": []
          },
          "execution_count": 8
        }
      ]
    },
    {
      "cell_type": "code",
      "metadata": {
        "id": "acxEG3NVPeq6",
        "colab_type": "code",
        "colab": {
          "base_uri": "https://localhost:8080/",
          "height": 71
        },
        "outputId": "d86e7f90-9ef2-496a-ebe4-f2ea1255f3e7"
      },
      "source": [
        "L"
      ],
      "execution_count": null,
      "outputs": [
        {
          "output_type": "execute_result",
          "data": {
            "text/plain": [
              "array([[ 1. ,  0. ,  0. ],\n",
              "       [ 0.5,  1. ,  0. ],\n",
              "       [-0.5, -0.6,  1. ]])"
            ]
          },
          "metadata": {
            "tags": []
          },
          "execution_count": 9
        }
      ]
    },
    {
      "cell_type": "code",
      "metadata": {
        "id": "6cLeRByLQNPz",
        "colab_type": "code",
        "colab": {
          "base_uri": "https://localhost:8080/",
          "height": 71
        },
        "outputId": "ba5a30dd-7876-46f6-c0e3-6e1542b23db6"
      },
      "source": [
        "np.linalg.inv(L)"
      ],
      "execution_count": null,
      "outputs": [
        {
          "output_type": "execute_result",
          "data": {
            "text/plain": [
              "array([[ 1. ,  0. ,  0. ],\n",
              "       [-0.5,  1. ,  0. ],\n",
              "       [ 0.2,  0.6,  1. ]])"
            ]
          },
          "metadata": {
            "tags": []
          },
          "execution_count": 11
        }
      ]
    },
    {
      "cell_type": "code",
      "metadata": {
        "id": "JwNRAnTfQVtV",
        "colab_type": "code",
        "colab": {
          "base_uri": "https://localhost:8080/",
          "height": 71
        },
        "outputId": "305d357c-0bf5-47d9-a0de-41681b967d0e"
      },
      "source": [
        "L@U"
      ],
      "execution_count": null,
      "outputs": [
        {
          "output_type": "execute_result",
          "data": {
            "text/plain": [
              "array([[ 6., -4.,  0.],\n",
              "       [ 3., -7., -2.],\n",
              "       [-3.,  5.,  1.]])"
            ]
          },
          "metadata": {
            "tags": []
          },
          "execution_count": 15
        }
      ]
    },
    {
      "cell_type": "code",
      "metadata": {
        "id": "Q7b91zvXQgCs",
        "colab_type": "code",
        "colab": {
          "base_uri": "https://localhost:8080/",
          "height": 71
        },
        "outputId": "90c1d294-a8e4-4d31-ba9e-6e77bd52d961"
      },
      "source": [
        "P@L"
      ],
      "execution_count": null,
      "outputs": [
        {
          "output_type": "execute_result",
          "data": {
            "text/plain": [
              "array([[ 0.5,  1. ,  0. ],\n",
              "       [-0.5, -0.6,  1. ],\n",
              "       [ 1. ,  0. ,  0. ]])"
            ]
          },
          "metadata": {
            "tags": []
          },
          "execution_count": 17
        }
      ]
    },
    {
      "cell_type": "code",
      "metadata": {
        "id": "kEVQafT3RCcV",
        "colab_type": "code",
        "colab": {}
      },
      "source": [
        ""
      ],
      "execution_count": null,
      "outputs": []
    }
  ]
}
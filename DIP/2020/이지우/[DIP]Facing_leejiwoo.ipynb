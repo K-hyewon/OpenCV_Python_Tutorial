{
  "nbformat": 4,
  "nbformat_minor": 0,
  "metadata": {
    "colab": {
      "name": "[DIP]Facing_leejiwoo.ipynb",
      "provenance": [],
      "private_outputs": true,
      "collapsed_sections": [],
      "mount_file_id": "1UIP_wNhsEC4n2NTH7igJXyjEZKmwZ9pO",
      "authorship_tag": "ABX9TyPe+mdvYk1VG3KUloJ5MBad",
      "include_colab_link": true
    },
    "kernelspec": {
      "name": "python3",
      "display_name": "Python 3"
    }
  },
  "cells": [
    {
      "cell_type": "markdown",
      "metadata": {
        "id": "view-in-github",
        "colab_type": "text"
      },
      "source": [
        "<a href=\"https://colab.research.google.com/github/dsaint31x/OpenCV_Python_Tutorial/blob/master/DIP/2020/%EC%9D%B4%EC%A7%80%EC%9A%B0/%5BDIP%5DFacing_leejiwoo.ipynb\" target=\"_parent\"><img src=\"https://colab.research.google.com/assets/colab-badge.svg\" alt=\"Open In Colab\"/></a>"
      ]
    },
    {
      "cell_type": "markdown",
      "metadata": {
        "id": "IXEYrhseU5r1"
      },
      "source": [
        "# 얼굴변화"
      ]
    },
    {
      "cell_type": "code",
      "metadata": {
        "id": "omUFH0CDQUHN"
      },
      "source": [
        "import cv2\n",
        "import numpy as np\n",
        "import matplotlib.pyplot as plt\n",
        "import os"
      ],
      "execution_count": null,
      "outputs": []
    },
    {
      "cell_type": "code",
      "metadata": {
        "id": "ZdnV0L7wQYlH"
      },
      "source": [
        "from __future__ import print_function\n",
        "from ipywidgets import interact, interactive, fixed, interact_manual\n",
        "import ipywidgets as widgets\n",
        "\n",
        "def f(x):\n",
        "  alpha=x/100\n",
        "  ret=cv2.addWeighted(img_1,alpha,img_2,1-alpha,0)\n",
        "  plt.imshow(ret[:,:,::-1])\n",
        "\n",
        "IMG1='/content/drive/My Drive/2020-2-자료/DIP/8328FB87-38CD-4C7A-9BE1-C82D8DD4FEDF.JPG'\n",
        "IMG2='/content/drive/My Drive/2020-2-자료/DIP/IMG_5381.jpg'\n",
        "\n",
        "img_1=cv2.imread(IMG1)\n",
        "img_2=cv2.imread(IMG2)\n",
        "\n",
        "img_1=cv2.resize(img_1, dsize=(img_2.shape[1],img_2.shape[0]), interpolation=cv2.INTER_AREA)\n",
        "\n",
        "interact(f, x=widgets.IntSlider(min=0, max=100, step=10, value=10, continuous_update=False));\n"
      ],
      "execution_count": null,
      "outputs": []
    },
    {
      "cell_type": "code",
      "metadata": {
        "id": "hm25k2XEVJfz"
      },
      "source": [
        "from __future__ import print_function\n",
        "from ipywidgets import interact, interactive, fixed, interact_manual\n",
        "import ipywidgets as widgets\n",
        "\n",
        "def f(x):\n",
        "  alpha=x/100\n",
        "  ret=cv2.addWeighted(img_1,alpha,img_2,1-alpha,0)\n",
        "  plt.imshow(ret[:,:,::-1])\n",
        "\n",
        "IMG1='/content/drive/My Drive/2020-2-자료/DIP/8328FB87-38CD-4C7A-9BE1-C82D8DD4FEDF.JPG'\n",
        "IMG2='/content/drive/My Drive/2020-2-자료/DIP/IMG_5381.jpg'\n",
        "\n",
        "img_1=cv2.imread(IMG1)\n",
        "img_2=cv2.imread(IMG2)\n",
        "\n",
        "img_1=cv2.resize(img_1, dsize=(img_2.shape[1],img_2.shape[0]), interpolation=cv2.INTER_AREA)\n",
        "\n",
        "interact(f, x=widgets.IntSlider(min=0, max=100, step=10, value=10, continuous_update=False));"
      ],
      "execution_count": null,
      "outputs": []
    },
    {
      "cell_type": "code",
      "metadata": {
        "id": "Q6Xmi6CaWoKA"
      },
      "source": [
        "from __future__ import print_function\n",
        "from ipywidgets import interact, interactive, fixed, interact_manual\n",
        "import ipywidgets as widgets\n",
        "\n",
        "def f(x):\n",
        "  alpha=x/100\n",
        "  ret=cv2.addWeighted(img_1,alpha,img_2,1-alpha,0)\n",
        "  plt.imshow(ret[:,:,::-1])\n",
        "\n",
        "IMG1='/content/drive/My Drive/2020-2-자료/DIP/8328FB87-38CD-4C7A-9BE1-C82D8DD4FEDF.JPG'\n",
        "IMG2='/content/drive/My Drive/2020-2-자료/DIP/IMG_5381.jpg'\n",
        "\n",
        "img_1=cv2.imread(IMG1)\n",
        "img_2=cv2.imread(IMG2)\n",
        "\n",
        "img_1=cv2.resize(img_1, dsize=(img_2.shape[1],img_2.shape[0]), interpolation=cv2.INTER_AREA)\n",
        "\n",
        "interact(f, x=widgets.IntSlider(min=0, max=100, step=10, value=10, continuous_update=False));"
      ],
      "execution_count": null,
      "outputs": []
    },
    {
      "cell_type": "code",
      "metadata": {
        "id": "CHwAEg6ZWrC_"
      },
      "source": [
        ""
      ],
      "execution_count": null,
      "outputs": []
    }
  ]
}
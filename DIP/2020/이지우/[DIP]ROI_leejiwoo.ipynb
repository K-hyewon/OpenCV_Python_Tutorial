{
  "nbformat": 4,
  "nbformat_minor": 0,
  "metadata": {
    "colab": {
      "name": "[DIP]ROI_leejiwoo.ipynb",
      "provenance": [],
      "private_outputs": true,
      "collapsed_sections": [],
      "mount_file_id": "1nY760fQyGjrwyMfpAMc9CrFm6TgEDpwi",
      "authorship_tag": "ABX9TyPyxPYcSD9/zhMFHdiNzdvL",
      "include_colab_link": true
    },
    "kernelspec": {
      "name": "python3",
      "display_name": "Python 3"
    }
  },
  "cells": [
    {
      "cell_type": "markdown",
      "metadata": {
        "id": "view-in-github",
        "colab_type": "text"
      },
      "source": [
        "<a href=\"https://colab.research.google.com/github/dsaint31x/OpenCV_Python_Tutorial/blob/master/DIP/2020/%EC%9D%B4%EC%A7%80%EC%9A%B0/%5BDIP%5DROI_leejiwoo.ipynb\" target=\"_parent\"><img src=\"https://colab.research.google.com/assets/colab-badge.svg\" alt=\"Open In Colab\"/></a>"
      ]
    },
    {
      "cell_type": "markdown",
      "metadata": {
        "id": "G5KRVKEyL6lg"
      },
      "source": [
        "# 이미지 가져오기"
      ]
    },
    {
      "cell_type": "code",
      "metadata": {
        "id": "Hcf915dOCkGP"
      },
      "source": [
        "import cv2\n",
        "import numpy as np\n",
        "import matplotlib.pyplot as plt\n",
        "\n",
        "IMG = '/content/drive/My Drive/2020-2-자료/DIP/Lung-ROI-segmentation.png'\n",
        "img_ori = cv2.imread(IMG)\n",
        "\n",
        "if img_ori is None:\n",
        "    print('Error : Loading image')\n",
        "else:\n",
        "    print('OK : Loading image')\n",
        "    \n",
        "img = img_ori.copy()"
      ],
      "execution_count": null,
      "outputs": []
    },
    {
      "cell_type": "markdown",
      "metadata": {
        "id": "hnYgrViUL-Iw"
      },
      "source": [
        "# 이미지 그레이스케일로 변환하기"
      ]
    },
    {
      "cell_type": "code",
      "metadata": {
        "id": "0G9sbwE2LNm7"
      },
      "source": [
        "img = cv2.imread(IMG, cv2.IMREAD_GRAYSCALE)\n",
        "plt.figure()\n",
        "plt.imshow(img, cmap=plt.cm.gray)"
      ],
      "execution_count": null,
      "outputs": []
    },
    {
      "cell_type": "markdown",
      "metadata": {
        "id": "0Xl07EnmMBU_"
      },
      "source": [
        "## 이미지를 세가지로 crop하고 확인하기"
      ]
    },
    {
      "cell_type": "code",
      "metadata": {
        "id": "UAh5kKNqHsBK"
      },
      "source": [
        "img_new = np.hsplit(img,(283,284,567,568)) #숫자는 그림판에서 확인\n",
        "plt.imshow(img_new[0],cmap='gray')"
      ],
      "execution_count": null,
      "outputs": []
    },
    {
      "cell_type": "markdown",
      "metadata": {
        "id": "_-EX8uvAMJ7r"
      },
      "source": [
        "이미지와 이미지 사이 경계 의미"
      ]
    },
    {
      "cell_type": "code",
      "metadata": {
        "id": "OHXyAJfPKZyl"
      },
      "source": [
        "plt.imshow(img[1])"
      ],
      "execution_count": null,
      "outputs": []
    },
    {
      "cell_type": "code",
      "metadata": {
        "id": "aJooQV9NKw6q"
      },
      "source": [
        "plt.imshow(img_new[2],cmap='gray')"
      ],
      "execution_count": null,
      "outputs": []
    },
    {
      "cell_type": "code",
      "metadata": {
        "id": "COKE2graKxja"
      },
      "source": [
        "plt.imshow(img[3])"
      ],
      "execution_count": null,
      "outputs": []
    },
    {
      "cell_type": "code",
      "metadata": {
        "id": "o4Rl3r6zLy0S"
      },
      "source": [
        "plt.imshow(img_new[4],cmap='gray')"
      ],
      "execution_count": null,
      "outputs": []
    },
    {
      "cell_type": "markdown",
      "metadata": {
        "id": "ERDxN_yuMvOE"
      },
      "source": [
        "# ROI 추출하기"
      ]
    },
    {
      "cell_type": "code",
      "metadata": {
        "id": "xa3jJl82MXBJ"
      },
      "source": [
        "ROI = cv2.bitwise_and(img[0],img[2])\n",
        "plt.imshow(ROI,cmap=plt.cm.gray)\n",
        "plt.show()"
      ],
      "execution_count": null,
      "outputs": []
    },
    {
      "cell_type": "code",
      "metadata": {
        "id": "m5yQyd1FNgax"
      },
      "source": [
        ""
      ],
      "execution_count": null,
      "outputs": []
    }
  ]
}
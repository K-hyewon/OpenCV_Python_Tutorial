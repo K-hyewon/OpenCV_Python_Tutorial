{
 "cells": [
  {
   "cell_type": "markdown",
   "metadata": {
    "id": "G5KRVKEyL6lg"
   },
   "source": [
    "# 이미지 가져오기"
   ]
  },
  {
   "cell_type": "code",
   "execution_count": null,
   "metadata": {
    "id": "Hcf915dOCkGP"
   },
   "outputs": [],
   "source": [
    "import cv2\n",
    "import numpy as np\n",
    "import matplotlib.pyplot as plt\n",
    "\n",
    "IMG = '/content/drive/My Drive/2020-2-자료/DIP/Lung-ROI-segmentation.png'\n",
    "img_ori = cv2.imread(IMG)\n",
    "\n",
    "if img_ori is None:\n",
    "    print('Error : Loading image')\n",
    "else:\n",
    "    print('OK : Loading image')\n",
    "    \n",
    "img = img_ori.copy()"
   ]
  },
  {
   "cell_type": "markdown",
   "metadata": {
    "id": "hnYgrViUL-Iw"
   },
   "source": [
    "# 이미지 그레이스케일로 변환하기"
   ]
  },
  {
   "cell_type": "code",
   "execution_count": null,
   "metadata": {
    "id": "0G9sbwE2LNm7"
   },
   "outputs": [],
   "source": [
    "img = cv2.imread(IMG, cv2.IMREAD_GRAYSCALE)\n",
    "plt.figure()\n",
    "plt.imshow(img, cmap=plt.cm.gray)"
   ]
  },
  {
   "cell_type": "markdown",
   "metadata": {
    "id": "0Xl07EnmMBU_"
   },
   "source": [
    "## 이미지를 세가지로 crop하고 확인하기"
   ]
  },
  {
   "cell_type": "code",
   "execution_count": null,
   "metadata": {
    "id": "UAh5kKNqHsBK"
   },
   "outputs": [],
   "source": [
    "img_new = np.hsplit(img,(283,284,567,568)) #숫자는 그림판에서 확인\n",
    "plt.imshow(img_new[0],cmap='gray')"
   ]
  },
  {
   "cell_type": "markdown",
   "metadata": {
    "id": "_-EX8uvAMJ7r"
   },
   "source": [
    "이미지와 이미지 사이 경계 의미"
   ]
  },
  {
   "cell_type": "code",
   "execution_count": null,
   "metadata": {
    "id": "OHXyAJfPKZyl"
   },
   "outputs": [],
   "source": [
    "plt.imshow(img[1])"
   ]
  },
  {
   "cell_type": "code",
   "execution_count": null,
   "metadata": {
    "id": "aJooQV9NKw6q"
   },
   "outputs": [],
   "source": [
    "plt.imshow(img_new[2],cmap='gray')"
   ]
  },
  {
   "cell_type": "code",
   "execution_count": null,
   "metadata": {
    "id": "COKE2graKxja"
   },
   "outputs": [],
   "source": [
    "plt.imshow(img[3])"
   ]
  },
  {
   "cell_type": "code",
   "execution_count": null,
   "metadata": {
    "id": "o4Rl3r6zLy0S"
   },
   "outputs": [],
   "source": [
    "plt.imshow(img_new[4],cmap='gray')"
   ]
  },
  {
   "cell_type": "markdown",
   "metadata": {
    "id": "ERDxN_yuMvOE"
   },
   "source": [
    "# ROI 추출하기"
   ]
  },
  {
   "cell_type": "code",
   "execution_count": null,
   "metadata": {
    "id": "xa3jJl82MXBJ"
   },
   "outputs": [],
   "source": [
    "ROI = cv2.bitwise_and(img[0],img[2])\n",
    "plt.imshow(ROI,cmap=plt.cm.gray)\n",
    "plt.show()"
   ]
  },
  {
   "cell_type": "code",
   "execution_count": null,
   "metadata": {
    "id": "m5yQyd1FNgax"
   },
   "outputs": [],
   "source": []
  }
 ],
 "metadata": {
  "colab": {
   "collapsed_sections": [],
   "name": "[DIP]ROI_leejiwoo.ipynb",
   "private_outputs": true,
   "provenance": []
  },
  "kernelspec": {
   "display_name": "Python 3",
   "language": "python",
   "name": "python3"
  },
  "language_info": {
   "codemirror_mode": {
    "name": "ipython",
    "version": 3
   },
   "file_extension": ".py",
   "mimetype": "text/x-python",
   "name": "python",
   "nbconvert_exporter": "python",
   "pygments_lexer": "ipython3",
   "version": "3.8.3"
  }
 },
 "nbformat": 4,
 "nbformat_minor": 1
}

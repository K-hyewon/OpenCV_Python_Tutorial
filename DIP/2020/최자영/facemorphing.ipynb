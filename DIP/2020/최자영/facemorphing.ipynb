{
 "cells": [
  {
   "cell_type": "code",
   "execution_count": 2,
   "metadata": {},
   "outputs": [
    {
     "data": {
      "text/plain": [
       "'C:\\\\Users\\\\zayou\\\\DIP2020'"
      ]
     },
     "execution_count": 2,
     "metadata": {},
     "output_type": "execute_result"
    }
   ],
   "source": [
    "pwd"
   ]
  },
  {
   "cell_type": "code",
   "execution_count": 8,
   "metadata": {},
   "outputs": [
    {
     "name": "stdout",
     "output_type": "stream",
     "text": [
      "C:\\Users\\zayou\\DIP2020\n"
     ]
    }
   ],
   "source": [
    "cd DIP2020"
   ]
  },
  {
   "cell_type": "code",
   "execution_count": 6,
   "metadata": {},
   "outputs": [],
   "source": [
    "from __future__ import print_function\n",
    "from ipywidgets import interact, interactive, fixed, interact_manual\n",
    "import ipywidgets as widgets\n",
    "import os,cv2\n",
    "\n",
    "def f(x):\n",
    "  alpha = x/100\n",
    "  ret = cv2.addWeighted(img_0, alpha, img_1, 1-alpha,0)\n",
    "  plt.imshow(ret[:,:,::-1])\n",
    "file_path = './'\n",
    "fstr_0 = os.path.join(file_path,'KakaoTalk_20200927_124506305_01.jpg')\n",
    "fstr_1 = os.path.join(file_path,'KakaoTalk_20200927_124506305.jpg') \n",
    "img_src = cv2.imread(fstr_0)\n",
    "# cv2.imshow('img_src',img_src)"
   ]
  },
  {
   "cell_type": "code",
   "execution_count": 7,
   "metadata": {},
   "outputs": [
    {
     "data": {
      "application/vnd.jupyter.widget-view+json": {
       "model_id": "44e9f1865a82492c912be95487f6f053",
       "version_major": 2,
       "version_minor": 0
      },
      "text/plain": [
       "interactive(children=(IntSlider(value=10, continuous_update=False, description='x', step=10), Output()), _dom_…"
      ]
     },
     "metadata": {},
     "output_type": "display_data"
    }
   ],
   "source": [
    "import matplotlib.pyplot as plt\n",
    "img_0 = cv2.imread(fstr_0)\n",
    "img_1 = cv2.imread(fstr_1)\n",
    "img_0 = cv2.resize(img_0, dsize=(img_1.shape[1],img_1.shape[0]), interpolation= cv2.INTER_AREA)\n",
    "\n",
    "interact(f, x=widgets.IntSlider(min=0, max=100, step=10, value=10, continuous_update=False));"
   ]
  },
  {
   "cell_type": "code",
   "execution_count": null,
   "metadata": {},
   "outputs": [],
   "source": []
  }
 ],
 "metadata": {
  "kernelspec": {
   "display_name": "Python 3",
   "language": "python",
   "name": "python3"
  },
  "language_info": {
   "codemirror_mode": {
    "name": "ipython",
    "version": 3
   },
   "file_extension": ".py",
   "mimetype": "text/x-python",
   "name": "python",
   "nbconvert_exporter": "python",
   "pygments_lexer": "ipython3",
   "version": "3.7.4"
  }
 },
 "nbformat": 4,
 "nbformat_minor": 2
}

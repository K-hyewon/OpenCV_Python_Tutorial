{
  "nbformat": 4,
  "nbformat_minor": 0,
  "metadata": {
    "kernelspec": {
      "display_name": "Python 3",
      "language": "python",
      "name": "python3"
    },
    "language_info": {
      "codemirror_mode": {
        "name": "ipython",
        "version": 3
      },
      "file_extension": ".py",
      "mimetype": "text/x-python",
      "name": "python",
      "nbconvert_exporter": "python",
      "pygments_lexer": "ipython3",
      "version": "3.7.4"
    },
    "colab": {
      "name": "Contours_Simple.ipynb의 사본",
      "provenance": [],
      "include_colab_link": true
    }
  },
  "cells": [
    {
      "cell_type": "markdown",
      "metadata": {
        "id": "view-in-github",
        "colab_type": "text"
      },
      "source": [
        "<a href=\"https://colab.research.google.com/github/dsaint31x/OpenCV_Python_Tutorial/blob/master/DIP/2020/%EC%B5%9C%EC%9E%90%EC%98%81/Contours_Simple_ipynb%EC%9D%98_%EC%82%AC%EB%B3%B8.ipynb\" target=\"_parent\"><img src=\"https://colab.research.google.com/assets/colab-badge.svg\" alt=\"Open In Colab\"/></a>"
      ]
    },
    {
      "cell_type": "markdown",
      "metadata": {
        "id": "PEMsdkLdJU2M"
      },
      "source": [
        "#sementation\n",
        "은 두가지로 나뉨 \n",
        "\n",
        "1) semantic segmentation:pixel 단위로 물체를 구분한 후 어떤 class인지 구분\n",
        "\n",
        "2) instance segmantation:같은 class라도 다른 것이라면 구분 ex) 사람x 엄마o ,아빠 o \n",
        "\n",
        "class 빵틀 instance: 빵 (object중 구분할 수 있는 존재)\n",
        "binary에서 segmentation이 잘됨 \n",
        "\n",
        "#contour \n",
        "영상에서 같은 색상이나 같은 intensity의 연속된 점으로 구성된 곡선\n",
        "object detection등에서 활용됨\n",
        "일반적으로 등고선,윤곽선, 외곽선으로 번역됨\n"
      ]
    },
    {
      "cell_type": "code",
      "metadata": {
        "id": "Ac9iT9KUPSFk"
      },
      "source": [
        "import cv2\n",
        "import numpy as np\n",
        "import matplotlib.pyplot as plt"
      ],
      "execution_count": null,
      "outputs": []
    },
    {
      "cell_type": "code",
      "metadata": {
        "id": "Z2-bnEznPuLH",
        "outputId": "40c1ed53-2c78-4dfb-d639-3947fbffab89",
        "colab": {
          "base_uri": "https://localhost:8080/"
        }
      },
      "source": [
        "from urllib import request \n",
        "\n",
        "url = 'https://raw.githubusercontent.com/dsaint31x/OpenCV_Python_Tutorial/master/images/shapes.png'\n",
        "fstr = 'shapes.png'\n",
        "request.urlretrieve(url,fstr)\n",
        "print('saved ok : shapes.png')\n",
        "\n"
      ],
      "execution_count": null,
      "outputs": [
        {
          "output_type": "stream",
          "text": [
            "saved ok : shapes.png\n"
          ],
          "name": "stdout"
        }
      ]
    },
    {
      "cell_type": "code",
      "metadata": {
        "id": "UGoowlARPSFq",
        "outputId": "e95e7b1a-f83e-44eb-c280-0a357ab039ec",
        "colab": {
          "base_uri": "https://localhost:8080/",
          "height": 187
        }
      },
      "source": [
        "img = cv2.imread('./shapes.png')\n",
        "img_ori = img.copy()\n",
        "\n",
        "img_gray = cv2.cvtColor(img,cv2.COLOR_RGB2GRAY) # contour은 gray scale로 바꾸어 출력\n",
        "print(img_gray.shape)\n",
        "plt.imshow(img_gray,cmap='gray')\n",
        "#plt.axis('off')\n",
        "plt.show()\n"
      ],
      "execution_count": null,
      "outputs": [
        {
          "output_type": "stream",
          "text": [
            "(150, 423)\n"
          ],
          "name": "stdout"
        },
        {
          "output_type": "display_data",
          "data": {
            "image/png": "[encoded data removed]",
            "text/plain": [
              "<Figure size 432x288 with 1 Axes>"
            ]
          },
          "metadata": {
            "tags": [],
            "needs_background": "light"
          }
        }
      ]
    },
    {
      "cell_type": "markdown",
      "metadata": {
        "id": "YG6yna4RQhiA"
      },
      "source": [
        "# Contour\n",
        "동일한 color or intensity(등고선)를 가진 regison의 boundary를 연결한 선을 가르킴.\n",
        "* shape analysis\n",
        "* object detection   **케니 많이씀**\n",
        "\n",
        "OpenCV의 경우 Contour를 처리할 때 다음을 기본으로 함.\n",
        "* binary image에서 처리됨. (thresholding or canny edge detection등등이 선처리로 활용)\n",
        "* Object 는 흰색으로 **1** \n",
        "* background 는 검정색으로 처리. **0**\n",
        "\n",
        "> 과거 opencv의 경우, augment로 넘겨진 영상 데이터를 변경시킴으로 반드시 복사본을 만들어 처리해야 함."
      ]
    },
    {
      "cell_type": "code",
      "metadata": {
        "id": "Ud5yt36MPSFw",
        "outputId": "50c33beb-d2e6-49f1-c1d9-d703df2a4efd",
        "colab": {
          "base_uri": "https://localhost:8080/",
          "height": 187
        }
      },
      "source": [
        "# convert to a binary image and invert image\n",
        "ret_threshold, binary_img = cv2.threshold(img_gray, 127, 255, cv2.THRESH_BINARY_INV)  #_INV 반대 ##127넘으면 255로 이후 inverse\n",
        "plt.imshow(binary_img, cmap='gray') #gray넣어준 이유는 푸르딩딩하게 나오니까 넣어준 것임 "
      ],
      "execution_count": null,
      "outputs": [
        {
          "output_type": "execute_result",
          "data": {
            "text/plain": [
              "<matplotlib.image.AxesImage at 0x7fc512a072e8>"
            ]
          },
          "metadata": {
            "tags": []
          },
          "execution_count": 10
        },
        {
          "output_type": "display_data",
          "data": {
            "image/png": "[encoded data removed]",
            "text/plain": [
              "<Figure size 432x288 with 1 Axes>"
            ]
          },
          "metadata": {
            "tags": [],
            "needs_background": "light"
          }
        }
      ]
    },
    {
      "cell_type": "markdown",
      "metadata": {
        "id": "vUkWi6tCUsIZ"
      },
      "source": [
        "# `cv2.findContours(param1,param2,param3)`\n",
        "\n",
        "## 첫번째 파라메터\n",
        "* 대상 영상 object\n",
        "\n",
        "## 두번째 파라메터 \n",
        "* contour 추출 모드\n",
        "* 2번째 리턴값인 hierarchy의 값에 영향\n",
        "   * `cv2.RETR_EXTERNAL`: 이미지의 **가장 바깥쪽의 contour만** 추출 (행교수님이 가장 많이 쓰심)\n",
        "   * `cv2.RETR_LIST`: contour 간 계층구조 상관관계를 고려하지 않고 contour를 추출\n",
        "   * `cv2.RETR_CCOMP`: 이미지에서 모든 contour를 추출한 후, 2단계 contour 계층 구조로 구성함. 1단계 계층에서는 외곽 경계 부분을, 2단계 계층에서는 구멍(hole)의 경계 부분을 나타내는 contour로 구성됨\n",
        "   * `cv2.RETR_TREE`: 이미지에서 모든 contour를 추출하고 Contour들간의 상관관계를 추출함\n",
        "\n",
        "## 세번째 파라메터\n",
        "* contour 근사(approximation) 방법\n",
        "   * `cv2.CHAIN_APPROX_NONE`: contour를 구성하는 모든 점을 저장함. \n",
        "   * `cv2.CHAIN_APPROX_SIMPLE`: contour의 **수평, 수직, 대각선 방향의 점은 모두 버리고 끝 점만** 남겨둠. 예를 들어 똑바로 세워진 직사각형의 경우, 4개 모서리점만 남기고 다 버림 (**수평 수직인 것들만** 가능)\n",
        "   * `cv2.CHAIN_APPROX_TC89__1`: Teh-Chin 연결 근사 알고리즘(Teh-Chin chain approximation algorithm)을 적용 (행교수님은 써보신적 없으심)"
      ]
    },
    {
      "cell_type": "markdown",
      "metadata": {
        "id": "RGW4v83oPSF0"
      },
      "source": [
        "# Find Contour\n",
        "\n",
        "## Case I : `cv2.RETR_EXTERNAL`, `cv2.CHAIN_APPROX_NONE`\n",
        "* 가장 외곽의 contour에 대한 모든 point의 좌표를 찾음.\n",
        "* 해당 경우의 contour그리기.\n"
      ]
    },
    {
      "cell_type": "code",
      "metadata": {
        "id": "DSGFrOY8TASu",
        "outputId": "e71b0c90-09d5-4431-a4ff-de095ab41a5c",
        "colab": {
          "base_uri": "https://localhost:8080/"
        }
      },
      "source": [
        "t = cv2.findContours(binary_img,cv2.RETR_EXTERNAL,cv2.CHAIN_APPROX_NONE)\n",
        "len(t)"
      ],
      "execution_count": null,
      "outputs": [
        {
          "output_type": "execute_result",
          "data": {
            "text/plain": [
              "2"
            ]
          },
          "metadata": {
            "tags": []
          },
          "execution_count": 13
        }
      ]
    },
    {
      "cell_type": "code",
      "metadata": {
        "id": "1ZuJXlVMPSF2",
        "outputId": "9d8fb62c-a582-46da-82bd-44a5a019455d",
        "colab": {
          "base_uri": "https://localhost:8080/",
          "height": 393
        }
      },
      "source": [
        "#im2, contour0, hierarchy = cv2.findContours(binary_img, \n",
        "contour0, hierarchy = cv2.findContours(binary_img,\n",
        "                                       cv2.RETR_EXTERNAL,\n",
        "                                       cv2.CHAIN_APPROX_NONE) #contour0 갯수, 세포 수 \n",
        "#plt.imshow(im2,cmap='gray')\n",
        "print('case I  도형의 갯수: {}'.format(len(contour0))) #contour0 갯수\n",
        "print(hierarchy)  #구조 hierarchy\n",
        "\n",
        "\n",
        "# Draw Contour with Green ## 밑에거 보다 이게 더 쉬움\n",
        "img = img_ori.copy() #.copy() 원본 망가질 수 있음\n",
        "cv2.drawContours(img, contour0, -1, (0,255,0), 4) \n",
        "#print(img.shape)\n",
        "plt.figure()\n",
        "plt.imshow(cv2.cvtColor(img,cv2.COLOR_BGR2RGB))\n",
        "\n",
        "\n",
        "# Draw all point on the Contour with BLUE color.\n",
        "cnt = np.zeros([3]) # 3개로 된 0으로 채워진 배열\n",
        "index = 0\n",
        "for i in contour0:\n",
        "    cnt[index] = len(i)  #점의 갯수 count \n",
        "    index +=1\n",
        "    for j in i:   # 중점값 나올 수 있음, 반올림 (기말 프로젝트)\n",
        "        cv2.circle(img, tuple(j[0]), 10, (255,0,0), -1) #tuple(j[0]) j첫번째 좌표 #원으로 다 그림\n",
        "\n",
        "#print(img.shape)     \n",
        "plt.figure()\n",
        "plt.imshow(cv2.cvtColor(img,cv2.COLOR_BGR2RGB))\n",
        "plt.show()\n"
      ],
      "execution_count": null,
      "outputs": [
        {
          "output_type": "stream",
          "text": [
            "case I  도형의 갯수: 3\n",
            "[[[ 1 -1 -1 -1]\n",
            "  [ 2  0 -1 -1]\n",
            "  [-1  1 -1 -1]]]\n"
          ],
          "name": "stdout"
        },
        {
          "output_type": "display_data",
          "data": {
            "image/png": "[encoded data removed]",
            "text/plain": [
              "<Figure size 432x288 with 1 Axes>"
            ]
          },
          "metadata": {
            "tags": [],
            "needs_background": "light"
          }
        },
        {
          "output_type": "display_data",
          "data": {
            "image/png": "[encoded data removed]",
            "text/plain": [
              "<Figure size 432x288 with 1 Axes>"
            ]
          },
          "metadata": {
            "tags": [],
            "needs_background": "light"
          }
        }
      ]
    },
    {
      "cell_type": "markdown",
      "metadata": {
        "id": "HzZONrTtPSF6"
      },
      "source": [
        "## case II : `cv2.RETR_EXTERNAL` + `cv2.CHAIN_APPROX_SIMP`\n",
        "\n",
        "* 가장 외곽의 contour에 대한 **꼭지점 point의 좌표만**을 찾음.\n",
        "(행교수님 잘 안씀)"
      ]
    },
    {
      "cell_type": "code",
      "metadata": {
        "id": "7UGEnmVTPSF7",
        "outputId": "8fa96a9c-754e-436b-8413-eb0ff871f094",
        "colab": {
          "base_uri": "https://localhost:8080/",
          "height": 393
        }
      },
      "source": [
        "contour1, hierarchy = cv2.findContours(binary_img, \n",
        "                                       cv2.RETR_EXTERNAL, \n",
        "                                       cv2.CHAIN_APPROX_SIMPLE)\n",
        "print('case II 도형의 갯수: {}'.format(len(contour1)))\n",
        "\n",
        "# Draw Contour with Green\n",
        "img = img_ori.copy()\n",
        "cv2.drawContours(img, contour1, -1, (0,255,0), 4)\n",
        "print(img.shape)\n",
        "plt.figure()\n",
        "plt.imshow(cv2.cvtColor(img,cv2.COLOR_BGR2RGB))\n",
        "\n",
        "# Draw all point on the Contour with BlUE color.\n",
        "cnt = np.zeros([3])\n",
        "index = 0\n",
        "for i in contour1:\n",
        "    cnt[index] = len(i)\n",
        "    index +=1\n",
        "    for j in i:\n",
        "        cv2.circle(img, tuple(j[0]), 10, (255,0,0), -1)\n",
        "\n",
        "print(img.shape)\n",
        "plt.figure()\n",
        "plt.imshow(cv2.cvtColor(img,cv2.COLOR_BGR2RGB))\n",
        "plt.show()\n",
        "print(cnt)"
      ],
      "execution_count": null,
      "outputs": [
        {
          "output_type": "stream",
          "text": [
            "case II 도형의 갯수: 3\n",
            "(150, 423, 3)\n",
            "(150, 423, 3)\n"
          ],
          "name": "stdout"
        },
        {
          "output_type": "display_data",
          "data": {
            "image/png": "[encoded data removed]",
            "text/plain": [
              "<Figure size 432x288 with 1 Axes>"
            ]
          },
          "metadata": {
            "tags": [],
            "needs_background": "light"
          }
        },
        {
          "output_type": "display_data",
          "data": {
            "image/png": "[encoded data removed]",
            "text/plain": [
              "<Figure size 432x288 with 1 Axes>"
            ]
          },
          "metadata": {
            "tags": [],
            "needs_background": "light"
          }
        },
        {
          "output_type": "stream",
          "text": [
            "[152.   4. 225.]\n"
          ],
          "name": "stdout"
        }
      ]
    },
    {
      "cell_type": "markdown",
      "metadata": {
        "id": "nPHcOXFqPSF-"
      },
      "source": [
        "## Hierarchy of Contours\n",
        "\n",
        "인자로 넘겨준 mode에 따라 contour의 hierarchy가 다르게 반환됨.\n",
        "\n",
        "* **cv2.RETR_EXTERNAL** : 최외각의 coutour만 제공.\n",
        "* **cv2.RETR_TREE** : 모든 라인의 모든 계층 정보를 트리 구조로 제공.\n"
      ]
    },
    {
      "cell_type": "code",
      "metadata": {
        "id": "VuGAFMRzUXPW",
        "outputId": "3a675e2f-66f0-41d8-e709-294b71b7504f",
        "colab": {
          "base_uri": "https://localhost:8080/"
        }
      },
      "source": [
        "url = 'https://raw.githubusercontent.com/dsaint31x/OpenCV_Python_Tutorial/master/images/shapes_donut.png'\n",
        "fstr = 'shapes_donut.png'\n",
        "request.urlretrieve(url,fstr)\n",
        "print('saved ok : shapes_donut.png')"
      ],
      "execution_count": null,
      "outputs": [
        {
          "output_type": "stream",
          "text": [
            "saved ok : shapes_donut.png\n"
          ],
          "name": "stdout"
        }
      ]
    },
    {
      "cell_type": "code",
      "metadata": {
        "id": "hfqRORy2PSF_",
        "outputId": "686ab38a-a2e4-48d8-ce2e-ea9b4b04b94f",
        "colab": {
          "base_uri": "https://localhost:8080/",
          "height": 191
        }
      },
      "source": [
        "img = cv2.imread('./shapes_donut.png')\n",
        "img_ori = img.copy()\n",
        "\n",
        "img_gray = cv2.cvtColor(img,cv2.COLOR_RGB2GRAY)\n",
        "print(img_gray.shape)\n",
        "plt.imshow(img_gray,cmap='gray')\n",
        "plt.show()"
      ],
      "execution_count": null,
      "outputs": [
        {
          "output_type": "stream",
          "text": [
            "(154, 421)\n"
          ],
          "name": "stdout"
        },
        {
          "output_type": "display_data",
          "data": {
            "image/png": "[encoded data removed]",
            "text/plain": [
              "<Figure size 432x288 with 1 Axes>"
            ]
          },
          "metadata": {
            "tags": [],
            "needs_background": "light"
          }
        }
      ]
    },
    {
      "cell_type": "code",
      "metadata": {
        "id": "3mb2Bcb3PSGC",
        "outputId": "47318419-3d2a-4e61-c6a3-2ba0726681bd",
        "colab": {
          "base_uri": "https://localhost:8080/",
          "height": 191
        }
      },
      "source": [
        "# convert to a binary image and invert image\n",
        "ret_threshold, binary_img = cv2.threshold(img_gray, 127, 255, cv2.THRESH_BINARY_INV) \n",
        "plt.imshow(binary_img, cmap='gray')"
      ],
      "execution_count": null,
      "outputs": [
        {
          "output_type": "execute_result",
          "data": {
            "text/plain": [
              "<matplotlib.image.AxesImage at 0x7fc512766eb8>"
            ]
          },
          "metadata": {
            "tags": []
          },
          "execution_count": 25
        },
        {
          "output_type": "display_data",
          "data": {
            "image/png": "[encoded data removed]",
            "text/plain": [
              "<Figure size 432x288 with 1 Axes>"
            ]
          },
          "metadata": {
            "tags": [],
            "needs_background": "light"
          }
        }
      ]
    },
    {
      "cell_type": "markdown",
      "metadata": {
        "id": "neG7pvILPSGG"
      },
      "source": [
        "## 최외각의 contour 정보만을 제공.\n",
        "\n",
        "* cv2.RETR_EXTERNAL"
      ]
    },
    {
      "cell_type": "code",
      "metadata": {
        "id": "lp5HvuNgPSGH",
        "outputId": "247901dd-7a2b-46ab-c22a-ddf08739dd04",
        "colab": {
          "base_uri": "https://localhost:8080/",
          "height": 191
        }
      },
      "source": [
        "contour0, hierarchy0 = cv2.findContours(binary_img, \n",
        "                                        cv2.RETR_EXTERNAL,\n",
        "                                        cv2.CHAIN_APPROX_NONE)\n",
        "img = img_ori.copy()\n",
        "cv2.drawContours(img, contour0, -1, (0,255,0), 3)\n",
        "plt.imshow(img)"
      ],
      "execution_count": null,
      "outputs": [
        {
          "output_type": "execute_result",
          "data": {
            "text/plain": [
              "<matplotlib.image.AxesImage at 0x7fc5127f6160>"
            ]
          },
          "metadata": {
            "tags": []
          },
          "execution_count": 26
        },
        {
          "output_type": "display_data",
          "data": {
            "image/png": "[encoded data removed]",
            "text/plain": [
              "<Figure size 432x288 with 1 Axes>"
            ]
          },
          "metadata": {
            "tags": [],
            "needs_background": "light"
          }
        }
      ]
    },
    {
      "cell_type": "markdown",
      "metadata": {
        "id": "paPkNDjBPSGK"
      },
      "source": [
        "* hierachy 는 4개의 column으로 구성된 list로 반환됨."
      ]
    },
    {
      "cell_type": "code",
      "metadata": {
        "id": "5hygJmhWPSGL",
        "outputId": "fe8492ee-06ad-4f26-c1dc-d1cf012b3ce9",
        "colab": {
          "base_uri": "https://localhost:8080/"
        }
      },
      "source": [
        "print('# of contours:',len(contour0))\n",
        "print(['next','prev','first_child','parent'])\n",
        "print(hierarchy0)"
      ],
      "execution_count": null,
      "outputs": [
        {
          "output_type": "stream",
          "text": [
            "# of contours: 3\n",
            "['next', 'prev', 'first_child', 'parent']\n",
            "[[[ 1 -1 -1 -1]\n",
            "  [ 2  0 -1 -1]\n",
            "  [-1  1 -1 -1]]]\n"
          ],
          "name": "stdout"
        }
      ]
    },
    {
      "cell_type": "markdown",
      "metadata": {
        "id": "ueVS9gJfPSGO"
      },
      "source": [
        "##  모든 라인의 모든 계층 정보를 트리 구조로 제공.\n",
        "\n",
        "* cv2.RETR_TREE "
      ]
    },
    {
      "cell_type": "code",
      "metadata": {
        "id": "PuB3CsjLPSGO",
        "outputId": "4efb08db-5146-4726-e40e-743cd9b94a50",
        "colab": {
          "base_uri": "https://localhost:8080/",
          "height": 174
        }
      },
      "source": [
        "contour1, hierarchy1 = cv2.findContours(binary_img, \n",
        "                                        cv2.RETR_TREE,\n",
        "                                        cv2.CHAIN_APPROX_SIMPLE)\n",
        "img = img_ori.copy()\n",
        "cv2.drawContours(img, contour1, -1, (0,255,0), 3)\n",
        "plt.imshow(img)\n",
        "plt.show()\n"
      ],
      "execution_count": null,
      "outputs": [
        {
          "output_type": "display_data",
          "data": {
            "image/png": "[encoded data removed]",
            "text/plain": [
              "<Figure size 432x288 with 1 Axes>"
            ]
          },
          "metadata": {
            "tags": [],
            "needs_background": "light"
          }
        }
      ]
    },
    {
      "cell_type": "code",
      "metadata": {
        "id": "sdQCUuYmPSGR",
        "outputId": "53f18078-58e3-44b7-e6a0-b7d4d0b492d3",
        "colab": {
          "base_uri": "https://localhost:8080/",
          "height": 313
        }
      },
      "source": [
        "img = img_ori.copy()\n",
        "# 모든 컨투어 그리기 \n",
        "for idx, cont in enumerate(contour1): \n",
        "    # 랜덤한 컬러 추출 \n",
        "    color = [int(i) for i in np.random.randint(0,255, 3)]\n",
        "    # 컨투어 인덱스 마다 랜덤한 색상으로 그리기 \n",
        "    cv2.drawContours(img, contour1, idx, color, 3)\n",
        "    # 컨투어 첫 좌표에 인덱스 숫자 표시 \n",
        "    cv2.putText(img, \n",
        "                str(idx), \n",
        "                tuple(cont[0][0]), \n",
        "                cv2.FONT_HERSHEY_PLAIN,\n",
        "                1.5, \n",
        "                (255,0,0))\n",
        "plt.imshow(img)\n",
        "print('# of contours:',len(contour1))\n",
        "print(['next','prev','first_child','parent'])\n",
        "print(hierarchy1) #-1 없음 //순서가 다를 수 있음 알고리즘 따라 솔직히 잘 안씀"
      ],
      "execution_count": null,
      "outputs": [
        {
          "output_type": "stream",
          "text": [
            "# of contours: 6\n",
            "['next', 'prev', 'first_child', 'parent']\n",
            "[[[ 2 -1  1 -1]\n",
            "  [-1 -1 -1  0]\n",
            "  [ 4  0  3 -1]\n",
            "  [-1 -1 -1  2]\n",
            "  [-1  2  5 -1]\n",
            "  [-1 -1 -1  4]]]\n"
          ],
          "name": "stdout"
        },
        {
          "output_type": "display_data",
          "data": {
            "image/png": "[encoded data removed]",
            "text/plain": [
              "<Figure size 432x288 with 1 Axes>"
            ]
          },
          "metadata": {
            "tags": [],
            "needs_background": "light"
          }
        }
      ]
    },
    {
      "cell_type": "markdown",
      "metadata": {
        "id": "aeRXeM6zPSGU"
      },
      "source": [
        "## 다른 모드들"
      ]
    },
    {
      "cell_type": "code",
      "metadata": {
        "id": "HEb-VVz2PSGY",
        "outputId": "45ad6220-9bdc-476d-dcce-0de930991a76",
        "colab": {
          "base_uri": "https://localhost:8080/"
        }
      },
      "source": [
        "contour2, hierarchy2 = cv2.findContours(\n",
        "    binary_img, \n",
        "    #cv2.RETR_CCOMP, #2계층까지. \n",
        "    cv2.RETR_LIST, #계층정보없이 모든 contour #조금 빠를뿐,,\n",
        "    cv2.CHAIN_APPROX_SIMPLE)\n",
        "print(['next','prev','first_child','parent'])\n",
        "print(hierarchy2)  "
      ],
      "execution_count": null,
      "outputs": [
        {
          "output_type": "stream",
          "text": [
            "['next', 'prev', 'first_child', 'parent']\n",
            "[[[ 1 -1 -1 -1]\n",
            "  [ 2  0 -1 -1]\n",
            "  [ 3  1 -1 -1]\n",
            "  [ 4  2 -1 -1]\n",
            "  [ 5  3 -1 -1]\n",
            "  [-1  4 -1 -1]]]\n"
          ],
          "name": "stdout"
        }
      ]
    },
    {
      "cell_type": "markdown",
      "metadata": {
        "id": "vxOMTENRXC7k"
      },
      "source": [
        "CONTOUR 가장 많이 씀 아래"
      ]
    },
    {
      "cell_type": "markdown",
      "metadata": {
        "id": "mx7gBkvtPSGb"
      },
      "source": [
        "## 숫자 인식을 위한 기본 처리 ??\n",
        "\n",
        "* CNN등의 Deep Neural Network를 이용하기 위한 전처리"
      ]
    },
    {
      "cell_type": "code",
      "metadata": {
        "id": "xOmzG83AWZML",
        "outputId": "5f771a10-8c54-4c8e-dff6-0b1c03da9040",
        "colab": {
          "base_uri": "https://localhost:8080/"
        }
      },
      "source": [
        "url = 'https://raw.githubusercontent.com/dsaint31x/OpenCV_Python_Tutorial/master/images/number_2019.png'\n",
        "fstr = 'number_2019.png'\n",
        "request.urlretrieve(url,fstr)\n",
        "print('saved ok : number_2019.png')"
      ],
      "execution_count": null,
      "outputs": [
        {
          "output_type": "stream",
          "text": [
            "saved ok : number_2019.png\n"
          ],
          "name": "stdout"
        }
      ]
    },
    {
      "cell_type": "code",
      "metadata": {
        "id": "hC7D5QykPSGb",
        "outputId": "39d49aaa-fcf9-409a-9346-89a52525a60e",
        "colab": {
          "base_uri": "https://localhost:8080/",
          "height": 191
        }
      },
      "source": [
        "img = cv2.imread('./number_2019.png')\n",
        "img_ori = img.copy()\n",
        "\n",
        "img_gray = cv2.cvtColor(img,cv2.COLOR_RGB2GRAY)\n",
        "print(img_gray.shape)\n",
        "plt.imshow(img_gray,cmap='gray')\n",
        "plt.xticks([]),plt.yticks([])\n",
        "plt.show()"
      ],
      "execution_count": null,
      "outputs": [
        {
          "output_type": "stream",
          "text": [
            "(100, 242)\n"
          ],
          "name": "stdout"
        },
        {
          "output_type": "display_data",
          "data": {
            "image/png": "[encoded data removed]",
            "text/plain": [
              "<Figure size 432x288 with 1 Axes>"
            ]
          },
          "metadata": {
            "tags": []
          }
        }
      ]
    },
    {
      "cell_type": "code",
      "metadata": {
        "id": "78_sZtKvPSGe",
        "outputId": "9564d411-7d25-4d77-93ee-9a31238d6d3e",
        "colab": {
          "base_uri": "https://localhost:8080/",
          "height": 191
        }
      },
      "source": [
        "threshold, binary_img = cv2.threshold(img_gray, 127,255, cv2.THRESH_BINARY_INV)\n",
        "contours, hierarchy = cv2.findContours(binary_img, \n",
        "                                       cv2.RETR_EXTERNAL,\n",
        "                                       cv2.CHAIN_APPROX_SIMPLE\n",
        "                                       )\n",
        "img = img_ori.copy()\n",
        "print('# of contour:',len(contours))\n",
        "for contour in contours:\n",
        "    # print(contour)\n",
        "    x,y,w,h = cv2.boundingRect(contour)\n",
        "    cv2.rectangle(img,(x,y),(x+w,y+h),(255,0,0),3) #thickness =3\n",
        "\n",
        "plt.imshow(img)\n",
        "plt.xticks([]),plt.yticks([])\n",
        "plt.show()"
      ],
      "execution_count": null,
      "outputs": [
        {
          "output_type": "stream",
          "text": [
            "# of contour: 4\n"
          ],
          "name": "stdout"
        },
        {
          "output_type": "display_data",
          "data": {
            "image/png": "[encoded data removed]",
            "text/plain": [
              "<Figure size 432x288 with 1 Axes>"
            ]
          },
          "metadata": {
            "tags": []
          }
        }
      ]
    },
    {
      "cell_type": "markdown",
      "metadata": {
        "id": "O5OUS6jNPSGi"
      },
      "source": [
        "## Contour Approximation // 반시계 방향으로 돌면서 외곽선을 찾음\n",
        "\n",
        "* Convex Hull을 이용한 방식 :숙제!!"
      ]
    },
    {
      "cell_type": "code",
      "metadata": {
        "id": "zm7opmx7XTVI",
        "outputId": "c7518ece-a658-4cd6-de74-1c539cd8deff",
        "colab": {
          "base_uri": "https://localhost:8080/"
        }
      },
      "source": [
        "url = 'https://raw.githubusercontent.com/dsaint31x/OpenCV_Python_Tutorial/master/images/bad_rect.png'\n",
        "fstr = 'bad_rect.png'\n",
        "request.urlretrieve(url,fstr)\n",
        "print('saved ok : bad_rect.png')"
      ],
      "execution_count": null,
      "outputs": [
        {
          "output_type": "stream",
          "text": [
            "saved ok : bad_rect.png\n"
          ],
          "name": "stdout"
        }
      ]
    },
    {
      "cell_type": "code",
      "metadata": {
        "id": "gxol4yJwam7r",
        "outputId": "eabcf719-1693-4308-d606-4d39d32999b8",
        "colab": {
          "base_uri": "https://localhost:8080/",
          "height": 245
        }
      },
      "source": [
        ""
      ],
      "execution_count": null,
      "outputs": [
        {
          "output_type": "display_data",
          "data": {
            "image/png": "[encoded data removed]",
            "text/plain": [
              "<Figure size 432x288 with 1 Axes>"
            ]
          },
          "metadata": {
            "tags": [],
            "needs_background": "light"
          }
        }
      ]
    },
    {
      "cell_type": "code",
      "metadata": {
        "id": "yvaRg-MzPSGi",
        "outputId": "a58ac4d4-b116-427f-bc1b-22ccfdfa5159",
        "colab": {
          "base_uri": "https://localhost:8080/",
          "height": 736
        }
      },
      "source": [
        "img0 = cv2.imread('./bad_rect.png')\n",
        "img1 = img0.copy()\n",
        "\n",
        "# 그레이스케일과 바이너리 스케일 변환\n",
        "img_gray = cv2.cvtColor(img0, cv2.COLOR_BGR2GRAY) \n",
        "threshold, binary_img = cv2.threshold(img_gray, 127, 255, cv2.THRESH_BINARY)\n",
        "plt.imshow(binary_img,cmap='gray')\n",
        "plt.show()\n",
        "\n",
        "# 컨투어 찾기 \n",
        "contours, hierachy = cv2.findContours(binary_img.copy(), \n",
        "                                      cv2.RETR_EXTERNAL,\n",
        "                                      cv2.CHAIN_APPROX_SIMPLE)\n",
        "contour = contours[0]\n",
        "\n",
        "\n",
        "# 전체 둘레의 5%로 오차 범위 지정 \n",
        "app_rate = 0.05  ##단점 이거를 뭘로 잡느냐에 따라 성능이 달라짐 \n",
        "\n",
        "#전체 contour둘레\n",
        "epsilon = app_rate * cv2.arcLength(contour, True) \n",
        "print('epsilon=',epsilon)\n",
        "\n",
        "# 근사 컨투어 계산 \n",
        "# 주어진 contour(곡선 또는 다각형)을 epsilon(오차범위)에 맞춰\n",
        "# contour에 속하는 점들을 줄인 approxiamation(근사 컨투어)를 반환\n",
        "#\n",
        "# param 1 : target contour\n",
        "# param 2 : 오차범위\n",
        "# param 3 : contour가 close인가? True : closed\n",
        "approx = cv2.approxPolyDP(contour, epsilon, True)\n",
        "\n",
        "print('bf:{:.2f}| af:{:.2f}'.format(\n",
        "    cv2.arcLength(contour, True), \n",
        "    cv2.arcLength(approx, True)\n",
        "    )\n",
        ")\n",
        "\n",
        "# 각각 컨투어 선 그리기 ---④\n",
        "cv2.drawContours(img0, [contour], -1, (0,255,0), 3)\n",
        "cv2.drawContours(img1, [approx], -1, (0,255,0), 3)\n",
        "\n",
        "plt.figure('origianl contour')\n",
        "plt.imshow(img0[:,:,::-1])\n",
        "plt.figure('approximated contour')\n",
        "plt.imshow(img1[:,:,::-1])\n",
        "plt.show()"
      ],
      "execution_count": null,
      "outputs": [
        {
          "output_type": "display_data",
          "data": {
            "image/png": "[encoded data removed]",
            "text/plain": [
              "<Figure size 432x288 with 1 Axes>"
            ]
          },
          "metadata": {
            "tags": [],
            "needs_background": "light"
          }
        },
        {
          "output_type": "stream",
          "text": [
            "epsilon= 65.43502856492997\n",
            "bf:1308.70| af:848.00\n"
          ],
          "name": "stdout"
        },
        {
          "output_type": "display_data",
          "data": {
            "image/png": "[encoded data removed]",
            "text/plain": [
              "<Figure size 432x288 with 1 Axes>"
            ]
          },
          "metadata": {
            "tags": [],
            "needs_background": "light"
          }
        },
        {
          "output_type": "display_data",
          "data": {
            "image/png": "[encoded data removed]",
            "text/plain": [
              "<Figure size 432x288 with 1 Axes>"
            ]
          },
          "metadata": {
            "tags": [],
            "needs_background": "light"
          }
        }
      ]
    }
  ]
}

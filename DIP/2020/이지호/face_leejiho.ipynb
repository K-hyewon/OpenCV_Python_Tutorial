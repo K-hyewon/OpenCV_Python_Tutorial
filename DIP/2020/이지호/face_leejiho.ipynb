{
  "nbformat": 4,
  "nbformat_minor": 0,
  "metadata": {
    "colab": {
      "name": "face_leejiho.ipynb",
      "provenance": [],
      "authorship_tag": "ABX9TyMLtzpQh25ym9+JBMkCLZPG"
    },
    "kernelspec": {
      "name": "python3",
      "display_name": "Python 3"
    }
  },
  "cells": [
    {
      "cell_type": "code",
      "metadata": {
        "id": "n715udDxxZcm"
      },
      "source": [
        "from google.colab import drive\n",
        "drive.mount('/content/drive/')"
      ],
      "execution_count": null,
      "outputs": []
    },
    {
      "cell_type": "code",
      "metadata": {
        "id": "olIp3i1ZxbC1"
      },
      "source": [
        "import cv2\n",
        "import numpy as np\n",
        "import matplotlib.pyplot as plt\n",
        "from google.colab.patches import cv2_imshow\n",
        "\n",
        "img1 = cv2.imread('/content/drive/My Drive/IMG_2155.JPG')\n",
        "img2 = cv2.imread('/content/drive/My Drive/IMG_7687.JPG')\n",
        "\n",
        "cv2_imshow(img1)\n",
        "cv2_imshow(img2)"
      ],
      "execution_count": null,
      "outputs": []
    },
    {
      "cell_type": "code",
      "metadata": {
        "id": "08IVHqo7xc12"
      },
      "source": [
        "from __future__ import print_function\n",
        "from ipywidgets import interact, interactive, fixed, interact_manual\n",
        "import ipywidgets as widgets\n",
        "\n",
        "def f(x):\n",
        "  alpha = x/100\n",
        "  ret = cv2.addWeighted(img1, alpha, img2, 1-alpha,0)\n",
        "  plt.imshow(ret[:,:,::-1])\n",
        "\n",
        "img1 = cv2.resize(img1, dsize=(img2.shape[1],img2.shape[0]), interpolation= cv2.INTER_AREA)\n",
        "\n",
        "interact(f, x=widgets.IntSlider(min=0, max=100, step=10, value=10, continuous_update=False));"
      ],
      "execution_count": null,
      "outputs": []
    }
  ]
}
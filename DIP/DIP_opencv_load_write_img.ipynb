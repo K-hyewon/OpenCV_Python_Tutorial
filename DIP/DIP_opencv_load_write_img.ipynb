{
  "nbformat": 4,
  "nbformat_minor": 0,
  "metadata": {
    "colab": {
      "name": "DIP_opencv_load_write_img.ipynb",
      "provenance": [],
      "authorship_tag": "ABX9TyO6yhEe+0HqsvIURpZavfnp",
      "include_colab_link": true
    },
    "kernelspec": {
      "name": "python3",
      "display_name": "Python 3"
    }
  },
  "cells": [
    {
      "cell_type": "markdown",
      "metadata": {
        "id": "view-in-github",
        "colab_type": "text"
      },
      "source": [
        "<a href=\"https://colab.research.google.com/github/dsaint31x/OpenCV_Python_Tutorial/blob/master/DIP/DIP_opencv_load_write_img.ipynb\" target=\"_parent\"><img src=\"https://colab.research.google.com/assets/colab-badge.svg\" alt=\"Open In Colab\"/></a>"
      ]
    },
    {
      "cell_type": "code",
      "metadata": {
        "id": "gsoXB5C0b9_5",
        "colab_type": "code",
        "colab": {}
      },
      "source": [
        "\n",
        "import numpy as np\n",
        "import cv2"
      ],
      "execution_count": null,
      "outputs": []
    },
    {
      "cell_type": "markdown",
      "metadata": {
        "id": "FlCWIlOtb6mx",
        "colab_type": "text"
      },
      "source": [
        "# Load sample images of skimage\n",
        "skimage is an image processing libary from sci-kit family of packages. We will use some images provided by skimage."
      ]
    },
    {
      "cell_type": "code",
      "metadata": {
        "id": "cbrGJMJLb5lh",
        "colab_type": "code",
        "colab": {}
      },
      "source": [
        "from skimage import data\n"
      ],
      "execution_count": 1,
      "outputs": []
    },
    {
      "cell_type": "code",
      "metadata": {
        "id": "nz7Vs7N5cBF8",
        "colab_type": "code",
        "colab": {}
      },
      "source": [
        "\n",
        "#from skimage.color import rgb2gray\n",
        "#from skimage import img_as_ubyte,img_as_float\n",
        "\n",
        "cat = data.chelsea() # take the test image of cat!\n",
        "astro = data.astronaut()"
      ],
      "execution_count": null,
      "outputs": []
    },
    {
      "cell_type": "markdown",
      "metadata": {
        "id": "D9KJtmX6cE_G",
        "colab_type": "text"
      },
      "source": [
        "# check image (or display image)\n",
        "Orignal method\n",
        "\n",
        "* `cv2.imshow(\"cat_iamge\",cat)`\n",
        "\n",
        "The alternative method for google colab\n",
        "\n",
        "* `cv2_imshow(cat)`\n",
        "\n",
        "> from google.colab.patches import cv2_imshow"
      ]
    },
    {
      "cell_type": "code",
      "metadata": {
        "id": "mhKWkpN2cEXe",
        "colab_type": "code",
        "colab": {}
      },
      "source": [
        "cv2.imshow('test_cat',cat)\n",
        "cv2.waitKey(0)\n",
        "cv2.destroyAllWindows()"
      ],
      "execution_count": null,
      "outputs": []
    },
    {
      "cell_type": "code",
      "metadata": {
        "id": "ww2LU6EEcWjC",
        "colab_type": "code",
        "colab": {}
      },
      "source": [
        "cv2.imshow('test_astro',astro)\n",
        "cv2.waitKey(0)\n",
        "cv2.destroyAllWindows()\n",
        "# for google colab\n",
        "#cv2_imshow(cat)\n",
        "#cv2_imshow(astro)"
      ],
      "execution_count": null,
      "outputs": []
    },
    {
      "cell_type": "markdown",
      "metadata": {
        "id": "655OxgIpcY8r",
        "colab_type": "text"
      },
      "source": [
        "We can see something wrong.\n",
        "\n",
        "It's because opencv uses BGR color space but skimage uses RGB. To show a proper image color, we should change the color space"
      ]
    },
    {
      "cell_type": "markdown",
      "metadata": {
        "id": "YyXDNv2dcbdM",
        "colab_type": "text"
      },
      "source": [
        "# Save an image\n",
        "\n",
        "* `cv2.imwrite('file_name', img)`"
      ]
    },
    {
      "cell_type": "code",
      "metadata": {
        "id": "oxioGQ1Vcic4",
        "colab_type": "code",
        "colab": {}
      },
      "source": [
        "cv2.imwrite(\"cat_cv.tif\",cat_cv)\n",
        "cv2.imwrite(\"astro_cv.bmp\",astro_cv)"
      ],
      "execution_count": null,
      "outputs": []
    },
    {
      "cell_type": "markdown",
      "metadata": {
        "id": "d0xCE4Bcck_a",
        "colab_type": "text"
      },
      "source": [
        "# Read an image\n",
        "\n",
        "* Use the function `cv2.imread()` to read an image.\n",
        "* The image should be in the working directory or a full path of image should be given.\n",
        "\n",
        "Second argument is flag which specifies the way image should be read.\n",
        "* `cv2.IMREAD_COLOR` : Loads a color image. Any tranparency of image will be neglected. It is the default flag. (1)\n",
        "* `cv2.IMREAD_GRAYSCALE` : Loads image in grayscale mode (0)\n",
        "* `cv2.IMREAD_UNCHANGED` : Loads image as such including alpha channel (-1)\n"
      ]
    },
    {
      "cell_type": "code",
      "metadata": {
        "id": "C9Hp6kQhcueQ",
        "colab_type": "code",
        "colab": {}
      },
      "source": [
        "# Load an color image in grayscale\n",
        "img = cv2.imread(\"cat_cv.tif\",0) # Even if the image path is wrong, it won't throw any error\n",
        "print(img) # If the image path is wrong, img will be None\n",
        "\n",
        "new_cat_cv   = cv2.imread(\"cat_cv.tif\")\n",
        "new_astro_cv = cv2.imread(\"astro_cv.bmp\")\n",
        "\n",
        "cv2.imshow('new_cat_cv',new_cat_cv)\n",
        "cv2.imshow('new_astro_cv',new_astro_cv)\n",
        "cv2.waitKey(0)\n",
        "cv2.destroyAllWindows()\n",
        "\n",
        "# for google colab \n",
        "# cv2_imshow(new_cat_cv)\n",
        "# cv2_imshow(new_astro_cv)"
      ],
      "execution_count": null,
      "outputs": []
    },
    {
      "cell_type": "code",
      "metadata": {
        "id": "RtVLFWfIcxQS",
        "colab_type": "code",
        "colab": {}
      },
      "source": [
        "\n",
        "img.shape"
      ],
      "execution_count": null,
      "outputs": []
    },
    {
      "cell_type": "markdown",
      "metadata": {
        "id": "o3YLcOuFczfz",
        "colab_type": "text"
      },
      "source": [
        "# Using Matplotlib\n",
        "\n",
        "* Matplotlib is a plotting library for Python which gives you wide variety of plotting methods.\n",
        "* You will see them in coming articles. : [Ref.](https://matplotlib.org/api/pyplot_api.html)\n",
        "* Here, you will learn how to display image with Matplotlib. You can zoom images, save it etc using Matplotlib."
      ]
    },
    {
      "cell_type": "code",
      "metadata": {
        "id": "xC4OuNI1c7uW",
        "colab_type": "code",
        "colab": {}
      },
      "source": [
        "from matplotlib import pyplot as plt\n",
        "\n",
        "plt.imshow(img, cmap='gray', interpolation='bicubic')\n",
        "plt.xticks([]); plt.yticks([]) # to hide tick values on X and Y axis\n",
        "plt.show()"
      ],
      "execution_count": null,
      "outputs": []
    },
    {
      "cell_type": "markdown",
      "metadata": {
        "id": "ExaWpHwJdA1W",
        "colab_type": "text"
      },
      "source": [
        "# Warning\n",
        "\n",
        "Color image loaded by OpenCV is in **BGR** mode. But Matplotlib displays in **RGB** mode. So color images will no be displayed correctly in Matplotlib if image is read with OpenCV.\n",
        "\n",
        "* There is a slight difference in pixel ordering in OpenCV and Matplotlib.\n",
        "\n",
        "So when you display an image loaded in OpenCV using python, you may need to convert it into RGB mode. Below method demonstrate it:"
      ]
    },
    {
      "cell_type": "code",
      "metadata": {
        "id": "pbO6sv61dKCz",
        "colab_type": "code",
        "colab": {}
      },
      "source": [
        "import cv2\n",
        "import numpy as np\n",
        "import matplotlib.pyplot as plt\n",
        "\n",
        "img = cv2.imread('cat_cv.tif')\n",
        "\n",
        "# b,g,r = cv2.split(img)\n",
        "# img2 = cv2.merge([r,g,b])\n",
        "img2 = img[:,:,::-1] # faster version.\n",
        "\n",
        "plt.figure(figsize=(12,12))\n",
        "plt.subplot(121); plt.imshow(img)  # expects distored color\n",
        "plt.subplot(122); plt.imshow(img2) # expects true color\n",
        "plt.show()\n",
        "\n",
        "#cv2.imshow('bgr imgae',img) #expects true color\n",
        "#cv2.imshow('rgb image',img2) #expects disroted color\n",
        "#cv2.waitKey(0)\n",
        "#cv2.destroyAllWindows()"
      ],
      "execution_count": null,
      "outputs": []
    }
  ]
}
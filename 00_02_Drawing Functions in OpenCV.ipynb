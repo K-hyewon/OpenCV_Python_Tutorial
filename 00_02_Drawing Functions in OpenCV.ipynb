{
  "cells": [
    {
      "cell_type": "markdown",
      "metadata": {
        "id": "3VwWyQ4mSHFP"
      },
      "source": [
        "# Drawing Functions in OpenCV\n",
        "\n",
        "## Goal\n",
        "\n",
        "* Learn to draw different geometric shapes with OpenCV\n",
        "* You will learn these functions : \n",
        "    * cv2.line()\n",
        "    * cv2.circle() \n",
        "    * cv2.rectangle()\n",
        "    * cv2.ellipse()\n",
        "    * cv2.putText()"
      ]
    },
    {
      "cell_type": "markdown",
      "metadata": {
        "id": "uaPN_fyRSHFS"
      },
      "source": [
        "## Code\n",
        "In all the above functions, you will see some common arguments as given below:\n",
        "\n",
        "* `img` : The image where you want to draw the shapes\n",
        "* `color` : Color of the shape. for BGR, pass it as a tuple, eg: `(255,0,0)` for blue. For grayscale, just pass the scalar value.\n",
        "* `thickness` : Thickness of the line or circle etc. If -1 is passed for closed figures like circles, it will fill the shape. *default thickness = 1*\n",
        "* `lineType` : Type of line, whether 8-connected, anti-aliased line etc. By default, it is 8-connected. `cv2.LINE_AA` gives anti-aliased line which looks great for curves.\n",
        "    "
      ]
    },
    {
      "cell_type": "markdown",
      "metadata": {
        "id": "Sq5yurmlSHFT"
      },
      "source": [
        "## Drawing Line\n",
        "\n",
        "To draw a line, you need to pass **starting and ending coordinates** of line. We will create a black image and draw a blue line on it from top-left to bottom-right corners.\n"
      ]
    },
    {
      "cell_type": "code",
      "execution_count": 12,
      "metadata": {
        "id": "RUA9HqInSHFT"
      },
      "outputs": [],
      "source": [
        "import numpy as np\n",
        "import cv2\n",
        "\n",
        "# Create a black image\n",
        "img = np.zeros((512,512,3), np.uint8)\n",
        "\n",
        "# Draw a diagonal blue line with thickness of 5 px\n",
        "img = cv2.line(img,(0,0),(511,511),(255,0,0),5)\n"
      ]
    },
    {
      "cell_type": "code",
      "execution_count": 13,
      "metadata": {
        "id": "McPf1_JeSHFU",
        "outputId": "719de06d-cc01-478e-a08c-600723557ee7",
        "colab": {
          "base_uri": "https://localhost:8080/",
          "height": 252
        }
      },
      "outputs": [
        {
          "output_type": "display_data",
          "data": {
            "text/plain": [
              "<Figure size 432x288 with 1 Axes>"
            ],
            "image/png": "[encoded data removed]"
          },
          "metadata": {}
        }
      ],
      "source": [
        "from matplotlib import pyplot as plt\n",
        "\n",
        "# b,g,r = cv2.split(img)\n",
        "# img2 = cv2.merge([r,g,b])\n",
        "img2 = img[:,:,::-1] # faster version.\n",
        "plt.imshow(img2,cmap='gray', interpolation='bicubic')\n",
        "plt.xticks([]); plt.yticks([]) # to hide tick values on X and Y axis\n",
        "plt.show()"
      ]
    },
    {
      "cell_type": "markdown",
      "metadata": {
        "id": "R1MSGVPfSHFW"
      },
      "source": [
        "# Drawing Rectangle\n",
        "\n",
        "* To draw a rectangle, you need **top-left corner and bottom-right corner of rectangle**. \n",
        "* This time we will draw a **green rectangle** at the top-right corner of image."
      ]
    },
    {
      "cell_type": "code",
      "execution_count": 14,
      "metadata": {
        "id": "O2x8bvdoSHFW"
      },
      "outputs": [],
      "source": [
        "img = cv2.rectangle(img,(384,0),(510,128),(0,255,0),3)"
      ]
    },
    {
      "cell_type": "code",
      "execution_count": 15,
      "metadata": {
        "id": "0aQ2Vuo4SHFX",
        "outputId": "66dd812f-9b19-4794-f5c6-d3373282d6ad",
        "colab": {
          "base_uri": "https://localhost:8080/",
          "height": 252
        }
      },
      "outputs": [
        {
          "output_type": "display_data",
          "data": {
            "text/plain": [
              "<Figure size 432x288 with 1 Axes>"
            ],
            "image/png": "[encoded data removed]"
          },
          "metadata": {}
        }
      ],
      "source": [
        "from matplotlib import pyplot as plt\n",
        "\n",
        "# b,g,r = cv2.split(img)\n",
        "# img2 = cv2.merge([r,g,b])\n",
        "img2 = img[:,:,::-1] # faster version.\n",
        "plt.imshow(img2,cmap='gray', interpolation='bicubic')\n",
        "plt.xticks([]); plt.yticks([]) # to hide tick values on X and Y axis\n",
        "plt.show()"
      ]
    },
    {
      "cell_type": "markdown",
      "metadata": {
        "id": "K6yO_BS2SHFX"
      },
      "source": [
        "# Drawing Circle\n",
        "\n",
        "* To draw a circle, you need **its center coordinates and radius**. \n",
        "* We will draw a circle inside the rectangle drawn above."
      ]
    },
    {
      "cell_type": "code",
      "execution_count": 16,
      "metadata": {
        "id": "a13odpjsSHFX"
      },
      "outputs": [],
      "source": [
        "img = cv2.circle(img,(447,63), 63, (0,0,255), -1)"
      ]
    },
    {
      "cell_type": "code",
      "execution_count": 17,
      "metadata": {
        "id": "QMvBR2csSHFY",
        "outputId": "fa6f6c62-4df9-46e4-b928-6b554f636213",
        "colab": {
          "base_uri": "https://localhost:8080/",
          "height": 252
        }
      },
      "outputs": [
        {
          "output_type": "display_data",
          "data": {
            "text/plain": [
              "<Figure size 432x288 with 1 Axes>"
            ],
            "image/png": "[encoded data removed]"
          },
          "metadata": {}
        }
      ],
      "source": [
        "from matplotlib import pyplot as plt\n",
        "\n",
        "# b,g,r = cv2.split(img)\n",
        "# img2 = cv2.merge([r,g,b])\n",
        "img2 = img[:,:,::-1] # faster version.\n",
        "plt.imshow(img2,cmap='gray', interpolation='bicubic')\n",
        "plt.xticks([]); plt.yticks([]) # to hide tick values on X and Y axis\n",
        "plt.show()"
      ]
    },
    {
      "cell_type": "markdown",
      "metadata": {
        "id": "Mlx7EreOSHFY"
      },
      "source": [
        "# Drawing Ellipse\n",
        "\n",
        "To draw the ellipse, we need to pass several arguments. \n",
        "\n",
        "* One argument is the center location `(x,y)`. \n",
        "* Next argument is axes lengths `(major axis length, minor axis length)`.\n",
        "* `angle` is the angle of rotation of ellipse in **anti-clockwise direction**. \n",
        "* `startAngle` and `endAngle` denotes the starting and ending of ellipse arc measured in clockwise direction from major axis. i.e. giving values 0 and 360 gives the full ellipse. \n",
        "* For more details, check the documentation of `cv2.ellipse()`. \n",
        "\n",
        "Below example draws a half ellipse at the center of the image."
      ]
    },
    {
      "cell_type": "code",
      "execution_count": 18,
      "metadata": {
        "id": "yVkqzn3QSHFZ"
      },
      "outputs": [],
      "source": [
        "# img = np.zeros((512,512,3), np.uint8)\n",
        "img = cv2.ellipse(img,(256,256),(100,50),0,45,180,255,-1)"
      ]
    },
    {
      "cell_type": "code",
      "execution_count": 19,
      "metadata": {
        "id": "Rpy16hTySHFZ",
        "outputId": "3171088c-8b4a-4a9a-d1f2-054f1ced7d91",
        "colab": {
          "base_uri": "https://localhost:8080/",
          "height": 252
        }
      },
      "outputs": [
        {
          "output_type": "display_data",
          "data": {
            "text/plain": [
              "<Figure size 432x288 with 1 Axes>"
            ],
            "image/png": "[encoded data removed]"
          },
          "metadata": {}
        }
      ],
      "source": [
        "from matplotlib import pyplot as plt\n",
        "\n",
        "# b,g,r = cv2.split(img)\n",
        "# img2 = cv2.merge([r,g,b])\n",
        "img2 = img[:,:,::-1] # faster version.\n",
        "plt.imshow(img2,cmap='gray', interpolation='bicubic')\n",
        "plt.xticks([]); plt.yticks([]) # to hide tick values on X and Y axis\n",
        "plt.show()"
      ]
    },
    {
      "cell_type": "markdown",
      "metadata": {
        "id": "BXUOTUCUSHFa"
      },
      "source": [
        "# Drawing Polygon\n",
        "\n",
        "To draw a polygon, \n",
        "* first you need coordinates of vertices. \n",
        "* Make those points into an array of shape `ROWSx1x2` where ROWS are number of vertices and it should be of type int32. \n",
        "* Here we draw a small polygon of with **four vertices** in yellow color."
      ]
    },
    {
      "cell_type": "code",
      "execution_count": 20,
      "metadata": {
        "id": "WTua95vrSHFa",
        "outputId": "5912f40f-37cf-472a-8fad-dcabbdc92913",
        "colab": {
          "base_uri": "https://localhost:8080/"
        }
      },
      "outputs": [
        {
          "output_type": "stream",
          "name": "stdout",
          "text": [
            "(4, 2)\n",
            "[[[10  5]]\n",
            "\n",
            " [[20 30]]\n",
            "\n",
            " [[70 20]]\n",
            "\n",
            " [[50 10]]]\n",
            "(4, 1, 2)\n"
          ]
        }
      ],
      "source": [
        "pts = np.array([[10,5],[20,30],[70,20],[50,10]], np.int32)\n",
        "print(pts.shape)\n",
        "pts = pts.reshape((-1,1,2))\n",
        "print(pts)\n",
        "print(pts.shape)\n",
        "img = cv2.polylines(img,[pts],True,(0,255,255))"
      ]
    },
    {
      "cell_type": "code",
      "execution_count": 21,
      "metadata": {
        "id": "ozsK0O9oSHFa",
        "outputId": "1c3f6d30-bc71-4b14-8a71-1aa1d3f6c489",
        "colab": {
          "base_uri": "https://localhost:8080/",
          "height": 252
        }
      },
      "outputs": [
        {
          "output_type": "display_data",
          "data": {
            "text/plain": [
              "<Figure size 432x288 with 1 Axes>"
            ],
            "image/png": "[encoded data removed]"
          },
          "metadata": {}
        }
      ],
      "source": [
        "from matplotlib import pyplot as plt\n",
        "\n",
        "# b,g,r = cv2.split(img)\n",
        "# img2 = cv2.merge([r,g,b])\n",
        "img2 = img[:,:,::-1] # faster version.\n",
        "plt.imshow(img2,cmap='gray', interpolation='bicubic')\n",
        "plt.xticks([]); plt.yticks([]) # to hide tick values on X and Y axis\n",
        "plt.show()"
      ]
    },
    {
      "cell_type": "markdown",
      "metadata": {
        "id": "pf5YxBZLSHFb"
      },
      "source": [
        "> **Note**\n",
        "> If third argument is `False`, you will get a polylines joining all the points, **not a closed shape**.\n",
        "> `cv.polylines()` can be used to draw multiple lines. Just create a list of all the lines you want to draw and pass it to the function. All lines will be drawn individually. It is a much better and faster way to draw a group of lines than calling `cv.line()` for each line."
      ]
    },
    {
      "cell_type": "code",
      "execution_count": 22,
      "metadata": {
        "id": "sVzH2DZKSHFc"
      },
      "outputs": [],
      "source": [
        "# img = np.zeros((512,512,3), np.uint8)\n",
        "img = cv2.polylines(img,[pts],False,(0,255,255))"
      ]
    },
    {
      "cell_type": "code",
      "execution_count": 23,
      "metadata": {
        "id": "Kb-JoOehSHFc",
        "outputId": "c4dc7f8d-7889-42ac-a1f6-96a9a252d75e",
        "colab": {
          "base_uri": "https://localhost:8080/",
          "height": 252
        }
      },
      "outputs": [
        {
          "output_type": "display_data",
          "data": {
            "text/plain": [
              "<Figure size 432x288 with 1 Axes>"
            ],
            "image/png": "[encoded data removed]"
          },
          "metadata": {}
        }
      ],
      "source": [
        "from matplotlib import pyplot as plt\n",
        "\n",
        "# b,g,r = cv2.split(img)\n",
        "# img2 = cv2.merge([r,g,b])\n",
        "img2 = img[:,:,::-1] # faster version.\n",
        "plt.imshow(img2,cmap='gray', interpolation='bicubic')\n",
        "plt.xticks([]); plt.yticks([]) # to hide tick values on X and Y axis\n",
        "plt.show()"
      ]
    },
    {
      "cell_type": "markdown",
      "metadata": {
        "id": "Mfo5ZDBNSHFc"
      },
      "source": [
        "> # Note\n",
        ">\n",
        "> `cv2.polylines()` can be used to draw multiple lines. Just create a list of all the lines you want to draw and pass it to the function. All lines will be drawn individually. It is more better and faster way to draw a group of lines than calling `cv2.line()` for each line."
      ]
    },
    {
      "cell_type": "markdown",
      "metadata": {
        "id": "KcljNz_3SHFd"
      },
      "source": [
        "## Adding Text to Images:\n",
        "\n",
        "To put texts in images, you need specify following things.\n",
        "\n",
        "* Text data that you want to write\n",
        "* Position coordinates of where you want put it (i.e. bottom-left corner where data starts).\n",
        "* Font type (Check cv2.putText() docs for supported fonts)\n",
        "* Font Scale (specifies the size of font)\n",
        "* regular things like color, thickness, lineType etc. For better look, lineType = cv2.LINE_AA is recommended.\n",
        "\n",
        "We will write OpenCV on our image in white color."
      ]
    },
    {
      "cell_type": "code",
      "execution_count": 24,
      "metadata": {
        "id": "QFYWdOlYSHFd"
      },
      "outputs": [],
      "source": [
        "font = cv2.FONT_HERSHEY_SIMPLEX\n",
        "img = cv2.putText(img,'OpenCV',(10,500), font, 4,(255,255,255),2,cv2.LINE_AA)"
      ]
    },
    {
      "cell_type": "code",
      "execution_count": 25,
      "metadata": {
        "id": "AUBYxFPYSHFe",
        "outputId": "5b1239a0-eda4-4e66-de36-aecdeb2f447a",
        "colab": {
          "base_uri": "https://localhost:8080/",
          "height": 252
        }
      },
      "outputs": [
        {
          "output_type": "display_data",
          "data": {
            "text/plain": [
              "<Figure size 432x288 with 1 Axes>"
            ],
            "image/png": "[encoded data removed]"
          },
          "metadata": {}
        }
      ],
      "source": [
        "from matplotlib import pyplot as plt\n",
        "\n",
        "# b,g,r = cv2.split(img)\n",
        "# img2 = cv2.merge([r,g,b])\n",
        "img2 = img[:,:,::-1] # faster version.\n",
        "plt.imshow(img2,cmap='gray', interpolation='bicubic')\n",
        "plt.xticks([]); plt.yticks([]) # to hide tick values on X and Y axis\n",
        "plt.show()"
      ]
    },
    {
      "cell_type": "markdown",
      "metadata": {
        "id": "CNmyZvi1SHFe"
      },
      "source": [
        "## Result\n",
        "\n",
        "So it is time to see the final result of our drawing. As you studied in previous articles, display the image to see it."
      ]
    },
    {
      "cell_type": "code",
      "execution_count": 26,
      "metadata": {
        "id": "1qXNS2IJSHFe",
        "outputId": "e6d271f7-4a99-4292-88c3-dbf5837215be",
        "colab": {
          "base_uri": "https://localhost:8080/",
          "height": 252
        }
      },
      "outputs": [
        {
          "output_type": "display_data",
          "data": {
            "text/plain": [
              "<Figure size 432x288 with 1 Axes>"
            ],
            "image/png": "[encoded data removed]"
          },
          "metadata": {}
        }
      ],
      "source": [
        "from matplotlib import pyplot as plt\n",
        "\n",
        "# b,g,r = cv2.split(img)\n",
        "# img2 = cv2.merge([r,g,b])\n",
        "img2 = img[:,:,::-1] # faster version.\n",
        "plt.imshow(img2,cmap='gray', interpolation='bicubic')\n",
        "plt.xticks([]); plt.yticks([]) # to hide tick values on X and Y axis\n",
        "\n",
        "plt.show()"
      ]
    },
    {
      "cell_type": "markdown",
      "metadata": {
        "id": "J2fXnQqXSHFf"
      },
      "source": [
        "## Additional Resources\n",
        "\n",
        "The angles used in ellipse function is not our circular angles.\n",
        "\n",
        "* Starting angle and ending angle are measured in arc-angles from an ellipse, not from a circle. \n",
        "* The phenomen is visualized in paragraph (59) of http://mathworld.wolfram.com/Ellipse.html . \n",
        "\n",
        "visit this discussion : (https://answers.opencv.org/question/14541/angles-in-ellipse-function/)"
      ]
    },
    {
      "cell_type": "code",
      "source": [],
      "metadata": {
        "id": "VU1Ki233TqIc"
      },
      "execution_count": null,
      "outputs": []
    }
  ],
  "metadata": {
    "kernelspec": {
      "display_name": "Python 3",
      "language": "python",
      "name": "python3"
    },
    "language_info": {
      "codemirror_mode": {
        "name": "ipython",
        "version": 3
      },
      "file_extension": ".py",
      "mimetype": "text/x-python",
      "name": "python",
      "nbconvert_exporter": "python",
      "pygments_lexer": "ipython3",
      "version": "3.7.3"
    },
    "colab": {
      "provenance": []
    }
  },
  "nbformat": 4,
  "nbformat_minor": 0
}
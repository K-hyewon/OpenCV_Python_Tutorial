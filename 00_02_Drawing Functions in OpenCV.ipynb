{
 "cells": [
  {
   "cell_type": "markdown",
   "metadata": {},
   "source": [
    "# Drawing Functions in OpenCV\n",
    "\n",
    "## Goal\n",
    "\n",
    "* Learn to draw different geometric shapes with OpenCV\n",
    "* You will learn these functions : \n",
    "    * cv2.line()\n",
    "    * cv2.circle() \n",
    "    * cv2.rectangle()\n",
    "    * cv2.ellipse()\n",
    "    * cv2.putText()"
   ]
  },
  {
   "cell_type": "markdown",
   "metadata": {},
   "source": [
    "## Code\n",
    "In all the above functions, you will see some common arguments as given below:\n",
    "\n",
    "* img : The image where you want to draw the shapes\n",
    "* color : Color of the shape. for BGR, pass it as a tuple, eg: `(255,0,0)` for blue. For grayscale, just pass the scalar value.\n",
    "* thickness : Thickness of the line or circle etc. If -1 is passed for closed figures like circles, it will fill the shape. *default thickness = 1*\n",
    "* lineType : Type of line, whether 8-connected, anti-aliased line etc. By default, it is 8-connected. `cv2.LINE_AA` gives anti-aliased line which looks great for curves.\n",
    "    "
   ]
  },
  {
   "cell_type": "markdown",
   "metadata": {},
   "source": [
    "## Drawing Line\n",
    "\n",
    "To draw a line, you need to pass **starting and ending coordinates** of line. We will create a black image and draw a blue line on it from top-left to bottom-right corners.\n"
   ]
  },
  {
   "cell_type": "code",
   "execution_count": null,
   "metadata": {},
   "outputs": [],
   "source": [
    "import numpy as np\n",
    "import cv2\n",
    "\n",
    "# Create a black image\n",
    "img = np.zeros((512,512,3), np.uint8)\n",
    "\n",
    "# Draw a diagonal blue line with thickness of 5 px\n",
    "img = cv2.line(img,(0,0),(511,511),(255,0,0),5)\n"
   ]
  },
  {
   "cell_type": "code",
   "execution_count": 3,
   "metadata": {},
   "outputs": [
    {
     "data": {
      "image/png": "[encoded data removed]",
      "text/plain": [
       "<Figure size 432x288 with 1 Axes>"
      ]
     },
     "metadata": {},
     "output_type": "display_data"
    }
   ],
   "source": [
    "from matplotlib import pyplot as plt\n",
    "\n",
    "# b,g,r = cv2.split(img)\n",
    "# img2 = cv2.merge([r,g,b])\n",
    "img2 = img[:,:,::-1] # faster version.\n",
    "plt.imshow(img2,cmap='gray', interpolation='bicubic')\n",
    "plt.xticks([]); plt.yticks([]) # to hide tick values on X and Y axis\n",
    "plt.show()"
   ]
  },
  {
   "cell_type": "markdown",
   "metadata": {},
   "source": [
    "# Drawing Rectangle\n",
    "\n",
    "* To draw a rectangle, you need **top-left corner and bottom-right corner of rectangle**. \n",
    "* This time we will draw a **green rectangle** at the top-right corner of image."
   ]
  },
  {
   "cell_type": "code",
   "execution_count": 4,
   "metadata": {},
   "outputs": [],
   "source": [
    "img = cv2.rectangle(img,(384,0),(510,128),(0,255,0),3)"
   ]
  },
  {
   "cell_type": "code",
   "execution_count": 5,
   "metadata": {},
   "outputs": [
    {
     "data": {
      "image/png": "[encoded data removed]",
      "text/plain": [
       "<Figure size 432x288 with 1 Axes>"
      ]
     },
     "metadata": {},
     "output_type": "display_data"
    }
   ],
   "source": [
    "from matplotlib import pyplot as plt\n",
    "\n",
    "# b,g,r = cv2.split(img)\n",
    "# img2 = cv2.merge([r,g,b])\n",
    "img2 = img[:,:,::-1] # faster version.\n",
    "plt.imshow(img2,cmap='gray', interpolation='bicubic')\n",
    "plt.xticks([]); plt.yticks([]) # to hide tick values on X and Y axis\n",
    "plt.show()"
   ]
  },
  {
   "cell_type": "markdown",
   "metadata": {},
   "source": [
    "# Drawing Circle\n",
    "\n",
    "* To draw a circle, you need **its center coordinates and radius**. \n",
    "* We will draw a circle inside the rectangle drawn above."
   ]
  },
  {
   "cell_type": "code",
   "execution_count": 6,
   "metadata": {},
   "outputs": [],
   "source": [
    "img = cv2.circle(img,(447,63), 63, (0,0,255), -1)"
   ]
  },
  {
   "cell_type": "code",
   "execution_count": 7,
   "metadata": {},
   "outputs": [
    {
     "data": {
      "image/png": "[encoded data removed]",
      "text/plain": [
       "<Figure size 432x288 with 1 Axes>"
      ]
     },
     "metadata": {},
     "output_type": "display_data"
    }
   ],
   "source": [
    "from matplotlib import pyplot as plt\n",
    "\n",
    "# b,g,r = cv2.split(img)\n",
    "# img2 = cv2.merge([r,g,b])\n",
    "img2 = img[:,:,::-1] # faster version.\n",
    "plt.imshow(img2,cmap='gray', interpolation='bicubic')\n",
    "plt.xticks([]); plt.yticks([]) # to hide tick values on X and Y axis\n",
    "plt.show()"
   ]
  },
  {
   "cell_type": "markdown",
   "metadata": {},
   "source": [
    "# Drawing Ellipse\n",
    "\n",
    "To draw the ellipse, we need to pass several arguments. \n",
    "\n",
    "* One argument is the center location `(x,y)`. \n",
    "* Next argument is axes lengths `(major axis length, minor axis length)`.\n",
    "* `angle` is the angle of rotation of ellipse in **anti-clockwise direction**. \n",
    "* `startAngle` and `endAngle` denotes the starting and ending of ellipse arc measured in clockwise direction from major axis. i.e. giving values 0 and 360 gives the full ellipse. \n",
    "* For more details, check the documentation of `cv2.ellipse()`. \n",
    "\n",
    "Below example draws a half ellipse at the center of the image."
   ]
  },
  {
   "cell_type": "code",
   "execution_count": 8,
   "metadata": {},
   "outputs": [],
   "source": [
    "img = np.zeros((512,512,3), np.uint8)\n",
    "img = cv2.ellipse(img,(256,256),(100,50),0,45,180,255,-1)"
   ]
  },
  {
   "cell_type": "code",
   "execution_count": 9,
   "metadata": {},
   "outputs": [
    {
     "data": {
      "image/png": "[encoded data removed]",
      "text/plain": [
       "<Figure size 432x288 with 1 Axes>"
      ]
     },
     "metadata": {},
     "output_type": "display_data"
    }
   ],
   "source": [
    "from matplotlib import pyplot as plt\n",
    "\n",
    "# b,g,r = cv2.split(img)\n",
    "# img2 = cv2.merge([r,g,b])\n",
    "img2 = img[:,:,::-1] # faster version.\n",
    "plt.imshow(img2,cmap='gray', interpolation='bicubic')\n",
    "plt.xticks([]); plt.yticks([]) # to hide tick values on X and Y axis\n",
    "plt.show()"
   ]
  },
  {
   "cell_type": "markdown",
   "metadata": {},
   "source": [
    "# Drawing Polygon\n",
    "\n",
    "To draw a polygon, \n",
    "* first you need coordinates of vertices. \n",
    "* Make those points into an array of shape `ROWSx1x2` where ROWS are number of vertices and it should be of type int32. \n",
    "* Here we draw a small polygon of with **four vertices** in yellow color."
   ]
  },
  {
   "cell_type": "code",
   "execution_count": 10,
   "metadata": {},
   "outputs": [
    {
     "name": "stdout",
     "output_type": "stream",
     "text": [
      "(4, 2)\n",
      "[[[10  5]]\n",
      "\n",
      " [[20 30]]\n",
      "\n",
      " [[70 20]]\n",
      "\n",
      " [[50 10]]]\n",
      "(4, 1, 2)\n"
     ]
    }
   ],
   "source": [
    "pts = np.array([[10,5],[20,30],[70,20],[50,10]], np.int32)\n",
    "print(pts.shape)\n",
    "pts = pts.reshape((-1,1,2))\n",
    "print(pts)\n",
    "print(pts.shape)\n",
    "img = cv2.polylines(img,[pts],True,(0,255,255))"
   ]
  },
  {
   "cell_type": "code",
   "execution_count": 11,
   "metadata": {},
   "outputs": [
    {
     "data": {
      "image/png": "[encoded data removed]",
      "text/plain": [
       "<Figure size 432x288 with 1 Axes>"
      ]
     },
     "metadata": {},
     "output_type": "display_data"
    }
   ],
   "source": [
    "from matplotlib import pyplot as plt\n",
    "\n",
    "# b,g,r = cv2.split(img)\n",
    "# img2 = cv2.merge([r,g,b])\n",
    "img2 = img[:,:,::-1] # faster version.\n",
    "plt.imshow(img2,cmap='gray', interpolation='bicubic')\n",
    "plt.xticks([]); plt.yticks([]) # to hide tick values on X and Y axis\n",
    "plt.show()"
   ]
  },
  {
   "cell_type": "markdown",
   "metadata": {},
   "source": [
    "> **Note**\n",
    "> If third argument is `False`, you will get a polylines joining all the points, **not a closed shape**."
   ]
  },
  {
   "cell_type": "code",
   "execution_count": 12,
   "metadata": {},
   "outputs": [],
   "source": [
    "img = np.zeros((512,512,3), np.uint8)\n",
    "img = cv2.polylines(img,[pts],False,(0,255,255))"
   ]
  },
  {
   "cell_type": "code",
   "execution_count": 13,
   "metadata": {},
   "outputs": [
    {
     "data": {
      "image/png": "[encoded data removed]",
      "text/plain": [
       "<Figure size 432x288 with 1 Axes>"
      ]
     },
     "metadata": {},
     "output_type": "display_data"
    }
   ],
   "source": [
    "from matplotlib import pyplot as plt\n",
    "\n",
    "# b,g,r = cv2.split(img)\n",
    "# img2 = cv2.merge([r,g,b])\n",
    "img2 = img[:,:,::-1] # faster version.\n",
    "plt.imshow(img2,cmap='gray', interpolation='bicubic')\n",
    "plt.xticks([]); plt.yticks([]) # to hide tick values on X and Y axis\n",
    "plt.show()"
   ]
  },
  {
   "cell_type": "markdown",
   "metadata": {},
   "source": [
    "> # Note\n",
    ">\n",
    "> `cv2.polylines()` can be used to draw multiple lines. Just create a list of all the lines you want to draw and pass it to the function. All lines will be drawn individually. It is more better and faster way to draw a group of lines than calling `cv2.line()` for each line."
   ]
  },
  {
   "cell_type": "markdown",
   "metadata": {},
   "source": [
    "## Adding Text to Images:\n",
    "\n",
    "To put texts in images, you need specify following things.\n",
    "\n",
    "* Text data that you want to write\n",
    "* Position coordinates of where you want put it (i.e. bottom-left corner where data starts).\n",
    "* Font type (Check cv2.putText() docs for supported fonts)\n",
    "* Font Scale (specifies the size of font)\n",
    "* regular things like color, thickness, lineType etc. For better look, lineType = cv2.LINE_AA is recommended.\n",
    "\n",
    "We will write OpenCV on our image in white color."
   ]
  },
  {
   "cell_type": "code",
   "execution_count": 14,
   "metadata": {},
   "outputs": [],
   "source": [
    "font = cv2.FONT_HERSHEY_SIMPLEX\n",
    "img = cv2.putText(img,'OpenCV',(10,500), font, 4,(255,255,255),2,cv2.LINE_AA)"
   ]
  },
  {
   "cell_type": "code",
   "execution_count": 15,
   "metadata": {},
   "outputs": [
    {
     "data": {
      "image/png": "[encoded data removed]",
      "text/plain": [
       "<Figure size 432x288 with 1 Axes>"
      ]
     },
     "metadata": {},
     "output_type": "display_data"
    }
   ],
   "source": [
    "from matplotlib import pyplot as plt\n",
    "\n",
    "# b,g,r = cv2.split(img)\n",
    "# img2 = cv2.merge([r,g,b])\n",
    "img2 = img[:,:,::-1] # faster version.\n",
    "plt.imshow(img2,cmap='gray', interpolation='bicubic')\n",
    "plt.xticks([]); plt.yticks([]) # to hide tick values on X and Y axis\n",
    "plt.show()"
   ]
  },
  {
   "cell_type": "markdown",
   "metadata": {},
   "source": [
    "## Result\n",
    "\n",
    "So it is time to see the final result of our drawing. As you studied in previous articles, display the image to see it."
   ]
  },
  {
   "cell_type": "code",
   "execution_count": 16,
   "metadata": {},
   "outputs": [
    {
     "data": {
      "image/png": "[encoded data removed]",
      "text/plain": [
       "<Figure size 432x288 with 1 Axes>"
      ]
     },
     "metadata": {},
     "output_type": "display_data"
    }
   ],
   "source": [
    "from matplotlib import pyplot as plt\n",
    "\n",
    "# b,g,r = cv2.split(img)\n",
    "# img2 = cv2.merge([r,g,b])\n",
    "img2 = img[:,:,::-1] # faster version.\n",
    "plt.imshow(img2,cmap='gray', interpolation='bicubic')\n",
    "plt.xticks([]); plt.yticks([]) # to hide tick values on X and Y axis\n",
    "\n",
    "plt.show()"
   ]
  },
  {
   "cell_type": "markdown",
   "metadata": {},
   "source": [
    "## Additional Resources\n",
    "\n",
    "The angles used in ellipse function is not our circular angles.\n",
    "\n",
    "* Starting angle and ending angle are measured in arc-angles from an ellipse, not from a circle. \n",
    "* The phenomen is visualized in paragraph (59) of http://mathworld.wolfram.com/Ellipse.html . \n",
    "\n",
    "visit this discussion : (https://answers.opencv.org/question/14541/angles-in-ellipse-function/)"
   ]
  }
 ],
 "metadata": {
  "kernelspec": {
   "display_name": "Python 3",
   "language": "python",
   "name": "python3"
  },
  "language_info": {
   "codemirror_mode": {
    "name": "ipython",
    "version": 3
   },
   "file_extension": ".py",
   "mimetype": "text/x-python",
   "name": "python",
   "nbconvert_exporter": "python",
   "pygments_lexer": "ipython3",
   "version": "3.7.3"
  }
 },
 "nbformat": 4,
 "nbformat_minor": 4
}
